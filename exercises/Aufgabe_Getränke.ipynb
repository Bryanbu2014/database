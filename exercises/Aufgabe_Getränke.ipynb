{
 "cells": [
  {
   "cell_type": "markdown",
   "metadata": {},
   "source": [
    "# Getränke"
   ]
  },
  {
   "cell_type": "code",
   "execution_count": 1,
   "metadata": {
    "tags": []
   },
   "outputs": [
    {
     "name": "stdout",
     "output_type": "stream",
     "text": [
      " * sqlite://\n",
      "Done.\n"
     ]
    },
    {
     "data": {
      "text/plain": [
       "[]"
      ]
     },
     "execution_count": 1,
     "metadata": {},
     "output_type": "execute_result"
    }
   ],
   "source": [
    "# Hier ist nur Code zum Initialisieren der Umgebeung, bitte gehen Sie weiter, es gibt nichts zu sehen.\n",
    "\n",
    "# Keine langen Fehlermeldungen\n",
    "import sys\n",
    "ipython = get_ipython()\n",
    "\n",
    "def exception_handler(exception_type, exception, traceback):\n",
    "    print(\"%s: %s\" % (exception_type.__name__, exception), file=sys.stderr)\n",
    "\n",
    "ipython._showtraceback = exception_handler\n",
    "\n",
    "# Lade die Erweiterung, damit wir SQL Befehle nutzen können\n",
    "%reload_ext sql\n",
    "%sql sqlite://\n",
    "%sql PRAGMA foreign_keys = ON"
   ]
  },
  {
   "cell_type": "code",
   "execution_count": 2,
   "metadata": {
    "tags": []
   },
   "outputs": [
    {
     "name": "stdout",
     "output_type": "stream",
     "text": [
      " * sqlite://\n",
      "Done.\n",
      "Done.\n",
      "Done.\n",
      "Done.\n",
      "Done.\n",
      "Done.\n",
      "25 rows affected.\n",
      "8 rows affected.\n",
      "26 rows affected.\n"
     ]
    },
    {
     "data": {
      "text/plain": [
       "[]"
      ]
     },
     "execution_count": 2,
     "metadata": {},
     "output_type": "execute_result"
    }
   ],
   "source": [
    "%%sql\n",
    "\n",
    "DROP TABLE IF EXISTS RecipeIngredient;\n",
    "DROP TABLE IF EXISTS Ingredient;\n",
    "DROP TABLE IF EXISTS Recipe;\n",
    "\n",
    "CREATE TABLE Ingredient (\n",
    "id INTEGER NOT NULL PRIMARY KEY,\n",
    "name  TEXT NOT NULL\n",
    ");\n",
    "\n",
    "CREATE TABLE Recipe (\n",
    "id INTEGER NOT NULL PRIMARY KEY,\n",
    "name  TEXT NOT NULL\n",
    ");\n",
    "\n",
    "CREATE TABLE RecipeIngredient (\n",
    "recipe  INTEGER NOT NULL,\n",
    "ingredient  INTEGER NOT NULL,\n",
    "PRIMARY KEY (recipe, ingredient),\n",
    "CONSTRAINT fkRecipeIngredientRecipe FOREIGN KEY (recipe) REFERENCES Recipe (id) ON DELETE CASCADE ON UPDATE CASCADE,\n",
    "CONSTRAINT fkRecipeIngredientIngredient FOREIGN KEY (ingredient) REFERENCES Ingredient (id) ON DELETE CASCADE ON UPDATE CASCADE\n",
    ");\n",
    "\n",
    "INSERT INTO Ingredient('name') VALUES ('Vodka'), ('Rum'), ('Sherry'), ('Whiskey'), ('Cherry'), ('Orange'), ('Olive'), ('Gin'), ('Lemon Juice'), ('Orange Gin'), ('Sweet Vermouth'), ('7-Up'), ('Cranberry Juice'), ('Dekuyper Razzmatazz'), ('Orange Juice'), ('Sour Mix'), ('Dry Cider'), ('Lager'), ('Sloe Gin'), ('Southern Comfort'), ('Triple Sec'), ('Blue Curacao'), ('Lime Juice'), ('Red Curacao'), ('Tequila');\n",
    "INSERT INTO Recipe('name') VALUES ('Leap Year Cocktail'), ('Purple Gecko'), ('Slow Comfortable Screw In Between the Sheets'), ('Snakebite (UK)'), ('Stoner Delight'), ('Vodka'), ('Tequila'), ('Whiskey');\n",
    "\n",
    "INSERT INTO RecipeIngredient VALUES (1, 9), (1, 8), (1, 10), (1, 11), (2, 22), (2, 13), (2, 23), (2, 24), (2, 16), (2, 25), (3, 15), (3, 19), (3, 20), (3, 21), (3, 1), (4, 17), (4, 18), (5, 12), (5, 13), (5, 14), (5, 15), (5, 16), (5, 1), (6, 1), (7, 25), (8, 4);"
   ]
  },
  {
   "cell_type": "code",
   "execution_count": 4,
   "metadata": {},
   "outputs": [
    {
     "name": "stdout",
     "output_type": "stream",
     "text": [
      " * sqlite://\n",
      "Done.\n"
     ]
    },
    {
     "data": {
      "text/html": [
       "<table>\n",
       "    <thead>\n",
       "        <tr>\n",
       "            <th>id</th>\n",
       "            <th>name</th>\n",
       "        </tr>\n",
       "    </thead>\n",
       "    <tbody>\n",
       "        <tr>\n",
       "            <td>1</td>\n",
       "            <td>Vodka</td>\n",
       "        </tr>\n",
       "        <tr>\n",
       "            <td>2</td>\n",
       "            <td>Rum</td>\n",
       "        </tr>\n",
       "        <tr>\n",
       "            <td>3</td>\n",
       "            <td>Sherry</td>\n",
       "        </tr>\n",
       "        <tr>\n",
       "            <td>4</td>\n",
       "            <td>Whiskey</td>\n",
       "        </tr>\n",
       "        <tr>\n",
       "            <td>5</td>\n",
       "            <td>Cherry</td>\n",
       "        </tr>\n",
       "    </tbody>\n",
       "</table>"
      ],
      "text/plain": [
       "[(1, 'Vodka'), (2, 'Rum'), (3, 'Sherry'), (4, 'Whiskey'), (5, 'Cherry')]"
      ]
     },
     "execution_count": 4,
     "metadata": {},
     "output_type": "execute_result"
    }
   ],
   "source": [
    "%%sql\n",
    "\n",
    "SELECT * FROM Ingredient LIMIT 5;"
   ]
  },
  {
   "cell_type": "code",
   "execution_count": 5,
   "metadata": {},
   "outputs": [
    {
     "name": "stdout",
     "output_type": "stream",
     "text": [
      " * sqlite://\n",
      "Done.\n"
     ]
    },
    {
     "data": {
      "text/html": [
       "<table>\n",
       "    <thead>\n",
       "        <tr>\n",
       "            <th>id</th>\n",
       "            <th>name</th>\n",
       "        </tr>\n",
       "    </thead>\n",
       "    <tbody>\n",
       "        <tr>\n",
       "            <td>1</td>\n",
       "            <td>Leap Year Cocktail</td>\n",
       "        </tr>\n",
       "        <tr>\n",
       "            <td>2</td>\n",
       "            <td>Purple Gecko</td>\n",
       "        </tr>\n",
       "        <tr>\n",
       "            <td>3</td>\n",
       "            <td>Slow Comfortable Screw In Between the Sheets</td>\n",
       "        </tr>\n",
       "        <tr>\n",
       "            <td>4</td>\n",
       "            <td>Snakebite (UK)</td>\n",
       "        </tr>\n",
       "        <tr>\n",
       "            <td>5</td>\n",
       "            <td>Stoner Delight</td>\n",
       "        </tr>\n",
       "    </tbody>\n",
       "</table>"
      ],
      "text/plain": [
       "[(1, 'Leap Year Cocktail'),\n",
       " (2, 'Purple Gecko'),\n",
       " (3, 'Slow Comfortable Screw In Between the Sheets'),\n",
       " (4, 'Snakebite (UK)'),\n",
       " (5, 'Stoner Delight')]"
      ]
     },
     "execution_count": 5,
     "metadata": {},
     "output_type": "execute_result"
    }
   ],
   "source": [
    "%%sql\n",
    "\n",
    "SELECT * FROM Recipe LIMIT 5;"
   ]
  },
  {
   "cell_type": "code",
   "execution_count": 9,
   "metadata": {},
   "outputs": [
    {
     "name": "stdout",
     "output_type": "stream",
     "text": [
      " * sqlite://\n",
      "Done.\n"
     ]
    },
    {
     "data": {
      "text/html": [
       "<table>\n",
       "    <thead>\n",
       "        <tr>\n",
       "            <th>recipe</th>\n",
       "            <th>ingredient</th>\n",
       "        </tr>\n",
       "    </thead>\n",
       "    <tbody>\n",
       "        <tr>\n",
       "            <td>1</td>\n",
       "            <td>9</td>\n",
       "        </tr>\n",
       "        <tr>\n",
       "            <td>1</td>\n",
       "            <td>8</td>\n",
       "        </tr>\n",
       "        <tr>\n",
       "            <td>1</td>\n",
       "            <td>10</td>\n",
       "        </tr>\n",
       "        <tr>\n",
       "            <td>1</td>\n",
       "            <td>11</td>\n",
       "        </tr>\n",
       "        <tr>\n",
       "            <td>2</td>\n",
       "            <td>22</td>\n",
       "        </tr>\n",
       "        <tr>\n",
       "            <td>2</td>\n",
       "            <td>13</td>\n",
       "        </tr>\n",
       "        <tr>\n",
       "            <td>2</td>\n",
       "            <td>23</td>\n",
       "        </tr>\n",
       "        <tr>\n",
       "            <td>2</td>\n",
       "            <td>24</td>\n",
       "        </tr>\n",
       "        <tr>\n",
       "            <td>2</td>\n",
       "            <td>16</td>\n",
       "        </tr>\n",
       "        <tr>\n",
       "            <td>2</td>\n",
       "            <td>25</td>\n",
       "        </tr>\n",
       "    </tbody>\n",
       "</table>"
      ],
      "text/plain": [
       "[(1, 9),\n",
       " (1, 8),\n",
       " (1, 10),\n",
       " (1, 11),\n",
       " (2, 22),\n",
       " (2, 13),\n",
       " (2, 23),\n",
       " (2, 24),\n",
       " (2, 16),\n",
       " (2, 25)]"
      ]
     },
     "execution_count": 9,
     "metadata": {},
     "output_type": "execute_result"
    }
   ],
   "source": [
    "%%sql\n",
    "\n",
    "SELECT * FROM RecipeIngredient LIMIT 10;"
   ]
  },
  {
   "cell_type": "code",
   "execution_count": 15,
   "metadata": {},
   "outputs": [
    {
     "name": "stdout",
     "output_type": "stream",
     "text": [
      " * sqlite://\n",
      "Done.\n"
     ]
    },
    {
     "data": {
      "text/html": [
       "<table>\n",
       "    <thead>\n",
       "        <tr>\n",
       "            <th>recipe</th>\n",
       "            <th>ingredients</th>\n",
       "        </tr>\n",
       "    </thead>\n",
       "    <tbody>\n",
       "        <tr>\n",
       "            <td>1</td>\n",
       "            <td>8, 9, 10, 11</td>\n",
       "        </tr>\n",
       "        <tr>\n",
       "            <td>2</td>\n",
       "            <td>13, 16, 22, 23, 24, 25</td>\n",
       "        </tr>\n",
       "        <tr>\n",
       "            <td>3</td>\n",
       "            <td>1, 15, 19, 20, 21</td>\n",
       "        </tr>\n",
       "        <tr>\n",
       "            <td>4</td>\n",
       "            <td>17, 18</td>\n",
       "        </tr>\n",
       "        <tr>\n",
       "            <td>5</td>\n",
       "            <td>1, 12, 13, 14, 15, 16</td>\n",
       "        </tr>\n",
       "        <tr>\n",
       "            <td>6</td>\n",
       "            <td>1</td>\n",
       "        </tr>\n",
       "        <tr>\n",
       "            <td>7</td>\n",
       "            <td>25</td>\n",
       "        </tr>\n",
       "        <tr>\n",
       "            <td>8</td>\n",
       "            <td>4</td>\n",
       "        </tr>\n",
       "    </tbody>\n",
       "</table>"
      ],
      "text/plain": [
       "[(1, '8, 9, 10, 11'),\n",
       " (2, '13, 16, 22, 23, 24, 25'),\n",
       " (3, '1, 15, 19, 20, 21'),\n",
       " (4, '17, 18'),\n",
       " (5, '1, 12, 13, 14, 15, 16'),\n",
       " (6, '1'),\n",
       " (7, '25'),\n",
       " (8, '4')]"
      ]
     },
     "execution_count": 15,
     "metadata": {},
     "output_type": "execute_result"
    }
   ],
   "source": [
    "%%sql\n",
    "\n",
    "SELECT recipe, GROUP_CONCAT(ingredient, ', ') AS ingredients\n",
    "FROM RecipeIngredient\n",
    "GROUP BY recipe;"
   ]
  },
  {
   "cell_type": "markdown",
   "metadata": {},
   "source": [
    "## Aufgabe 1: Finden Sie Alle Zutaten des \"Leap Year Coctail\"s"
   ]
  },
  {
   "cell_type": "code",
   "execution_count": 23,
   "metadata": {},
   "outputs": [
    {
     "name": "stdout",
     "output_type": "stream",
     "text": [
      " * sqlite://\n",
      "Done.\n"
     ]
    },
    {
     "data": {
      "text/html": [
       "<table>\n",
       "    <thead>\n",
       "        <tr>\n",
       "            <th>Recipe Name</th>\n",
       "            <th>Ingredient Name</th>\n",
       "        </tr>\n",
       "    </thead>\n",
       "    <tbody>\n",
       "        <tr>\n",
       "            <td>Leap Year Cocktail</td>\n",
       "            <td>Lemon Juice, Gin, Orange Gin, Sweet Vermouth</td>\n",
       "        </tr>\n",
       "    </tbody>\n",
       "</table>"
      ],
      "text/plain": [
       "[('Leap Year Cocktail', 'Lemon Juice, Gin, Orange Gin, Sweet Vermouth')]"
      ]
     },
     "execution_count": 23,
     "metadata": {},
     "output_type": "execute_result"
    }
   ],
   "source": [
    "%%sql\n",
    "\n",
    "SELECT Recipe.Name AS 'Recipe Name', GROUP_CONCAT(Ingredient.Name, ', ') AS 'Ingredient Name'\n",
    "FROM Recipe\n",
    "JOIN RecipeIngredient ON(Recipe.id = RecipeIngredient.recipe)\n",
    "JOIN Ingredient ON(Ingredient.id = RecipeIngredient.ingredient)\n",
    "WHERE Recipe.Name = 'Leap Year Cocktail'"
   ]
  },
  {
   "cell_type": "markdown",
   "metadata": {},
   "source": [
    "## Aufgabe 2: Finden Sie Alle Coctails, die Vodka enthalten"
   ]
  },
  {
   "cell_type": "code",
   "execution_count": 25,
   "metadata": {},
   "outputs": [
    {
     "name": "stdout",
     "output_type": "stream",
     "text": [
      " * sqlite://\n",
      "Done.\n"
     ]
    },
    {
     "data": {
      "text/html": [
       "<table>\n",
       "    <thead>\n",
       "        <tr>\n",
       "            <th>Recipe Name</th>\n",
       "        </tr>\n",
       "    </thead>\n",
       "    <tbody>\n",
       "        <tr>\n",
       "            <td>Slow Comfortable Screw In Between the Sheets</td>\n",
       "        </tr>\n",
       "        <tr>\n",
       "            <td>Stoner Delight</td>\n",
       "        </tr>\n",
       "        <tr>\n",
       "            <td>Vodka</td>\n",
       "        </tr>\n",
       "    </tbody>\n",
       "</table>"
      ],
      "text/plain": [
       "[('Slow Comfortable Screw In Between the Sheets',),\n",
       " ('Stoner Delight',),\n",
       " ('Vodka',)]"
      ]
     },
     "execution_count": 25,
     "metadata": {},
     "output_type": "execute_result"
    }
   ],
   "source": [
    "%%sql\n",
    "\n",
    "SELECT Recipe.Name AS 'Recipe Name'\n",
    "FROM Recipe\n",
    "JOIN RecipeIngredient ON(Recipe.id = RecipeIngredient.recipe)\n",
    "JOIN Ingredient ON(Ingredient.id = RecipeIngredient.ingredient)\n",
    "WHERE Ingredient.name = 'Vodka'"
   ]
  },
  {
   "cell_type": "markdown",
   "metadata": {},
   "source": [
    "## Aufgabe 3: Finden Sie die häufigste Zutat"
   ]
  },
  {
   "cell_type": "code",
   "execution_count": 32,
   "metadata": {},
   "outputs": [
    {
     "name": "stdout",
     "output_type": "stream",
     "text": [
      " * sqlite://\n",
      "Done.\n"
     ]
    },
    {
     "data": {
      "text/html": [
       "<table>\n",
       "    <thead>\n",
       "        <tr>\n",
       "            <th>name</th>\n",
       "            <th>quantity</th>\n",
       "        </tr>\n",
       "    </thead>\n",
       "    <tbody>\n",
       "        <tr>\n",
       "            <td>Vodka</td>\n",
       "            <td>3</td>\n",
       "        </tr>\n",
       "    </tbody>\n",
       "</table>"
      ],
      "text/plain": [
       "[('Vodka', 3)]"
      ]
     },
     "execution_count": 32,
     "metadata": {},
     "output_type": "execute_result"
    }
   ],
   "source": [
    "%%sql\n",
    "\n",
    "SELECT Ingredient.name, COUNT(*) as 'quantity'\n",
    "FROM RecipeIngredient JOIN Ingredient ON(ingredient.id = RecipeIngredient.ingredient)\n",
    "GROUP BY Ingredient.name\n",
    "ORDER BY quantity DESC\n",
    "LIMIT 1"
   ]
  },
  {
   "cell_type": "markdown",
   "metadata": {},
   "source": [
    "## Aufgabe 4: Finden Sie Coctails, die, die Zutat 'Gin' *nicht* enthalten\n",
    "\n",
    "Hier ist zu sagen, dass das Nichtenthalten von Elemeneten in SQL nicht trivial ist. Der naive Ansatz:\n",
    "\n",
    "```\n",
    "SELECT r.name \n",
    "FROM Recipe r \n",
    "JOIN RecipeIngredient ri ON (r.id = ri.recipe) \n",
    "JOIN Ingredient i ON (ri.ingredient = i.id) \n",
    "WHERE i.name != 'Gin'\n",
    "```\n",
    "nicht."
   ]
  },
  {
   "cell_type": "code",
   "execution_count": 33,
   "metadata": {},
   "outputs": [
    {
     "name": "stdout",
     "output_type": "stream",
     "text": [
      " * sqlite://\n",
      "Done.\n"
     ]
    },
    {
     "data": {
      "text/html": [
       "<table>\n",
       "    <thead>\n",
       "        <tr>\n",
       "            <th>name</th>\n",
       "        </tr>\n",
       "    </thead>\n",
       "    <tbody>\n",
       "        <tr>\n",
       "            <td>Leap Year Cocktail</td>\n",
       "        </tr>\n",
       "        <tr>\n",
       "            <td>Leap Year Cocktail</td>\n",
       "        </tr>\n",
       "        <tr>\n",
       "            <td>Leap Year Cocktail</td>\n",
       "        </tr>\n",
       "        <tr>\n",
       "            <td>Purple Gecko</td>\n",
       "        </tr>\n",
       "        <tr>\n",
       "            <td>Purple Gecko</td>\n",
       "        </tr>\n",
       "        <tr>\n",
       "            <td>Purple Gecko</td>\n",
       "        </tr>\n",
       "        <tr>\n",
       "            <td>Purple Gecko</td>\n",
       "        </tr>\n",
       "        <tr>\n",
       "            <td>Purple Gecko</td>\n",
       "        </tr>\n",
       "        <tr>\n",
       "            <td>Purple Gecko</td>\n",
       "        </tr>\n",
       "        <tr>\n",
       "            <td>Slow Comfortable Screw In Between the Sheets</td>\n",
       "        </tr>\n",
       "        <tr>\n",
       "            <td>Slow Comfortable Screw In Between the Sheets</td>\n",
       "        </tr>\n",
       "        <tr>\n",
       "            <td>Slow Comfortable Screw In Between the Sheets</td>\n",
       "        </tr>\n",
       "        <tr>\n",
       "            <td>Slow Comfortable Screw In Between the Sheets</td>\n",
       "        </tr>\n",
       "        <tr>\n",
       "            <td>Slow Comfortable Screw In Between the Sheets</td>\n",
       "        </tr>\n",
       "        <tr>\n",
       "            <td>Snakebite (UK)</td>\n",
       "        </tr>\n",
       "        <tr>\n",
       "            <td>Snakebite (UK)</td>\n",
       "        </tr>\n",
       "        <tr>\n",
       "            <td>Stoner Delight</td>\n",
       "        </tr>\n",
       "        <tr>\n",
       "            <td>Stoner Delight</td>\n",
       "        </tr>\n",
       "        <tr>\n",
       "            <td>Stoner Delight</td>\n",
       "        </tr>\n",
       "        <tr>\n",
       "            <td>Stoner Delight</td>\n",
       "        </tr>\n",
       "        <tr>\n",
       "            <td>Stoner Delight</td>\n",
       "        </tr>\n",
       "        <tr>\n",
       "            <td>Stoner Delight</td>\n",
       "        </tr>\n",
       "        <tr>\n",
       "            <td>Vodka</td>\n",
       "        </tr>\n",
       "        <tr>\n",
       "            <td>Tequila</td>\n",
       "        </tr>\n",
       "        <tr>\n",
       "            <td>Whiskey</td>\n",
       "        </tr>\n",
       "    </tbody>\n",
       "</table>"
      ],
      "text/plain": [
       "[('Leap Year Cocktail',),\n",
       " ('Leap Year Cocktail',),\n",
       " ('Leap Year Cocktail',),\n",
       " ('Purple Gecko',),\n",
       " ('Purple Gecko',),\n",
       " ('Purple Gecko',),\n",
       " ('Purple Gecko',),\n",
       " ('Purple Gecko',),\n",
       " ('Purple Gecko',),\n",
       " ('Slow Comfortable Screw In Between the Sheets',),\n",
       " ('Slow Comfortable Screw In Between the Sheets',),\n",
       " ('Slow Comfortable Screw In Between the Sheets',),\n",
       " ('Slow Comfortable Screw In Between the Sheets',),\n",
       " ('Slow Comfortable Screw In Between the Sheets',),\n",
       " ('Snakebite (UK)',),\n",
       " ('Snakebite (UK)',),\n",
       " ('Stoner Delight',),\n",
       " ('Stoner Delight',),\n",
       " ('Stoner Delight',),\n",
       " ('Stoner Delight',),\n",
       " ('Stoner Delight',),\n",
       " ('Stoner Delight',),\n",
       " ('Vodka',),\n",
       " ('Tequila',),\n",
       " ('Whiskey',)]"
      ]
     },
     "execution_count": 33,
     "metadata": {},
     "output_type": "execute_result"
    }
   ],
   "source": [
    "%%sql\n",
    "\n",
    "SELECT r.name \n",
    "FROM Recipe r \n",
    "JOIN RecipeIngredient ri ON (r.id = ri.recipe) \n",
    "JOIN Ingredient i ON (ri.ingredient = i.id) \n",
    "WHERE i.name != 'Gin'"
   ]
  },
  {
   "cell_type": "markdown",
   "metadata": {},
   "source": [
    "*Aufgabe 4.1: Machen Sie sich bewusst, warum obiges Statement nicht funktioniert*"
   ]
  },
  {
   "cell_type": "markdown",
   "metadata": {},
   "source": [
    "The reason this approach doesn't work as intended is because the WHERE clause filters out individual recipe-ingredient pairs where the ingredient is 'Gin', but it does not exclude entire recipes that contain 'Gin' as one of several ingredients. If a recipe has multiple ingredients and one of them is 'Gin', that recipe will still appear in the results if there are other ingredients for the same recipe that are not 'Gin'."
   ]
  },
  {
   "cell_type": "markdown",
   "metadata": {},
   "source": [
    "*Aufgabe 4.2: Nutzen Sie einen Subselect, um die Cocktails zu filtern*"
   ]
  },
  {
   "cell_type": "code",
   "execution_count": 42,
   "metadata": {},
   "outputs": [
    {
     "name": "stdout",
     "output_type": "stream",
     "text": [
      " * sqlite://\n",
      "Done.\n"
     ]
    },
    {
     "data": {
      "text/html": [
       "<table>\n",
       "    <thead>\n",
       "        <tr>\n",
       "            <th>Recipe Name</th>\n",
       "        </tr>\n",
       "    </thead>\n",
       "    <tbody>\n",
       "        <tr>\n",
       "            <td>Purple Gecko</td>\n",
       "        </tr>\n",
       "        <tr>\n",
       "            <td>Slow Comfortable Screw In Between the Sheets</td>\n",
       "        </tr>\n",
       "        <tr>\n",
       "            <td>Snakebite (UK)</td>\n",
       "        </tr>\n",
       "        <tr>\n",
       "            <td>Stoner Delight</td>\n",
       "        </tr>\n",
       "        <tr>\n",
       "            <td>Vodka</td>\n",
       "        </tr>\n",
       "        <tr>\n",
       "            <td>Tequila</td>\n",
       "        </tr>\n",
       "        <tr>\n",
       "            <td>Whiskey</td>\n",
       "        </tr>\n",
       "    </tbody>\n",
       "</table>"
      ],
      "text/plain": [
       "[('Purple Gecko',),\n",
       " ('Slow Comfortable Screw In Between the Sheets',),\n",
       " ('Snakebite (UK)',),\n",
       " ('Stoner Delight',),\n",
       " ('Vodka',),\n",
       " ('Tequila',),\n",
       " ('Whiskey',)]"
      ]
     },
     "execution_count": 42,
     "metadata": {},
     "output_type": "execute_result"
    }
   ],
   "source": [
    "%%sql\n",
    "\n",
    "SELECT Recipe.name AS 'Recipe Name'\n",
    "FROM Recipe\n",
    "WHERE NOT EXISTS(\n",
    "    SELECT 1\n",
    "    FROM RecipeIngredient\n",
    "    JOIN Ingredient ON(Ingredient.id = RecipeIngredient.ingredient)\n",
    "    WHERE(Recipe.id = RecipeIngredient.Recipe) AND (Ingredient.name = 'Gin')\n",
    ")\n"
   ]
  },
  {
   "cell_type": "code",
   "execution_count": 44,
   "metadata": {},
   "outputs": [
    {
     "name": "stdout",
     "output_type": "stream",
     "text": [
      " * sqlite://\n",
      "Done.\n"
     ]
    },
    {
     "data": {
      "text/html": [
       "<table>\n",
       "    <thead>\n",
       "        <tr>\n",
       "            <th>name</th>\n",
       "        </tr>\n",
       "    </thead>\n",
       "    <tbody>\n",
       "        <tr>\n",
       "            <td>Purple Gecko</td>\n",
       "        </tr>\n",
       "        <tr>\n",
       "            <td>Slow Comfortable Screw In Between the Sheets</td>\n",
       "        </tr>\n",
       "        <tr>\n",
       "            <td>Snakebite (UK)</td>\n",
       "        </tr>\n",
       "        <tr>\n",
       "            <td>Stoner Delight</td>\n",
       "        </tr>\n",
       "        <tr>\n",
       "            <td>Vodka</td>\n",
       "        </tr>\n",
       "        <tr>\n",
       "            <td>Tequila</td>\n",
       "        </tr>\n",
       "        <tr>\n",
       "            <td>Whiskey</td>\n",
       "        </tr>\n",
       "    </tbody>\n",
       "</table>"
      ],
      "text/plain": [
       "[('Purple Gecko',),\n",
       " ('Slow Comfortable Screw In Between the Sheets',),\n",
       " ('Snakebite (UK)',),\n",
       " ('Stoner Delight',),\n",
       " ('Vodka',),\n",
       " ('Tequila',),\n",
       " ('Whiskey',)]"
      ]
     },
     "execution_count": 44,
     "metadata": {},
     "output_type": "execute_result"
    }
   ],
   "source": [
    "%%sql\n",
    "\n",
    "-- Alternative \n",
    "\n",
    "SELECT\n",
    "r.name\n",
    "FROM Recipe r\n",
    "WHERE r.id NOT IN (\n",
    "SELECT\n",
    "ri.recipe\n",
    "FROM RecipeIngredient ri\n",
    "JOIN Ingredient i\n",
    "ON (i.id = ri.ingredient)\n",
    "WHERE\n",
    "i.name = 'Gin'\n",
    ");"
   ]
  },
  {
   "cell_type": "markdown",
   "metadata": {},
   "source": [
    "*Aufgabe 4.2: Nutzen Sie das Kreuzprodukt, um die Coctails zu filtern*"
   ]
  },
  {
   "cell_type": "code",
   "execution_count": 53,
   "metadata": {},
   "outputs": [
    {
     "name": "stdout",
     "output_type": "stream",
     "text": [
      " * sqlite://\n",
      "Done.\n"
     ]
    },
    {
     "data": {
      "text/html": [
       "<table>\n",
       "    <thead>\n",
       "        <tr>\n",
       "            <th>Recipe Name</th>\n",
       "        </tr>\n",
       "    </thead>\n",
       "    <tbody>\n",
       "        <tr>\n",
       "            <td>Purple Gecko</td>\n",
       "        </tr>\n",
       "        <tr>\n",
       "            <td>Slow Comfortable Screw In Between the Sheets</td>\n",
       "        </tr>\n",
       "        <tr>\n",
       "            <td>Snakebite (UK)</td>\n",
       "        </tr>\n",
       "        <tr>\n",
       "            <td>Stoner Delight</td>\n",
       "        </tr>\n",
       "        <tr>\n",
       "            <td>Vodka</td>\n",
       "        </tr>\n",
       "        <tr>\n",
       "            <td>Tequila</td>\n",
       "        </tr>\n",
       "        <tr>\n",
       "            <td>Whiskey</td>\n",
       "        </tr>\n",
       "    </tbody>\n",
       "</table>"
      ],
      "text/plain": [
       "[('Purple Gecko',),\n",
       " ('Slow Comfortable Screw In Between the Sheets',),\n",
       " ('Snakebite (UK)',),\n",
       " ('Stoner Delight',),\n",
       " ('Vodka',),\n",
       " ('Tequila',),\n",
       " ('Whiskey',)]"
      ]
     },
     "execution_count": 53,
     "metadata": {},
     "output_type": "execute_result"
    }
   ],
   "source": [
    "%%sql\n",
    "\n",
    "SELECT Recipe.name AS 'Recipe Name'\n",
    "FROM Recipe, Ingredient\n",
    "LEFT JOIN RecipeIngredient ON(Ingredient.id = RecipeIngredient.ingredient AND Recipe.id = RecipeIngredient.recipe) \n",
    "WHERE Ingredient.name = 'Gin' AND RecipeIngredient.recipe IS NULL;"
   ]
  },
  {
   "cell_type": "markdown",
   "metadata": {},
   "source": [
    "*Aufgabe 4.3: geht das mit aggregate und filter?, um die Coctails zu filtern*\n",
    "\n",
    "Aggregationsfunktionen, wie SUM, COUNT etc. unterstützen seit SQL:2003 eine `FILTER` clause, die es erlaubt Ergebnisse aus der Aggregation zu entfernen [Filter Clause auf dieser seite](https://sqlite.org/lang_aggfunc.html)"
   ]
  },
  {
   "cell_type": "markdown",
   "metadata": {},
   "source": [
    "## Aufgabe 5: Wie viele Zutaten hat mein Getränk eigentlich und welche?\n",
    "\n",
    "Lösbar via gruppierung --> Eine Zeile Pro Coktail. Oder mit mehreren Zielen via subselects oder fensterfunktionen "
   ]
  },
  {
   "cell_type": "code",
   "execution_count": null,
   "metadata": {},
   "outputs": [],
   "source": []
  }
 ],
 "metadata": {
  "kernelspec": {
   "display_name": "Python 3 (ipykernel)",
   "language": "python",
   "name": "python3"
  },
  "language_info": {
   "codemirror_mode": {
    "name": "ipython",
    "version": 3
   },
   "file_extension": ".py",
   "mimetype": "text/x-python",
   "name": "python",
   "nbconvert_exporter": "python",
   "pygments_lexer": "ipython3",
   "version": "3.12.0"
  }
 },
 "nbformat": 4,
 "nbformat_minor": 4
}
