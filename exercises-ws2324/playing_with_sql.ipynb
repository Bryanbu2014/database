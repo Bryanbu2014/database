{
 "cells": [
  {
   "cell_type": "code",
   "execution_count": null,
   "metadata": {},
   "outputs": [],
   "source": [
    "# Hier ist nur Code zum Initialisieren der Umgebeung, bitte gehen Sie weiter, es gibt nichts zu sehen.\n",
    "\n",
    "# Keine langen Fehlermeldungen\n",
    "import sys\n",
    "ipython = get_ipython()\n",
    "\n",
    "def exception_handler(exception_type, exception, traceback):\n",
    "    print(\"%s: %s\" % (exception_type.__name__, exception), file=sys.stderr)\n",
    "\n",
    "ipython._showtraceback = exception_handler\n",
    "\n",
    "# Lade die Erweiterung, damit wir SQL Befehle nutzen können\n",
    "%load_ext sql\n",
    "\n",
    "# Verbinde Dich zu einer in - Memory Datenbank\n",
    "%sql sqlite:///\n",
    "%sql PRAGMA foreign_keys = ON"
   ]
  },
  {
   "cell_type": "code",
   "execution_count": 42,
   "metadata": {},
   "outputs": [
    {
     "name": "stdout",
     "output_type": "stream",
     "text": [
      " * sqlite:///\n",
      "Done.\n",
      "Done.\n",
      "Done.\n",
      "Done.\n"
     ]
    },
    {
     "data": {
      "text/plain": [
       "[]"
      ]
     },
     "execution_count": 42,
     "metadata": {},
     "output_type": "execute_result"
    }
   ],
   "source": [
    "%%sql\n",
    "\n",
    "\n",
    "DROP TABLE IF EXISTS Bestellung;\n",
    "DROP TABLE IF EXISTS Kunde;\n",
    "\n",
    "CREATE TABLE Kunde (\n",
    "    Kundennummer INTEGER NOT NULL,\n",
    "    Vorname TEXT DEFAULT 'Anonymous',\n",
    "    Nachname TEXT CONSTRAINT ImmerNachname NOT NULL,\n",
    "    Wohnort TEXT,\n",
    "    Plz INTEGER CHECK (Plz BETWEEN 9999 AND 100000),\n",
    "    PRIMARY KEY (Kundennummer)\n",
    ");\n",
    "\n",
    "CREATE TABLE Bestellung (\n",
    "    Bestellnummer INTEGER NOT NULL,\n",
    "    Kunde INTEGER,\n",
    "    Bestelldatum TIMESTAMP DEFAULT CURRENT_TIMESTAMP,\n",
    "    Article TEXT,\n",
    "    PRIMARY KEY (Bestellnummer),\n",
    "    FOREIGN KEY (Kunde) REFERENCES Kunde(Kundennummer)\n",
    ");"
   ]
  },
  {
   "cell_type": "code",
   "execution_count": 43,
   "metadata": {},
   "outputs": [
    {
     "name": "stdout",
     "output_type": "stream",
     "text": [
      " * sqlite:///\n",
      "1 rows affected.\n",
      "1 rows affected.\n"
     ]
    },
    {
     "data": {
      "text/plain": [
       "[]"
      ]
     },
     "execution_count": 43,
     "metadata": {},
     "output_type": "execute_result"
    }
   ],
   "source": [
    "%%sql\n",
    "\n",
    "INSERT INTO Kunde (Nachname) VALUES ('Bu');\n",
    "INSERT INTO Kunde (Vorname, Nachname, Wohnort, Plz) VALUES ('Jimmy', 'Tanh', 'Deggendorf', '94469');"
   ]
  },
  {
   "cell_type": "code",
   "execution_count": 44,
   "metadata": {},
   "outputs": [
    {
     "name": "stdout",
     "output_type": "stream",
     "text": [
      " * sqlite:///\n",
      "Done.\n"
     ]
    },
    {
     "data": {
      "text/html": [
       "<table>\n",
       "    <thead>\n",
       "        <tr>\n",
       "            <th>Kundennummer</th>\n",
       "            <th>Vorname</th>\n",
       "            <th>Nachname</th>\n",
       "            <th>Wohnort</th>\n",
       "            <th>Plz</th>\n",
       "        </tr>\n",
       "    </thead>\n",
       "    <tbody>\n",
       "        <tr>\n",
       "            <td>1</td>\n",
       "            <td>Anonymous</td>\n",
       "            <td>Bu</td>\n",
       "            <td>None</td>\n",
       "            <td>None</td>\n",
       "        </tr>\n",
       "        <tr>\n",
       "            <td>2</td>\n",
       "            <td>Jimmy</td>\n",
       "            <td>Tanh</td>\n",
       "            <td>Deggendorf</td>\n",
       "            <td>94469</td>\n",
       "        </tr>\n",
       "    </tbody>\n",
       "</table>"
      ],
      "text/plain": [
       "[(1, 'Anonymous', 'Bu', None, None), (2, 'Jimmy', 'Tanh', 'Deggendorf', 94469)]"
      ]
     },
     "execution_count": 44,
     "metadata": {},
     "output_type": "execute_result"
    }
   ],
   "source": [
    "%%sql\n",
    "\n",
    "SELECT *\n",
    "FROM Kunde"
   ]
  },
  {
   "cell_type": "code",
   "execution_count": 45,
   "metadata": {},
   "outputs": [
    {
     "name": "stdout",
     "output_type": "stream",
     "text": [
      " * sqlite:///\n",
      "3 rows affected.\n",
      "1 rows affected.\n"
     ]
    },
    {
     "data": {
      "text/plain": [
       "[]"
      ]
     },
     "execution_count": 45,
     "metadata": {},
     "output_type": "execute_result"
    }
   ],
   "source": [
    "%%sql\n",
    "\n",
    "INSERT INTO Bestellung (Kunde, Article) VALUES (1, 'Apple'), (1, 'Pear'), (2, 'Lemon');\n",
    "INSERT INTO Bestellung (Kunde) VALUES (1);"
   ]
  },
  {
   "cell_type": "code",
   "execution_count": 46,
   "metadata": {},
   "outputs": [
    {
     "name": "stdout",
     "output_type": "stream",
     "text": [
      " * sqlite:///\n",
      "Done.\n"
     ]
    },
    {
     "data": {
      "text/html": [
       "<table>\n",
       "    <thead>\n",
       "        <tr>\n",
       "            <th>Bestellnummer</th>\n",
       "            <th>Kunde</th>\n",
       "            <th>Bestelldatum</th>\n",
       "            <th>Article</th>\n",
       "        </tr>\n",
       "    </thead>\n",
       "    <tbody>\n",
       "        <tr>\n",
       "            <td>1</td>\n",
       "            <td>1</td>\n",
       "            <td>2024-01-29 18:13:18</td>\n",
       "            <td>Apple</td>\n",
       "        </tr>\n",
       "        <tr>\n",
       "            <td>2</td>\n",
       "            <td>1</td>\n",
       "            <td>2024-01-29 18:13:18</td>\n",
       "            <td>Pear</td>\n",
       "        </tr>\n",
       "        <tr>\n",
       "            <td>3</td>\n",
       "            <td>2</td>\n",
       "            <td>2024-01-29 18:13:18</td>\n",
       "            <td>Lemon</td>\n",
       "        </tr>\n",
       "        <tr>\n",
       "            <td>4</td>\n",
       "            <td>1</td>\n",
       "            <td>2024-01-29 18:13:18</td>\n",
       "            <td>None</td>\n",
       "        </tr>\n",
       "    </tbody>\n",
       "</table>"
      ],
      "text/plain": [
       "[(1, 1, '2024-01-29 18:13:18', 'Apple'),\n",
       " (2, 1, '2024-01-29 18:13:18', 'Pear'),\n",
       " (3, 2, '2024-01-29 18:13:18', 'Lemon'),\n",
       " (4, 1, '2024-01-29 18:13:18', None)]"
      ]
     },
     "execution_count": 46,
     "metadata": {},
     "output_type": "execute_result"
    }
   ],
   "source": [
    "%%sql\n",
    "\n",
    "SELECT *\n",
    "FROM Bestellung"
   ]
  },
  {
   "cell_type": "code",
   "execution_count": 57,
   "metadata": {},
   "outputs": [
    {
     "name": "stdout",
     "output_type": "stream",
     "text": [
      " * sqlite:///\n",
      "Done.\n",
      "Done.\n"
     ]
    },
    {
     "data": {
      "text/plain": [
       "[]"
      ]
     },
     "execution_count": 57,
     "metadata": {},
     "output_type": "execute_result"
    }
   ],
   "source": [
    "%%sql\n",
    "\n",
    "DROP VIEW IF EXISTS Sales01;\n",
    "\n",
    "CREATE VIEW Sales01\n",
    "AS\n",
    "SELECT Kundennummer,COUNT(*) AS AnzahlBestellungen FROM Kunde, \n",
    "Bestellung WHERE Bestellung.Kunde = Kunde.Kundennummer GROUP BY Kundennummer"
   ]
  },
  {
   "cell_type": "code",
   "execution_count": 55,
   "metadata": {},
   "outputs": [
    {
     "name": "stdout",
     "output_type": "stream",
     "text": [
      " * sqlite:///\n",
      "Done.\n"
     ]
    },
    {
     "data": {
      "text/html": [
       "<table>\n",
       "    <thead>\n",
       "        <tr>\n",
       "            <th>Kundennummer</th>\n",
       "            <th>AnzahlBestellungen</th>\n",
       "        </tr>\n",
       "    </thead>\n",
       "    <tbody>\n",
       "        <tr>\n",
       "            <td>1</td>\n",
       "            <td>3</td>\n",
       "        </tr>\n",
       "        <tr>\n",
       "            <td>2</td>\n",
       "            <td>1</td>\n",
       "        </tr>\n",
       "    </tbody>\n",
       "</table>"
      ],
      "text/plain": [
       "[(1, 3), (2, 1)]"
      ]
     },
     "execution_count": 55,
     "metadata": {},
     "output_type": "execute_result"
    }
   ],
   "source": [
    "%sql SELECT * FROM Sales01;"
   ]
  },
  {
   "cell_type": "code",
   "execution_count": 59,
   "metadata": {},
   "outputs": [
    {
     "name": "stdout",
     "output_type": "stream",
     "text": [
      " * sqlite:///\n",
      "Done.\n"
     ]
    },
    {
     "data": {
      "text/html": [
       "<table>\n",
       "    <thead>\n",
       "        <tr>\n",
       "            <th>Kundennummer</th>\n",
       "            <th>AnzahlBestellungen</th>\n",
       "        </tr>\n",
       "    </thead>\n",
       "    <tbody>\n",
       "        <tr>\n",
       "            <td>1</td>\n",
       "            <td>3</td>\n",
       "        </tr>\n",
       "        <tr>\n",
       "            <td>2</td>\n",
       "            <td>1</td>\n",
       "        </tr>\n",
       "    </tbody>\n",
       "</table>"
      ],
      "text/plain": [
       "[(1, 3), (2, 1)]"
      ]
     },
     "execution_count": 59,
     "metadata": {},
     "output_type": "execute_result"
    }
   ],
   "source": [
    "%%sql\n",
    "\n",
    "SELECT * FROM Sales01;"
   ]
  },
  {
   "cell_type": "code",
   "execution_count": null,
   "metadata": {},
   "outputs": [],
   "source": []
  }
 ],
 "metadata": {
  "kernelspec": {
   "display_name": ".venv",
   "language": "python",
   "name": "python3"
  },
  "language_info": {
   "codemirror_mode": {
    "name": "ipython",
    "version": 3
   },
   "file_extension": ".py",
   "mimetype": "text/x-python",
   "name": "python",
   "nbconvert_exporter": "python",
   "pygments_lexer": "ipython3",
   "version": "3.12.0"
  }
 },
 "nbformat": 4,
 "nbformat_minor": 2
}
