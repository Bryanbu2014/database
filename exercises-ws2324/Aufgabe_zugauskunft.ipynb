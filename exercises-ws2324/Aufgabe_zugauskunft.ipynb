{
 "cells": [
  {
   "cell_type": "markdown",
   "metadata": {
    "tags": []
   },
   "source": [
    "# Übung Datenbanken: Ein Zugauskunfssystem\n",
    "![](https://www.klipfel-mathys.ch/images/imagesCAUM394L.jpg)"
   ]
  },
  {
   "cell_type": "code",
   "execution_count": 2,
   "metadata": {},
   "outputs": [
    {
     "name": "stdout",
     "output_type": "stream",
     "text": [
      " * sqlite:///zugauskunft-kemper.db\n",
      "Done.\n"
     ]
    },
    {
     "data": {
      "text/plain": [
       "[]"
      ]
     },
     "execution_count": 2,
     "metadata": {},
     "output_type": "execute_result"
    }
   ],
   "source": [
    "# Hier ist nur Code zum Initialisieren der Umgebeung, bitte gehen Sie weiter, es gibt nichts zu sehen.\n",
    "\n",
    "# Keine langen Fehlermeldungen\n",
    "import sys\n",
    "ipython = get_ipython()\n",
    "\n",
    "def exception_handler(exception_type, exception, traceback):\n",
    "    print(\"%s: %s\" % (exception_type.__name__, exception), file=sys.stderr)\n",
    "\n",
    "ipython._showtraceback = exception_handler\n",
    "\n",
    "# Lade die Erweiterung, damit wir SQL Befehle nutzen können\n",
    "%reload_ext sql\n",
    "%sql sqlite:///zugauskunft-kemper.db\n",
    "%sql PRAGMA foreign_keys = ON"
   ]
  },
  {
   "cell_type": "markdown",
   "metadata": {
    "tags": []
   },
   "source": [
    "# Aufgabe\n",
    "\n",
    "Nachdem wir in der letzten Aufgabe unsere Daten in folgendes Datenmodell importiert haben:\n",
    "\n",
    "![](https://nextcloud.th-deg.de/s/Kc7m486Z3KbZyB4/download?path=%2F&files=bahn-er.png)\n",
    "\n",
    "Wollen wir in dieser Aufgabe einige Abfragen auf diesem Modell entwerfen."
   ]
  },
  {
   "cell_type": "code",
   "execution_count": 10,
   "metadata": {},
   "outputs": [],
   "source": [
    "# !echo \".schema\" | sqlite3 zugauskunft-kemper.db\n",
    "# CREATE TABLE Zug (\n",
    "#   ZugNr INTEGER NOT NULL,\n",
    "#   Name TEXT NOT NULL,\n",
    "#   StartBhf TEXT NOT NULL,\n",
    "#   EndBhf TEXT NOT NULL,\n",
    "#   FOREIGN KEY(StartBhf) REFERENCES Bahnhof(BahnhofId),\n",
    "#   FOREIGN KEY(EndBhf) REFERENCES Bahnhof(BahnhofId),\n",
    "#   PRIMARY KEY(ZugNr)\n",
    "# );\n",
    "\n",
    "# CREATE TABLE Bahnhof (\n",
    "#   BahnhofId TEXT NOT NULL,\n",
    "#   Name TEXT NOT NULL,\n",
    "#   PRIMARY KEY(BahnhofId)\n",
    "# );\n",
    "\n",
    "# CREATE TABLE verbindet (\n",
    "#   ZugNr Integer NOT NULL,\n",
    "#   VonBahnhof TEXT NOT NULL,\n",
    "#   NachBahnhof TEXT,\n",
    "#   Abfahrt TIME NOT NULL,\n",
    "#   Ankunft TIME NOT NULL,\n",
    "#   FOREIGN KEY(VonBahnhof) REFERENCES Bahnhof(BahnhofId),\n",
    "#   FOREIGN KEY(NachBahnhof) REFERENCES Bahnhof(BahnhofId),\n",
    "#   FOREIGN KEY(ZugNr) REFERENCES Zug(ZugNr),\n",
    "#   PRIMARY KEY(VonBahnhof, ZugNr)\n",
    "# );"
   ]
  },
  {
   "cell_type": "code",
   "execution_count": 8,
   "metadata": {},
   "outputs": [
    {
     "name": "stdout",
     "output_type": "stream",
     "text": [
      " * sqlite:///zugauskunft-kemper.db\n",
      "Done.\n"
     ]
    },
    {
     "data": {
      "text/html": [
       "<table>\n",
       "    <thead>\n",
       "        <tr>\n",
       "            <th>ZugNr</th>\n",
       "            <th>Name</th>\n",
       "            <th>StartBhf</th>\n",
       "            <th>EndBhf</th>\n",
       "        </tr>\n",
       "    </thead>\n",
       "    <tbody>\n",
       "        <tr>\n",
       "            <td>1003122052</td>\n",
       "            <td>WBA1 Plattling</td>\n",
       "            <td>de:09271:5500</td>\n",
       "            <td>de:09271:4445</td>\n",
       "        </tr>\n",
       "        <tr>\n",
       "            <td>1003122056</td>\n",
       "            <td>WBA1 Plattling</td>\n",
       "            <td>de:09271:5500</td>\n",
       "            <td>de:09271:4445</td>\n",
       "        </tr>\n",
       "        <tr>\n",
       "            <td>1003122057</td>\n",
       "            <td>WBA1 Plattling</td>\n",
       "            <td>de:09271:5500</td>\n",
       "            <td>de:09271:4445</td>\n",
       "        </tr>\n",
       "        <tr>\n",
       "            <td>1003122058</td>\n",
       "            <td>WBA1 Plattling</td>\n",
       "            <td>de:09276:5025_G</td>\n",
       "            <td>de:09271:4445</td>\n",
       "        </tr>\n",
       "        <tr>\n",
       "            <td>1003122059</td>\n",
       "            <td>WBA1 Plattling</td>\n",
       "            <td>de:09276:4726</td>\n",
       "            <td>de:09271:4445</td>\n",
       "        </tr>\n",
       "    </tbody>\n",
       "</table>"
      ],
      "text/plain": [
       "[(1003122052, 'WBA1 Plattling', 'de:09271:5500', 'de:09271:4445'),\n",
       " (1003122056, 'WBA1 Plattling', 'de:09271:5500', 'de:09271:4445'),\n",
       " (1003122057, 'WBA1 Plattling', 'de:09271:5500', 'de:09271:4445'),\n",
       " (1003122058, 'WBA1 Plattling', 'de:09276:5025_G', 'de:09271:4445'),\n",
       " (1003122059, 'WBA1 Plattling', 'de:09276:4726', 'de:09271:4445')]"
      ]
     },
     "execution_count": 8,
     "metadata": {},
     "output_type": "execute_result"
    }
   ],
   "source": [
    "%%sql\n",
    "\n",
    "SELECT * FROM Zug LIMIT 5;"
   ]
  },
  {
   "cell_type": "code",
   "execution_count": 6,
   "metadata": {},
   "outputs": [
    {
     "name": "stdout",
     "output_type": "stream",
     "text": [
      " * sqlite:///zugauskunft-kemper.db\n",
      "Done.\n"
     ]
    },
    {
     "data": {
      "text/html": [
       "<table>\n",
       "    <thead>\n",
       "        <tr>\n",
       "            <th>ZugNr</th>\n",
       "            <th>VonBahnhof</th>\n",
       "            <th>NachBahnhof</th>\n",
       "            <th>Abfahrt</th>\n",
       "            <th>Ankunft</th>\n",
       "        </tr>\n",
       "    </thead>\n",
       "    <tbody>\n",
       "        <tr>\n",
       "            <td>1003122052</td>\n",
       "            <td>de:09271:5500</td>\n",
       "            <td>de:09271:80502</td>\n",
       "            <td>5:30:00</td>\n",
       "            <td>5:30:00</td>\n",
       "        </tr>\n",
       "        <tr>\n",
       "            <td>1003122052</td>\n",
       "            <td>de:09271:80502</td>\n",
       "            <td>de:09271:4445</td>\n",
       "            <td>5:35:00</td>\n",
       "            <td>5:35:00</td>\n",
       "        </tr>\n",
       "        <tr>\n",
       "            <td>1003122052</td>\n",
       "            <td>de:09271:4445</td>\n",
       "            <td>None</td>\n",
       "            <td>5:39:00</td>\n",
       "            <td>5:39:00</td>\n",
       "        </tr>\n",
       "        <tr>\n",
       "            <td>1003122056</td>\n",
       "            <td>de:09271:5500</td>\n",
       "            <td>de:09271:80502</td>\n",
       "            <td>24:38:00</td>\n",
       "            <td>24:38:00</td>\n",
       "        </tr>\n",
       "        <tr>\n",
       "            <td>1003122056</td>\n",
       "            <td>de:09271:80502</td>\n",
       "            <td>de:09271:4445</td>\n",
       "            <td>24:44:00</td>\n",
       "            <td>24:45:00</td>\n",
       "        </tr>\n",
       "    </tbody>\n",
       "</table>"
      ],
      "text/plain": [
       "[(1003122052, 'de:09271:5500', 'de:09271:80502', '5:30:00', '5:30:00'),\n",
       " (1003122052, 'de:09271:80502', 'de:09271:4445', '5:35:00', '5:35:00'),\n",
       " (1003122052, 'de:09271:4445', None, '5:39:00', '5:39:00'),\n",
       " (1003122056, 'de:09271:5500', 'de:09271:80502', '24:38:00', '24:38:00'),\n",
       " (1003122056, 'de:09271:80502', 'de:09271:4445', '24:44:00', '24:45:00')]"
      ]
     },
     "execution_count": 6,
     "metadata": {},
     "output_type": "execute_result"
    }
   ],
   "source": [
    "%%sql\n",
    "\n",
    "SELECT * FROM verbindet LIMIT 5;\n"
   ]
  },
  {
   "cell_type": "markdown",
   "metadata": {},
   "source": [
    "### Abfrage 1: Abfahrten in Deggendorf\n",
    "\n",
    "Entwerfen Sie eine Abfrage, die alle Abfahrten in Deggendorf anzeigt. Geben Sie die Zugnummer, den Namen, den Start- und Endbahnhof sowie die Abfahrtszeit aus."
   ]
  },
  {
   "cell_type": "code",
   "execution_count": 11,
   "metadata": {},
   "outputs": [
    {
     "name": "stdout",
     "output_type": "stream",
     "text": [
      " * sqlite:///zugauskunft-kemper.db\n",
      "Done.\n"
     ]
    },
    {
     "data": {
      "text/html": [
       "<table>\n",
       "    <thead>\n",
       "        <tr>\n",
       "            <th>ZugNr</th>\n",
       "            <th>Abfahrt</th>\n",
       "        </tr>\n",
       "    </thead>\n",
       "    <tbody>\n",
       "        <tr>\n",
       "            <td>1003122052</td>\n",
       "            <td>5:30:00</td>\n",
       "        </tr>\n",
       "        <tr>\n",
       "            <td>1003122056</td>\n",
       "            <td>24:38:00</td>\n",
       "        </tr>\n",
       "        <tr>\n",
       "            <td>1003122057</td>\n",
       "            <td>23:29:00</td>\n",
       "        </tr>\n",
       "        <tr>\n",
       "            <td>1003122058</td>\n",
       "            <td>22:04:00</td>\n",
       "        </tr>\n",
       "        <tr>\n",
       "            <td>1003122059</td>\n",
       "            <td>21:41:00</td>\n",
       "        </tr>\n",
       "        <tr>\n",
       "            <td>1003122061</td>\n",
       "            <td>18:16:00</td>\n",
       "        </tr>\n",
       "        <tr>\n",
       "            <td>1003122062</td>\n",
       "            <td>17:16:00</td>\n",
       "        </tr>\n",
       "        <tr>\n",
       "            <td>1003122063</td>\n",
       "            <td>13:16:00</td>\n",
       "        </tr>\n",
       "        <tr>\n",
       "            <td>1003122064</td>\n",
       "            <td>12:16:00</td>\n",
       "        </tr>\n",
       "        <tr>\n",
       "            <td>1003122065</td>\n",
       "            <td>19:59:00</td>\n",
       "        </tr>\n",
       "    </tbody>\n",
       "</table>"
      ],
      "text/plain": [
       "[(1003122052, '5:30:00'),\n",
       " (1003122056, '24:38:00'),\n",
       " (1003122057, '23:29:00'),\n",
       " (1003122058, '22:04:00'),\n",
       " (1003122059, '21:41:00'),\n",
       " (1003122061, '18:16:00'),\n",
       " (1003122062, '17:16:00'),\n",
       " (1003122063, '13:16:00'),\n",
       " (1003122064, '12:16:00'),\n",
       " (1003122065, '19:59:00')]"
      ]
     },
     "execution_count": 11,
     "metadata": {},
     "output_type": "execute_result"
    }
   ],
   "source": [
    "%sql SELECT ZugNr,MIN(Abfahrt) as Abfahrt FROM verbindet GROUP BY ZugNr LIMIT 10;"
   ]
  },
  {
   "cell_type": "code",
   "execution_count": 31,
   "metadata": {},
   "outputs": [
    {
     "name": "stdout",
     "output_type": "stream",
     "text": [
      " * sqlite:///zugauskunft-kemper.db\n",
      "Done.\n"
     ]
    },
    {
     "data": {
      "text/html": [
       "<table>\n",
       "    <thead>\n",
       "        <tr>\n",
       "            <th>ZugNr</th>\n",
       "            <th>Name</th>\n",
       "            <th>Startbahnhof</th>\n",
       "            <th>Endbahnhof</th>\n",
       "            <th>Abfahrt</th>\n",
       "        </tr>\n",
       "    </thead>\n",
       "    <tbody>\n",
       "        <tr>\n",
       "            <td>1015320361</td>\n",
       "            <td>WBA1 Plattling</td>\n",
       "            <td>Deggendorf Hbf</td>\n",
       "            <td>Plattling</td>\n",
       "            <td>10:45:00</td>\n",
       "        </tr>\n",
       "        <tr>\n",
       "            <td>1015320360</td>\n",
       "            <td>WBA1 Plattling</td>\n",
       "            <td>Deggendorf Hbf</td>\n",
       "            <td>Plattling</td>\n",
       "            <td>11:45:00</td>\n",
       "        </tr>\n",
       "        <tr>\n",
       "            <td>1003122064</td>\n",
       "            <td>WBA1 Plattling</td>\n",
       "            <td>Deggendorf Hbf</td>\n",
       "            <td>Plattling</td>\n",
       "            <td>12:16:00</td>\n",
       "        </tr>\n",
       "        <tr>\n",
       "            <td>1015320364</td>\n",
       "            <td>WBA1 Plattling</td>\n",
       "            <td>Deggendorf Hbf</td>\n",
       "            <td>Plattling</td>\n",
       "            <td>12:45:00</td>\n",
       "        </tr>\n",
       "        <tr>\n",
       "            <td>1003122063</td>\n",
       "            <td>WBA1 Plattling</td>\n",
       "            <td>Deggendorf Hbf</td>\n",
       "            <td>Plattling</td>\n",
       "            <td>13:16:00</td>\n",
       "        </tr>\n",
       "        <tr>\n",
       "            <td>1015320359</td>\n",
       "            <td>WBA1 Plattling</td>\n",
       "            <td>Deggendorf Hbf</td>\n",
       "            <td>Plattling</td>\n",
       "            <td>13:45:00</td>\n",
       "        </tr>\n",
       "        <tr>\n",
       "            <td>1015320371</td>\n",
       "            <td>WBA1 Plattling</td>\n",
       "            <td>Deggendorf Hbf</td>\n",
       "            <td>Plattling</td>\n",
       "            <td>14:45:00</td>\n",
       "        </tr>\n",
       "        <tr>\n",
       "            <td>1015320357</td>\n",
       "            <td>WBA1 Plattling</td>\n",
       "            <td>Deggendorf Hbf</td>\n",
       "            <td>Plattling</td>\n",
       "            <td>15:45:00</td>\n",
       "        </tr>\n",
       "        <tr>\n",
       "            <td>1003122087</td>\n",
       "            <td>WBA1 Plattling</td>\n",
       "            <td>Deggendorf Hbf</td>\n",
       "            <td>Plattling</td>\n",
       "            <td>16:16:00</td>\n",
       "        </tr>\n",
       "        <tr>\n",
       "            <td>1015320356</td>\n",
       "            <td>WBA1 Plattling</td>\n",
       "            <td>Deggendorf Hbf</td>\n",
       "            <td>Plattling</td>\n",
       "            <td>16:45:00</td>\n",
       "        </tr>\n",
       "    </tbody>\n",
       "</table>"
      ],
      "text/plain": [
       "[(1015320361, 'WBA1 Plattling', 'Deggendorf Hbf', 'Plattling', '10:45:00'),\n",
       " (1015320360, 'WBA1 Plattling', 'Deggendorf Hbf', 'Plattling', '11:45:00'),\n",
       " (1003122064, 'WBA1 Plattling', 'Deggendorf Hbf', 'Plattling', '12:16:00'),\n",
       " (1015320364, 'WBA1 Plattling', 'Deggendorf Hbf', 'Plattling', '12:45:00'),\n",
       " (1003122063, 'WBA1 Plattling', 'Deggendorf Hbf', 'Plattling', '13:16:00'),\n",
       " (1015320359, 'WBA1 Plattling', 'Deggendorf Hbf', 'Plattling', '13:45:00'),\n",
       " (1015320371, 'WBA1 Plattling', 'Deggendorf Hbf', 'Plattling', '14:45:00'),\n",
       " (1015320357, 'WBA1 Plattling', 'Deggendorf Hbf', 'Plattling', '15:45:00'),\n",
       " (1003122087, 'WBA1 Plattling', 'Deggendorf Hbf', 'Plattling', '16:16:00'),\n",
       " (1015320356, 'WBA1 Plattling', 'Deggendorf Hbf', 'Plattling', '16:45:00')]"
      ]
     },
     "execution_count": 31,
     "metadata": {},
     "output_type": "execute_result"
    }
   ],
   "source": [
    "%%sql\n",
    "\n",
    "WITH min_abfahrt AS (\n",
    "    SELECT ZugNr, MIN(Abfahrt) as Abfahrt\n",
    "    FROM verbindet\n",
    "    GROUP BY ZugNr\n",
    ")\n",
    "SELECT Zug.ZugNr, Zug.Name, start.Name as 'Startbahnhof', end.Name as 'Endbahnhof', verbindet.Abfahrt\n",
    "FROM Zug\n",
    "JOIN Bahnhof AS start ON(Zug.StartBhf = start.BahnhofId)\n",
    "JOIN Bahnhof AS end ON(Zug.EndBhf = end.BahnhofId)\n",
    "JOIN verbindet USING(ZugNr)\n",
    "JOIN min_abfahrt ON verbindet.ZugNr = min_abfahrt.ZugNr AND verbindet.Abfahrt = min_abfahrt.Abfahrt\n",
    "WHERE start.Name LIKE 'Deggendorf%'\n",
    "ORDER BY verbindet.Abfahrt ASC\n",
    "LIMIT 10;\n"
   ]
  },
  {
   "cell_type": "code",
   "execution_count": 17,
   "metadata": {},
   "outputs": [
    {
     "name": "stdout",
     "output_type": "stream",
     "text": [
      " * sqlite:///zugauskunft-kemper.db\n",
      "Done.\n"
     ]
    },
    {
     "data": {
      "text/html": [
       "<table>\n",
       "    <thead>\n",
       "        <tr>\n",
       "            <th>ZugNr</th>\n",
       "            <th>Name</th>\n",
       "            <th>Abfahrt</th>\n",
       "            <th>Startbahnhof</th>\n",
       "            <th>Endbahnhof</th>\n",
       "        </tr>\n",
       "    </thead>\n",
       "    <tbody>\n",
       "        <tr>\n",
       "            <td>1015320361</td>\n",
       "            <td>WBA1 Plattling</td>\n",
       "            <td>10:45:00</td>\n",
       "            <td>Deggendorf Hbf</td>\n",
       "            <td>Plattling</td>\n",
       "        </tr>\n",
       "        <tr>\n",
       "            <td>1015320360</td>\n",
       "            <td>WBA1 Plattling</td>\n",
       "            <td>11:45:00</td>\n",
       "            <td>Deggendorf Hbf</td>\n",
       "            <td>Plattling</td>\n",
       "        </tr>\n",
       "        <tr>\n",
       "            <td>1003122064</td>\n",
       "            <td>WBA1 Plattling</td>\n",
       "            <td>12:16:00</td>\n",
       "            <td>Deggendorf Hbf</td>\n",
       "            <td>Plattling</td>\n",
       "        </tr>\n",
       "        <tr>\n",
       "            <td>1015320364</td>\n",
       "            <td>WBA1 Plattling</td>\n",
       "            <td>12:45:00</td>\n",
       "            <td>Deggendorf Hbf</td>\n",
       "            <td>Plattling</td>\n",
       "        </tr>\n",
       "        <tr>\n",
       "            <td>1003122063</td>\n",
       "            <td>WBA1 Plattling</td>\n",
       "            <td>13:16:00</td>\n",
       "            <td>Deggendorf Hbf</td>\n",
       "            <td>Plattling</td>\n",
       "        </tr>\n",
       "        <tr>\n",
       "            <td>1015320359</td>\n",
       "            <td>WBA1 Plattling</td>\n",
       "            <td>13:45:00</td>\n",
       "            <td>Deggendorf Hbf</td>\n",
       "            <td>Plattling</td>\n",
       "        </tr>\n",
       "        <tr>\n",
       "            <td>1015320371</td>\n",
       "            <td>WBA1 Plattling</td>\n",
       "            <td>14:45:00</td>\n",
       "            <td>Deggendorf Hbf</td>\n",
       "            <td>Plattling</td>\n",
       "        </tr>\n",
       "        <tr>\n",
       "            <td>1015320357</td>\n",
       "            <td>WBA1 Plattling</td>\n",
       "            <td>15:45:00</td>\n",
       "            <td>Deggendorf Hbf</td>\n",
       "            <td>Plattling</td>\n",
       "        </tr>\n",
       "        <tr>\n",
       "            <td>1003122087</td>\n",
       "            <td>WBA1 Plattling</td>\n",
       "            <td>16:16:00</td>\n",
       "            <td>Deggendorf Hbf</td>\n",
       "            <td>Plattling</td>\n",
       "        </tr>\n",
       "        <tr>\n",
       "            <td>1015320356</td>\n",
       "            <td>WBA1 Plattling</td>\n",
       "            <td>16:45:00</td>\n",
       "            <td>Deggendorf Hbf</td>\n",
       "            <td>Plattling</td>\n",
       "        </tr>\n",
       "    </tbody>\n",
       "</table>"
      ],
      "text/plain": [
       "[(1015320361, 'WBA1 Plattling', '10:45:00', 'Deggendorf Hbf', 'Plattling'),\n",
       " (1015320360, 'WBA1 Plattling', '11:45:00', 'Deggendorf Hbf', 'Plattling'),\n",
       " (1003122064, 'WBA1 Plattling', '12:16:00', 'Deggendorf Hbf', 'Plattling'),\n",
       " (1015320364, 'WBA1 Plattling', '12:45:00', 'Deggendorf Hbf', 'Plattling'),\n",
       " (1003122063, 'WBA1 Plattling', '13:16:00', 'Deggendorf Hbf', 'Plattling'),\n",
       " (1015320359, 'WBA1 Plattling', '13:45:00', 'Deggendorf Hbf', 'Plattling'),\n",
       " (1015320371, 'WBA1 Plattling', '14:45:00', 'Deggendorf Hbf', 'Plattling'),\n",
       " (1015320357, 'WBA1 Plattling', '15:45:00', 'Deggendorf Hbf', 'Plattling'),\n",
       " (1003122087, 'WBA1 Plattling', '16:16:00', 'Deggendorf Hbf', 'Plattling'),\n",
       " (1015320356, 'WBA1 Plattling', '16:45:00', 'Deggendorf Hbf', 'Plattling')]"
      ]
     },
     "execution_count": 17,
     "metadata": {},
     "output_type": "execute_result"
    }
   ],
   "source": [
    "%%sql\n",
    "SELECT Zug.ZugNr, Zug.Name, verbindet.Abfahrt, start.Name as Startbahnhof, end.Name as Endbahnhof\n",
    "FROM Zug\n",
    "JOIN Bahnhof AS start\n",
    "ON(Zug.StartBhf = start.BahnhofId)\n",
    "JOIN Bahnhof AS end\n",
    "ON(Zug.EndBhf = end.BahnhofId)\n",
    "JOIN (SELECT ZugNr,MIN(Abfahrt) as Abfahrt FROM verbindet GROUP BY ZugNr)\n",
    "AS verbindet\n",
    "USING(ZugNr)\n",
    "WHERE Startbahnhof LIKE 'Deggendorf%'\n",
    "ORDER BY Abfahrt ASC\n",
    "LIMIT 10;\n",
    "\n"
   ]
  },
  {
   "cell_type": "markdown",
   "metadata": {},
   "source": [
    "Sie finden in den Ergebnissen sicher eine Zeilen mit : Abfahrt 25:27. Das ist typisch für Bahn Systeme, kann aber manche Zeitfunktion Ihrer Datenbank aus dem Tritt bringen."
   ]
  },
  {
   "cell_type": "markdown",
   "metadata": {},
   "source": [
    "## Aufgabe 2: Sortierng"
   ]
  },
  {
   "cell_type": "code",
   "execution_count": 36,
   "metadata": {},
   "outputs": [
    {
     "name": "stdout",
     "output_type": "stream",
     "text": [
      " * sqlite:///zugauskunft-kemper.db\n",
      "Done.\n"
     ]
    },
    {
     "data": {
      "text/html": [
       "<table>\n",
       "    <thead>\n",
       "        <tr>\n",
       "            <th>ZugNr</th>\n",
       "            <th>VonBahnhof</th>\n",
       "            <th>NachBahnhof</th>\n",
       "            <th>Abfahrt</th>\n",
       "            <th>Ankunft</th>\n",
       "        </tr>\n",
       "    </thead>\n",
       "    <tbody>\n",
       "        <tr>\n",
       "            <td>1003122052</td>\n",
       "            <td>de:09271:5500</td>\n",
       "            <td>de:09271:80502</td>\n",
       "            <td>05:30:00</td>\n",
       "            <td>05:30:00</td>\n",
       "        </tr>\n",
       "        <tr>\n",
       "            <td>1003122052</td>\n",
       "            <td>de:09271:80502</td>\n",
       "            <td>de:09271:4445</td>\n",
       "            <td>05:35:00</td>\n",
       "            <td>05:35:00</td>\n",
       "        </tr>\n",
       "        <tr>\n",
       "            <td>1003122052</td>\n",
       "            <td>de:09271:4445</td>\n",
       "            <td>None</td>\n",
       "            <td>05:39:00</td>\n",
       "            <td>05:39:00</td>\n",
       "        </tr>\n",
       "        <tr>\n",
       "            <td>1003122056</td>\n",
       "            <td>de:09271:5500</td>\n",
       "            <td>de:09271:80502</td>\n",
       "            <td>24:38:00</td>\n",
       "            <td>24:38:00</td>\n",
       "        </tr>\n",
       "        <tr>\n",
       "            <td>1003122056</td>\n",
       "            <td>de:09271:80502</td>\n",
       "            <td>de:09271:4445</td>\n",
       "            <td>24:44:00</td>\n",
       "            <td>24:45:00</td>\n",
       "        </tr>\n",
       "    </tbody>\n",
       "</table>"
      ],
      "text/plain": [
       "[(1003122052, 'de:09271:5500', 'de:09271:80502', '05:30:00', '05:30:00'),\n",
       " (1003122052, 'de:09271:80502', 'de:09271:4445', '05:35:00', '05:35:00'),\n",
       " (1003122052, 'de:09271:4445', None, '05:39:00', '05:39:00'),\n",
       " (1003122056, 'de:09271:5500', 'de:09271:80502', '24:38:00', '24:38:00'),\n",
       " (1003122056, 'de:09271:80502', 'de:09271:4445', '24:44:00', '24:45:00')]"
      ]
     },
     "execution_count": 36,
     "metadata": {},
     "output_type": "execute_result"
    }
   ],
   "source": [
    "%%sql\n",
    "\n",
    "SELECT * FROM verbindet LIMIT 5;"
   ]
  },
  {
   "cell_type": "code",
   "execution_count": 35,
   "metadata": {},
   "outputs": [
    {
     "name": "stdout",
     "output_type": "stream",
     "text": [
      " * sqlite:///zugauskunft-kemper.db\n",
      "0 rows affected.\n"
     ]
    },
    {
     "data": {
      "text/plain": [
       "[]"
      ]
     },
     "execution_count": 35,
     "metadata": {},
     "output_type": "execute_result"
    }
   ],
   "source": [
    "%%sql\n",
    "\n",
    "UPDATE verbindet SET Abfahrt = \"0\" || Abfahrt WHERE Abfahrt LIKE \"_:%\";"
   ]
  },
  {
   "cell_type": "code",
   "execution_count": 34,
   "metadata": {},
   "outputs": [
    {
     "name": "stdout",
     "output_type": "stream",
     "text": [
      " * sqlite:///zugauskunft-kemper.db\n",
      "484 rows affected.\n"
     ]
    },
    {
     "data": {
      "text/plain": [
       "[]"
      ]
     },
     "execution_count": 34,
     "metadata": {},
     "output_type": "execute_result"
    }
   ],
   "source": [
    "%%sql\n",
    "\n",
    "UPDATE verbindet SET Ankunft = \"0\" || Ankunft WHERE Ankunft LIKE \"_:%\";"
   ]
  },
  {
   "cell_type": "markdown",
   "metadata": {},
   "source": [
    "## Abfrage 3: Laufweg einer zufälligen Fahrt\n",
    "\n",
    "Geben Sie alle Halte einer zufälligen (Hint: Subselect mit RANDOM()) Fahrt aus."
   ]
  },
  {
   "cell_type": "code",
   "execution_count": 43,
   "metadata": {},
   "outputs": [
    {
     "name": "stdout",
     "output_type": "stream",
     "text": [
      " * sqlite:///zugauskunft-kemper.db\n",
      "Done.\n"
     ]
    },
    {
     "data": {
      "text/html": [
       "<table>\n",
       "    <thead>\n",
       "        <tr>\n",
       "            <th>ZugNr</th>\n",
       "            <th>Name</th>\n",
       "            <th>Ankunft</th>\n",
       "            <th>Abfahrt</th>\n",
       "            <th>VonBahnhof</th>\n",
       "            <th>NachBahnhof</th>\n",
       "        </tr>\n",
       "    </thead>\n",
       "    <tbody>\n",
       "        <tr>\n",
       "            <td>1003122250</td>\n",
       "            <td>WBA2 Zwiesel (Bay)</td>\n",
       "            <td>13:29:00</td>\n",
       "            <td>13:29:00</td>\n",
       "            <td>Bodenmais</td>\n",
       "            <td>Böhmhof</td>\n",
       "        </tr>\n",
       "        <tr>\n",
       "            <td>1003122250</td>\n",
       "            <td>WBA2 Zwiesel (Bay)</td>\n",
       "            <td>13:32:00</td>\n",
       "            <td>13:32:00</td>\n",
       "            <td>Böhmhof</td>\n",
       "            <td>Langdorf</td>\n",
       "        </tr>\n",
       "        <tr>\n",
       "            <td>1003122250</td>\n",
       "            <td>WBA2 Zwiesel (Bay)</td>\n",
       "            <td>13:40:00</td>\n",
       "            <td>13:40:00</td>\n",
       "            <td>Langdorf</td>\n",
       "            <td>Außenried</td>\n",
       "        </tr>\n",
       "        <tr>\n",
       "            <td>1003122250</td>\n",
       "            <td>WBA2 Zwiesel (Bay)</td>\n",
       "            <td>13:43:00</td>\n",
       "            <td>13:43:00</td>\n",
       "            <td>Außenried</td>\n",
       "            <td>Zwiesel (Bay)</td>\n",
       "        </tr>\n",
       "    </tbody>\n",
       "</table>"
      ],
      "text/plain": [
       "[(1003122250, 'WBA2 Zwiesel (Bay)', '13:29:00', '13:29:00', 'Bodenmais', 'Böhmhof'),\n",
       " (1003122250, 'WBA2 Zwiesel (Bay)', '13:32:00', '13:32:00', 'Böhmhof', 'Langdorf'),\n",
       " (1003122250, 'WBA2 Zwiesel (Bay)', '13:40:00', '13:40:00', 'Langdorf', 'Außenried'),\n",
       " (1003122250, 'WBA2 Zwiesel (Bay)', '13:43:00', '13:43:00', 'Außenried', 'Zwiesel (Bay)')]"
      ]
     },
     "execution_count": 43,
     "metadata": {},
     "output_type": "execute_result"
    }
   ],
   "source": [
    "%%sql\n",
    "\n",
    "SELECT Zug.ZugNr, Zug.Name, verbindet.Ankunft, verbindet.Abfahrt, start.Name as VonBahnhof, end.Name as NachBahnhof\n",
    "FROM Zug, verbindet, Bahnhof AS start, Bahnhof AS end\n",
    "WHERE\n",
    "verbindet.ZugNr = Zug.ZugNr AND\n",
    "verbindet.VonBahnhof = start.BahnhofId AND\n",
    "verbindet.NachBahnhof = end.BahnhofId AND\n",
    "Zug.ZugNr = (SELECT ZugNr FROM Zug ORDER BY RANDOM() LIMIT 3);"
   ]
  },
  {
   "cell_type": "markdown",
   "metadata": {},
   "source": [
    "### Abfrage 3: Von Deggendorf nach Grafenau\n",
    "\n",
    "Wie komme ich von Deggendorf nach Grafenau? Gibt es einen einfachen Weg das in einer SQL Abfrage abzubilden?"
   ]
  }
 ],
 "metadata": {
  "kernelspec": {
   "display_name": "Python 3 (ipykernel)",
   "language": "python",
   "name": "python3"
  },
  "language_info": {
   "codemirror_mode": {
    "name": "ipython",
    "version": 3
   },
   "file_extension": ".py",
   "mimetype": "text/x-python",
   "name": "python",
   "nbconvert_exporter": "python",
   "pygments_lexer": "ipython3",
   "version": "3.12.0"
  }
 },
 "nbformat": 4,
 "nbformat_minor": 4
}
