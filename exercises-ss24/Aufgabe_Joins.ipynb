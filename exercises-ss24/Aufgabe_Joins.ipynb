{
 "cells": [
  {
   "cell_type": "markdown",
   "metadata": {},
   "source": [
    "# Joins"
   ]
  },
  {
   "cell_type": "code",
   "execution_count": null,
   "metadata": {},
   "outputs": [],
   "source": [
    "# Hier ist nur Code zum Initialisieren der Umgebeung, bitte gehen Sie weiter, es gibt nichts zu sehen.\n",
    "\n",
    "# Keine langen Fehlermeldungen\n",
    "import sys\n",
    "ipython = get_ipython()\n",
    "\n",
    "def exception_handler(exception_type, exception, traceback):\n",
    "    print(\"%s: %s\" % (exception_type.__name__, exception), file=sys.stderr)\n",
    "\n",
    "ipython._showtraceback = exception_handler\n",
    "\n",
    "# Lade die Erweiterung, damit wir SQL Befehle nutzen können\n",
    "%reload_ext sql\n",
    "# Verbinde Dich zu einer in - Memory Datenbank\n",
    "%sql sqlite:///\n",
    "%sql PRAGMA foreign_keys = ON"
   ]
  },
  {
   "cell_type": "markdown",
   "metadata": {},
   "source": [
    "# Die verschiedenen Joins\n",
    "\n",
    "Es gibt verschiedene Arten Joins zu erklären. Ich bevorzuge immer noch folgendes Bild:\n",
    "\n",
    "![](https://nextcloud.th-deg.de/s/Kc7m486Z3KbZyB4/download?path=%2F&files=SQL_Joins.png)\n",
    "\n"
   ]
  },
  {
   "cell_type": "code",
   "execution_count": null,
   "metadata": {},
   "outputs": [],
   "source": [
    "%%sql\n",
    "\n",
    "DROP TABLE IF EXISTS eins;\n",
    "DROP TABLE IF EXISTS zwei;\n",
    "\n",
    "CREATE TABLE eins(id INT PRIMARY KEY, val CHAR(1));\n",
    "INSERT INTO eins VALUES(1,'A'), (2,'B'), (3,'C');\n",
    "CREATE TABLE zwei(id INT PRIMARY KEY, val2 CHAR(1));\n",
    "INSERT INTO zwei VALUES(2,'D'), (3,'E'), (4,'F');"
   ]
  },
  {
   "cell_type": "markdown",
   "metadata": {},
   "source": [
    "# Aufgabe 1\n",
    "Führen sie an den Tabellen `eins, zwei` verschiedene `JOINS` durch, um ein Gefühl für die veränderte Ergebnissmenge zu erhalten. Nachdem beide Tabellen gleich benannte `id` Attribute haben können Sie bei einem `JOIN` auf diese einen `NATURAL JOIN` oder `JOIN using(id)` oder `JOIN ON(eins.id = zwei.id)` verwenden.\n"
   ]
  },
  {
   "cell_type": "markdown",
   "metadata": {},
   "source": [
    "#### Aufgabe 1.1 Implementieren Sie einen `INNER` Join in den drei oben genannten Varianten"
   ]
  },
  {
   "cell_type": "markdown",
   "metadata": {},
   "source": [
    "#### Aufgabe 1.2 Implementieren Sie einen `LEFT Join`"
   ]
  },
  {
   "cell_type": "markdown",
   "metadata": {},
   "source": [
    "#### Aufgabe 1.3 Implementieren Sie einen `RIGHT Join`"
   ]
  },
  {
   "cell_type": "markdown",
   "metadata": {},
   "source": [
    "#### Aufgabe 1.4 Implementieren Sie `A - B`"
   ]
  },
  {
   "cell_type": "markdown",
   "metadata": {},
   "source": [
    "#### Aufgabe 1.5 Implementieren Sie `B - A`"
   ]
  },
  {
   "cell_type": "markdown",
   "metadata": {},
   "source": [
    "#### Aufgabe 1.5 Implementieren Sie einen `FULL OUTER JOIN`"
   ]
  },
  {
   "cell_type": "markdown",
   "metadata": {},
   "source": [
    "# Aufgabe 2"
   ]
  },
  {
   "cell_type": "markdown",
   "metadata": {},
   "source": [
    "Die Beispiele aus Aufgabe 1 waren bewusst abstrakt gewählt. Was heißt die jeweilige Form von Joins denn auf einen konkreten Use-Case? Was würde jede einzelne Join form bedeuten, wenn es um Stundenten und Bücher ginge, die Studenten ausleihen können?"
   ]
  },
  {
   "cell_type": "markdown",
   "metadata": {},
   "source": [
    "- Inner Join: \n",
    "- Left Outer Join:\n",
    "- Right Outer Join:\n",
    "- Student - Buch:\n",
    "- Buch - Student:\n",
    "- FULL OUTER JOIN:"
   ]
  },
  {
   "cell_type": "markdown",
   "metadata": {},
   "source": [
    "# Aufgabe 3\n",
    "\n",
    "Betrachten wir folgene Modellierung:\n",
    "\n",
    "![](https://nextcloud.th-deg.de/s/Kc7m486Z3KbZyB4/download?path=%2F&files=bib.png)"
   ]
  },
  {
   "cell_type": "code",
   "execution_count": null,
   "metadata": {},
   "outputs": [],
   "source": [
    "%%sql\n",
    "\n",
    "DROP TABLE IF EXISTS leiht_aus;\n",
    "DROP TABLE IF EXISTS ist_ueberfaellig;\n",
    "DROP TABLE IF EXISTS student;\n",
    "DROP TABLE IF EXISTS buch;\n",
    "\n",
    "CREATE TABLE student(\n",
    "    matrikelnummer INT PRIMARY KEY NOT NULL,\n",
    "    name TEXT NOT NULL\n",
    ");\n",
    "\n",
    "CREATE TABLE buch(\n",
    "    isbn TEXT PRIMARY KEY NOT NULL,\n",
    "    name TEXT NOT NULL\n",
    ");\n",
    "\n",
    "CREATE TABLE leiht_aus(\n",
    "    matrikelnummer INT NOT NULL,\n",
    "    isbn TEXT NOT NULL,\n",
    "    von DATE NOT NULL,\n",
    "    bis DATE,\n",
    "    PRIMARY KEY(matrikelnummer, isbn, von),\n",
    "    FOREIGN KEY(matrikelnummer) REFERENCES student(matrikelnummer),\n",
    "    FOREIGN KEY(isbn) REFERENCES buch(isbn)\n",
    ");\n",
    "\n",
    "CREATE TABLE ist_ueberfaellig(\n",
    "    matrikelnummer INT NOT NULL,\n",
    "    isbn TEXT NOT NULL,\n",
    "    gebuer INT,\n",
    "    PRIMARY KEY(matrikelnummer, isbn),\n",
    "    FOREIGN KEY(matrikelnummer) REFERENCES student(matrikelnummer),\n",
    "    FOREIGN KEY(isbn) REFERENCES buch(isbn)\n",
    ");"
   ]
  },
  {
   "cell_type": "code",
   "execution_count": null,
   "metadata": {},
   "outputs": [],
   "source": [
    "%%sql\n",
    "INSERT INTO student VALUES(1,'Elser'), (2, 'Maier'), (3, 'Huber');\n",
    "INSERT INTO buch VALUES(1,'Datenbanken'), (2, 'Ulysses'), (3, 'Das Niebelungenlied');\n",
    "INSERT INTO ist_ueberfaellig VALUES(1,2,10), (2,2,15), (2,3,22);\n",
    "INSERT INTO leiht_aus VALUES(1,1,'01.10.2021',NULL), (1,2,'01.11.2021',NULL), (2,3,'01.11.2021','11.11.2021');"
   ]
  },
  {
   "cell_type": "markdown",
   "metadata": {},
   "source": [
    "#### Aufgabe 3.1\n",
    "\n",
    "Entwickeln Sie einen JOIN, der angibt welche Studenten welche Bücher ausgeliehen haben und welche Gebüren da noch zu zahlen sind."
   ]
  },
  {
   "cell_type": "markdown",
   "metadata": {},
   "source": [
    "#### Aufgabe 3.2\n",
    "\n",
    "Geben Sie nur ausleihen aus, die > 20 Euro Gebüren haben"
   ]
  },
  {
   "cell_type": "code",
   "execution_count": null,
   "metadata": {},
   "outputs": [],
   "source": []
  }
 ],
 "metadata": {
  "kernelspec": {
   "display_name": "Python 3 (ipykernel)",
   "language": "python",
   "name": "python3"
  },
  "language_info": {
   "codemirror_mode": {
    "name": "ipython",
    "version": 3
   },
   "file_extension": ".py",
   "mimetype": "text/x-python",
   "name": "python",
   "nbconvert_exporter": "python",
   "pygments_lexer": "ipython3",
   "version": "3.9.6"
  }
 },
 "nbformat": 4,
 "nbformat_minor": 4
}
