{
 "cells": [
  {
   "cell_type": "markdown",
   "id": "e08ab7c6-dd25-4307-ac37-21393b99a260",
   "metadata": {},
   "source": [
    "https://programmer.help/blogs/fifty-sql-exercise-questions-and-answers-and-detailed-analysis.html"
   ]
  },
  {
   "cell_type": "code",
   "execution_count": 2,
   "id": "891cce3d-6082-4a27-880f-5fddf2c63b25",
   "metadata": {
    "tags": []
   },
   "outputs": [
    {
     "name": "stdout",
     "output_type": "stream",
     "text": [
      " * sqlite:///uni.db\n",
      "Done.\n"
     ]
    },
    {
     "data": {
      "text/plain": [
       "[]"
      ]
     },
     "execution_count": 2,
     "metadata": {},
     "output_type": "execute_result"
    }
   ],
   "source": [
    "# Hier ist nur Code zum Initialisieren der Umgebeung, bitte gehen Sie weiter, es gibt nichts zu sehen.\n",
    "\n",
    "# Keine langen Fehlermeldungen\n",
    "import sys\n",
    "ipython = get_ipython()\n",
    "\n",
    "def exception_handler(exception_type, exception, traceback):\n",
    "    print(\"%s: %s\" % (exception_type.__name__, exception), file=sys.stderr)\n",
    "\n",
    "ipython._showtraceback = exception_handler\n",
    "\n",
    "# Lade die Erweiterung, damit wir SQL Befehle nutzen können\n",
    "%load_ext sql\n",
    "\n",
    "# Verbinde Dich zu einer in - Memory Datenbank\n",
    "%sql sqlite:///uni.db\n",
    "%sql PRAGMA foreign_keys = ON"
   ]
  },
  {
   "cell_type": "code",
   "execution_count": 10,
   "id": "efb16278-6d8c-4df8-afa3-5a3f2994e2d0",
   "metadata": {},
   "outputs": [],
   "source": [
    "# !echo .schema | sqlite3 uni.db\n",
    "\n",
    "# CREATE TABLE Studenten\n",
    "#        (MatrNr         INTEGER PRIMARY KEY,\n",
    "#         Name           VARCHAR(30) NOT NULL,\n",
    "#         Semester       INTEGER);\n",
    "# CREATE TABLE Professoren\n",
    "#        (PersNr         INTEGER PRIMARY KEY,\n",
    "#         Name           VARCHAR(30) NOT NULL,\n",
    "#         Rang           CHAR(2) CHECK (Rang in ('C2', 'C3', 'C4')),\n",
    "#         Raum           INTEGER UNIQUE);\n",
    "# CREATE TABLE Assistenten\n",
    "#        (PersNr         INTEGER PRIMARY KEY,\n",
    "#         Name           VARCHAR(30) NOT NULL,\n",
    "#         Fachgebiet     VARCHAR(30),\n",
    "#         Boss           INTEGER,\n",
    "#         FOREIGN KEY    (Boss) REFERENCES Professoren);\n",
    "# CREATE TABLE Vorlesungen\n",
    "#        (VorlNr         INTEGER PRIMARY KEY,\n",
    "#         Titel          VARCHAR(30),\n",
    "#         SWS            INTEGER,\n",
    "#         gelesenVon     INTEGER REFERENCES Professoren);\n",
    "# CREATE TABLE hoeren\n",
    "#        (MatrNr         INTEGER REFERENCES Studenten ON DELETE CASCADE,\n",
    "#         VorlNr         INTEGER REFERENCES Vorlesungen ON DELETE CASCADE,\n",
    "#         PRIMARY KEY    (MatrNr, VorlNr));\n",
    "# CREATE TABLE voraussetzen\n",
    "#        (Vorgaenger     INTEGER REFERENCES Vorlesungen ON DELETE CASCADE,\n",
    "#         Nachfolger     INTEGER REFERENCES Vorlesungen ON DELETE NO ACTION,\n",
    "#         PRIMARY KEY    (Vorgaenger, Nachfolger));\n",
    "# CREATE TABLE pruefen\n",
    "#        (MatrNr         INTEGER REFERENCES Studenten ON DELETE CASCADE,\n",
    "#         VorlNr         INTEGER REFERENCES Vorlesungen,\n",
    "#         PersNr         INTEGER REFERENCES Professoren,\n",
    "#         Note           NUMERIC(2,1) CHECK (Note between 0.7 and 5.0),\n",
    "#         PRIMARY KEY    (MatrNr, VorlNr));"
   ]
  },
  {
   "cell_type": "code",
   "execution_count": 3,
   "id": "e2aff909",
   "metadata": {
    "vscode": {
     "languageId": "sql"
    }
   },
   "outputs": [
    {
     "name": "stdout",
     "output_type": "stream",
     "text": [
      " * sqlite:///uni.db\n",
      "Done.\n"
     ]
    },
    {
     "data": {
      "text/html": [
       "<table>\n",
       "    <thead>\n",
       "        <tr>\n",
       "            <th>MatrNr</th>\n",
       "            <th>Name</th>\n",
       "            <th>Semester</th>\n",
       "        </tr>\n",
       "    </thead>\n",
       "    <tbody>\n",
       "        <tr>\n",
       "            <td>24002</td>\n",
       "            <td>Xenokrates</td>\n",
       "            <td>18</td>\n",
       "        </tr>\n",
       "        <tr>\n",
       "            <td>25403</td>\n",
       "            <td>Jonas</td>\n",
       "            <td>12</td>\n",
       "        </tr>\n",
       "        <tr>\n",
       "            <td>26120</td>\n",
       "            <td>Fichte</td>\n",
       "            <td>10</td>\n",
       "        </tr>\n",
       "        <tr>\n",
       "            <td>26830</td>\n",
       "            <td>Aristoxenos</td>\n",
       "            <td>8</td>\n",
       "        </tr>\n",
       "        <tr>\n",
       "            <td>27550</td>\n",
       "            <td>Schopenhauer</td>\n",
       "            <td>6</td>\n",
       "        </tr>\n",
       "        <tr>\n",
       "            <td>28106</td>\n",
       "            <td>Carnap</td>\n",
       "            <td>3</td>\n",
       "        </tr>\n",
       "        <tr>\n",
       "            <td>29120</td>\n",
       "            <td>Theophrastos</td>\n",
       "            <td>2</td>\n",
       "        </tr>\n",
       "        <tr>\n",
       "            <td>29555</td>\n",
       "            <td>Feuerbach</td>\n",
       "            <td>2</td>\n",
       "        </tr>\n",
       "    </tbody>\n",
       "</table>"
      ],
      "text/plain": [
       "[(24002, 'Xenokrates', 18),\n",
       " (25403, 'Jonas', 12),\n",
       " (26120, 'Fichte', 10),\n",
       " (26830, 'Aristoxenos', 8),\n",
       " (27550, 'Schopenhauer', 6),\n",
       " (28106, 'Carnap', 3),\n",
       " (29120, 'Theophrastos', 2),\n",
       " (29555, 'Feuerbach', 2)]"
      ]
     },
     "execution_count": 3,
     "metadata": {},
     "output_type": "execute_result"
    }
   ],
   "source": [
    "%%sql\n",
    "\n",
    "SELECT * FROM Studenten"
   ]
  },
  {
   "cell_type": "code",
   "execution_count": 4,
   "id": "4bb22179",
   "metadata": {
    "vscode": {
     "languageId": "sql"
    }
   },
   "outputs": [
    {
     "name": "stdout",
     "output_type": "stream",
     "text": [
      " * sqlite:///uni.db\n",
      "Done.\n"
     ]
    },
    {
     "data": {
      "text/html": [
       "<table>\n",
       "    <thead>\n",
       "        <tr>\n",
       "            <th>PersNr</th>\n",
       "            <th>Name</th>\n",
       "            <th>Rang</th>\n",
       "            <th>Raum</th>\n",
       "        </tr>\n",
       "    </thead>\n",
       "    <tbody>\n",
       "        <tr>\n",
       "            <td>2125</td>\n",
       "            <td>Sokrates</td>\n",
       "            <td>C4</td>\n",
       "            <td>226</td>\n",
       "        </tr>\n",
       "        <tr>\n",
       "            <td>2126</td>\n",
       "            <td>Russel</td>\n",
       "            <td>C4</td>\n",
       "            <td>232</td>\n",
       "        </tr>\n",
       "        <tr>\n",
       "            <td>2127</td>\n",
       "            <td>Kopernikus</td>\n",
       "            <td>C3</td>\n",
       "            <td>310</td>\n",
       "        </tr>\n",
       "        <tr>\n",
       "            <td>2133</td>\n",
       "            <td>Popper</td>\n",
       "            <td>C3</td>\n",
       "            <td>52</td>\n",
       "        </tr>\n",
       "        <tr>\n",
       "            <td>2134</td>\n",
       "            <td>Augustinus</td>\n",
       "            <td>C3</td>\n",
       "            <td>309</td>\n",
       "        </tr>\n",
       "        <tr>\n",
       "            <td>2136</td>\n",
       "            <td>Curie</td>\n",
       "            <td>C4</td>\n",
       "            <td>36</td>\n",
       "        </tr>\n",
       "        <tr>\n",
       "            <td>2137</td>\n",
       "            <td>Kant</td>\n",
       "            <td>C4</td>\n",
       "            <td>7</td>\n",
       "        </tr>\n",
       "    </tbody>\n",
       "</table>"
      ],
      "text/plain": [
       "[(2125, 'Sokrates', 'C4', 226),\n",
       " (2126, 'Russel', 'C4', 232),\n",
       " (2127, 'Kopernikus', 'C3', 310),\n",
       " (2133, 'Popper', 'C3', 52),\n",
       " (2134, 'Augustinus', 'C3', 309),\n",
       " (2136, 'Curie', 'C4', 36),\n",
       " (2137, 'Kant', 'C4', 7)]"
      ]
     },
     "execution_count": 4,
     "metadata": {},
     "output_type": "execute_result"
    }
   ],
   "source": [
    "%%sql\n",
    "\n",
    "SELECT * FROM Professoren"
   ]
  },
  {
   "cell_type": "code",
   "execution_count": 5,
   "id": "0135b72e",
   "metadata": {
    "vscode": {
     "languageId": "sql"
    }
   },
   "outputs": [
    {
     "name": "stdout",
     "output_type": "stream",
     "text": [
      " * sqlite:///uni.db\n",
      "Done.\n"
     ]
    },
    {
     "data": {
      "text/html": [
       "<table>\n",
       "    <thead>\n",
       "        <tr>\n",
       "            <th>PersNr</th>\n",
       "            <th>Name</th>\n",
       "            <th>Fachgebiet</th>\n",
       "            <th>Boss</th>\n",
       "        </tr>\n",
       "    </thead>\n",
       "    <tbody>\n",
       "        <tr>\n",
       "            <td>3002</td>\n",
       "            <td>Platon</td>\n",
       "            <td>Ideenlehre</td>\n",
       "            <td>2125</td>\n",
       "        </tr>\n",
       "        <tr>\n",
       "            <td>3003</td>\n",
       "            <td>Aristoteles</td>\n",
       "            <td>Syllogistik</td>\n",
       "            <td>2125</td>\n",
       "        </tr>\n",
       "        <tr>\n",
       "            <td>3004</td>\n",
       "            <td>Wittgenstein</td>\n",
       "            <td>Sprachtheorie</td>\n",
       "            <td>2126</td>\n",
       "        </tr>\n",
       "        <tr>\n",
       "            <td>3005</td>\n",
       "            <td>Rhetikus</td>\n",
       "            <td>Planetenbewegung</td>\n",
       "            <td>2127</td>\n",
       "        </tr>\n",
       "        <tr>\n",
       "            <td>3006</td>\n",
       "            <td>Newton</td>\n",
       "            <td>Keplersche Gesetze</td>\n",
       "            <td>2127</td>\n",
       "        </tr>\n",
       "        <tr>\n",
       "            <td>3007</td>\n",
       "            <td>Spinoza</td>\n",
       "            <td>Gott und Natur</td>\n",
       "            <td>2134</td>\n",
       "        </tr>\n",
       "    </tbody>\n",
       "</table>"
      ],
      "text/plain": [
       "[(3002, 'Platon', 'Ideenlehre', 2125),\n",
       " (3003, 'Aristoteles', 'Syllogistik', 2125),\n",
       " (3004, 'Wittgenstein', 'Sprachtheorie', 2126),\n",
       " (3005, 'Rhetikus', 'Planetenbewegung', 2127),\n",
       " (3006, 'Newton', 'Keplersche Gesetze', 2127),\n",
       " (3007, 'Spinoza', 'Gott und Natur', 2134)]"
      ]
     },
     "execution_count": 5,
     "metadata": {},
     "output_type": "execute_result"
    }
   ],
   "source": [
    "%%sql\n",
    "\n",
    "SELECT * FROM Assistenten"
   ]
  },
  {
   "cell_type": "code",
   "execution_count": 6,
   "id": "84c3c6cf",
   "metadata": {
    "vscode": {
     "languageId": "sql"
    }
   },
   "outputs": [
    {
     "name": "stdout",
     "output_type": "stream",
     "text": [
      " * sqlite:///uni.db\n",
      "Done.\n"
     ]
    },
    {
     "data": {
      "text/html": [
       "<table>\n",
       "    <thead>\n",
       "        <tr>\n",
       "            <th>VorlNr</th>\n",
       "            <th>Titel</th>\n",
       "            <th>SWS</th>\n",
       "            <th>gelesenVon</th>\n",
       "        </tr>\n",
       "    </thead>\n",
       "    <tbody>\n",
       "        <tr>\n",
       "            <td>4052</td>\n",
       "            <td>Logik</td>\n",
       "            <td>4</td>\n",
       "            <td>2125</td>\n",
       "        </tr>\n",
       "        <tr>\n",
       "            <td>4630</td>\n",
       "            <td>Die 3 Kritiken</td>\n",
       "            <td>4</td>\n",
       "            <td>2137</td>\n",
       "        </tr>\n",
       "        <tr>\n",
       "            <td>5001</td>\n",
       "            <td>Grundzuege</td>\n",
       "            <td>4</td>\n",
       "            <td>2137</td>\n",
       "        </tr>\n",
       "        <tr>\n",
       "            <td>5022</td>\n",
       "            <td>Glaube und Wissen</td>\n",
       "            <td>2</td>\n",
       "            <td>2134</td>\n",
       "        </tr>\n",
       "        <tr>\n",
       "            <td>5041</td>\n",
       "            <td>Ethik</td>\n",
       "            <td>4</td>\n",
       "            <td>2125</td>\n",
       "        </tr>\n",
       "        <tr>\n",
       "            <td>5043</td>\n",
       "            <td>Erkenntnistheorie</td>\n",
       "            <td>3</td>\n",
       "            <td>2126</td>\n",
       "        </tr>\n",
       "        <tr>\n",
       "            <td>5049</td>\n",
       "            <td>Maeeutik</td>\n",
       "            <td>2</td>\n",
       "            <td>2125</td>\n",
       "        </tr>\n",
       "        <tr>\n",
       "            <td>5052</td>\n",
       "            <td>Wissenschaftstheorie</td>\n",
       "            <td>3</td>\n",
       "            <td>2126</td>\n",
       "        </tr>\n",
       "        <tr>\n",
       "            <td>5216</td>\n",
       "            <td>Bioethik</td>\n",
       "            <td>2</td>\n",
       "            <td>2126</td>\n",
       "        </tr>\n",
       "        <tr>\n",
       "            <td>5259</td>\n",
       "            <td>Der Wiener Kreis</td>\n",
       "            <td>2</td>\n",
       "            <td>2133</td>\n",
       "        </tr>\n",
       "    </tbody>\n",
       "</table>"
      ],
      "text/plain": [
       "[(4052, 'Logik', 4, 2125),\n",
       " (4630, 'Die 3 Kritiken', 4, 2137),\n",
       " (5001, 'Grundzuege', 4, 2137),\n",
       " (5022, 'Glaube und Wissen', 2, 2134),\n",
       " (5041, 'Ethik', 4, 2125),\n",
       " (5043, 'Erkenntnistheorie', 3, 2126),\n",
       " (5049, 'Maeeutik', 2, 2125),\n",
       " (5052, 'Wissenschaftstheorie', 3, 2126),\n",
       " (5216, 'Bioethik', 2, 2126),\n",
       " (5259, 'Der Wiener Kreis', 2, 2133)]"
      ]
     },
     "execution_count": 6,
     "metadata": {},
     "output_type": "execute_result"
    }
   ],
   "source": [
    "%%sql\n",
    "\n",
    "SELECT * FROM Vorlesungen"
   ]
  },
  {
   "cell_type": "code",
   "execution_count": 7,
   "id": "f3eba418",
   "metadata": {
    "vscode": {
     "languageId": "sql"
    }
   },
   "outputs": [
    {
     "name": "stdout",
     "output_type": "stream",
     "text": [
      " * sqlite:///uni.db\n",
      "Done.\n"
     ]
    },
    {
     "data": {
      "text/html": [
       "<table>\n",
       "    <thead>\n",
       "        <tr>\n",
       "            <th>MatrNr</th>\n",
       "            <th>VorlNr</th>\n",
       "        </tr>\n",
       "    </thead>\n",
       "    <tbody>\n",
       "        <tr>\n",
       "            <td>26120</td>\n",
       "            <td>5001</td>\n",
       "        </tr>\n",
       "        <tr>\n",
       "            <td>27550</td>\n",
       "            <td>5001</td>\n",
       "        </tr>\n",
       "        <tr>\n",
       "            <td>27550</td>\n",
       "            <td>4052</td>\n",
       "        </tr>\n",
       "        <tr>\n",
       "            <td>28106</td>\n",
       "            <td>5041</td>\n",
       "        </tr>\n",
       "        <tr>\n",
       "            <td>28106</td>\n",
       "            <td>5052</td>\n",
       "        </tr>\n",
       "        <tr>\n",
       "            <td>28106</td>\n",
       "            <td>5216</td>\n",
       "        </tr>\n",
       "        <tr>\n",
       "            <td>28106</td>\n",
       "            <td>5259</td>\n",
       "        </tr>\n",
       "        <tr>\n",
       "            <td>29120</td>\n",
       "            <td>5001</td>\n",
       "        </tr>\n",
       "        <tr>\n",
       "            <td>29120</td>\n",
       "            <td>5041</td>\n",
       "        </tr>\n",
       "        <tr>\n",
       "            <td>29120</td>\n",
       "            <td>5049</td>\n",
       "        </tr>\n",
       "        <tr>\n",
       "            <td>29555</td>\n",
       "            <td>5022</td>\n",
       "        </tr>\n",
       "        <tr>\n",
       "            <td>25403</td>\n",
       "            <td>5022</td>\n",
       "        </tr>\n",
       "        <tr>\n",
       "            <td>29555</td>\n",
       "            <td>5001</td>\n",
       "        </tr>\n",
       "    </tbody>\n",
       "</table>"
      ],
      "text/plain": [
       "[(26120, 5001),\n",
       " (27550, 5001),\n",
       " (27550, 4052),\n",
       " (28106, 5041),\n",
       " (28106, 5052),\n",
       " (28106, 5216),\n",
       " (28106, 5259),\n",
       " (29120, 5001),\n",
       " (29120, 5041),\n",
       " (29120, 5049),\n",
       " (29555, 5022),\n",
       " (25403, 5022),\n",
       " (29555, 5001)]"
      ]
     },
     "execution_count": 7,
     "metadata": {},
     "output_type": "execute_result"
    }
   ],
   "source": [
    "%%sql\n",
    "\n",
    "SELECT * FROM hoeren"
   ]
  },
  {
   "cell_type": "code",
   "execution_count": 8,
   "id": "debe4692",
   "metadata": {
    "vscode": {
     "languageId": "sql"
    }
   },
   "outputs": [
    {
     "name": "stdout",
     "output_type": "stream",
     "text": [
      " * sqlite:///uni.db\n",
      "Done.\n"
     ]
    },
    {
     "data": {
      "text/html": [
       "<table>\n",
       "    <thead>\n",
       "        <tr>\n",
       "            <th>Vorgaenger</th>\n",
       "            <th>Nachfolger</th>\n",
       "        </tr>\n",
       "    </thead>\n",
       "    <tbody>\n",
       "        <tr>\n",
       "            <td>5001</td>\n",
       "            <td>5041</td>\n",
       "        </tr>\n",
       "        <tr>\n",
       "            <td>5001</td>\n",
       "            <td>5043</td>\n",
       "        </tr>\n",
       "        <tr>\n",
       "            <td>5001</td>\n",
       "            <td>5049</td>\n",
       "        </tr>\n",
       "        <tr>\n",
       "            <td>5041</td>\n",
       "            <td>5216</td>\n",
       "        </tr>\n",
       "        <tr>\n",
       "            <td>5043</td>\n",
       "            <td>5052</td>\n",
       "        </tr>\n",
       "        <tr>\n",
       "            <td>5041</td>\n",
       "            <td>5052</td>\n",
       "        </tr>\n",
       "        <tr>\n",
       "            <td>5052</td>\n",
       "            <td>5259</td>\n",
       "        </tr>\n",
       "    </tbody>\n",
       "</table>"
      ],
      "text/plain": [
       "[(5001, 5041),\n",
       " (5001, 5043),\n",
       " (5001, 5049),\n",
       " (5041, 5216),\n",
       " (5043, 5052),\n",
       " (5041, 5052),\n",
       " (5052, 5259)]"
      ]
     },
     "execution_count": 8,
     "metadata": {},
     "output_type": "execute_result"
    }
   ],
   "source": [
    "%%sql\n",
    "\n",
    "SELECT * FROM voraussetzen"
   ]
  },
  {
   "cell_type": "code",
   "execution_count": 21,
   "id": "2885267c",
   "metadata": {
    "vscode": {
     "languageId": "sql"
    }
   },
   "outputs": [
    {
     "name": "stdout",
     "output_type": "stream",
     "text": [
      " * sqlite:///uni.db\n",
      "Done.\n"
     ]
    },
    {
     "data": {
      "text/html": [
       "<table>\n",
       "    <thead>\n",
       "        <tr>\n",
       "            <th>MatrNr</th>\n",
       "            <th>VorlNr</th>\n",
       "            <th>PersNr</th>\n",
       "            <th>Note</th>\n",
       "        </tr>\n",
       "    </thead>\n",
       "    <tbody>\n",
       "        <tr>\n",
       "            <td>28106</td>\n",
       "            <td>5001</td>\n",
       "            <td>2126</td>\n",
       "            <td>1</td>\n",
       "        </tr>\n",
       "        <tr>\n",
       "            <td>25403</td>\n",
       "            <td>5041</td>\n",
       "            <td>2125</td>\n",
       "            <td>2</td>\n",
       "        </tr>\n",
       "        <tr>\n",
       "            <td>27550</td>\n",
       "            <td>4630</td>\n",
       "            <td>2137</td>\n",
       "            <td>2</td>\n",
       "        </tr>\n",
       "        <tr>\n",
       "            <td>25403</td>\n",
       "            <td>4052</td>\n",
       "            <td>2125</td>\n",
       "            <td>4</td>\n",
       "        </tr>\n",
       "        <tr>\n",
       "            <td>26830</td>\n",
       "            <td>4052</td>\n",
       "            <td>2125</td>\n",
       "            <td>2</td>\n",
       "        </tr>\n",
       "        <tr>\n",
       "            <td>28106</td>\n",
       "            <td>4052</td>\n",
       "            <td>2125</td>\n",
       "            <td>3</td>\n",
       "        </tr>\n",
       "        <tr>\n",
       "            <td>29555</td>\n",
       "            <td>4052</td>\n",
       "            <td>2125</td>\n",
       "            <td>1</td>\n",
       "        </tr>\n",
       "        <tr>\n",
       "            <td>26830</td>\n",
       "            <td>5041</td>\n",
       "            <td>2125</td>\n",
       "            <td>1</td>\n",
       "        </tr>\n",
       "        <tr>\n",
       "            <td>28106</td>\n",
       "            <td>5041</td>\n",
       "            <td>2125</td>\n",
       "            <td>4</td>\n",
       "        </tr>\n",
       "        <tr>\n",
       "            <td>29555</td>\n",
       "            <td>5041</td>\n",
       "            <td>2125</td>\n",
       "            <td>1</td>\n",
       "        </tr>\n",
       "    </tbody>\n",
       "</table>"
      ],
      "text/plain": [
       "[(28106, 5001, 2126, 1),\n",
       " (25403, 5041, 2125, 2),\n",
       " (27550, 4630, 2137, 2),\n",
       " (25403, 4052, 2125, 4),\n",
       " (26830, 4052, 2125, 2),\n",
       " (28106, 4052, 2125, 3),\n",
       " (29555, 4052, 2125, 1),\n",
       " (26830, 5041, 2125, 1),\n",
       " (28106, 5041, 2125, 4),\n",
       " (29555, 5041, 2125, 1)]"
      ]
     },
     "execution_count": 21,
     "metadata": {},
     "output_type": "execute_result"
    }
   ],
   "source": [
    "%%sql\n",
    "\n",
    "SELECT * FROM pruefen"
   ]
  },
  {
   "cell_type": "markdown",
   "id": "aeaf1b8e-8b3d-43db-aebd-2cb402bc592a",
   "metadata": {},
   "source": [
    "![ER Diagramm](https://nextcloud.th-deg.de/s/Kc7m486Z3KbZyB4/download?path=%2F&files=hochschule-er.png)"
   ]
  },
  {
   "cell_type": "markdown",
   "id": "9cf349d9-cc3b-43b4-b4fc-7e2457a2347c",
   "metadata": {},
   "source": [
    "# Aufgabe 1 ✅\n",
    "\n",
    "Welche Studenten haben in der Prüfung der Vorlesung \"Logik\" mehr Punkte als in der Vorlesung \"Ethik\""
   ]
  },
  {
   "cell_type": "code",
   "execution_count": 37,
   "id": "abfd62a2",
   "metadata": {
    "vscode": {
     "languageId": "sql"
    }
   },
   "outputs": [
    {
     "name": "stdout",
     "output_type": "stream",
     "text": [
      " * sqlite:///uni.db\n",
      "Done.\n"
     ]
    },
    {
     "data": {
      "text/html": [
       "<table>\n",
       "    <thead>\n",
       "        <tr>\n",
       "            <th>Matrikelnr.</th>\n",
       "            <th>Student</th>\n",
       "            <th>Semester</th>\n",
       "            <th>Logik</th>\n",
       "            <th>Ethik</th>\n",
       "        </tr>\n",
       "    </thead>\n",
       "    <tbody>\n",
       "        <tr>\n",
       "            <td>28106</td>\n",
       "            <td>Carnap</td>\n",
       "            <td>3</td>\n",
       "            <td>3</td>\n",
       "            <td>4</td>\n",
       "        </tr>\n",
       "    </tbody>\n",
       "</table>"
      ],
      "text/plain": [
       "[(28106, 'Carnap', 3, 3, 4)]"
      ]
     },
     "execution_count": 37,
     "metadata": {},
     "output_type": "execute_result"
    }
   ],
   "source": [
    "%%sql\n",
    "\n",
    "SELECT s.MatrNr 'Matrikelnr.',\n",
    "s.Name 'Student',\n",
    "s.Semester 'Semester',\n",
    "(SELECT p.Note\n",
    "FROM pruefen p\n",
    "JOIN Vorlesungen v\n",
    "ON(v.VorlNr = p.VorlNr)\n",
    "WHERE p.MatrNr = s.MatrNr AND v.Titel = 'Logik') 'Logik',\n",
    "(SELECT p.Note\n",
    "FROM pruefen p\n",
    "JOIN Vorlesungen v\n",
    "ON(v.VorlNr = p.VorlNr)\n",
    "WHERE p.MatrNr = s.MatrNr AND v.Titel = 'Ethik') 'Ethik'\n",
    "FROM Studenten s\n",
    "WHERE ethik IS NOT NULL AND logik IS NOT NULL\n",
    "GROUP BY s.Name\n",
    "HAVING Ethik > Logik"
   ]
  },
  {
   "cell_type": "markdown",
   "id": "04a3bf8f-c94f-4880-af2f-27410f88598e",
   "metadata": {},
   "source": [
    "# Aufgabe 2 ✅\n",
    "\n",
    "Geben Sie Matrikelnummer, name und durchschnittsnote von Studenten aus, deren Durschnittsnote besser als 3 ist."
   ]
  },
  {
   "cell_type": "code",
   "execution_count": 34,
   "id": "a82b024c",
   "metadata": {
    "vscode": {
     "languageId": "sql"
    }
   },
   "outputs": [
    {
     "name": "stdout",
     "output_type": "stream",
     "text": [
      " * sqlite:///uni.db\n",
      "Done.\n"
     ]
    },
    {
     "data": {
      "text/html": [
       "<table>\n",
       "    <thead>\n",
       "        <tr>\n",
       "            <th>Student</th>\n",
       "            <th>Matrikelnr.</th>\n",
       "            <th>Durschnittenote</th>\n",
       "        </tr>\n",
       "    </thead>\n",
       "    <tbody>\n",
       "        <tr>\n",
       "            <td>Feuerbach</td>\n",
       "            <td>29555</td>\n",
       "            <td>1.0</td>\n",
       "        </tr>\n",
       "        <tr>\n",
       "            <td>Aristoxenos</td>\n",
       "            <td>26830</td>\n",
       "            <td>1.5</td>\n",
       "        </tr>\n",
       "        <tr>\n",
       "            <td>Schopenhauer</td>\n",
       "            <td>27550</td>\n",
       "            <td>2.0</td>\n",
       "        </tr>\n",
       "        <tr>\n",
       "            <td>Carnap</td>\n",
       "            <td>28106</td>\n",
       "            <td>2.6666666666666665</td>\n",
       "        </tr>\n",
       "    </tbody>\n",
       "</table>"
      ],
      "text/plain": [
       "[('Feuerbach', 29555, 1.0),\n",
       " ('Aristoxenos', 26830, 1.5),\n",
       " ('Schopenhauer', 27550, 2.0),\n",
       " ('Carnap', 28106, 2.6666666666666665)]"
      ]
     },
     "execution_count": 34,
     "metadata": {},
     "output_type": "execute_result"
    }
   ],
   "source": [
    "%%sql\n",
    "\n",
    "SELECT s.Name 'Student', s.MatrNr 'Matrikelnr.', AVG(p.Note) 'Durschnittenote'\n",
    "FROM Studenten s\n",
    "JOIN pruefen p\n",
    "USING(MatrNr)\n",
    "GROUP BY MatrNr\n",
    "HAVING Durschnittenote < 3\n",
    "ORDER BY Durschnittenote\n",
    "\n"
   ]
  },
  {
   "cell_type": "markdown",
   "id": "5eec46fd-a309-4673-b4a5-8ca6c7029f76",
   "metadata": {},
   "source": [
    "# Aufgabe 3 ✅\n",
    "\n",
    "Welche Studenten haben in welchem Fach mit welcher Note bereits an mindestens einer Prüfung teilgenommen"
   ]
  },
  {
   "cell_type": "code",
   "execution_count": 50,
   "id": "05a316e9",
   "metadata": {
    "vscode": {
     "languageId": "sql"
    }
   },
   "outputs": [
    {
     "name": "stdout",
     "output_type": "stream",
     "text": [
      " * sqlite:///uni.db\n",
      "Done.\n"
     ]
    },
    {
     "data": {
      "text/html": [
       "<table>\n",
       "    <thead>\n",
       "        <tr>\n",
       "            <th>Index</th>\n",
       "            <th>Student</th>\n",
       "            <th>Matrikelnr</th>\n",
       "            <th>Vorlesung</th>\n",
       "            <th>Note</th>\n",
       "        </tr>\n",
       "    </thead>\n",
       "    <tbody>\n",
       "        <tr>\n",
       "            <td>1</td>\n",
       "            <td>Aristoxenos</td>\n",
       "            <td>26830</td>\n",
       "            <td>Logik</td>\n",
       "            <td>2</td>\n",
       "        </tr>\n",
       "        <tr>\n",
       "            <td>2</td>\n",
       "            <td>Aristoxenos</td>\n",
       "            <td>26830</td>\n",
       "            <td>Ethik</td>\n",
       "            <td>1</td>\n",
       "        </tr>\n",
       "        <tr>\n",
       "            <td>3</td>\n",
       "            <td>Carnap</td>\n",
       "            <td>28106</td>\n",
       "            <td>Grundzuege</td>\n",
       "            <td>1</td>\n",
       "        </tr>\n",
       "        <tr>\n",
       "            <td>4</td>\n",
       "            <td>Carnap</td>\n",
       "            <td>28106</td>\n",
       "            <td>Logik</td>\n",
       "            <td>3</td>\n",
       "        </tr>\n",
       "        <tr>\n",
       "            <td>5</td>\n",
       "            <td>Carnap</td>\n",
       "            <td>28106</td>\n",
       "            <td>Ethik</td>\n",
       "            <td>4</td>\n",
       "        </tr>\n",
       "        <tr>\n",
       "            <td>6</td>\n",
       "            <td>Feuerbach</td>\n",
       "            <td>29555</td>\n",
       "            <td>Logik</td>\n",
       "            <td>1</td>\n",
       "        </tr>\n",
       "        <tr>\n",
       "            <td>7</td>\n",
       "            <td>Feuerbach</td>\n",
       "            <td>29555</td>\n",
       "            <td>Ethik</td>\n",
       "            <td>1</td>\n",
       "        </tr>\n",
       "        <tr>\n",
       "            <td>8</td>\n",
       "            <td>Jonas</td>\n",
       "            <td>25403</td>\n",
       "            <td>Ethik</td>\n",
       "            <td>2</td>\n",
       "        </tr>\n",
       "        <tr>\n",
       "            <td>9</td>\n",
       "            <td>Jonas</td>\n",
       "            <td>25403</td>\n",
       "            <td>Logik</td>\n",
       "            <td>4</td>\n",
       "        </tr>\n",
       "        <tr>\n",
       "            <td>10</td>\n",
       "            <td>Schopenhauer</td>\n",
       "            <td>27550</td>\n",
       "            <td>Die 3 Kritiken</td>\n",
       "            <td>2</td>\n",
       "        </tr>\n",
       "    </tbody>\n",
       "</table>"
      ],
      "text/plain": [
       "[(1, 'Aristoxenos', 26830, 'Logik', 2),\n",
       " (2, 'Aristoxenos', 26830, 'Ethik', 1),\n",
       " (3, 'Carnap', 28106, 'Grundzuege', 1),\n",
       " (4, 'Carnap', 28106, 'Logik', 3),\n",
       " (5, 'Carnap', 28106, 'Ethik', 4),\n",
       " (6, 'Feuerbach', 29555, 'Logik', 1),\n",
       " (7, 'Feuerbach', 29555, 'Ethik', 1),\n",
       " (8, 'Jonas', 25403, 'Ethik', 2),\n",
       " (9, 'Jonas', 25403, 'Logik', 4),\n",
       " (10, 'Schopenhauer', 27550, 'Die 3 Kritiken', 2)]"
      ]
     },
     "execution_count": 50,
     "metadata": {},
     "output_type": "execute_result"
    }
   ],
   "source": [
    "%%sql\n",
    "\n",
    "SELECT ROW_NUMBER() OVER (ORDER BY s.Name) 'Index',\n",
    "s.Name 'Student', s.MatrNr 'Matrikelnr', v.Titel 'Vorlesung', p.Note\n",
    "FROM Studenten s\n",
    "JOIN pruefen p\n",
    "USING(MatrNr)\n",
    "JOIN Vorlesungen v\n",
    "USING(VorlNr)\n",
    "ORDER BY s.Name"
   ]
  },
  {
   "cell_type": "markdown",
   "id": "2ed2bd82-1899-4c45-95dd-55d08973c418",
   "metadata": {},
   "source": [
    "# Aufgabe 4 ✅\n",
    "\n",
    "Welche Studenten haben schon Prüfungen gesammelt?"
   ]
  },
  {
   "cell_type": "code",
   "execution_count": 52,
   "id": "d6377996",
   "metadata": {
    "vscode": {
     "languageId": "sql"
    }
   },
   "outputs": [
    {
     "name": "stdout",
     "output_type": "stream",
     "text": [
      " * sqlite:///uni.db\n",
      "Done.\n"
     ]
    },
    {
     "data": {
      "text/html": [
       "<table>\n",
       "    <thead>\n",
       "        <tr>\n",
       "            <th>Student</th>\n",
       "            <th>Matrikelnr</th>\n",
       "            <th>Semester</th>\n",
       "        </tr>\n",
       "    </thead>\n",
       "    <tbody>\n",
       "        <tr>\n",
       "            <td>Aristoxenos</td>\n",
       "            <td>26830</td>\n",
       "            <td>8</td>\n",
       "        </tr>\n",
       "        <tr>\n",
       "            <td>Carnap</td>\n",
       "            <td>28106</td>\n",
       "            <td>3</td>\n",
       "        </tr>\n",
       "        <tr>\n",
       "            <td>Feuerbach</td>\n",
       "            <td>29555</td>\n",
       "            <td>2</td>\n",
       "        </tr>\n",
       "        <tr>\n",
       "            <td>Jonas</td>\n",
       "            <td>25403</td>\n",
       "            <td>12</td>\n",
       "        </tr>\n",
       "        <tr>\n",
       "            <td>Schopenhauer</td>\n",
       "            <td>27550</td>\n",
       "            <td>6</td>\n",
       "        </tr>\n",
       "    </tbody>\n",
       "</table>"
      ],
      "text/plain": [
       "[('Aristoxenos', 26830, 8),\n",
       " ('Carnap', 28106, 3),\n",
       " ('Feuerbach', 29555, 2),\n",
       " ('Jonas', 25403, 12),\n",
       " ('Schopenhauer', 27550, 6)]"
      ]
     },
     "execution_count": 52,
     "metadata": {},
     "output_type": "execute_result"
    }
   ],
   "source": [
    "%%sql\n",
    "\n",
    "SELECT s.Name 'Student', s.MatrNr 'Matrikelnr', s.Semester\n",
    "FROM Studenten s\n",
    "JOIN pruefen p\n",
    "USING(MatrNr)\n",
    "GROUP BY s.Name\n",
    "ORDER BY s.Name ASC"
   ]
  },
  {
   "cell_type": "markdown",
   "id": "b270b1cf-6bab-4580-a9f4-4f5df5bfb581",
   "metadata": {},
   "source": [
    "# Aufgabe 5 ✅\n",
    "\n",
    "Geben Sie alle Informationen zu jedem Studierenden aus. Darüber hinaus geben Sie noch die Anzahl der aktuell gehörten Kurse, die Anzahl der bereits gehörten Kurse und die durschnittsnote aus. "
   ]
  },
  {
   "cell_type": "code",
   "execution_count": 79,
   "id": "1b107a11",
   "metadata": {
    "vscode": {
     "languageId": "sql"
    }
   },
   "outputs": [
    {
     "name": "stdout",
     "output_type": "stream",
     "text": [
      " * sqlite:///uni.db\n",
      "Done.\n"
     ]
    },
    {
     "data": {
      "text/html": [
       "<table>\n",
       "    <thead>\n",
       "        <tr>\n",
       "            <th>MatrNr</th>\n",
       "            <th>Name</th>\n",
       "            <th>Semester</th>\n",
       "            <th>AnzahlVL</th>\n",
       "            <th>AnzahlPR</th>\n",
       "            <th>Durchschnittnote</th>\n",
       "        </tr>\n",
       "    </thead>\n",
       "    <tbody>\n",
       "        <tr>\n",
       "            <td>26830</td>\n",
       "            <td>Aristoxenos</td>\n",
       "            <td>8</td>\n",
       "            <td>0</td>\n",
       "            <td>2</td>\n",
       "            <td>1.5</td>\n",
       "        </tr>\n",
       "        <tr>\n",
       "            <td>28106</td>\n",
       "            <td>Carnap</td>\n",
       "            <td>3</td>\n",
       "            <td>4</td>\n",
       "            <td>3</td>\n",
       "            <td>2.6666666666666665</td>\n",
       "        </tr>\n",
       "        <tr>\n",
       "            <td>29555</td>\n",
       "            <td>Feuerbach</td>\n",
       "            <td>2</td>\n",
       "            <td>2</td>\n",
       "            <td>2</td>\n",
       "            <td>1.0</td>\n",
       "        </tr>\n",
       "        <tr>\n",
       "            <td>26120</td>\n",
       "            <td>Fichte</td>\n",
       "            <td>10</td>\n",
       "            <td>1</td>\n",
       "            <td>0</td>\n",
       "            <td>None</td>\n",
       "        </tr>\n",
       "        <tr>\n",
       "            <td>25403</td>\n",
       "            <td>Jonas</td>\n",
       "            <td>12</td>\n",
       "            <td>1</td>\n",
       "            <td>2</td>\n",
       "            <td>3.0</td>\n",
       "        </tr>\n",
       "        <tr>\n",
       "            <td>27550</td>\n",
       "            <td>Schopenhauer</td>\n",
       "            <td>6</td>\n",
       "            <td>2</td>\n",
       "            <td>1</td>\n",
       "            <td>2.0</td>\n",
       "        </tr>\n",
       "        <tr>\n",
       "            <td>29120</td>\n",
       "            <td>Theophrastos</td>\n",
       "            <td>2</td>\n",
       "            <td>3</td>\n",
       "            <td>0</td>\n",
       "            <td>None</td>\n",
       "        </tr>\n",
       "        <tr>\n",
       "            <td>24002</td>\n",
       "            <td>Xenokrates</td>\n",
       "            <td>18</td>\n",
       "            <td>0</td>\n",
       "            <td>0</td>\n",
       "            <td>None</td>\n",
       "        </tr>\n",
       "    </tbody>\n",
       "</table>"
      ],
      "text/plain": [
       "[(26830, 'Aristoxenos', 8, 0, 2, 1.5),\n",
       " (28106, 'Carnap', 3, 4, 3, 2.6666666666666665),\n",
       " (29555, 'Feuerbach', 2, 2, 2, 1.0),\n",
       " (26120, 'Fichte', 10, 1, 0, None),\n",
       " (25403, 'Jonas', 12, 1, 2, 3.0),\n",
       " (27550, 'Schopenhauer', 6, 2, 1, 2.0),\n",
       " (29120, 'Theophrastos', 2, 3, 0, None),\n",
       " (24002, 'Xenokrates', 18, 0, 0, None)]"
      ]
     },
     "execution_count": 79,
     "metadata": {},
     "output_type": "execute_result"
    }
   ],
   "source": [
    "%%sql\n",
    "\n",
    "SELECT s.*,\n",
    "(SELECT COUNT(h.MatrNr) FROM hoeren h WHERE h.MatrNr = s.MatrNr) 'AnzahlVL',\n",
    "(SELECT COUNT(p.MatrNr) FROM pruefen p WHERE p.MatrNr = s.MatrNr) 'AnzahlPR',\n",
    "(SELECT AVG(p.Note) FROM pruefen p WHERE p.MatrNr = s.MatrNr) 'Durchschnittnote'\n",
    "FROM Studenten s\n",
    "ORDER BY s.Name"
   ]
  },
  {
   "cell_type": "markdown",
   "id": "ea204990-9cb1-495d-814b-cb553130da49",
   "metadata": {},
   "source": [
    "# Aufgabe 6 ✅\n",
    "\n",
    "Wie viele Professoren heißen was mit \"krates\" am Ende?"
   ]
  },
  {
   "cell_type": "code",
   "execution_count": 80,
   "id": "bc07dcd5",
   "metadata": {
    "vscode": {
     "languageId": "sql"
    }
   },
   "outputs": [
    {
     "name": "stdout",
     "output_type": "stream",
     "text": [
      " * sqlite:///uni.db\n",
      "Done.\n"
     ]
    },
    {
     "data": {
      "text/html": [
       "<table>\n",
       "    <thead>\n",
       "        <tr>\n",
       "            <th>Occurence</th>\n",
       "        </tr>\n",
       "    </thead>\n",
       "    <tbody>\n",
       "        <tr>\n",
       "            <td>1</td>\n",
       "        </tr>\n",
       "    </tbody>\n",
       "</table>"
      ],
      "text/plain": [
       "[(1,)]"
      ]
     },
     "execution_count": 80,
     "metadata": {},
     "output_type": "execute_result"
    }
   ],
   "source": [
    "%%sql\n",
    "\n",
    "SELECT COUNT(*) 'Occurence'\n",
    "FROM Professoren\n",
    "WHERE Name LIKE '%krates'"
   ]
  },
  {
   "cell_type": "markdown",
   "id": "0a79c113-b44c-4ac5-b3de-c475cfc3388a",
   "metadata": {},
   "source": [
    "# Aufgabe 7 ✅\n",
    "Welche Studenten wurden von Sokrates geprüft?"
   ]
  },
  {
   "cell_type": "code",
   "execution_count": 83,
   "id": "e667e5d0",
   "metadata": {
    "vscode": {
     "languageId": "sql"
    }
   },
   "outputs": [
    {
     "name": "stdout",
     "output_type": "stream",
     "text": [
      " * sqlite:///uni.db\n",
      "Done.\n"
     ]
    },
    {
     "data": {
      "text/html": [
       "<table>\n",
       "    <thead>\n",
       "        <tr>\n",
       "            <th>MatrNr</th>\n",
       "            <th>Name</th>\n",
       "            <th>Semester</th>\n",
       "        </tr>\n",
       "    </thead>\n",
       "    <tbody>\n",
       "        <tr>\n",
       "            <td>26830</td>\n",
       "            <td>Aristoxenos</td>\n",
       "            <td>8</td>\n",
       "        </tr>\n",
       "        <tr>\n",
       "            <td>28106</td>\n",
       "            <td>Carnap</td>\n",
       "            <td>3</td>\n",
       "        </tr>\n",
       "        <tr>\n",
       "            <td>29555</td>\n",
       "            <td>Feuerbach</td>\n",
       "            <td>2</td>\n",
       "        </tr>\n",
       "        <tr>\n",
       "            <td>25403</td>\n",
       "            <td>Jonas</td>\n",
       "            <td>12</td>\n",
       "        </tr>\n",
       "    </tbody>\n",
       "</table>"
      ],
      "text/plain": [
       "[(26830, 'Aristoxenos', 8),\n",
       " (28106, 'Carnap', 3),\n",
       " (29555, 'Feuerbach', 2),\n",
       " (25403, 'Jonas', 12)]"
      ]
     },
     "execution_count": 83,
     "metadata": {},
     "output_type": "execute_result"
    }
   ],
   "source": [
    "%%sql\n",
    "\n",
    "SELECT stu.*\n",
    "FROM Studenten stu\n",
    "JOIN pruefen pru\n",
    "USING(MatrNr)\n",
    "JOIN Professoren prof\n",
    "USING(PersNr)\n",
    "WHERE prof.Name = 'Sokrates'\n",
    "GROUP BY stu.Name"
   ]
  },
  {
   "cell_type": "markdown",
   "id": "1a5aa780-e691-4571-95e7-1ee7c7fc9afa",
   "metadata": {},
   "source": [
    "# Aufgabe 8 ✅\n",
    "\n",
    "Welche Studenten hören weder eine Vorlesung, noch haben eine Prüfung abgelegt?"
   ]
  },
  {
   "cell_type": "code",
   "execution_count": 91,
   "id": "04cf1093",
   "metadata": {
    "vscode": {
     "languageId": "sql"
    }
   },
   "outputs": [
    {
     "name": "stdout",
     "output_type": "stream",
     "text": [
      " * sqlite:///uni.db\n",
      "Done.\n"
     ]
    },
    {
     "data": {
      "text/html": [
       "<table>\n",
       "    <thead>\n",
       "        <tr>\n",
       "            <th>MatrNr</th>\n",
       "            <th>Name</th>\n",
       "            <th>Semester</th>\n",
       "            <th>AnzahlVL</th>\n",
       "            <th>AnzahlPR</th>\n",
       "        </tr>\n",
       "    </thead>\n",
       "    <tbody>\n",
       "        <tr>\n",
       "            <td>24002</td>\n",
       "            <td>Xenokrates</td>\n",
       "            <td>18</td>\n",
       "            <td>0</td>\n",
       "            <td>0</td>\n",
       "        </tr>\n",
       "    </tbody>\n",
       "</table>"
      ],
      "text/plain": [
       "[(24002, 'Xenokrates', 18, 0, 0)]"
      ]
     },
     "execution_count": 91,
     "metadata": {},
     "output_type": "execute_result"
    }
   ],
   "source": [
    "%%sql\n",
    "\n",
    "SELECT s.*,\n",
    "(SELECT COUNT(h.MatrNr) FROM hoeren h WHERE h.MatrNr = s.MatrNr) 'AnzahlVL',\n",
    "(SELECT COUNT(p.MatrNr) FROM pruefen p WHERE p.MatrNr = s.MatrNr) 'AnzahlPR'\n",
    "FROM Studenten s\n",
    "GROUP BY s.Name\n",
    "HAVING AnzahlVL = 0 AND AnzahlPR = 0"
   ]
  },
  {
   "cell_type": "markdown",
   "id": "053fae1f-9123-4b9e-94a5-6f0440707277",
   "metadata": {},
   "source": [
    "# Aufgabe 10 ✅\n",
    "\n",
    "Welche Stundenten haben noch nie einen Kurs von Sokrates belegt?"
   ]
  },
  {
   "cell_type": "code",
   "execution_count": 110,
   "id": "b61eecef",
   "metadata": {
    "vscode": {
     "languageId": "sql"
    }
   },
   "outputs": [
    {
     "name": "stdout",
     "output_type": "stream",
     "text": [
      " * sqlite:///uni.db\n",
      "Done.\n"
     ]
    },
    {
     "data": {
      "text/html": [
       "<table>\n",
       "    <thead>\n",
       "        <tr>\n",
       "            <th>MatrNr</th>\n",
       "            <th>Name</th>\n",
       "            <th>Semester</th>\n",
       "        </tr>\n",
       "    </thead>\n",
       "    <tbody>\n",
       "        <tr>\n",
       "            <td>26120</td>\n",
       "            <td>Fichte</td>\n",
       "            <td>10</td>\n",
       "        </tr>\n",
       "        <tr>\n",
       "            <td>24002</td>\n",
       "            <td>Xenokrates</td>\n",
       "            <td>18</td>\n",
       "        </tr>\n",
       "    </tbody>\n",
       "</table>"
      ],
      "text/plain": [
       "[(26120, 'Fichte', 10), (24002, 'Xenokrates', 18)]"
      ]
     },
     "execution_count": 110,
     "metadata": {},
     "output_type": "execute_result"
    }
   ],
   "source": [
    "%%sql\n",
    "\n",
    "SELECT stu.*\n",
    "FROM Studenten stu\n",
    "WHERE stu.MatrNr NOT IN (\n",
    "    SELECT pru.MatrNr\n",
    "    FROM pruefen pru\n",
    "    JOIN Professoren prof\n",
    "    USING(PersNr)\n",
    "    WHERE prof.Name = 'Sokrates'\n",
    ") AND stu.MatrNr NOT IN (\n",
    "    SELECT hoe.MatrNr\n",
    "    FROM hoeren hoe\n",
    "    JOIN Vorlesungen vor\n",
    "    USING(VorlNr)\n",
    "    JOIN Professoren prof\n",
    "    ON(vor.gelesenVon = prof.PersNr)\n",
    "    WHERE prof.Name = 'Sokrates'\n",
    ")\n",
    "ORDER BY stu.Name ASC"
   ]
  },
  {
   "cell_type": "markdown",
   "id": "1e6bf3cb-d982-4eac-9654-e31fb15c2897",
   "metadata": {},
   "source": [
    "# Aufgabe 11 ✅\n",
    "\n",
    "Suche Studenten (id, name, durchschnittliche Punktzahl), die zwei oder mehr Kurse nicht bestanden haben"
   ]
  },
  {
   "cell_type": "code",
   "execution_count": 115,
   "id": "00a97b82",
   "metadata": {
    "vscode": {
     "languageId": "sql"
    }
   },
   "outputs": [
    {
     "name": "stdout",
     "output_type": "stream",
     "text": [
      " * sqlite:///uni.db\n",
      "Done.\n"
     ]
    },
    {
     "data": {
      "text/html": [
       "<table>\n",
       "    <thead>\n",
       "        <tr>\n",
       "            <th>MatrNr</th>\n",
       "            <th>Name</th>\n",
       "            <th>Durchschnittnote</th>\n",
       "        </tr>\n",
       "    </thead>\n",
       "    <tbody>\n",
       "    </tbody>\n",
       "</table>"
      ],
      "text/plain": [
       "[]"
      ]
     },
     "execution_count": 115,
     "metadata": {},
     "output_type": "execute_result"
    }
   ],
   "source": [
    "%%sql\n",
    "\n",
    "SELECT stu.MatrNr, stu.Name, AVG(pru.Note) 'Durchschnittnote'\n",
    "FROM Studenten stu\n",
    "JOIN pruefen pru\n",
    "USING(MatrNr)\n",
    "WHERE pru.Note > 4\n",
    "GROUP BY stu.MatrNr\n",
    "HAVING COUNT(pru.MatrNr) > 1\n"
   ]
  },
  {
   "cell_type": "markdown",
   "id": "302db634-d3a0-4057-9f05-5c2ad94beb8c",
   "metadata": {},
   "source": [
    "# Aufgabe 12 ✅\n",
    "\n",
    "Welche Studenten sind in Ethik durchgefallen? Sortieren Sie nach Matirkelnummer absteigend."
   ]
  },
  {
   "cell_type": "code",
   "execution_count": 123,
   "id": "10433491",
   "metadata": {
    "vscode": {
     "languageId": "sql"
    }
   },
   "outputs": [
    {
     "name": "stdout",
     "output_type": "stream",
     "text": [
      " * sqlite:///uni.db\n",
      "Done.\n"
     ]
    },
    {
     "data": {
      "text/html": [
       "<table>\n",
       "    <thead>\n",
       "        <tr>\n",
       "            <th>MatrNr</th>\n",
       "            <th>Name</th>\n",
       "            <th>Semester</th>\n",
       "            <th>Note</th>\n",
       "        </tr>\n",
       "    </thead>\n",
       "    <tbody>\n",
       "    </tbody>\n",
       "</table>"
      ],
      "text/plain": [
       "[]"
      ]
     },
     "execution_count": 123,
     "metadata": {},
     "output_type": "execute_result"
    }
   ],
   "source": [
    "%%sql\n",
    "\n",
    "SELECT stu.*, pru.Note\n",
    "FROM Studenten stu\n",
    "JOIN pruefen pru\n",
    "USING(MatrNr)\n",
    "JOIN Vorlesungen vor\n",
    "USING(VorlNr)\n",
    "WHERE vor.Titel = 'Ethik' AND pru.Note > 4\n",
    "ORDER BY stu.MatrNr DESC"
   ]
  },
  {
   "cell_type": "markdown",
   "id": "a7e0de3f-ec0d-4e1f-9a3d-fce091ccb479",
   "metadata": {},
   "source": [
    "# Aufgabe 13 ✅\n",
    "\n",
    "Zeige für jeden Studenten die Noten aller Kurse im Vergleich zur durchschnittlich erreichten Punktzahl in diesem Kurs"
   ]
  },
  {
   "cell_type": "code",
   "execution_count": 138,
   "id": "42df144e",
   "metadata": {
    "vscode": {
     "languageId": "sql"
    }
   },
   "outputs": [
    {
     "name": "stdout",
     "output_type": "stream",
     "text": [
      " * sqlite:///uni.db\n",
      "Done.\n"
     ]
    },
    {
     "data": {
      "text/html": [
       "<table>\n",
       "    <thead>\n",
       "        <tr>\n",
       "            <th>MatrNr</th>\n",
       "            <th>Name</th>\n",
       "            <th>Semester</th>\n",
       "            <th>Titel</th>\n",
       "            <th>Note</th>\n",
       "            <th>Durchschnittnote</th>\n",
       "        </tr>\n",
       "    </thead>\n",
       "    <tbody>\n",
       "        <tr>\n",
       "            <td>25403</td>\n",
       "            <td>Jonas</td>\n",
       "            <td>12</td>\n",
       "            <td>Logik</td>\n",
       "            <td>4</td>\n",
       "            <td>2.5</td>\n",
       "        </tr>\n",
       "        <tr>\n",
       "            <td>25403</td>\n",
       "            <td>Jonas</td>\n",
       "            <td>12</td>\n",
       "            <td>Ethik</td>\n",
       "            <td>2</td>\n",
       "            <td>2.0</td>\n",
       "        </tr>\n",
       "        <tr>\n",
       "            <td>26830</td>\n",
       "            <td>Aristoxenos</td>\n",
       "            <td>8</td>\n",
       "            <td>Logik</td>\n",
       "            <td>2</td>\n",
       "            <td>2.5</td>\n",
       "        </tr>\n",
       "        <tr>\n",
       "            <td>26830</td>\n",
       "            <td>Aristoxenos</td>\n",
       "            <td>8</td>\n",
       "            <td>Ethik</td>\n",
       "            <td>1</td>\n",
       "            <td>2.0</td>\n",
       "        </tr>\n",
       "        <tr>\n",
       "            <td>27550</td>\n",
       "            <td>Schopenhauer</td>\n",
       "            <td>6</td>\n",
       "            <td>Die 3 Kritiken</td>\n",
       "            <td>2</td>\n",
       "            <td>2.0</td>\n",
       "        </tr>\n",
       "        <tr>\n",
       "            <td>28106</td>\n",
       "            <td>Carnap</td>\n",
       "            <td>3</td>\n",
       "            <td>Logik</td>\n",
       "            <td>3</td>\n",
       "            <td>2.5</td>\n",
       "        </tr>\n",
       "        <tr>\n",
       "            <td>28106</td>\n",
       "            <td>Carnap</td>\n",
       "            <td>3</td>\n",
       "            <td>Grundzuege</td>\n",
       "            <td>1</td>\n",
       "            <td>1.0</td>\n",
       "        </tr>\n",
       "        <tr>\n",
       "            <td>28106</td>\n",
       "            <td>Carnap</td>\n",
       "            <td>3</td>\n",
       "            <td>Ethik</td>\n",
       "            <td>4</td>\n",
       "            <td>2.0</td>\n",
       "        </tr>\n",
       "        <tr>\n",
       "            <td>29555</td>\n",
       "            <td>Feuerbach</td>\n",
       "            <td>2</td>\n",
       "            <td>Logik</td>\n",
       "            <td>1</td>\n",
       "            <td>2.5</td>\n",
       "        </tr>\n",
       "        <tr>\n",
       "            <td>29555</td>\n",
       "            <td>Feuerbach</td>\n",
       "            <td>2</td>\n",
       "            <td>Ethik</td>\n",
       "            <td>1</td>\n",
       "            <td>2.0</td>\n",
       "        </tr>\n",
       "    </tbody>\n",
       "</table>"
      ],
      "text/plain": [
       "[(25403, 'Jonas', 12, 'Logik', 4, 2.5),\n",
       " (25403, 'Jonas', 12, 'Ethik', 2, 2.0),\n",
       " (26830, 'Aristoxenos', 8, 'Logik', 2, 2.5),\n",
       " (26830, 'Aristoxenos', 8, 'Ethik', 1, 2.0),\n",
       " (27550, 'Schopenhauer', 6, 'Die 3 Kritiken', 2, 2.0),\n",
       " (28106, 'Carnap', 3, 'Logik', 3, 2.5),\n",
       " (28106, 'Carnap', 3, 'Grundzuege', 1, 1.0),\n",
       " (28106, 'Carnap', 3, 'Ethik', 4, 2.0),\n",
       " (29555, 'Feuerbach', 2, 'Logik', 1, 2.5),\n",
       " (29555, 'Feuerbach', 2, 'Ethik', 1, 2.0)]"
      ]
     },
     "execution_count": 138,
     "metadata": {},
     "output_type": "execute_result"
    }
   ],
   "source": [
    "%%sql\n",
    "\n",
    "WITH durschnittnote(VorlNr, Note) AS (\n",
    "    SELECT VorlNr, AVG(Note)\n",
    "    FROM pruefen\n",
    "    GROUP BY VorlNr\n",
    ")\n",
    "\n",
    "SELECT stu.*, vor.Titel, pru.Note, dsn.Note 'Durchschnittnote'\n",
    "FROM Studenten stu\n",
    "JOIN pruefen pru\n",
    "USING(MatrNr)\n",
    "JOIN Vorlesungen vor\n",
    "USING(VorlNr)\n",
    "JOIN durschnittnote dsn\n",
    "USING(VorlNr)\n",
    "ORDER BY stu.MatrNr"
   ]
  },
  {
   "cell_type": "markdown",
   "id": "266646d7-5ca0-420d-87a2-b0384c1d18bd",
   "metadata": {},
   "source": [
    "# Aufgabe 14\n",
    "\n",
    "Beste, Schlechteste und Durchschnittsnote pro Kurs"
   ]
  },
  {
   "cell_type": "code",
   "execution_count": 147,
   "id": "b88d554f",
   "metadata": {
    "vscode": {
     "languageId": "sql"
    }
   },
   "outputs": [
    {
     "name": "stdout",
     "output_type": "stream",
     "text": [
      " * sqlite:///uni.db\n",
      "Done.\n"
     ]
    },
    {
     "data": {
      "text/html": [
       "<table>\n",
       "    <thead>\n",
       "        <tr>\n",
       "            <th>VorlNr</th>\n",
       "            <th>Titel</th>\n",
       "            <th>Note</th>\n",
       "        </tr>\n",
       "    </thead>\n",
       "    <tbody>\n",
       "        <tr>\n",
       "            <td>4052</td>\n",
       "            <td>Logik</td>\n",
       "            <td>1</td>\n",
       "        </tr>\n",
       "        <tr>\n",
       "            <td>4630</td>\n",
       "            <td>Die 3 Kritiken</td>\n",
       "            <td>2</td>\n",
       "        </tr>\n",
       "        <tr>\n",
       "            <td>5001</td>\n",
       "            <td>Grundzuege</td>\n",
       "            <td>1</td>\n",
       "        </tr>\n",
       "        <tr>\n",
       "            <td>5022</td>\n",
       "            <td>Glaube und Wissen</td>\n",
       "            <td>None</td>\n",
       "        </tr>\n",
       "        <tr>\n",
       "            <td>5041</td>\n",
       "            <td>Ethik</td>\n",
       "            <td>1</td>\n",
       "        </tr>\n",
       "        <tr>\n",
       "            <td>5043</td>\n",
       "            <td>Erkenntnistheorie</td>\n",
       "            <td>None</td>\n",
       "        </tr>\n",
       "        <tr>\n",
       "            <td>5049</td>\n",
       "            <td>Maeeutik</td>\n",
       "            <td>None</td>\n",
       "        </tr>\n",
       "        <tr>\n",
       "            <td>5052</td>\n",
       "            <td>Wissenschaftstheorie</td>\n",
       "            <td>None</td>\n",
       "        </tr>\n",
       "        <tr>\n",
       "            <td>5216</td>\n",
       "            <td>Bioethik</td>\n",
       "            <td>None</td>\n",
       "        </tr>\n",
       "        <tr>\n",
       "            <td>5259</td>\n",
       "            <td>Der Wiener Kreis</td>\n",
       "            <td>None</td>\n",
       "        </tr>\n",
       "    </tbody>\n",
       "</table>"
      ],
      "text/plain": [
       "[(4052, 'Logik', 1),\n",
       " (4630, 'Die 3 Kritiken', 2),\n",
       " (5001, 'Grundzuege', 1),\n",
       " (5022, 'Glaube und Wissen', None),\n",
       " (5041, 'Ethik', 1),\n",
       " (5043, 'Erkenntnistheorie', None),\n",
       " (5049, 'Maeeutik', None),\n",
       " (5052, 'Wissenschaftstheorie', None),\n",
       " (5216, 'Bioethik', None),\n",
       " (5259, 'Der Wiener Kreis', None)]"
      ]
     },
     "execution_count": 147,
     "metadata": {},
     "output_type": "execute_result"
    }
   ],
   "source": [
    "%%sql\n",
    "\n",
    "WITH beste(VorlNr, Beste, Schlechte, Durchschnitt) AS (\n",
    "    SELECT VorlNr, MIN(Note), MAX(Note), AVG(Note)\n",
    "    FROM pruefen\n",
    "    GROUP BY VorlNr\n",
    ")\n",
    "\n",
    "SELECT vor.VorlNr, vor.Titel, beste.Note\n",
    "FROM Vorlesungen vor\n",
    "LEFT JOIN pruefen pru\n",
    "USING(VorlNr)\n",
    "LEFT JOIN beste\n",
    "USING(VorlNr)\n",
    "GROUP BY VorlNr\n"
   ]
  },
  {
   "cell_type": "code",
   "execution_count": 150,
   "id": "c89e1bc8",
   "metadata": {
    "vscode": {
     "languageId": "sql"
    }
   },
   "outputs": [
    {
     "name": "stdout",
     "output_type": "stream",
     "text": [
      " * sqlite:///uni.db\n",
      "Done.\n"
     ]
    },
    {
     "data": {
      "text/html": [
       "<table>\n",
       "    <thead>\n",
       "        <tr>\n",
       "            <th>VorlNr</th>\n",
       "            <th>Beste</th>\n",
       "            <th>Schlechte</th>\n",
       "            <th>Durchschnitt</th>\n",
       "        </tr>\n",
       "    </thead>\n",
       "    <tbody>\n",
       "        <tr>\n",
       "            <td>4052</td>\n",
       "            <td>1</td>\n",
       "            <td>4</td>\n",
       "            <td>2.5</td>\n",
       "        </tr>\n",
       "        <tr>\n",
       "            <td>4630</td>\n",
       "            <td>2</td>\n",
       "            <td>2</td>\n",
       "            <td>2.0</td>\n",
       "        </tr>\n",
       "        <tr>\n",
       "            <td>5001</td>\n",
       "            <td>1</td>\n",
       "            <td>1</td>\n",
       "            <td>1.0</td>\n",
       "        </tr>\n",
       "        <tr>\n",
       "            <td>5041</td>\n",
       "            <td>1</td>\n",
       "            <td>4</td>\n",
       "            <td>2.0</td>\n",
       "        </tr>\n",
       "    </tbody>\n",
       "</table>"
      ],
      "text/plain": [
       "[(4052, 1, 4, 2.5), (4630, 2, 2, 2.0), (5001, 1, 1, 1.0), (5041, 1, 4, 2.0)]"
      ]
     },
     "execution_count": 150,
     "metadata": {},
     "output_type": "execute_result"
    }
   ],
   "source": [
    "%%sql\n",
    "\n",
    "WITH beste(VorlNr, Beste, Schlechte, Durchschnitt) AS (\n",
    "    SELECT VorlNr, MIN(Note), MAX(Note), AVG(Note)\n",
    "    FROM pruefen\n",
    "    GROUP BY VorlNr\n",
    ")\n",
    "\n",
    "SELECT * FROM beste"
   ]
  },
  {
   "cell_type": "markdown",
   "id": "54709c9c-bdd5-4b0b-8dba-d0425fd73e66",
   "metadata": {},
   "source": [
    "# Aufgabe 15\n",
    "\n",
    "Erstellen Sie ein Ranking der besten Studenten pro Kurs. Geben Sie den Namen des Kurses, den Namen des Studenten, dessen Note und dessen Ranking an."
   ]
  },
  {
   "cell_type": "markdown",
   "id": "9984f08c-25a0-4cb4-8633-e6fece84a11a",
   "metadata": {},
   "source": [
    "# Aufgabe 16\n",
    "\n",
    "Finden Sie die beiden besten Studenten pro Vorlesung"
   ]
  }
 ],
 "metadata": {
  "kernelspec": {
   "display_name": "Python 3 (ipykernel)",
   "language": "python",
   "name": "python3"
  },
  "language_info": {
   "codemirror_mode": {
    "name": "ipython",
    "version": 3
   },
   "file_extension": ".py",
   "mimetype": "text/x-python",
   "name": "python",
   "nbconvert_exporter": "python",
   "pygments_lexer": "ipython3",
   "version": "3.12.0"
  }
 },
 "nbformat": 4,
 "nbformat_minor": 5
}
