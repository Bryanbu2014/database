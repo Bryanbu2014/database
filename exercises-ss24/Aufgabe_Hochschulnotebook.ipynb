{
 "cells": [
  {
   "cell_type": "markdown",
   "id": "e08ab7c6-dd25-4307-ac37-21393b99a260",
   "metadata": {},
   "source": [
    "https://programmer.help/blogs/fifty-sql-exercise-questions-and-answers-and-detailed-analysis.html"
   ]
  },
  {
   "cell_type": "code",
   "execution_count": null,
   "id": "891cce3d-6082-4a27-880f-5fddf2c63b25",
   "metadata": {
    "tags": []
   },
   "outputs": [],
   "source": [
    "# Hier ist nur Code zum Initialisieren der Umgebeung, bitte gehen Sie weiter, es gibt nichts zu sehen.\n",
    "\n",
    "# Keine langen Fehlermeldungen\n",
    "import sys\n",
    "ipython = get_ipython()\n",
    "\n",
    "def exception_handler(exception_type, exception, traceback):\n",
    "    print(\"%s: %s\" % (exception_type.__name__, exception), file=sys.stderr)\n",
    "\n",
    "ipython._showtraceback = exception_handler\n",
    "\n",
    "# Lade die Erweiterung, damit wir SQL Befehle nutzen können\n",
    "%load_ext sql\n",
    "\n",
    "# Verbinde Dich zu einer in - Memory Datenbank\n",
    "%sql sqlite:///uni.db\n",
    "%sql PRAGMA foreign_keys = ON"
   ]
  },
  {
   "cell_type": "code",
   "execution_count": null,
   "id": "efb16278-6d8c-4df8-afa3-5a3f2994e2d0",
   "metadata": {},
   "outputs": [],
   "source": [
    "!echo .schema | sqlite3 uni.db"
   ]
  },
  {
   "cell_type": "markdown",
   "id": "aeaf1b8e-8b3d-43db-aebd-2cb402bc592a",
   "metadata": {},
   "source": [
    "![ER Diagramm](https://nextcloud.th-deg.de/s/Kc7m486Z3KbZyB4/download?path=%2F&files=hochschule-er.png)"
   ]
  },
  {
   "cell_type": "markdown",
   "id": "9cf349d9-cc3b-43b4-b4fc-7e2457a2347c",
   "metadata": {},
   "source": [
    "# Aufgabe 1\n",
    "\n",
    "Welche Studenten haben in der Prüfung der Vorlesung \"Logik\" mehr Punkte als in der Vorlesung \"Ethik\""
   ]
  },
  {
   "cell_type": "markdown",
   "id": "04a3bf8f-c94f-4880-af2f-27410f88598e",
   "metadata": {},
   "source": [
    "# Aufgabe 2\n",
    "\n",
    "Geben Sie Matrikelnummer, name und durchschnittsnote von Studenten aus, deren Durschnittsnote besser als 3 ist."
   ]
  },
  {
   "cell_type": "markdown",
   "id": "5eec46fd-a309-4673-b4a5-8ca6c7029f76",
   "metadata": {},
   "source": [
    "# Aufgabe 3\n",
    "\n",
    "Welche Studenten haben in welchem Fach mit welcher Note bereits an mindestens einer Prüfung teilgenommen"
   ]
  },
  {
   "cell_type": "markdown",
   "id": "2ed2bd82-1899-4c45-95dd-55d08973c418",
   "metadata": {},
   "source": [
    "# Aufgabe 4\n",
    "\n",
    "Welche Studenten haben schon Prüfungen gesammelt?"
   ]
  },
  {
   "cell_type": "markdown",
   "id": "b270b1cf-6bab-4580-a9f4-4f5df5bfb581",
   "metadata": {},
   "source": [
    "# Aufgabe 5\n",
    "\n",
    "Geben Sie alle Informationen zu jedem Studierenden aus. Darüber hinaus geben Sie noch die Anzahl der aktuell gehörten Kurse, die Anzahl der bereits gehörten Kurse und die durschnittsnote aus. "
   ]
  },
  {
   "cell_type": "markdown",
   "id": "ea204990-9cb1-495d-814b-cb553130da49",
   "metadata": {},
   "source": [
    "# Aufgabe 6\n",
    "\n",
    "Wie viele Professoren heißen was mit \"krates\" am Ende?"
   ]
  },
  {
   "cell_type": "markdown",
   "id": "0a79c113-b44c-4ac5-b3de-c475cfc3388a",
   "metadata": {},
   "source": [
    "# Aufgabe 7\n",
    "Welche Studenten wurden von Sokrates geprüft?"
   ]
  },
  {
   "cell_type": "markdown",
   "id": "1a5aa780-e691-4571-95e7-1ee7c7fc9afa",
   "metadata": {},
   "source": [
    "# Aufgabe 8\n",
    "\n",
    "Welche Studenten hören weder eine Vorlesung, noch haben eine Prüfung abgelegt?"
   ]
  },
  {
   "cell_type": "markdown",
   "id": "053fae1f-9123-4b9e-94a5-6f0440707277",
   "metadata": {},
   "source": [
    "# Aufgabe 10\n",
    "\n",
    "Welche Stundenten haben noch nie einen Kurs von Sokratest belegt?"
   ]
  },
  {
   "cell_type": "markdown",
   "id": "1e6bf3cb-d982-4eac-9654-e31fb15c2897",
   "metadata": {},
   "source": [
    "# Aufgabe 11\n",
    "\n",
    "Suche Studenten (id, name, durchschnittliche Punktzahl), die zwei oder mehr Kurse nicht bestanden haben"
   ]
  },
  {
   "cell_type": "markdown",
   "id": "5acc32e3-fa2d-498d-b15b-0026e1c34e7f",
   "metadata": {},
   "source": [
    "oder:"
   ]
  },
  {
   "cell_type": "markdown",
   "id": "302db634-d3a0-4057-9f05-5c2ad94beb8c",
   "metadata": {},
   "source": [
    "# Aufgabe 12\n",
    "\n",
    "Welche Studenten sind in Ethik durchgefallen? Sortieren Sie nach Matirkelnummer absteigend."
   ]
  },
  {
   "cell_type": "markdown",
   "id": "a7e0de3f-ec0d-4e1f-9a3d-fce091ccb479",
   "metadata": {},
   "source": [
    "# Aufgabe 13\n",
    "\n",
    "Zeige für jeden Studenten die Noten aller Kurse im Vergleich zur durchschnittlich erreichten Punktzahl in diesem Kurs"
   ]
  },
  {
   "cell_type": "markdown",
   "id": "266646d7-5ca0-420d-87a2-b0384c1d18bd",
   "metadata": {},
   "source": [
    "# Aufgabe 14\n",
    "\n",
    "Beste, Schlechteste und Durchschnittsnote pro Kurs"
   ]
  },
  {
   "cell_type": "markdown",
   "id": "54709c9c-bdd5-4b0b-8dba-d0425fd73e66",
   "metadata": {},
   "source": [
    "# Aufgabe 15\n",
    "\n",
    "Erstellen Sie ein Ranking der besten Studenten pro Kurs. Geben Sie den Namen des Kurses, den Namen des Studenten, dessen Note und dessen Ranking an."
   ]
  },
  {
   "cell_type": "markdown",
   "id": "9984f08c-25a0-4cb4-8633-e6fece84a11a",
   "metadata": {},
   "source": [
    "# Aufgabe 16\n",
    "\n",
    "Finden Sie die beiden besten Studenten pro Vorlesung"
   ]
  }
 ],
 "metadata": {
  "kernelspec": {
   "display_name": "Python 3 (ipykernel)",
   "language": "python",
   "name": "python3"
  },
  "language_info": {
   "codemirror_mode": {
    "name": "ipython",
    "version": 3
   },
   "file_extension": ".py",
   "mimetype": "text/x-python",
   "name": "python",
   "nbconvert_exporter": "python",
   "pygments_lexer": "ipython3",
   "version": "3.9.6"
  }
 },
 "nbformat": 4,
 "nbformat_minor": 5
}
