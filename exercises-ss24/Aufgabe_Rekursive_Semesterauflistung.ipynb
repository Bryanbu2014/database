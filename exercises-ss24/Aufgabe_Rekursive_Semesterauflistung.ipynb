{
 "cells": [
  {
   "cell_type": "markdown",
   "metadata": {},
   "source": [
    "# Semesterlisten rekursiv ordnen\n",
    "\n",
    "In dieser Übung wollen wir uns folgendes Problem ansehen: Gegeben ist eine Tabelle mit Semesterdaten. Attribute sind der Name des Semesters (\"SS21\"), die Datumsangaben des Beginns und des Endes des Semesters, respektive Prüfungszeiträume und ein Flag, das das aktuelle Semester anzeigt. Ein vergangenes Semester hat den Attributwert 0, das aktuelle Semester den Attributwert 1 und zukünftige Semester den Attributwert 2."
   ]
  },
  {
   "cell_type": "code",
   "execution_count": null,
   "metadata": {
    "tags": []
   },
   "outputs": [],
   "source": [
    "# Hier ist nur Code zum Initialisieren der Umgebeung, bitte gehen Sie weiter, es gibt nichts zu sehen.\n",
    "\n",
    "# Keine langen Fehlermeldungen\n",
    "import sys\n",
    "ipython = get_ipython()\n",
    "\n",
    "def exception_handler(exception_type, exception, traceback):\n",
    "    print(\"%s: %s\" % (exception_type.__name__, exception), file=sys.stderr)\n",
    "\n",
    "ipython._showtraceback = exception_handler\n",
    "\n",
    "# Lade die Erweiterung, damit wir SQL Befehle nutzen können\n",
    "%reload_ext sql\n",
    "%sql sqlite://\n",
    "%sql PRAGMA foreign_keys = ON"
   ]
  },
  {
   "cell_type": "markdown",
   "metadata": {},
   "source": [
    "### Tabellen und Daten anlegen:"
   ]
  },
  {
   "cell_type": "code",
   "execution_count": null,
   "metadata": {},
   "outputs": [],
   "source": [
    "%%sql\n",
    "\n",
    "DROP TABLE IF EXISTS tblsemester;\n",
    "\n",
    "CREATE TABLE tblsemester (\n",
    "    pkSemesterID identity PRIMARY KEY,\n",
    "    beginn DATE,\n",
    "    beginn_pruefung DATE,\n",
    "    ende DATE,\n",
    "    ende_pruefung DATE,\n",
    "    flagAktuell INTEGER not null,\n",
    "    semesterbezeichnung TEXT,\n",
    "    fkSemesterID INTEGER);\n",
    "\n",
    "INSERT INTO `tblsemester` (pkSemesterID, fkSemesterID,semesterbezeichnung,beginn,ende,beginn_pruefung,ende_pruefung,flagAktuell)\n",
    "VALUES \n",
    " (1031, NULL, 'WS 19/20', '2019-10-01', '2020-01-22', '2020-01-26', '2020-02-15', 0),\n",
    " (1032, 1031, 'SS 2020', '2020-04-20', '2020-07-17', '2020-07-18', '2020-08-01', 0),\n",
    " (1033, 1032, 'WS 20/21', '2020-10-01', '2021-01-22', '2021-01-26', '2021-02-13', 0),\n",
    " (1034, 1033, 'SS 2021', '2021-03-15', '2021-07-09', '2021-07-12', '2021-07-31', 1),\n",
    " (1035, 1034, 'WS 21/22', '2021-10-01', '2022-01-21', '2022-01-22', '2022-02-15', 2);"
   ]
  },
  {
   "cell_type": "markdown",
   "metadata": {},
   "source": [
    "### Daten Auslesen\n",
    "\n",
    "Lassen wir uns alle Daten anzeigen, so finden wir folgendes:"
   ]
  },
  {
   "cell_type": "code",
   "execution_count": null,
   "metadata": {},
   "outputs": [],
   "source": [
    "%sql SELECT * from tblsemester t;"
   ]
  },
  {
   "cell_type": "markdown",
   "metadata": {},
   "source": [
    "# Aufgabe 1\n",
    "Die einfachste Lösung ein Semester und alle seine Vorgänger zu finden, **unter der Annahme, dass die Ordnung durch den Primary Key korrekt ist**, ist einfach auf den Wert des Flags zu testen und zu sortieren:"
   ]
  },
  {
   "cell_type": "markdown",
   "metadata": {},
   "source": [
    "# Rekursive SQL Anfragen\n",
    "\n",
    "Eine Rekursion beginnt ist typischerweise so aufgebaut, dass eine Funktion erneut aufgerufen wird, falls eine Bedingung nicht zutrifft. Im Falls von SQL Rekursionen finden wir eine Tabelle vor, in der ein Foreign Key auf den Primary Key der eigenen Tabelle verweist. Diese Tabelle muss dann mit sich selbst ge-`JOIN`-t werden. Es beginnt also wieder mit einem Datensatz der Tabelle und einer (im voraus unbekannten Anzahl) von `JOIN`s mit sich selbst. Das Abbruchkriterium ist wenn keine weiteren Ergebnisse gefunden werden. Das Startkriterium ist eine Zeile der Tabelle aus der die Rekursion startet. Die Datensätze müssen miteinander verbunden werden, das ist die aufgabe einens `UNION` Befehls.\n",
    "\n",
    "### UNION\n",
    "Union verbindet die Ergebnisse mehrerer SELECT Befehle. Dazu müssen die SELET befehle die selbe Anzahl an Spalten und Datentypen zurückgeben und diese müssen auch gleich angeordnet sein. `UNION ALL` gibt alle Ergebnisse zurück, ohne das `ALL` werden Duplikate entfernt.\n",
    "\n",
    "### Vorgesetze als Beispiel:\n",
    "Ein typisches Beispiel für rekursive Abfragen sind Abteilungshierarchien. Bauen wir uns für diese Übung eine \"Chain of Command\" auf:"
   ]
  },
  {
   "cell_type": "code",
   "execution_count": null,
   "metadata": {},
   "outputs": [],
   "source": [
    "%%sql \n",
    "DROP TABLE IF EXISTS Personen;\n",
    "CREATE TABLE Personen(\n",
    "    pkPerson INTEGER PRIMARY_KEY UNIQUE,\n",
    "    nachname TEXT,\n",
    "    vorname TEXT, \n",
    "    vorgesetzter INTEGER FOREIGN_KEY REFERENCES Personen(pkPerson)\n",
    ");\n",
    "INSERT INTO PERSONEN VALUES (1, 'Strauß', 'Peter', NULL), (2, 'Huber', 'Andreas', 1), (3, 'Moser', 'Udo', 1), (4, 'Elser', 'Benedikt', 3), (5, 'Jobs', 'Jürgen', 1), (6, 'Gates', 'Christian', 5);"
   ]
  },
  {
   "cell_type": "markdown",
   "metadata": {},
   "source": [
    "Wer ist nun der Vorgesetzte von Herrn Elser?"
   ]
  },
  {
   "cell_type": "code",
   "execution_count": null,
   "metadata": {},
   "outputs": [],
   "source": [
    "%%sql\n",
    "SELECT\n",
    "  p1.nachname, p1.vorname, '<' as sticht, p2.nachname, p2.vorname\n",
    "FROM\n",
    "  Personen p1\n",
    "LEFT JOIN Personen p2 ON(p2.pkPerson = p1.vorgesetzter)\n",
    "WHERE p1.Nachname = 'Elser';"
   ]
  },
  {
   "cell_type": "markdown",
   "metadata": {},
   "source": [
    "Aber wie kann man diese \"Chain of Command\" nach ganz oben auflösen? Man müsste ja aus einer Tabelle auswählen, die automatisch den `JOIN` auf sich selbst macht. \n",
    "\n",
    "Dazu verwendet man eine *rekursive Abfrage*. Diese temporäre Tabelle (CTE) bekommt als erstes einen Namen: `WITH RECURSIVE <tabellenname>`. Die Definition dieser Tabelle besteht aus einer initialen Abfrage (in dieser bestimmen wir den Datensatz von Herrn Elser) und einem rekursiven Anteil in dem wir auf die gerade definierte Tabelle (`<tabellenname>`) zugreifen. Dort hangeln wir uns vom initialen Datensatz aus weiter.\n",
    "\n",
    "Konkret bauen unsere Abfrage wie folgt auf:"
   ]
  },
  {
   "cell_type": "code",
   "execution_count": null,
   "metadata": {},
   "outputs": [],
   "source": [
    "%%sql\n",
    "WITH RECURSIVE untergeben(nachname, vorname, pkPerson, vorgesetzter) AS (\n",
    "   --- Initiale Abfrage\n",
    "   SELECT\n",
    "     p.nachname, p.vorname, p.pkPerson, p.vorgesetzter\n",
    "   FROM\n",
    "     Personen p\n",
    "     WHERE nachname = \"Elser\"\n",
    "   UNION\n",
    "   --- Rekursive Abfrage\n",
    "   SELECT\n",
    "     p1.nachname, p1.vorname, p1.pkPerson, p1.vorgesetzter\n",
    "   FROM\n",
    "     Personen p1, untergeben v\n",
    "   WHERE\n",
    "     p1.pkPerson = v.vorgesetzter\n",
    ") SELECT * from untergeben;"
   ]
  },
  {
   "cell_type": "markdown",
   "metadata": {},
   "source": [
    "Wir haben also eine Tabelle namens `untergeben` in einer Common table expression definiert. Innerhalb der Definition (`AS ( ... )` beginnen wir mit einer initialen Abfrage in der wir uns **nicht** auf die CTE `untergeben` beziehen. Wir suchen vorerst nur den Datensatz von dem aus die Rekursion startet aus der Tabelle `Personen`. Im zweiten Teil, der rekursiven Abfrage machen wir einen impliziten `JOIN` zwischen der Tabelle `Personen` und der CTE `untergeben`. Diese Rekursion endet wenn keine weiteren Ergebnisse vorhanden sind, also wenn der Vorgesetzte von Herrn Strauß `NULL` ist. "
   ]
  },
  {
   "cell_type": "markdown",
   "metadata": {},
   "source": [
    "Rekursiv kann ich aber auch die andere Richtung beantworten: Wem ist ein Nutzer vorgesetzt? Auch hier wieder ein initialer Datensatz, dann geht es rekursiv weiter."
   ]
  },
  {
   "cell_type": "code",
   "execution_count": null,
   "metadata": {},
   "outputs": [],
   "source": [
    "%%sql\n",
    "WITH RECURSIVE vorgesetzt(nachname, vorname, pkPerson, vorgesetzter) AS (\n",
    "   --- Initiale Abfrage\n",
    "   SELECT\n",
    "     p.nachname, p.vorname, p.pkPerson, p.vorgesetzter\n",
    "   FROM\n",
    "     Personen p\n",
    "     WHERE nachname = \"Strauß\"\n",
    "   UNION\n",
    "   --- Rekursive Abfrage\n",
    "   SELECT\n",
    "     p1.nachname, p1.vorname, p1.pkPerson, p1.vorgesetzter\n",
    "   FROM\n",
    "     Personen p1, vorgesetzt v\n",
    "   WHERE\n",
    "     p1.vorgesetzter = v.pkPerson\n",
    ") SELECT * from vorgesetzt;"
   ]
  },
  {
   "cell_type": "markdown",
   "metadata": {},
   "source": [
    "Grafisch ist das wie folgt [in diesem Medium Artiel](https://medium.com/swlh/recursion-in-sql-explained-graphically-679f6a0f143b) aufbereitet:\n",
    "\n",
    "![](https://miro.medium.com/max/2400/1*Jn69R88TYbuJEP-qrF91Dg.png)"
   ]
  },
  {
   "cell_type": "markdown",
   "metadata": {
    "tags": []
   },
   "source": [
    "# Aufgabe 2\n",
    "\n",
    "Wollen wir sichergehen, dass die rekursive Reihe eingehalten wird nutzen wir eine rekursive Abfrage. \n",
    "\n",
    "- Starten Sie in der initialen Abfrage, indem Sie den Beginn der Kette suchen. *Hinweis: Vorne ist wo auf kein früheres Semester verwiesen wird*.\n",
    "- Im Rekursiven Teil müssen Sie wie in Aufgabe 1 bremsen, wenn das flagAktuell zu groß wird. \n",
    "- In der eigentlichen Abfrage müssen Sie lediglich abfragen, oder Sie filtern hier auf flagAktuell"
   ]
  },
  {
   "cell_type": "markdown",
   "metadata": {},
   "source": [
    "# Ein echtes Flag im Datenmodell\n",
    "Sind nun die Daten aber anders aufgebaut, so dass es nur noch ein Flag aktuell Ja/Nein gibt wird es schwieriger:"
   ]
  },
  {
   "cell_type": "code",
   "execution_count": null,
   "metadata": {},
   "outputs": [],
   "source": [
    "%%sql\n",
    "\n",
    "DROP TABLE tblsemester;\n",
    "\n",
    "CREATE TABLE tblsemester (\n",
    "    pkSemesterID identity PRIMARY KEY,\n",
    "    beginn DATE,\n",
    "    beginn_pruefung DATE,\n",
    "    ende DATE,\n",
    "    ende_pruefung DATE,\n",
    "    flagAktuell INTEGER not null,\n",
    "    semesterbezeichnung TEXT,\n",
    "    fkSemesterID INTEGER);\n",
    "\n",
    "INSERT INTO `tblsemester` (pkSemesterID, fkSemesterID,semesterbezeichnung,beginn,ende,beginn_pruefung,ende_pruefung,flagAktuell)\n",
    "VALUES \n",
    " (1031, NULL, 'WS 19/20', '2019-10-01', '2020-01-22', '2020-01-26', '2020-02-15', 0),\n",
    " (1032, 1031, 'SS 2020', '2020-04-20', '2020-07-17', '2020-07-18', '2020-08-01', 0),\n",
    " (1033, 1032, 'WS 20/21', '2020-10-01', '2021-01-22', '2021-01-26', '2021-02-13', 0),\n",
    " (1034, 1033, 'SS 2021', '2021-03-15', '2021-07-09', '2021-07-12', '2021-07-31', 1),\n",
    " (1035, 1034, 'WS 21/22', '2021-10-01', '2022-01-21', '2022-01-22', '2022-02-15', 0);"
   ]
  },
  {
   "cell_type": "markdown",
   "metadata": {},
   "source": [
    "Der Naive Ansatz funktioniert nun nicht mehr:"
   ]
  },
  {
   "cell_type": "code",
   "execution_count": null,
   "metadata": {},
   "outputs": [],
   "source": [
    "%%sql\n",
    "SELECT pkSemesterID, semesterbezeichnung, fkSemesterID, flagAktuell\n",
    "FROM tblsemester\n",
    "WHERE flagAktuell <= 1\n",
    "ORDER BY pkSemesterID;"
   ]
  },
  {
   "cell_type": "markdown",
   "metadata": {},
   "source": [
    "# Aufgabe 3\n",
    "\n",
    "Prüfen Sie, ob Ihre Lösung noch funktioniert und formulieren Sie Ihren Ansatz ggf. um, falls es zu Problemen kommt."
   ]
  },
  {
   "cell_type": "markdown",
   "metadata": {},
   "source": [
    "# Aufgabe 4\n",
    "\n",
    "Selbstverständlich sind die pkSmesterIDs hier perfekt in Reihenfolge. Ändern Sie mit einem Update Befehl den pk (und die fk(s)!) und prüfen Sie, ob Ihre Abfrage auch wirklich noch korrekt läuft."
   ]
  }
 ],
 "metadata": {
  "kernelspec": {
   "display_name": "Python 3 (ipykernel)",
   "language": "python",
   "name": "python3"
  },
  "language_info": {
   "codemirror_mode": {
    "name": "ipython",
    "version": 3
   },
   "file_extension": ".py",
   "mimetype": "text/x-python",
   "name": "python",
   "nbconvert_exporter": "python",
   "pygments_lexer": "ipython3",
   "version": "3.9.6"
  }
 },
 "nbformat": 4,
 "nbformat_minor": 4
}
