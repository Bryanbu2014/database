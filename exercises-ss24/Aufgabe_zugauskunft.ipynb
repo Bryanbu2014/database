{
 "cells": [
  {
   "cell_type": "markdown",
   "metadata": {
    "tags": []
   },
   "source": [
    "# Übung Datenbanken: Ein Zugauskunfssystem\n",
    "![](https://www.klipfel-mathys.ch/images/imagesCAUM394L.jpg)"
   ]
  },
  {
   "cell_type": "code",
   "execution_count": 1,
   "metadata": {},
   "outputs": [
    {
     "name": "stdout",
     "output_type": "stream",
     "text": [
      " * sqlite:///zugauskunft-kemper.db\n",
      "Done.\n"
     ]
    },
    {
     "data": {
      "text/plain": [
       "[]"
      ]
     },
     "execution_count": 1,
     "metadata": {},
     "output_type": "execute_result"
    }
   ],
   "source": [
    "# Hier ist nur Code zum Initialisieren der Umgebeung, bitte gehen Sie weiter, es gibt nichts zu sehen.\n",
    "\n",
    "# Keine langen Fehlermeldungen\n",
    "import sys\n",
    "ipython = get_ipython()\n",
    "\n",
    "def exception_handler(exception_type, exception, traceback):\n",
    "    print(\"%s: %s\" % (exception_type.__name__, exception), file=sys.stderr)\n",
    "\n",
    "ipython._showtraceback = exception_handler\n",
    "\n",
    "# !wget -qOzugauskunft-kemper.db 'https://nextcloud.th-deg.de/s/Kc7m486Z3KbZyB4/download?path=%2F&files=zugauskunft-kemper.db'\n",
    "\n",
    "# Lade die Erweiterung, damit wir SQL Befehle nutzen können\n",
    "%reload_ext sql\n",
    "%sql sqlite:///zugauskunft-kemper.db\n",
    "%sql PRAGMA foreign_keys = ON"
   ]
  },
  {
   "cell_type": "markdown",
   "metadata": {
    "tags": []
   },
   "source": [
    "# Aufgabe\n",
    "\n",
    "Nachdem wir in der letzten Aufgabe unsere Daten in folgendes Datenmodell importiert haben:\n",
    "\n",
    "![](https://nextcloud.th-deg.de/s/Kc7m486Z3KbZyB4/download?path=%2F&files=bahn-er.png)\n",
    "\n",
    "Wollen wir in dieser Aufgabe einige Abfragen auf diesem Modell entwerfen."
   ]
  },
  {
   "cell_type": "code",
   "execution_count": 2,
   "metadata": {},
   "outputs": [],
   "source": [
    "# !echo \".schema\" | sqlite3 zugauskunft-kemper.db"
   ]
  },
  {
   "cell_type": "code",
   "execution_count": 3,
   "metadata": {},
   "outputs": [],
   "source": [
    "# CREATE TABLE Zug (\n",
    "#   ZugNr INTEGER NOT NULL,\n",
    "#   Name TEXT NOT NULL,\n",
    "#   StartBhf TEXT NOT NULL,\n",
    "#   EndBhf TEXT NOT NULL,\n",
    "#   FOREIGN KEY(StartBhf) REFERENCES Bahnhof(BahnhofId),\n",
    "#   FOREIGN KEY(EndBhf) REFERENCES Bahnhof(BahnhofId),\n",
    "#   PRIMARY KEY(ZugNr)\n",
    "# );\n",
    "\n",
    "# CREATE TABLE Bahnhof (\n",
    "#   BahnhofId TEXT NOT NULL,\n",
    "#   Name TEXT NOT NULL,\n",
    "#   PRIMARY KEY(BahnhofId)\n",
    "# );\n",
    "\n",
    "# CREATE TABLE verbindet (\n",
    "#   ZugNr Integer NOT NULL,\n",
    "#   VonBahnhof TEXT NOT NULL,\n",
    "#   NachBahnhof TEXT,\n",
    "#   Abfahrt TIME NOT NULL,\n",
    "#   Ankunft TIME NOT NULL,\n",
    "#   FOREIGN KEY(VonBahnhof) REFERENCES Bahnhof(BahnhofId),\n",
    "#   FOREIGN KEY(NachBahnhof) REFERENCES Bahnhof(BahnhofId),\n",
    "#   FOREIGN KEY(ZugNr) REFERENCES Zug(ZugNr),\n",
    "#   PRIMARY KEY(VonBahnhof, ZugNr)\n",
    "# );"
   ]
  },
  {
   "cell_type": "code",
   "execution_count": 4,
   "metadata": {
    "vscode": {
     "languageId": "sql"
    }
   },
   "outputs": [
    {
     "name": "stdout",
     "output_type": "stream",
     "text": [
      " * sqlite:///zugauskunft-kemper.db\n",
      "Done.\n"
     ]
    },
    {
     "data": {
      "text/html": [
       "<table>\n",
       "    <thead>\n",
       "        <tr>\n",
       "            <th>ZugNr</th>\n",
       "            <th>Name</th>\n",
       "            <th>StartBhf</th>\n",
       "            <th>EndBhf</th>\n",
       "        </tr>\n",
       "    </thead>\n",
       "    <tbody>\n",
       "        <tr>\n",
       "            <td>1003122052</td>\n",
       "            <td>WBA1 Plattling</td>\n",
       "            <td>de:09271:5500</td>\n",
       "            <td>de:09271:4445</td>\n",
       "        </tr>\n",
       "        <tr>\n",
       "            <td>1003122056</td>\n",
       "            <td>WBA1 Plattling</td>\n",
       "            <td>de:09271:5500</td>\n",
       "            <td>de:09271:4445</td>\n",
       "        </tr>\n",
       "        <tr>\n",
       "            <td>1003122057</td>\n",
       "            <td>WBA1 Plattling</td>\n",
       "            <td>de:09271:5500</td>\n",
       "            <td>de:09271:4445</td>\n",
       "        </tr>\n",
       "        <tr>\n",
       "            <td>1003122058</td>\n",
       "            <td>WBA1 Plattling</td>\n",
       "            <td>de:09276:5025_G</td>\n",
       "            <td>de:09271:4445</td>\n",
       "        </tr>\n",
       "        <tr>\n",
       "            <td>1003122059</td>\n",
       "            <td>WBA1 Plattling</td>\n",
       "            <td>de:09276:4726</td>\n",
       "            <td>de:09271:4445</td>\n",
       "        </tr>\n",
       "        <tr>\n",
       "            <td>1003122061</td>\n",
       "            <td>WBA1 Plattling</td>\n",
       "            <td>de:09271:5500</td>\n",
       "            <td>de:09271:4445</td>\n",
       "        </tr>\n",
       "        <tr>\n",
       "            <td>1003122062</td>\n",
       "            <td>WBA1 Plattling</td>\n",
       "            <td>de:09271:5500</td>\n",
       "            <td>de:09271:4445</td>\n",
       "        </tr>\n",
       "        <tr>\n",
       "            <td>1003122063</td>\n",
       "            <td>WBA1 Plattling</td>\n",
       "            <td>de:09271:5500</td>\n",
       "            <td>de:09271:4445</td>\n",
       "        </tr>\n",
       "        <tr>\n",
       "            <td>1003122064</td>\n",
       "            <td>WBA1 Plattling</td>\n",
       "            <td>de:09271:5500</td>\n",
       "            <td>de:09271:4445</td>\n",
       "        </tr>\n",
       "        <tr>\n",
       "            <td>1003122065</td>\n",
       "            <td>WBA1 Plattling</td>\n",
       "            <td>de:09276:5025_G</td>\n",
       "            <td>de:09271:4445</td>\n",
       "        </tr>\n",
       "    </tbody>\n",
       "</table>"
      ],
      "text/plain": [
       "[(1003122052, 'WBA1 Plattling', 'de:09271:5500', 'de:09271:4445'),\n",
       " (1003122056, 'WBA1 Plattling', 'de:09271:5500', 'de:09271:4445'),\n",
       " (1003122057, 'WBA1 Plattling', 'de:09271:5500', 'de:09271:4445'),\n",
       " (1003122058, 'WBA1 Plattling', 'de:09276:5025_G', 'de:09271:4445'),\n",
       " (1003122059, 'WBA1 Plattling', 'de:09276:4726', 'de:09271:4445'),\n",
       " (1003122061, 'WBA1 Plattling', 'de:09271:5500', 'de:09271:4445'),\n",
       " (1003122062, 'WBA1 Plattling', 'de:09271:5500', 'de:09271:4445'),\n",
       " (1003122063, 'WBA1 Plattling', 'de:09271:5500', 'de:09271:4445'),\n",
       " (1003122064, 'WBA1 Plattling', 'de:09271:5500', 'de:09271:4445'),\n",
       " (1003122065, 'WBA1 Plattling', 'de:09276:5025_G', 'de:09271:4445')]"
      ]
     },
     "execution_count": 4,
     "metadata": {},
     "output_type": "execute_result"
    }
   ],
   "source": [
    "%%sql\n",
    "\n",
    "SELECT * FROM Zug LIMIT 10"
   ]
  },
  {
   "cell_type": "code",
   "execution_count": 5,
   "metadata": {
    "vscode": {
     "languageId": "sql"
    }
   },
   "outputs": [
    {
     "name": "stdout",
     "output_type": "stream",
     "text": [
      " * sqlite:///zugauskunft-kemper.db\n",
      "Done.\n"
     ]
    },
    {
     "data": {
      "text/html": [
       "<table>\n",
       "    <thead>\n",
       "        <tr>\n",
       "            <th>BahnhofId</th>\n",
       "            <th>Name</th>\n",
       "        </tr>\n",
       "    </thead>\n",
       "    <tbody>\n",
       "        <tr>\n",
       "            <td>de:09271:4445</td>\n",
       "            <td>Plattling</td>\n",
       "        </tr>\n",
       "        <tr>\n",
       "            <td>de:09271:5500</td>\n",
       "            <td>Deggendorf Hbf</td>\n",
       "        </tr>\n",
       "        <tr>\n",
       "            <td>de:09271:80502</td>\n",
       "            <td>Pankofen</td>\n",
       "        </tr>\n",
       "        <tr>\n",
       "            <td>de:09271:80587</td>\n",
       "            <td>Grafling-Arzting</td>\n",
       "        </tr>\n",
       "        <tr>\n",
       "            <td>de:09272:4688</td>\n",
       "            <td>Spiegelau</td>\n",
       "        </tr>\n",
       "        <tr>\n",
       "            <td>de:09272:4976_G</td>\n",
       "            <td>Klingenbrunn</td>\n",
       "        </tr>\n",
       "        <tr>\n",
       "            <td>de:09272:5047_G</td>\n",
       "            <td>Grafenau</td>\n",
       "        </tr>\n",
       "        <tr>\n",
       "            <td>de:09272:80738</td>\n",
       "            <td>Großarmschlag</td>\n",
       "        </tr>\n",
       "        <tr>\n",
       "            <td>de:09272:80739</td>\n",
       "            <td>Rosenau (b Grafenau)</td>\n",
       "        </tr>\n",
       "        <tr>\n",
       "            <td>de:09276:10969</td>\n",
       "            <td>Lichtenthal</td>\n",
       "        </tr>\n",
       "    </tbody>\n",
       "</table>"
      ],
      "text/plain": [
       "[('de:09271:4445', 'Plattling'),\n",
       " ('de:09271:5500', 'Deggendorf Hbf'),\n",
       " ('de:09271:80502', 'Pankofen'),\n",
       " ('de:09271:80587', 'Grafling-Arzting'),\n",
       " ('de:09272:4688', 'Spiegelau'),\n",
       " ('de:09272:4976_G', 'Klingenbrunn'),\n",
       " ('de:09272:5047_G', 'Grafenau'),\n",
       " ('de:09272:80738', 'Großarmschlag'),\n",
       " ('de:09272:80739', 'Rosenau (b Grafenau)'),\n",
       " ('de:09276:10969', 'Lichtenthal')]"
      ]
     },
     "execution_count": 5,
     "metadata": {},
     "output_type": "execute_result"
    }
   ],
   "source": [
    "%%sql\n",
    "\n",
    "SELECT * FROM Bahnhof LIMIT 10"
   ]
  },
  {
   "cell_type": "code",
   "execution_count": 6,
   "metadata": {
    "vscode": {
     "languageId": "sql"
    }
   },
   "outputs": [
    {
     "name": "stdout",
     "output_type": "stream",
     "text": [
      " * sqlite:///zugauskunft-kemper.db\n",
      "Done.\n"
     ]
    },
    {
     "data": {
      "text/html": [
       "<table>\n",
       "    <thead>\n",
       "        <tr>\n",
       "            <th>ZugNr</th>\n",
       "            <th>VonBahnhof</th>\n",
       "            <th>NachBahnhof</th>\n",
       "            <th>Abfahrt</th>\n",
       "            <th>Ankunft</th>\n",
       "        </tr>\n",
       "    </thead>\n",
       "    <tbody>\n",
       "        <tr>\n",
       "            <td>1003122052</td>\n",
       "            <td>de:09271:5500</td>\n",
       "            <td>de:09271:80502</td>\n",
       "            <td>05:30:00</td>\n",
       "            <td>05:30:00</td>\n",
       "        </tr>\n",
       "        <tr>\n",
       "            <td>1003122052</td>\n",
       "            <td>de:09271:80502</td>\n",
       "            <td>de:09271:4445</td>\n",
       "            <td>05:35:00</td>\n",
       "            <td>05:35:00</td>\n",
       "        </tr>\n",
       "        <tr>\n",
       "            <td>1003122052</td>\n",
       "            <td>de:09271:4445</td>\n",
       "            <td>None</td>\n",
       "            <td>05:39:00</td>\n",
       "            <td>05:39:00</td>\n",
       "        </tr>\n",
       "        <tr>\n",
       "            <td>1003122056</td>\n",
       "            <td>de:09271:5500</td>\n",
       "            <td>de:09271:80502</td>\n",
       "            <td>24:38:00</td>\n",
       "            <td>24:38:00</td>\n",
       "        </tr>\n",
       "        <tr>\n",
       "            <td>1003122056</td>\n",
       "            <td>de:09271:80502</td>\n",
       "            <td>de:09271:4445</td>\n",
       "            <td>24:44:00</td>\n",
       "            <td>24:45:00</td>\n",
       "        </tr>\n",
       "        <tr>\n",
       "            <td>1003122056</td>\n",
       "            <td>de:09271:4445</td>\n",
       "            <td>None</td>\n",
       "            <td>24:49:00</td>\n",
       "            <td>24:49:00</td>\n",
       "        </tr>\n",
       "        <tr>\n",
       "            <td>1003122057</td>\n",
       "            <td>de:09271:5500</td>\n",
       "            <td>de:09271:80502</td>\n",
       "            <td>23:29:00</td>\n",
       "            <td>23:29:00</td>\n",
       "        </tr>\n",
       "        <tr>\n",
       "            <td>1003122057</td>\n",
       "            <td>de:09271:80502</td>\n",
       "            <td>de:09271:4445</td>\n",
       "            <td>23:34:00</td>\n",
       "            <td>23:34:00</td>\n",
       "        </tr>\n",
       "        <tr>\n",
       "            <td>1003122057</td>\n",
       "            <td>de:09271:4445</td>\n",
       "            <td>None</td>\n",
       "            <td>23:39:00</td>\n",
       "            <td>23:39:00</td>\n",
       "        </tr>\n",
       "        <tr>\n",
       "            <td>1003122058</td>\n",
       "            <td>de:09276:5025_G</td>\n",
       "            <td>de:09276:80784</td>\n",
       "            <td>22:04:00</td>\n",
       "            <td>22:04:00</td>\n",
       "        </tr>\n",
       "    </tbody>\n",
       "</table>"
      ],
      "text/plain": [
       "[(1003122052, 'de:09271:5500', 'de:09271:80502', '05:30:00', '05:30:00'),\n",
       " (1003122052, 'de:09271:80502', 'de:09271:4445', '05:35:00', '05:35:00'),\n",
       " (1003122052, 'de:09271:4445', None, '05:39:00', '05:39:00'),\n",
       " (1003122056, 'de:09271:5500', 'de:09271:80502', '24:38:00', '24:38:00'),\n",
       " (1003122056, 'de:09271:80502', 'de:09271:4445', '24:44:00', '24:45:00'),\n",
       " (1003122056, 'de:09271:4445', None, '24:49:00', '24:49:00'),\n",
       " (1003122057, 'de:09271:5500', 'de:09271:80502', '23:29:00', '23:29:00'),\n",
       " (1003122057, 'de:09271:80502', 'de:09271:4445', '23:34:00', '23:34:00'),\n",
       " (1003122057, 'de:09271:4445', None, '23:39:00', '23:39:00'),\n",
       " (1003122058, 'de:09276:5025_G', 'de:09276:80784', '22:04:00', '22:04:00')]"
      ]
     },
     "execution_count": 6,
     "metadata": {},
     "output_type": "execute_result"
    }
   ],
   "source": [
    "%%sql\n",
    "\n",
    "SELECT * FROM verbindet LIMIT 10"
   ]
  },
  {
   "cell_type": "markdown",
   "metadata": {},
   "source": [
    "### Abfrage 1: Abfahrten in Deggendorf ✅\n",
    "\n",
    "Entwerfen Sie eine Abfrage, die alle Abfahrten in Deggendorf anzeigt. Geben Sie die Zugnummer, den Namen, den Start- und Endbahnhof sowie die Abfahrtszeit aus."
   ]
  },
  {
   "cell_type": "code",
   "execution_count": 7,
   "metadata": {
    "vscode": {
     "languageId": "sql"
    }
   },
   "outputs": [
    {
     "name": "stdout",
     "output_type": "stream",
     "text": [
      " * sqlite:///zugauskunft-kemper.db\n",
      "Done.\n"
     ]
    },
    {
     "data": {
      "text/html": [
       "<table>\n",
       "    <thead>\n",
       "        <tr>\n",
       "            <th>ZugNr</th>\n",
       "            <th>Name</th>\n",
       "            <th>StartBhf</th>\n",
       "            <th>EndBhf</th>\n",
       "            <th>Abfahrt</th>\n",
       "        </tr>\n",
       "    </thead>\n",
       "    <tbody>\n",
       "        <tr>\n",
       "            <td>1015320340</td>\n",
       "            <td>WBA1 Plattling</td>\n",
       "            <td>Deggendorf Hbf</td>\n",
       "            <td>Plattling</td>\n",
       "            <td>05:00:00</td>\n",
       "        </tr>\n",
       "        <tr>\n",
       "            <td>1003122052</td>\n",
       "            <td>WBA1 Plattling</td>\n",
       "            <td>Deggendorf Hbf</td>\n",
       "            <td>Plattling</td>\n",
       "            <td>05:30:00</td>\n",
       "        </tr>\n",
       "        <tr>\n",
       "            <td>1015320344</td>\n",
       "            <td>WBA1 Plattling</td>\n",
       "            <td>Deggendorf Hbf</td>\n",
       "            <td>Plattling</td>\n",
       "            <td>06:14:00</td>\n",
       "        </tr>\n",
       "        <tr>\n",
       "            <td>1003122120</td>\n",
       "            <td>WBA1 Plattling</td>\n",
       "            <td>Deggendorf Hbf</td>\n",
       "            <td>Plattling</td>\n",
       "            <td>06:45:00</td>\n",
       "        </tr>\n",
       "        <tr>\n",
       "            <td>1015320332</td>\n",
       "            <td>WBA1 Plattling</td>\n",
       "            <td>Deggendorf Hbf</td>\n",
       "            <td>Plattling</td>\n",
       "            <td>07:09:00</td>\n",
       "        </tr>\n",
       "        <tr>\n",
       "            <td>1003122088</td>\n",
       "            <td>WBA1 Plattling</td>\n",
       "            <td>Deggendorf Hbf</td>\n",
       "            <td>Plattling</td>\n",
       "            <td>07:38:00</td>\n",
       "        </tr>\n",
       "        <tr>\n",
       "            <td>1015320383</td>\n",
       "            <td>WBA1 Plattling</td>\n",
       "            <td>Deggendorf Hbf</td>\n",
       "            <td>Plattling</td>\n",
       "            <td>08:15:00</td>\n",
       "        </tr>\n",
       "        <tr>\n",
       "            <td>1015320334</td>\n",
       "            <td>WBA1 Plattling</td>\n",
       "            <td>Deggendorf Hbf</td>\n",
       "            <td>Plattling</td>\n",
       "            <td>08:45:00</td>\n",
       "        </tr>\n",
       "        <tr>\n",
       "            <td>1015320348</td>\n",
       "            <td>WBA1 Plattling</td>\n",
       "            <td>Deggendorf Hbf</td>\n",
       "            <td>Plattling</td>\n",
       "            <td>09:45:00</td>\n",
       "        </tr>\n",
       "        <tr>\n",
       "            <td>1015320361</td>\n",
       "            <td>WBA1 Plattling</td>\n",
       "            <td>Deggendorf Hbf</td>\n",
       "            <td>Plattling</td>\n",
       "            <td>10:45:00</td>\n",
       "        </tr>\n",
       "    </tbody>\n",
       "</table>"
      ],
      "text/plain": [
       "[(1015320340, 'WBA1 Plattling', 'Deggendorf Hbf', 'Plattling', '05:00:00'),\n",
       " (1003122052, 'WBA1 Plattling', 'Deggendorf Hbf', 'Plattling', '05:30:00'),\n",
       " (1015320344, 'WBA1 Plattling', 'Deggendorf Hbf', 'Plattling', '06:14:00'),\n",
       " (1003122120, 'WBA1 Plattling', 'Deggendorf Hbf', 'Plattling', '06:45:00'),\n",
       " (1015320332, 'WBA1 Plattling', 'Deggendorf Hbf', 'Plattling', '07:09:00'),\n",
       " (1003122088, 'WBA1 Plattling', 'Deggendorf Hbf', 'Plattling', '07:38:00'),\n",
       " (1015320383, 'WBA1 Plattling', 'Deggendorf Hbf', 'Plattling', '08:15:00'),\n",
       " (1015320334, 'WBA1 Plattling', 'Deggendorf Hbf', 'Plattling', '08:45:00'),\n",
       " (1015320348, 'WBA1 Plattling', 'Deggendorf Hbf', 'Plattling', '09:45:00'),\n",
       " (1015320361, 'WBA1 Plattling', 'Deggendorf Hbf', 'Plattling', '10:45:00')]"
      ]
     },
     "execution_count": 7,
     "metadata": {},
     "output_type": "execute_result"
    }
   ],
   "source": [
    "%%sql\n",
    "\n",
    "SELECT z.ZugNr, z.Name, b1.Name 'StartBhf', b2.Name 'EndBhf', v.Abfahrt\n",
    "FROM Zug z\n",
    "JOIN Bahnhof b1\n",
    "ON(z.StartBhf = b1.BahnhofId)\n",
    "JOIN Bahnhof b2\n",
    "ON(z.EndBhf = b2.BahnhofId)\n",
    "JOIN verbindet v\n",
    "USING(ZugNr)\n",
    "WHERE b1.Name LIKE '%Deggendorf%'\n",
    "GROUP BY z.ZugNr\n",
    "ORDER BY v.Abfahrt\n",
    "LIMIT 10\n",
    "\n"
   ]
  },
  {
   "cell_type": "markdown",
   "metadata": {},
   "source": [
    "Sie finden in den Ergebnissen sicher eine Zeilen mit : Abfahrt 25:27. Das ist typisch für Bahn Systeme, kann aber manche Zeitfunktion Ihrer Datenbank aus dem Tritt bringen."
   ]
  },
  {
   "cell_type": "markdown",
   "metadata": {},
   "source": [
    "## Aufgabe 2: Sortierng"
   ]
  },
  {
   "cell_type": "markdown",
   "metadata": {
    "vscode": {
     "languageId": "sql"
    }
   },
   "source": [
    "Ihre Daten sind warscheinlich falsch sortiert, weil in den Daten '50000' angegeben ist. Der TIME  Datentyp in\n",
    "SQLite versteht aber nur '050000'. Das können Sie dann über einen LIKE Match und einen UPDATE fixen.\n",
    "Entwerfen Sie die entsprechene Query"
   ]
  },
  {
   "cell_type": "markdown",
   "metadata": {},
   "source": [
    "## Abfrage 3: Laufweg einer zufälligen Fahrt ✅\n",
    "\n",
    "Geben Sie alle Halte einer zufälligen (Hint: Subselect mit RANDOM()) Fahrt aus."
   ]
  },
  {
   "cell_type": "code",
   "execution_count": 8,
   "metadata": {
    "vscode": {
     "languageId": "sql"
    }
   },
   "outputs": [
    {
     "name": "stdout",
     "output_type": "stream",
     "text": [
      " * sqlite:///zugauskunft-kemper.db\n",
      "Done.\n"
     ]
    },
    {
     "data": {
      "text/html": [
       "<table>\n",
       "    <thead>\n",
       "        <tr>\n",
       "            <th>ZugNr</th>\n",
       "            <th>Name</th>\n",
       "            <th>Ankunft</th>\n",
       "            <th>Abfahrt</th>\n",
       "            <th>VonBahnhof</th>\n",
       "            <th>NachBahnhof</th>\n",
       "        </tr>\n",
       "    </thead>\n",
       "    <tbody>\n",
       "        <tr>\n",
       "            <td>1003122289</td>\n",
       "            <td>WBA4 Viechtach, Bahnhof/ZOB</td>\n",
       "            <td>04:50:00</td>\n",
       "            <td>04:50:00</td>\n",
       "            <td>Gotteszell</td>\n",
       "            <td>Ruhmannsfelden</td>\n",
       "        </tr>\n",
       "        <tr>\n",
       "            <td>1003122289</td>\n",
       "            <td>WBA4 Viechtach, Bahnhof/ZOB</td>\n",
       "            <td>04:55:00</td>\n",
       "            <td>04:55:00</td>\n",
       "            <td>Ruhmannsfelden</td>\n",
       "            <td>Patersdorf, Bahnhof</td>\n",
       "        </tr>\n",
       "        <tr>\n",
       "            <td>1003122289</td>\n",
       "            <td>WBA4 Viechtach, Bahnhof/ZOB</td>\n",
       "            <td>05:01:00</td>\n",
       "            <td>05:01:00</td>\n",
       "            <td>Patersdorf, Bahnhof</td>\n",
       "            <td>Teisnach Rohde&amp;Schwarz</td>\n",
       "        </tr>\n",
       "        <tr>\n",
       "            <td>1003122289</td>\n",
       "            <td>WBA4 Viechtach, Bahnhof/ZOB</td>\n",
       "            <td>05:03:00</td>\n",
       "            <td>05:03:00</td>\n",
       "            <td>Teisnach Rohde&amp;Schwarz</td>\n",
       "            <td>Teisnach</td>\n",
       "        </tr>\n",
       "        <tr>\n",
       "            <td>1003122289</td>\n",
       "            <td>WBA4 Viechtach, Bahnhof/ZOB</td>\n",
       "            <td>05:15:00</td>\n",
       "            <td>05:08:00</td>\n",
       "            <td>Teisnach</td>\n",
       "            <td>Gumpenried</td>\n",
       "        </tr>\n",
       "        <tr>\n",
       "            <td>1003122289</td>\n",
       "            <td>WBA4 Viechtach, Bahnhof/ZOB</td>\n",
       "            <td>05:22:00</td>\n",
       "            <td>05:22:00</td>\n",
       "            <td>Gumpenried</td>\n",
       "            <td>Schnitzmühle</td>\n",
       "        </tr>\n",
       "        <tr>\n",
       "            <td>1003122289</td>\n",
       "            <td>WBA4 Viechtach, Bahnhof/ZOB</td>\n",
       "            <td>05:32:00</td>\n",
       "            <td>05:32:00</td>\n",
       "            <td>Schnitzmühle</td>\n",
       "            <td>Viechtach, Bahnhof/ZOB</td>\n",
       "        </tr>\n",
       "    </tbody>\n",
       "</table>"
      ],
      "text/plain": [
       "[(1003122289, 'WBA4 Viechtach, Bahnhof/ZOB', '04:50:00', '04:50:00', 'Gotteszell', 'Ruhmannsfelden'),\n",
       " (1003122289, 'WBA4 Viechtach, Bahnhof/ZOB', '04:55:00', '04:55:00', 'Ruhmannsfelden', 'Patersdorf, Bahnhof'),\n",
       " (1003122289, 'WBA4 Viechtach, Bahnhof/ZOB', '05:01:00', '05:01:00', 'Patersdorf, Bahnhof', 'Teisnach Rohde&Schwarz'),\n",
       " (1003122289, 'WBA4 Viechtach, Bahnhof/ZOB', '05:03:00', '05:03:00', 'Teisnach Rohde&Schwarz', 'Teisnach'),\n",
       " (1003122289, 'WBA4 Viechtach, Bahnhof/ZOB', '05:15:00', '05:08:00', 'Teisnach', 'Gumpenried'),\n",
       " (1003122289, 'WBA4 Viechtach, Bahnhof/ZOB', '05:22:00', '05:22:00', 'Gumpenried', 'Schnitzmühle'),\n",
       " (1003122289, 'WBA4 Viechtach, Bahnhof/ZOB', '05:32:00', '05:32:00', 'Schnitzmühle', 'Viechtach, Bahnhof/ZOB')]"
      ]
     },
     "execution_count": 8,
     "metadata": {},
     "output_type": "execute_result"
    }
   ],
   "source": [
    "%%sql \n",
    "\n",
    "SELECT Zug.ZugNr, Zug.Name, verbindet.Ankunft, verbindet.Abfahrt, \n",
    "start.Name as VonBahnhof, end.Name as NachBahnhof\n",
    "FROM Zug, verbindet, Bahnhof AS start, Bahnhof AS end \n",
    "WHERE  \n",
    "verbindet.ZugNr = Zug.ZugNr AND  \n",
    "verbindet.VonBahnhof = start.BahnhofId AND \n",
    "verbindet.NachBahnhof = end.BahnhofId AND\n",
    "Zug.ZugNr = (SELECT ZugNr from Zug ORDER BY RANDOM() LIMIT 1)"
   ]
  },
  {
   "cell_type": "markdown",
   "metadata": {},
   "source": [
    "## Abfrage 3: Von Deggendorf nach Grafenau"
   ]
  },
  {
   "cell_type": "markdown",
   "metadata": {},
   "source": [
    "Wie komme ich von Deggendorf nach Grafenau? Gibt es einen einfachen Weg das in einer SQL Abfrage\n",
    "abzubilden?"
   ]
  }
 ],
 "metadata": {
  "kernelspec": {
   "display_name": "Python 3 (ipykernel)",
   "language": "python",
   "name": "python3"
  },
  "language_info": {
   "codemirror_mode": {
    "name": "ipython",
    "version": 3
   },
   "file_extension": ".py",
   "mimetype": "text/x-python",
   "name": "python",
   "nbconvert_exporter": "python",
   "pygments_lexer": "ipython3",
   "version": "3.12.0"
  }
 },
 "nbformat": 4,
 "nbformat_minor": 4
}
