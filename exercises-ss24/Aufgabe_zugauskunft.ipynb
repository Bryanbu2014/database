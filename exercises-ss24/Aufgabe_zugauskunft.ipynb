{
 "cells": [
  {
   "cell_type": "markdown",
   "metadata": {
    "tags": []
   },
   "source": [
    "# Übung Datenbanken: Ein Zugauskunfssystem\n",
    "![](https://www.klipfel-mathys.ch/images/imagesCAUM394L.jpg)"
   ]
  },
  {
   "cell_type": "code",
   "execution_count": null,
   "metadata": {},
   "outputs": [],
   "source": [
    "# Hier ist nur Code zum Initialisieren der Umgebeung, bitte gehen Sie weiter, es gibt nichts zu sehen.\n",
    "\n",
    "# Keine langen Fehlermeldungen\n",
    "import sys\n",
    "ipython = get_ipython()\n",
    "\n",
    "def exception_handler(exception_type, exception, traceback):\n",
    "    print(\"%s: %s\" % (exception_type.__name__, exception), file=sys.stderr)\n",
    "\n",
    "ipython._showtraceback = exception_handler\n",
    "\n",
    "!wget -qOzugauskunft-kemper.db 'https://nextcloud.th-deg.de/s/Kc7m486Z3KbZyB4/download?path=%2F&files=zugauskunft-kemper.db'\n",
    "\n",
    "# Lade die Erweiterung, damit wir SQL Befehle nutzen können\n",
    "%reload_ext sql\n",
    "%sql sqlite:///zugauskunft-kemper.db\n",
    "%sql PRAGMA foreign_keys = ON"
   ]
  },
  {
   "cell_type": "markdown",
   "metadata": {
    "tags": []
   },
   "source": [
    "# Aufgabe\n",
    "\n",
    "Nachdem wir in der letzten Aufgabe unsere Daten in folgendes Datenmodell importiert haben:\n",
    "\n",
    "![](https://nextcloud.th-deg.de/s/Kc7m486Z3KbZyB4/download?path=%2F&files=bahn-er.png)\n",
    "\n",
    "Wollen wir in dieser Aufgabe einige Abfragen auf diesem Modell entwerfen."
   ]
  },
  {
   "cell_type": "code",
   "execution_count": null,
   "metadata": {},
   "outputs": [],
   "source": [
    "!echo \".schema\" | sqlite3 zugauskunft-kemper.db"
   ]
  },
  {
   "cell_type": "markdown",
   "metadata": {},
   "source": [
    "### Abfrage 1: Abfahrten in Deggendorf\n",
    "\n",
    "Entwerfen Sie eine Abfrage, die alle Abfahrten in Deggendorf anzeigt. Geben Sie die Zugnummer, den Namen, den Start- und Endbahnhof sowie die Abfahrtszeit aus."
   ]
  },
  {
   "cell_type": "code",
   "execution_count": null,
   "metadata": {},
   "outputs": [],
   "source": [
    "%sql SELECT ZugNr,MIN(Abfahrt) as Abfahrt FROM verbindet GROUP BY ZugNr LIMIT 10;"
   ]
  },
  {
   "cell_type": "code",
   "execution_count": null,
   "metadata": {},
   "outputs": [],
   "source": [
    "%%sql\n",
    "SELECT Zug.ZugNr, Zug.Name, verbindet.Abfahrt, start.Name as Startbahnhof, end.Name as Endbahnhof\n",
    "FROM Zug\n",
    "JOIN Bahnhof AS start\n",
    "ON(Zug.StartBhf = start.BahnhofId)\n",
    "JOIN Bahnhof AS end\n",
    "ON(Zug.EndBhf = end.BahnhofId)\n",
    "JOIN (SELECT ZugNr,MIN(Abfahrt) as Abfahrt FROM verbindet GROUP BY ZugNr)\n",
    "AS verbindet\n",
    "USING(ZugNr)\n",
    "WHERE Startbahnhof LIKE 'Deggendorf%'\n",
    "ORDER BY Abfahrt ASC;\n",
    "\n"
   ]
  },
  {
   "cell_type": "markdown",
   "metadata": {},
   "source": [
    "Sie finden in den Ergebnissen sicher eine Zeilen mit : Abfahrt 25:27. Das ist typisch für Bahn Systeme, kann aber manche Zeitfunktion Ihrer Datenbank aus dem Tritt bringen."
   ]
  },
  {
   "cell_type": "markdown",
   "metadata": {},
   "source": [
    "## Aufgabe 2: Sortierng"
   ]
  },
  {
   "cell_type": "markdown",
   "metadata": {},
   "source": [
    "## Abfrage 3: Laufweg einer zufälligen Fahrt\n",
    "\n",
    "Geben Sie alle Halte einer zufälligen (Hint: Subselect mit RANDOM()) Fahrt aus."
   ]
  },
  {
   "cell_type": "markdown",
   "metadata": {},
   "source": [
    "### Abfrage 3: Von Deggendorf nach Grafenau\n",
    "\n",
    "Wie komme ich von Deggendorf nach Grafenau? Gibt es einen einfachen Weg das in einer SQL Abfrage abzubilden?"
   ]
  }
 ],
 "metadata": {
  "kernelspec": {
   "display_name": "Python 3 (ipykernel)",
   "language": "python",
   "name": "python3"
  },
  "language_info": {
   "codemirror_mode": {
    "name": "ipython",
    "version": 3
   },
   "file_extension": ".py",
   "mimetype": "text/x-python",
   "name": "python",
   "nbconvert_exporter": "python",
   "pygments_lexer": "ipython3",
   "version": "3.9.6"
  }
 },
 "nbformat": 4,
 "nbformat_minor": 4
}
