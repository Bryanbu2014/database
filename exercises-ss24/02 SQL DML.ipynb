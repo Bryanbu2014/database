{
 "cells": [
  {
   "cell_type": "markdown",
   "metadata": {},
   "source": [
    "<center>\n",
    "<a href=\"https://dilbert.com/strip/1995-11-17\"><img src=\"https://assets.amuniversal.com/b1e4d2d09fcd012f2fe600163e41dd5b\" width=\"60%\" /></a>\n",
    "</center>"
   ]
  },
  {
   "cell_type": "code",
   "execution_count": 1,
   "metadata": {},
   "outputs": [
    {
     "name": "stdout",
     "output_type": "stream",
     "text": [
      " * sqlite:///\n",
      "Done.\n"
     ]
    },
    {
     "data": {
      "text/plain": [
       "[]"
      ]
     },
     "execution_count": 1,
     "metadata": {},
     "output_type": "execute_result"
    }
   ],
   "source": [
    "# Hier ist nur Code zum Initialisieren der Umgebeung, bitte gehen Sie weiter, es gibt nichts zu sehen.\n",
    "\n",
    "# Keine langen Fehlermeldungen\n",
    "import sys\n",
    "ipython = get_ipython()\n",
    "\n",
    "def exception_handler(exception_type, exception, traceback):\n",
    "    print(\"%s: %s\" % (exception_type.__name__, exception), file=sys.stderr)\n",
    "\n",
    "ipython._showtraceback = exception_handler\n",
    "\n",
    "# Lade die Erweiterung, damit wir SQL Befehle nutzen können\n",
    "%reload_ext sql\n",
    "# Verbinde Dich zu einer in - Memory Datenbank\n",
    "%sql sqlite:///\n",
    "%sql PRAGMA foreign_keys = ON"
   ]
  },
  {
   "cell_type": "markdown",
   "metadata": {},
   "source": [
    "# 1. Data Manipulation Language \n",
    "<a name=\"dml\">\n",
    "</a>\n",
    "Dieser Term bezeichnet den Teil von SQL mit dem\n",
    "\n",
    "- Erzeugen, ändern und löschen von Tupeln\n",
    "- Abfragen von Relationen, **lesen** von Tupeln\n",
    "\n",
    "beschäftigt. Bevor wir beginnen müssen wir unsere Datenbank neu anlegen (Sie erinnern sich sicher: In-Memory Datenbank)."
   ]
  },
  {
   "cell_type": "code",
   "execution_count": 2,
   "metadata": {},
   "outputs": [
    {
     "name": "stdout",
     "output_type": "stream",
     "text": [
      " * sqlite:///\n",
      "Done.\n",
      "Done.\n",
      "Done.\n",
      "Done.\n"
     ]
    },
    {
     "data": {
      "text/plain": [
       "[]"
      ]
     },
     "execution_count": 2,
     "metadata": {},
     "output_type": "execute_result"
    }
   ],
   "source": [
    "%%sql\n",
    "CREATE TABLE IF NOT EXISTS Kunde(\n",
    "    Kundennummer INTEGER PRIMARY KEY NOT NULL,\n",
    "    Vorname TEXT,\n",
    "    Nachname TEXT CONSTRAINT ImmerNachname NOT NULL,\n",
    "    Wohnort TEXT,\n",
    "    PLZ INTEGER CHECK (PLZ BETWEEN 9999 AND 100000),\n",
    "    Adresse TEXT,\n",
    "    Geburtstag DATE\n",
    ");\n",
    "\n",
    "CREATE TABLE IF NOT EXISTS Bestellung(\n",
    "    Bestellnummer INTEGER PRIMARY KEY NOT NULL,\n",
    "    Kunde INTEGER FOREIGN_KEY REFERENCES Kunde(Kundennummer),\n",
    "    Bestelldatum TIMESTAMP DEFAULT CURRENT_TIMESTAMP\n",
    ");\n",
    "\n",
    "CREATE TABLE IF NOT EXISTS Artikel(\n",
    "    Artikelnummer INTEGER NOT NULL,\n",
    "    Name TEXT,\n",
    "    Lagermenge INTEGER,\n",
    "    PRIMARY KEY (Artikelnummer)\n",
    ");\n",
    "\n",
    "CREATE TABLE IF NOT EXISTS enthaelt(\n",
    "    Bestellung INTEGER NOT NULL,\n",
    "    Artikel INTEGER NOT NULL,\n",
    "    Menge Integer DEFAULT 1,\n",
    "    FOREIGN KEY(Artikel) REFERENCES Artikel(Artikelnummer),\n",
    "    FOREIGN KEY(Bestellung) REFERENCES Bestellung(Bestellnummer),\n",
    "    PRIMARY KEY(Bestellung, Artikel)\n",
    ");"
   ]
  },
  {
   "cell_type": "markdown",
   "metadata": {},
   "source": [
    "Der Aufbau der Lerneinheit ist wie folgt:\n",
    "\n",
    "\n",
    "<a href=\"#dml\">1. Data Manipulation Language</a><br/>\n",
    "<a href=\"#11\">1.1 Einfügen von Daten</a><br/>\n",
    "<a href=\"#12\">1.2 Ändern von Datensätzen</a><br/>\n",
    "<a href=\"#13\">1.3 Löschen von Datensätzen</a><br/>\n",
    "<a href=\"#2\">2. Abfragen von Datenbanken</a><br/>\n",
    "<a href=\"#21\">2.1 Einfache SELECT Abfragen</a><br/>\n",
    "<a href=\"#22\">2.2 Umbenennungen</a><br/>\n",
    "<a href=\"#23\">2.3 Komplexere SELECT Abfragen</a><br/>\n",
    "<a href=\"#24\">2.4 Subselects</a><br/>\n",
    "<a href=\"#3\">3. WHERE: Filtern der Ergebnisse</a><br/>\n",
    "<a href=\"#31\">3.1 Logische Operationen</a><br/>\n",
    "<a href=\"#32\">3.2 Mengenwertige Abfragen</a><br/>\n",
    "<a href=\"#33\">3.3 Suche in Texten</a><br/>\n",
    "<a href=\"#4\">4. Abfragen über mehrere Tabellen: JOINS</a><br/>\n",
    "<a href=\"#41\">4.1 Die verschiedenen Joins</a><br/>\n",
    "<a href=\"#5\">5. Mehr SQL</a><br/>\n",
    "<a href=\"#51\">5.1 Sortieren und Limitieren</a><br/>\n",
    "<a href=\"#52\">5.2 Gruppieren</a><br/>\n",
    "<a href=\"#53\">5.3 Transaktionen am Beispiel</a><br/>\n"
   ]
  },
  {
   "cell_type": "markdown",
   "metadata": {},
   "source": [
    "<a name=\"11\">\n",
    "</a>\n",
    "\n",
    "# 1.1 Einfügen von Daten in eine Datenbank\n",
    "\n",
    "[![https://www.sqlite.org/images/syntax/insert-stmt.gif](https://www.sqlite.org/images/syntax/insert-stmt.gif)](https://www.sqlite.org/lang_insert.html)\n",
    "\n",
    "Inzwischen haben wir gelernt wie wir Tabellen anlegen, nun ist die Frage, wie wir Daten dort speichern können. Dazu verwenden wir den `INSERT` Befehl indem wir angeben in welche Tabelle wir einfügen wollen (`INTO` < Tabellenname >), eine Liste der Attribute angeben, deren Werte gleich Folgen (hier: Nachname, Vorname) und dann die Liste der Werte (`VALUES` (...)). Normalerweise können Sie auch mehrere dieser Wertlisten angeben. Das obige Bild zeigt das Selbe aber mit allen Optionen die SQLite unterstützt. Das Meiste ist Konfliktbehandlung im Fall dass ein Tupel nicht eingefügt werden kann, weil z.B. der PK bereits benutzt wird.\n",
    "\n",
    "```\n",
    "INSERT INTO <Tabellenname>\n",
    "  (<Attribut1>, <Attribut2>, ... <AttributN>)\n",
    "VALUES\n",
    "  (<AttributWert1>, <AttributWert2>, ... <AttributWertN>)\n",
    "```\n",
    "\n",
    "Oben angegeben ist der Standardfall. Sie sehen im Bild darüber noch die Möglichkeit ein `SELECT` Statement anzugeben. Somit können Sie einen neue Tabelle mit vorhandenen Daten aus einer Abfrage befüllen.\n",
    "\n",
    "<div class=aufgabe>\n",
    "Warum ist es wohl praktisch, wenn man die Attribute die eingefügt werden vorher angeben kann? Weil man so nicht immer alle Attribute angeben muss!\n",
    "</div>\n",
    "<br/>\n",
    "\n",
    "Wir legen im Folgenden unsere Ersten Datensätze an, um das zu üben:"
   ]
  },
  {
   "cell_type": "markdown",
   "metadata": {},
   "source": [
    "### Kunden Anlegen:\n",
    "\n",
    "Als erstes Legen wir den Benutzer Elser an. Wir kennnen von diesem Kunden nur Namen und Vornamen. Dafür erstellen wir einen INSERT Befehl. Als zweites legen wir zwei weitere Benutzer an: Die Herren Schneeberger und Berg in diesem Fall kennen wir den Ort und legen diesen zusätzlich an. Beachten Sie: Wir legen die beiden Benutzer in einem einzigen Ausdruck an."
   ]
  },
  {
   "cell_type": "code",
   "execution_count": 3,
   "metadata": {},
   "outputs": [
    {
     "name": "stdout",
     "output_type": "stream",
     "text": [
      " * sqlite:///\n",
      "1 rows affected.\n",
      "2 rows affected.\n"
     ]
    },
    {
     "data": {
      "text/plain": [
       "[]"
      ]
     },
     "execution_count": 3,
     "metadata": {},
     "output_type": "execute_result"
    }
   ],
   "source": [
    "%%sql\n",
    "INSERT INTO Kunde(Nachname,Vorname) VALUES ('Elser', 'Benedikt');\n",
    "INSERT INTO Kunde(Nachname,Vorname,Wohnort) VALUES ('Berg', 'Waldemar','San Francisco'), ('Schneeberger', 'Josef', 'London');"
   ]
  },
  {
   "cell_type": "markdown",
   "metadata": {},
   "source": [
    "Ob alles geklappt hat können wir mit dem einfachsten Abfrage Befehl auf die Kundentabelle prüfen (auch hier wieder der SELECT DML Befehl, den wir später erst bearbeiten):"
   ]
  },
  {
   "cell_type": "code",
   "execution_count": 7,
   "metadata": {},
   "outputs": [
    {
     "name": "stdout",
     "output_type": "stream",
     "text": [
      " * sqlite:///\n",
      "Done.\n"
     ]
    },
    {
     "data": {
      "text/html": [
       "<table>\n",
       "    <tr>\n",
       "        <th>Kundennummer</th>\n",
       "        <th>Vorname</th>\n",
       "        <th>Nachname</th>\n",
       "        <th>Wohnort</th>\n",
       "        <th>PLZ</th>\n",
       "        <th>Adresse</th>\n",
       "        <th>Geburtstag</th>\n",
       "    </tr>\n",
       "    <tr>\n",
       "        <td>1</td>\n",
       "        <td>Benedikt</td>\n",
       "        <td>Elser</td>\n",
       "        <td>Deggendorf</td>\n",
       "        <td>94469</td>\n",
       "        <td>None</td>\n",
       "        <td>None</td>\n",
       "    </tr>\n",
       "    <tr>\n",
       "        <td>2</td>\n",
       "        <td>Waldemar</td>\n",
       "        <td>Berg</td>\n",
       "        <td>San Francisco</td>\n",
       "        <td>None</td>\n",
       "        <td>None</td>\n",
       "        <td>None</td>\n",
       "    </tr>\n",
       "    <tr>\n",
       "        <td>3</td>\n",
       "        <td>Josef</td>\n",
       "        <td>Schneeberger</td>\n",
       "        <td>Deggendorf</td>\n",
       "        <td>94469</td>\n",
       "        <td>None</td>\n",
       "        <td>None</td>\n",
       "    </tr>\n",
       "</table>"
      ],
      "text/plain": [
       "[(1, 'Benedikt', 'Elser', 'Deggendorf', 94469, None, None),\n",
       " (2, 'Waldemar', 'Berg', 'San Francisco', None, None, None),\n",
       " (3, 'Josef', 'Schneeberger', 'Deggendorf', 94469, None, None)]"
      ]
     },
     "execution_count": 7,
     "metadata": {},
     "output_type": "execute_result"
    }
   ],
   "source": [
    "%%sql\n",
    "SELECT * FROM Kunde;"
   ]
  },
  {
   "cell_type": "markdown",
   "metadata": {},
   "source": [
    "Wie Sie Sehen ist alles gut gelaufen. Und ohne dass wir die KundenId angegeben haben ist sie automatisch für uns erstellt worden."
   ]
  },
  {
   "cell_type": "markdown",
   "metadata": {},
   "source": [
    "<a name=\"12\">\n",
    "</a>\n",
    "\n",
    "## 1.2 Ändern von Daten in der Datenbank\n",
    "[![https://www.sqlite.org/images/syntax/update-stmt.gif](https://www.sqlite.org/images/syntax/update-stmt.gif)](https://www.sqlite.org/lang_update.html)\n",
    "\n",
    "```\n",
    "UPDATE <Tabellenname>\n",
    "SET\n",
    "  (<Attribut1>=<Wert>, <Attribut>=<Wert2>, ... <AttributN>=<WertN>)\n",
    "WHERE\n",
    "  <Logischer Ausdruck>\n",
    "```\n",
    "\n",
    "\n",
    "Wollen wir nun einen Datensatz ändern (UPDATE) ist die Syntax ähnlich wie der INSERT Ausdruck. Nur muss man eben noch angeben welchen Datensatz man ändern will. Daher ist meistens noch eine Selektion als `WHERE` Bedingung im Audruck dabei. Lassen wir das WHERE weg, **ändern wir alle Tupel in der Tabelle**.\n",
    "\n",
    "Wenn wir also den Kunden Elser und Schneeberger als Ort \"Deggendorf\" PLZ 94469 setzen wollen machen wir das wie folgt:"
   ]
  },
  {
   "cell_type": "code",
   "execution_count": 6,
   "metadata": {},
   "outputs": [
    {
     "name": "stdout",
     "output_type": "stream",
     "text": [
      " * sqlite:///\n",
      "2 rows affected.\n"
     ]
    },
    {
     "data": {
      "text/plain": [
       "[]"
      ]
     },
     "execution_count": 6,
     "metadata": {},
     "output_type": "execute_result"
    }
   ],
   "source": [
    "%sql UPDATE Kunde SET Wohnort = 'Deggendorf', PLZ = 94469 WHERE Nachname = 'Elser' OR Nachname = 'Schneeberger';"
   ]
  },
  {
   "cell_type": "markdown",
   "metadata": {},
   "source": [
    "<a name=\"13\">\n",
    "</a>\n",
    "\n",
    "## 1.3 Löschen von Daten aus der Datenbank\n",
    "[![https://www.sqlite.org/images/syntax/delete-stmt.gif](https://www.sqlite.org/images/syntax/delete-stmt.gif)](https://www.sqlite.org/lang_delete.html)\n",
    "\n",
    "```\n",
    "DELETE FROM <Tabellenname>\n",
    "WHERE\n",
    "  <Logischer Ausdruck>\n",
    "```\n",
    "\n",
    "Schließlich ist auch die Syntax zum Löschen recht ähnlich: Sie Deklarieren aus welcher Datenbank Sie löschen wollen und filtern welche Datensätze (Tupel) der Tabelle nicht mehr gebraucht werden.:"
   ]
  },
  {
   "cell_type": "code",
   "execution_count": 8,
   "metadata": {},
   "outputs": [
    {
     "name": "stdout",
     "output_type": "stream",
     "text": [
      " * sqlite:///\n",
      "0 rows affected.\n"
     ]
    },
    {
     "data": {
      "text/plain": [
       "[]"
      ]
     },
     "execution_count": 8,
     "metadata": {},
     "output_type": "execute_result"
    }
   ],
   "source": [
    "%sql DELETE from Kunde where Nachname = 'Elser aber dann doch auch nicht';"
   ]
  },
  {
   "cell_type": "markdown",
   "metadata": {},
   "source": [
    "# 2. Abfragen von Datenbanken `SELECT`\n",
    "\n",
    "[![https://www.sqlite.org/images/syntax/select-stmt.gif](https://www.sqlite.org/images/syntax/select-stmt.gif)](https://www.sqlite.org/lang_select.html)\n",
    "\n",
    "In der Einführung haben wir gesehen, wie man Tabellen ablegt und diese mit Daten füllt. Wie können wir aber auf diese Daten zugreifen? In unserem Eingangsbeispiel sahen wir, dass die Datenbanksprache SQL sehr dem Englischen entlehnt ist. Daher ist es intuitiv möglich den Zweck eines einfachen Aufrufs zu verstehen. In der Vorlesung hatten wir früh unseren ersten SELECT Befehl gesehen, der eine **Restriktion** und eine **Projektion** enthielt, um damit die Anzahl der Werte und die Anzahl der Attribute einzuschränken. Der SELECT Befehl gibt uns die Inhalte einer Tabelle zurück. Um dies zu tun braucht er zwei Informationen:\n",
    "\n",
    "- **SELECT Teil:** Was soll zurück gegeben werden? (Projektion)\n",
    "- **FROM Teil**: Woher sollen die Inhalte kommen?\n",
    "\n",
    "Optional hinzu kommt meistens noch ein weiterer Teil:\n",
    "\n",
    "- **WHERE Teil**: Filtern (Restriktion) der Ergebnisse\n",
    "\n",
    "Und noch weitere **optinale** Teile. Dem obigen Bild nach zu urteilen ist `SELECT`der mächtigste Befehl, dieser Eindruck täuscht auch nicht. Wir fangen einfach an und arbeiten uns in den folgenden Kapiteln vor. Vorher brauchen wir aber auch etwas mehr Daten, um das auch richtig auszureizen. Daher laden wir im folgenden eine größere Datenbank."
   ]
  },
  {
   "cell_type": "code",
   "execution_count": 9,
   "metadata": {},
   "outputs": [
    {
     "name": "stdout",
     "output_type": "stream",
     "text": [
      "rm: cannot remove 'bestellungen.db': No such file or directory\n",
      "   sqlite:///\n",
      " * sqlite:///bestellungen.db\n",
      "Done.\n"
     ]
    },
    {
     "data": {
      "text/html": [
       "<table>\n",
       "    <tr>\n",
       "        <th>COUNT(*)</th>\n",
       "    </tr>\n",
       "    <tr>\n",
       "        <td>100000</td>\n",
       "    </tr>\n",
       "</table>"
      ],
      "text/plain": [
       "[(100000,)]"
      ]
     },
     "execution_count": 9,
     "metadata": {},
     "output_type": "execute_result"
    }
   ],
   "source": [
    "%reload_ext sql\n",
    "%rm bestellungen.db\n",
    "!wget -qO- https://nextcloud.th-deg.de/s/ZjR7A3QgH7ydHRF/download | sqlite3 bestellungen.db \n",
    "%sql sqlite:///bestellungen.db\n",
    "%sql SELECT COUNT(*) FROM Bestellung;\n"
   ]
  },
  {
   "cell_type": "markdown",
   "metadata": {},
   "source": [
    "## 2.1 Abfragen über eine Tabelle (Einfache SELECT Abfragen)\n",
    "\n",
    "Wir erinnern uns an den Ersten SQL Befehl zu Beginn des Skripts:\n",
    "\n",
    "```\n",
    "SELECT Name,Vorname,Geburtstag FROM Kunden WHERE Ort = 'Plattling';\n",
    "```\n",
    "\n",
    "Und leiten also einen grundsätzlichen Aufbau wie folgt ab:\n",
    "\n",
    "```\n",
    "SELECT <Attribute> FROM <Tabellenliste> [WHERE <Filter>] [OPTIONEN]\n",
    "```\n",
    "\n",
    "Wir haben also zwei fixe Blöcke, die wir uns nun genauer ansehen. Im SELECT Teil werden die Spalten der Tabelle angegeben, die ausgegeben werden sollen. Im FROM Teil der Abfrage spezifizerien Sie, woher die Daten denn herkommen sollen. Dazu geben Sie im einfachsten Fall den Namen einer Tabelle an, z.B. `Kunde`. Komplexere Angaben betrachten wir [später](#joins). Eine wichtige Option sei hier noch angesprochen `LIMIT <Zahl>` gibt nur die `<Zahl>` ersten (je nach Sortierung) Tupel zurück. Wir verwenden das aus Gründen der Übersichtlichkeit häufig. **Probieren Sie es ruhig aus und entfernen Sie den Zusatz um alle Daten zu sehen!**"
   ]
  },
  {
   "cell_type": "markdown",
   "metadata": {},
   "source": [
    "### 2.1 Der Stern Operator *: Alle Attribute anzeigen\n",
    "\n",
    "Ihnen ist in den Beispielen sicher bereits aufgefallen, dass ich oft Ausdrücke wie `SELECT * FROM ...` verwende. Der Stern ist eine Abkürzung für alle verfügbaren Attribute aller Tabellen die Sie abfragen. Wenn Sie entweder alle diese auch sehen wollen, oder keine Lust haben die interessanten Attribute aufzulisten können Sie sich das Leben mit dem `*` einfach machen.\n",
    "\n",
    "Im Text oben stelt *alle attribute aller Tabellen*. Wenn Sie auf alle Attribute einer **bestimmten** Tabelle (die Sie im `FROM`Teil verwenden) zugreifen wollen, können Sie auch den Namen der Tabelle.* verwenden. Also z.B. "
   ]
  },
  {
   "cell_type": "code",
   "execution_count": 10,
   "metadata": {},
   "outputs": [
    {
     "name": "stdout",
     "output_type": "stream",
     "text": [
      "   sqlite:///\n",
      " * sqlite:///bestellungen.db\n",
      "Done.\n"
     ]
    },
    {
     "data": {
      "text/html": [
       "<table>\n",
       "    <tr>\n",
       "        <th>Kundennummer</th>\n",
       "        <th>Vorname</th>\n",
       "        <th>Nachname</th>\n",
       "        <th>Wohnort</th>\n",
       "        <th>PLZ</th>\n",
       "        <th>Adresse</th>\n",
       "        <th>Geburtstag</th>\n",
       "    </tr>\n",
       "    <tr>\n",
       "        <td>1</td>\n",
       "        <td>Benedikt</td>\n",
       "        <td>Elser</td>\n",
       "        <td>None</td>\n",
       "        <td>None</td>\n",
       "        <td>None</td>\n",
       "        <td>None</td>\n",
       "    </tr>\n",
       "    <tr>\n",
       "        <td>2</td>\n",
       "        <td>Waldemar</td>\n",
       "        <td>Berg</td>\n",
       "        <td>San Francisco</td>\n",
       "        <td>None</td>\n",
       "        <td>None</td>\n",
       "        <td>None</td>\n",
       "    </tr>\n",
       "    <tr>\n",
       "        <td>3</td>\n",
       "        <td>Josef</td>\n",
       "        <td>Schneeberger</td>\n",
       "        <td>London</td>\n",
       "        <td>None</td>\n",
       "        <td>None</td>\n",
       "        <td>None</td>\n",
       "    </tr>\n",
       "    <tr>\n",
       "        <td>4</td>\n",
       "        <td>Fred</td>\n",
       "        <td>Merriweather</td>\n",
       "        <td>Landshut</td>\n",
       "        <td>84036</td>\n",
       "        <td>None</td>\n",
       "        <td>1983-06-12</td>\n",
       "    </tr>\n",
       "    <tr>\n",
       "        <td>5</td>\n",
       "        <td>Juan</td>\n",
       "        <td>Kinlaw</td>\n",
       "        <td>Landshut</td>\n",
       "        <td>84036</td>\n",
       "        <td>None</td>\n",
       "        <td>1986-03-23</td>\n",
       "    </tr>\n",
       "    <tr>\n",
       "        <td>6</td>\n",
       "        <td>John</td>\n",
       "        <td>Middleton</td>\n",
       "        <td>Landshut</td>\n",
       "        <td>84036</td>\n",
       "        <td>None</td>\n",
       "        <td>1998-01-03</td>\n",
       "    </tr>\n",
       "    <tr>\n",
       "        <td>7</td>\n",
       "        <td>Annette</td>\n",
       "        <td>Marshall</td>\n",
       "        <td>Passau</td>\n",
       "        <td>90123</td>\n",
       "        <td>None</td>\n",
       "        <td>1989-08-03</td>\n",
       "    </tr>\n",
       "    <tr>\n",
       "        <td>8</td>\n",
       "        <td>Nathan</td>\n",
       "        <td>Barney</td>\n",
       "        <td>Deggendorf</td>\n",
       "        <td>99469</td>\n",
       "        <td>None</td>\n",
       "        <td>1987-08-26</td>\n",
       "    </tr>\n",
       "    <tr>\n",
       "        <td>9</td>\n",
       "        <td>Annette</td>\n",
       "        <td>Caplan</td>\n",
       "        <td>Passau</td>\n",
       "        <td>90123</td>\n",
       "        <td>None</td>\n",
       "        <td>1990-08-27</td>\n",
       "    </tr>\n",
       "    <tr>\n",
       "        <td>10</td>\n",
       "        <td>Richard</td>\n",
       "        <td>Abdelhamid</td>\n",
       "        <td>Landshut</td>\n",
       "        <td>84036</td>\n",
       "        <td>None</td>\n",
       "        <td>2008-06-01</td>\n",
       "    </tr>\n",
       "</table>"
      ],
      "text/plain": [
       "[(1, 'Benedikt', 'Elser', None, None, None, None),\n",
       " (2, 'Waldemar', 'Berg', 'San Francisco', None, None, None),\n",
       " (3, 'Josef', 'Schneeberger', 'London', None, None, None),\n",
       " (4, 'Fred', 'Merriweather', 'Landshut', 84036, None, '1983-06-12'),\n",
       " (5, 'Juan', 'Kinlaw', 'Landshut', 84036, None, '1986-03-23'),\n",
       " (6, 'John', 'Middleton', 'Landshut', 84036, None, '1998-01-03'),\n",
       " (7, 'Annette', 'Marshall', 'Passau', 90123, None, '1989-08-03'),\n",
       " (8, 'Nathan', 'Barney', 'Deggendorf', 99469, None, '1987-08-26'),\n",
       " (9, 'Annette', 'Caplan', 'Passau', 90123, None, '1990-08-27'),\n",
       " (10, 'Richard', 'Abdelhamid', 'Landshut', 84036, None, '2008-06-01')]"
      ]
     },
     "execution_count": 10,
     "metadata": {},
     "output_type": "execute_result"
    }
   ],
   "source": [
    "%sql SELECT Kunde.* FROM Kunde LIMIT 10;"
   ]
  },
  {
   "cell_type": "markdown",
   "metadata": {},
   "source": [
    "<a name=\"22\">\n",
    "</a>\n",
    "\n",
    "## 2.2 Umbenennen mit AS\n",
    "\n",
    "Sie können Aliase für Tabellen und Spalen vergeben. Das erhöt die Lesbarkeit Ihrer Abfrage und hilft Ihnen beim Tippen. Wenn Sie im SELECT Teil aliase verwenden benennen Sie gleichzeitig die Ergenbnis Spalte um. \n",
    "\n",
    "Beispielsweise übersetzen wir im Folgenden die **Vor und Nachnamen Spalten** ins Englische und sprechen die Kundentabelle als **kd** an:"
   ]
  },
  {
   "cell_type": "code",
   "execution_count": 11,
   "metadata": {},
   "outputs": [
    {
     "name": "stdout",
     "output_type": "stream",
     "text": [
      "   sqlite:///\n",
      " * sqlite:///bestellungen.db\n",
      "Done.\n"
     ]
    },
    {
     "data": {
      "text/html": [
       "<table>\n",
       "    <tr>\n",
       "        <th>First Name</th>\n",
       "        <th>Last Name</th>\n",
       "    </tr>\n",
       "    <tr>\n",
       "        <td>Benedikt</td>\n",
       "        <td>Elser</td>\n",
       "    </tr>\n",
       "    <tr>\n",
       "        <td>Waldemar</td>\n",
       "        <td>Berg</td>\n",
       "    </tr>\n",
       "</table>"
      ],
      "text/plain": [
       "[('Benedikt', 'Elser'), ('Waldemar', 'Berg')]"
      ]
     },
     "execution_count": 11,
     "metadata": {},
     "output_type": "execute_result"
    }
   ],
   "source": [
    "%sql SELECT kd.Vorname AS 'First Name', kd.Nachname AS 'Last Name' from Kunde as kd LIMIT 2;"
   ]
  },
  {
   "cell_type": "markdown",
   "metadata": {},
   "source": [
    "<div class=\"info\">\n",
    "    Sie wollen gleich erfahren, wie man Anfragen auch filtert? Dann springen Sie zum Kapitel <a href=\"#where\">WHERE</a>\n",
    "    <br>\n",
    "</div>"
   ]
  },
  {
   "cell_type": "markdown",
   "metadata": {},
   "source": [
    "<a name=\"23\">\n",
    "</a>\n",
    "    \n",
    "## 2.3 Komplexeres SELECT\n",
    "\n",
    "Bevor das Ergebnis final ausgegeben wird, können Sie diese im SELECT Block noch einmal anfassen. Übliche Operationen sind z.B., dass man nicht die Werte selbst betrachtet, sondern nur an der Anzahl der Werte interessiert ist (`COUNT` Operator) oder skalare Funktonen (z.B. das maximum aller Werte `MAX`) mit numerischen Daten durchführt. Außerdem kann man bereits dort Text verarbeiten lassen, was nach dem Auslesen der Daten in z.B. EXCEL oft umständlich ist.\n",
    "\n",
    "Mathematische Operationen können Sie natürlich ebenfalls verwenden, wie die folgende Division durch  1000 um die erste Stelle der Postleitzahl zu errechnen."
   ]
  },
  {
   "cell_type": "code",
   "execution_count": 14,
   "metadata": {},
   "outputs": [
    {
     "name": "stdout",
     "output_type": "stream",
     "text": [
      "   sqlite:///\n",
      " * sqlite:///bestellungen.db\n",
      "Done.\n"
     ]
    },
    {
     "data": {
      "text/html": [
       "<table>\n",
       "    <tr>\n",
       "        <th>Postleitzahlenbereich</th>\n",
       "        <th>Vorname</th>\n",
       "        <th>Nachname</th>\n",
       "    </tr>\n",
       "    <tr>\n",
       "        <td>None</td>\n",
       "        <td>Benedikt</td>\n",
       "        <td>Elser</td>\n",
       "    </tr>\n",
       "    <tr>\n",
       "        <td>None</td>\n",
       "        <td>Waldemar</td>\n",
       "        <td>Berg</td>\n",
       "    </tr>\n",
       "    <tr>\n",
       "        <td>None</td>\n",
       "        <td>Josef</td>\n",
       "        <td>Schneeberger</td>\n",
       "    </tr>\n",
       "    <tr>\n",
       "        <td>8</td>\n",
       "        <td>Fred</td>\n",
       "        <td>Merriweather</td>\n",
       "    </tr>\n",
       "    <tr>\n",
       "        <td>8</td>\n",
       "        <td>Juan</td>\n",
       "        <td>Kinlaw</td>\n",
       "    </tr>\n",
       "</table>"
      ],
      "text/plain": [
       "[(None, 'Benedikt', 'Elser'),\n",
       " (None, 'Waldemar', 'Berg'),\n",
       " (None, 'Josef', 'Schneeberger'),\n",
       " (8, 'Fred', 'Merriweather'),\n",
       " (8, 'Juan', 'Kinlaw')]"
      ]
     },
     "execution_count": 14,
     "metadata": {},
     "output_type": "execute_result"
    }
   ],
   "source": [
    "%sql SELECT PLZ/10000 as Postleitzahlenbereich,Vorname,Nachname from Kunde LIMIT 5;"
   ]
  },
  {
   "cell_type": "markdown",
   "metadata": {},
   "source": [
    "### 2.3.1 Funktionen\n",
    "SQL bietet [einige Aggregatsfunktionen](https://sqlite.org/lang_aggfunc.html) an, die Sie Attribute Ihres Ergebnisses anwenden können. Populär sind z.B. `MAX, MIN, COUNT, SUM, AVG`. Unterschiedliche Datenbanken bieten verschiedene weitere Funktionen, dafür laden Sie aber meistens bei der [Datenbankspezifischen Dokumentation](https://www.sqlite.org/lang_datefunc.html)."
   ]
  },
  {
   "cell_type": "code",
   "execution_count": 15,
   "metadata": {},
   "outputs": [
    {
     "name": "stdout",
     "output_type": "stream",
     "text": [
      "   sqlite:///\n",
      " * sqlite:///bestellungen.db\n",
      "Done.\n"
     ]
    },
    {
     "data": {
      "text/html": [
       "<table>\n",
       "    <tr>\n",
       "        <th>MIN(Bestelldatum)</th>\n",
       "        <th>MAX(Bestelldatum)</th>\n",
       "    </tr>\n",
       "    <tr>\n",
       "        <td>2017-09-22 08:49:18.787870</td>\n",
       "        <td>2020-06-18 12:02:55.724942</td>\n",
       "    </tr>\n",
       "</table>"
      ],
      "text/plain": [
       "[('2017-09-22 08:49:18.787870', '2020-06-18 12:02:55.724942')]"
      ]
     },
     "execution_count": 15,
     "metadata": {},
     "output_type": "execute_result"
    }
   ],
   "source": [
    "%sql SELECT MIN(Bestelldatum), MAX(Bestelldatum) FROM Bestellung;"
   ]
  },
  {
   "cell_type": "markdown",
   "metadata": {},
   "source": [
    "Beachten Sie, dass diese Funktionen nur im Select Teil beheimatet sind, so ist der Ausdruck\n",
    "```\n",
    "SELECT * from Bestellung WHERE Bestelldatum = MAX(Bestelldatum);\n",
    "```\n",
    "falsch. Probieren Sie es aus."
   ]
  },
  {
   "cell_type": "markdown",
   "metadata": {},
   "source": [
    "Was ist nun wenn wir wissen wollen, aus wie vielem Städten unsere Kunden kommen? Probieren wir es mal naiv aus:"
   ]
  },
  {
   "cell_type": "code",
   "execution_count": 16,
   "metadata": {},
   "outputs": [
    {
     "name": "stdout",
     "output_type": "stream",
     "text": [
      "   sqlite:///\n",
      " * sqlite:///bestellungen.db\n",
      "Done.\n"
     ]
    },
    {
     "data": {
      "text/html": [
       "<table>\n",
       "    <tr>\n",
       "        <th>COUNT(Wohnort)</th>\n",
       "    </tr>\n",
       "    <tr>\n",
       "        <td>502</td>\n",
       "    </tr>\n",
       "</table>"
      ],
      "text/plain": [
       "[(502,)]"
      ]
     },
     "execution_count": 16,
     "metadata": {},
     "output_type": "execute_result"
    }
   ],
   "source": [
    "%sql SELECT COUNT(Wohnort) FROM Kunde;"
   ]
  },
  {
   "cell_type": "markdown",
   "metadata": {},
   "source": [
    "das kann nicht stimmen! Und natürlich hat die Datenbank alle unsere Kunden und deren Wohnorte gezählt. Was wir aber wollten waren die Anzahl der unterschiedlichen Städte. Und das wiederrum lößt man in SQL mit dem `DISTINCT` Keywort:"
   ]
  },
  {
   "cell_type": "code",
   "execution_count": 17,
   "metadata": {},
   "outputs": [
    {
     "name": "stdout",
     "output_type": "stream",
     "text": [
      "   sqlite:///\n",
      " * sqlite:///bestellungen.db\n",
      "Done.\n"
     ]
    },
    {
     "data": {
      "text/html": [
       "<table>\n",
       "    <tr>\n",
       "        <th>Anzahl</th>\n",
       "    </tr>\n",
       "    <tr>\n",
       "        <td>7</td>\n",
       "    </tr>\n",
       "</table>"
      ],
      "text/plain": [
       "[(7,)]"
      ]
     },
     "execution_count": 17,
     "metadata": {},
     "output_type": "execute_result"
    }
   ],
   "source": [
    "%sql SELECT COUNT(DISTINCT Wohnort) AS Anzahl FROM Kunde;"
   ]
  },
  {
   "cell_type": "code",
   "execution_count": 18,
   "metadata": {},
   "outputs": [
    {
     "name": "stdout",
     "output_type": "stream",
     "text": [
      "   sqlite:///\n",
      " * sqlite:///bestellungen.db\n",
      "Done.\n"
     ]
    },
    {
     "data": {
      "text/html": [
       "<table>\n",
       "    <tr>\n",
       "        <th>Wohnort</th>\n",
       "    </tr>\n",
       "    <tr>\n",
       "        <td>None</td>\n",
       "    </tr>\n",
       "    <tr>\n",
       "        <td>San Francisco</td>\n",
       "    </tr>\n",
       "    <tr>\n",
       "        <td>London</td>\n",
       "    </tr>\n",
       "    <tr>\n",
       "        <td>Landshut</td>\n",
       "    </tr>\n",
       "    <tr>\n",
       "        <td>Passau</td>\n",
       "    </tr>\n",
       "    <tr>\n",
       "        <td>Deggendorf</td>\n",
       "    </tr>\n",
       "    <tr>\n",
       "        <td>Vilshofen</td>\n",
       "    </tr>\n",
       "    <tr>\n",
       "        <td>München</td>\n",
       "    </tr>\n",
       "</table>"
      ],
      "text/plain": [
       "[(None,),\n",
       " ('San Francisco',),\n",
       " ('London',),\n",
       " ('Landshut',),\n",
       " ('Passau',),\n",
       " ('Deggendorf',),\n",
       " ('Vilshofen',),\n",
       " ('München',)]"
      ]
     },
     "execution_count": 18,
     "metadata": {},
     "output_type": "execute_result"
    }
   ],
   "source": [
    "%sql SELECT DISTINCT Wohnort FROM Kunde;"
   ]
  },
  {
   "cell_type": "markdown",
   "metadata": {},
   "source": [
    "### 2.3.2 Stringfunktionen, wie z.B. UPPER, SUBSTR, oder Konkatenation\n",
    "Sie können die typischen String Operationen aus der Programmiersprache Ihrer Wahl meist in der datenbankspezifischen Dokumentaion finden. Im folgenden Beispiel verwenden wir \n",
    "- `UPPER` um den Text in GROßBUCHSTABEN auszugeben\n",
    "- `SUBSTRING(von,bis)` um einen Teil des Textes zu erhalten \n",
    "- `||` um Texte aneinander anzufügen\n",
    "\n",
    "Darüber hinaus benennen wir die Ergebnisspalte in \"Kurzname\" um."
   ]
  },
  {
   "cell_type": "code",
   "execution_count": 19,
   "metadata": {},
   "outputs": [
    {
     "name": "stdout",
     "output_type": "stream",
     "text": [
      "   sqlite:///\n",
      " * sqlite:///bestellungen.db\n",
      "Done.\n"
     ]
    },
    {
     "data": {
      "text/html": [
       "<table>\n",
       "    <tr>\n",
       "        <th>Kurzname</th>\n",
       "    </tr>\n",
       "    <tr>\n",
       "        <td>B. ELSER</td>\n",
       "    </tr>\n",
       "    <tr>\n",
       "        <td>W. BERG</td>\n",
       "    </tr>\n",
       "    <tr>\n",
       "        <td>J. SCHNEEBERGER</td>\n",
       "    </tr>\n",
       "</table>"
      ],
      "text/plain": [
       "[('B. ELSER',), ('W. BERG',), ('J. SCHNEEBERGER',)]"
      ]
     },
     "execution_count": 19,
     "metadata": {},
     "output_type": "execute_result"
    }
   ],
   "source": [
    "%sql SELECT SUBSTR(UPPER(Vorname), 1,1) || '. ' ||  UPPER(Nachname) as Kurzname FROM Kunde LIMIT 3;"
   ]
  },
  {
   "cell_type": "markdown",
   "metadata": {},
   "source": [
    "<a name=\"24\">\n",
    "</a>\n",
    "\n",
    "## 2.4 Subselects (Unterabfragen)\n",
    "\n",
    "Statt einfach eine oder mehrere Tabellen im FROM Teil aufzulisten können Sie noch weitere Formen der Abfrage verwenden. Sie Können z.B. die Ergebnisse einer Abfrage direkt wieder verwenden. Ein sog. **subselect** ist praktisch, wenn Sie z.B. wissen wollen, wer Ihr ältester Kunde ist. Der Erste Schritt geht noch ohne einen Subselect:\n"
   ]
  },
  {
   "cell_type": "markdown",
   "metadata": {},
   "source": [
    "### 2.4.1 Einführendes Beispiel: Subselect in der `WHERE` Klausel"
   ]
  },
  {
   "cell_type": "code",
   "execution_count": null,
   "metadata": {},
   "outputs": [],
   "source": [
    "%sql SELECT MIN(Geburtstag) from Kunde;"
   ]
  },
  {
   "cell_type": "markdown",
   "metadata": {},
   "source": [
    "Was aber nun nicht funktioniert ist den Namen des Kunden rauszufinden: (O.K. es geht doch, das ist eine Eigenart von SQLite ;)"
   ]
  },
  {
   "cell_type": "code",
   "execution_count": null,
   "metadata": {},
   "outputs": [],
   "source": [
    "%sql SELECT Vorname,Nachname,MIN(Geburtstag) FROM Kunde;"
   ]
  },
  {
   "cell_type": "code",
   "execution_count": null,
   "metadata": {},
   "outputs": [],
   "source": [
    "%sql SELECT Vorname,Nachname,Geburtstag FROM Kunde where Geburtstag = (SELECT MIN(Geburtstag) FROM Kunde);"
   ]
  },
  {
   "cell_type": "markdown",
   "metadata": {},
   "source": [
    "Ein anderes Beispiel, bei dem auch in der `WHERE` Klausel gearbeit wird ist die Frage *Welche Kunden haben noch nie bestellt?* Diese kann mit einem subselect beantwortet werden, dabei lernen wir auch den `IN` respektive `NOT IN` Operator kennen, der auf Mengenzugehörigkeit prüft: "
   ]
  },
  {
   "cell_type": "code",
   "execution_count": 20,
   "metadata": {},
   "outputs": [
    {
     "name": "stdout",
     "output_type": "stream",
     "text": [
      "   sqlite:///\n",
      " * sqlite:///bestellungen.db\n",
      "Done.\n"
     ]
    },
    {
     "data": {
      "text/html": [
       "<table>\n",
       "    <tr>\n",
       "        <th>Kundennummer</th>\n",
       "        <th>Vorname</th>\n",
       "        <th>Nachname</th>\n",
       "        <th>Wohnort</th>\n",
       "        <th>PLZ</th>\n",
       "        <th>Adresse</th>\n",
       "        <th>Geburtstag</th>\n",
       "    </tr>\n",
       "    <tr>\n",
       "        <td>501</td>\n",
       "        <td>Wendy</td>\n",
       "        <td>Alfaro</td>\n",
       "        <td>Deggendorf</td>\n",
       "        <td>99469</td>\n",
       "        <td>None</td>\n",
       "        <td>1989-07-04</td>\n",
       "    </tr>\n",
       "    <tr>\n",
       "        <td>502</td>\n",
       "        <td>Roderick</td>\n",
       "        <td>Kinlaw</td>\n",
       "        <td>Deggendorf</td>\n",
       "        <td>99469</td>\n",
       "        <td>None</td>\n",
       "        <td>1990-08-21</td>\n",
       "    </tr>\n",
       "    <tr>\n",
       "        <td>503</td>\n",
       "        <td>Richard</td>\n",
       "        <td>Miller</td>\n",
       "        <td>Vilshofen</td>\n",
       "        <td>91234</td>\n",
       "        <td>None</td>\n",
       "        <td>2009-03-13</td>\n",
       "    </tr>\n",
       "</table>"
      ],
      "text/plain": [
       "[(501, 'Wendy', 'Alfaro', 'Deggendorf', 99469, None, '1989-07-04'),\n",
       " (502, 'Roderick', 'Kinlaw', 'Deggendorf', 99469, None, '1990-08-21'),\n",
       " (503, 'Richard', 'Miller', 'Vilshofen', 91234, None, '2009-03-13')]"
      ]
     },
     "execution_count": 20,
     "metadata": {},
     "output_type": "execute_result"
    }
   ],
   "source": [
    "%%sql\n",
    "SELECT *\n",
    "FROM Kunde\n",
    "WHERE Kundennummer  NOT IN (SELECT Kunde FROM Bestellung)\n",
    ";"
   ]
  },
  {
   "cell_type": "markdown",
   "metadata": {},
   "source": [
    "### 2.4.2 Subselect in der FROM Klausel\n",
    "\n",
    "Intuitiv einleuchtend ist es, dass ein Ergebnis einer Abfrage als Menge von Tupeln auch als Relation interpretiert werden kann und somit neben den anderen Relationen in der `FROM` klausel stehen kann:"
   ]
  },
  {
   "cell_type": "code",
   "execution_count": 22,
   "metadata": {},
   "outputs": [
    {
     "name": "stdout",
     "output_type": "stream",
     "text": [
      "   sqlite:///\n",
      " * sqlite:///bestellungen.db\n",
      "Done.\n"
     ]
    },
    {
     "data": {
      "text/html": [
       "<table>\n",
       "    <tr>\n",
       "        <th>Nachname</th>\n",
       "        <th>Vorname</th>\n",
       "        <th>Count</th>\n",
       "    </tr>\n",
       "    <tr>\n",
       "        <td>Elser</td>\n",
       "        <td>Benedikt</td>\n",
       "        <td>219</td>\n",
       "    </tr>\n",
       "    <tr>\n",
       "        <td>Berg</td>\n",
       "        <td>Waldemar</td>\n",
       "        <td>200</td>\n",
       "    </tr>\n",
       "    <tr>\n",
       "        <td>Schneeberger</td>\n",
       "        <td>Josef</td>\n",
       "        <td>209</td>\n",
       "    </tr>\n",
       "    <tr>\n",
       "        <td>Merriweather</td>\n",
       "        <td>Fred</td>\n",
       "        <td>238</td>\n",
       "    </tr>\n",
       "    <tr>\n",
       "        <td>Kinlaw</td>\n",
       "        <td>Juan</td>\n",
       "        <td>199</td>\n",
       "    </tr>\n",
       "</table>"
      ],
      "text/plain": [
       "[('Elser', 'Benedikt', 219),\n",
       " ('Berg', 'Waldemar', 200),\n",
       " ('Schneeberger', 'Josef', 209),\n",
       " ('Merriweather', 'Fred', 238),\n",
       " ('Kinlaw', 'Juan', 199)]"
      ]
     },
     "execution_count": 22,
     "metadata": {},
     "output_type": "execute_result"
    }
   ],
   "source": [
    "%%sql\n",
    "SELECT Nachname, Vorname, Count\n",
    "FROM Kunde, (\n",
    "    SELECT \n",
    "      Kunde as Kundennummer, COUNT(*) AS Count\n",
    "    FROM\n",
    "      Bestellung\n",
    "    GROUP BY\n",
    "      Kunde\n",
    ") AS Anzahlen\n",
    "WHERE \n",
    "   Kunde.Kundennummer = Anzahlen.Kundennummer\n",
    "  AND\n",
    "   Count > 1\n",
    "LIMIT 5;"
   ]
  },
  {
   "cell_type": "markdown",
   "metadata": {},
   "source": [
    "### 2.4.3 Subselect in der `SELECT` Klausel"
   ]
  },
  {
   "cell_type": "markdown",
   "metadata": {},
   "source": [
    "In der SELECT Klausel geben wir an, welche Attribute pro Zeile angezeigt werden. Daher ist es nicht verwunderlich, dass ein Subselect an dieser Stelle einen einzelnen Wert liefern muss. Falls Ihr Subselect mehrere Werte zurück gibt können Sie ihn aber immer noch durch eine Aggregatsfunktion jagen:"
   ]
  },
  {
   "cell_type": "code",
   "execution_count": 23,
   "metadata": {},
   "outputs": [
    {
     "name": "stdout",
     "output_type": "stream",
     "text": [
      "   sqlite:///\n",
      " * sqlite:///bestellungen.db\n",
      "Done.\n"
     ]
    },
    {
     "data": {
      "text/html": [
       "<table>\n",
       "    <tr>\n",
       "        <th>Name</th>\n",
       "        <th>Anzahl_Bestellungen</th>\n",
       "        <th>Max_Bestellungen</th>\n",
       "    </tr>\n",
       "    <tr>\n",
       "        <td>Juan Vail</td>\n",
       "        <td>244</td>\n",
       "        <td>244</td>\n",
       "    </tr>\n",
       "    <tr>\n",
       "        <td>Gregory Abdelhamid</td>\n",
       "        <td>244</td>\n",
       "        <td>244</td>\n",
       "    </tr>\n",
       "    <tr>\n",
       "        <td>Nathan Caplan</td>\n",
       "        <td>243</td>\n",
       "        <td>244</td>\n",
       "    </tr>\n",
       "    <tr>\n",
       "        <td>Fred Merriweather</td>\n",
       "        <td>238</td>\n",
       "        <td>244</td>\n",
       "    </tr>\n",
       "    <tr>\n",
       "        <td>Gregory Elliot</td>\n",
       "        <td>236</td>\n",
       "        <td>244</td>\n",
       "    </tr>\n",
       "</table>"
      ],
      "text/plain": [
       "[('Juan Vail', 244, 244),\n",
       " ('Gregory Abdelhamid', 244, 244),\n",
       " ('Nathan Caplan', 243, 244),\n",
       " ('Fred Merriweather', 238, 244),\n",
       " ('Gregory Elliot', 236, 244)]"
      ]
     },
     "execution_count": 23,
     "metadata": {},
     "output_type": "execute_result"
    }
   ],
   "source": [
    "%%sql\n",
    "SELECT \n",
    "  (Kunde.Vorname || \" \" || Kunde.Nachname) AS Name, \n",
    "  COUNT(*) AS Anzahl_Bestellungen,\n",
    "  (SELECT COUNT(*) as cnt FROM Bestellung GROUP BY Kunde ORDER BY cnt DESC LIMIT 1) as Max_Bestellungen\n",
    "FROM Kunde\n",
    "JOIN Bestellung\n",
    "WHERE Kundennummer = Kunde\n",
    "GROUP BY Kundennummer\n",
    "ORDER BY Anzahl_Bestellungen DESC\n",
    "LIMIT 5;\n"
   ]
  },
  {
   "cell_type": "markdown",
   "metadata": {},
   "source": [
    "### 2.4.4 Der `WITH` Operator"
   ]
  },
  {
   "cell_type": "markdown",
   "metadata": {},
   "source": [
    "Beim Subselect soll eines nicht unerwähnt bleiben: Sie erhöhen die Lesbarkeit des ohnehin schwierig lesbaren SQL Codes nicht wirklich. Daher gibt es in neueren Versionen des SQL Standards den `WITH` Operator. Mit dem können Sie eine temporäre View definieren, die automatisch gelöscht wird, sobald die Abfrage beendet ist. So können Sie in Ihrer Abfrage einfach den namen der neuen \"View\" verwenden, erhöhen die LEsbarkeit und müssen sich nicht um das Aufräumen kümmern. Hier ein primitves Beispiel:"
   ]
  },
  {
   "cell_type": "code",
   "execution_count": 25,
   "metadata": {},
   "outputs": [
    {
     "name": "stdout",
     "output_type": "stream",
     "text": [
      "   sqlite:///\n",
      " * sqlite:///bestellungen.db\n",
      "Done.\n"
     ]
    },
    {
     "data": {
      "text/html": [
       "<table>\n",
       "    <tr>\n",
       "        <th>Kundennummer</th>\n",
       "        <th>Vorname</th>\n",
       "        <th>Nachname</th>\n",
       "        <th>Wohnort</th>\n",
       "        <th>PLZ</th>\n",
       "        <th>Adresse</th>\n",
       "        <th>Geburtstag</th>\n",
       "        <th>Geburtstag_1</th>\n",
       "    </tr>\n",
       "    <tr>\n",
       "        <td>362</td>\n",
       "        <td>Annette</td>\n",
       "        <td>Tanner</td>\n",
       "        <td>Landshut</td>\n",
       "        <td>84036</td>\n",
       "        <td>None</td>\n",
       "        <td>2009-11-17</td>\n",
       "        <td>2009-11-17</td>\n",
       "    </tr>\n",
       "</table>"
      ],
      "text/plain": [
       "[(362, 'Annette', 'Tanner', 'Landshut', 84036, None, '2009-11-17', '2009-11-17')]"
      ]
     },
     "execution_count": 25,
     "metadata": {},
     "output_type": "execute_result"
    }
   ],
   "source": [
    "%%sql\n",
    "\n",
    "WITH maxGeb AS (SELECT MAX(Geburtstag) as Geburtstag FROM Kunde)\n",
    "SELECT * FROM Kunde,maxGeb where Kunde.Geburtstag = maxGeb.Geburtstag;"
   ]
  },
  {
   "cell_type": "markdown",
   "metadata": {},
   "source": [
    "`WITH` gibt es auch rekursiv, aber das sprengt den Rahmen."
   ]
  },
  {
   "cell_type": "markdown",
   "metadata": {},
   "source": [
    "<a name=\"3\">\n",
    "</a>\n",
    "\n",
    "# 3 WHERE: Filtern der Ergebnisse\n",
    "\n",
    "In der WHERE Klausel steckt ein Großteil der Macht einer Datenbank. Hier können Sie jedes Attribut in den angefragten Tabellen prüfen und mehere prüfungen logisch zu komplexen Abrfragen verknüpfen."
   ]
  },
  {
   "cell_type": "markdown",
   "metadata": {},
   "source": [
    "<a name=\"31\">\n",
    "</a>\n",
    "\n",
    "## 3.1 Logische Operationen\n",
    "- AND: Logische Und-Verknüpfung\n",
    "- OR: Logische Oder-Verknüpfung\n",
    "- NOT: Invertierung des Warheitswerts\n",
    "\n",
    "Beispiel: Nur Benedikt Elser oder Josef Schneeberger finden, beide dürfen keinen Geburtstag haben"
   ]
  },
  {
   "cell_type": "code",
   "execution_count": 26,
   "metadata": {},
   "outputs": [
    {
     "name": "stdout",
     "output_type": "stream",
     "text": [
      "   sqlite:///\n",
      " * sqlite:///bestellungen.db\n",
      "Done.\n"
     ]
    },
    {
     "data": {
      "text/html": [
       "<table>\n",
       "    <tr>\n",
       "        <th>Kundennummer</th>\n",
       "        <th>Vorname</th>\n",
       "        <th>Nachname</th>\n",
       "        <th>Wohnort</th>\n",
       "        <th>PLZ</th>\n",
       "        <th>Adresse</th>\n",
       "        <th>Geburtstag</th>\n",
       "    </tr>\n",
       "    <tr>\n",
       "        <td>1</td>\n",
       "        <td>Benedikt</td>\n",
       "        <td>Elser</td>\n",
       "        <td>None</td>\n",
       "        <td>None</td>\n",
       "        <td>None</td>\n",
       "        <td>None</td>\n",
       "    </tr>\n",
       "    <tr>\n",
       "        <td>3</td>\n",
       "        <td>Josef</td>\n",
       "        <td>Schneeberger</td>\n",
       "        <td>London</td>\n",
       "        <td>None</td>\n",
       "        <td>None</td>\n",
       "        <td>None</td>\n",
       "    </tr>\n",
       "</table>"
      ],
      "text/plain": [
       "[(1, 'Benedikt', 'Elser', None, None, None, None),\n",
       " (3, 'Josef', 'Schneeberger', 'London', None, None, None)]"
      ]
     },
     "execution_count": 26,
     "metadata": {},
     "output_type": "execute_result"
    }
   ],
   "source": [
    "%%sql\n",
    "SELECT * from Kunde \n",
    "WHERE (\n",
    "    (Vorname = 'Benedikt' AND Nachname = 'Elser') \n",
    "       OR \n",
    "    (Vorname = 'Josef' AND Nachname = 'Schneeberger')) \n",
    "AND Geburtstag IS NULL"
   ]
  },
  {
   "cell_type": "markdown",
   "metadata": {},
   "source": [
    "<a name=\"32\">\n",
    "</a>\n",
    "\n",
    "## 3.2 Mengenwertige Suchen\n",
    "Wenn Sie nach mehreren Werten suchen wollen, die Ihr Attribut annehmen kann z.B. die Nachnamen \"Elser\" oder \"Schneeberger\" können Sie den `IN` Operator verwenden:"
   ]
  },
  {
   "cell_type": "code",
   "execution_count": 27,
   "metadata": {},
   "outputs": [
    {
     "name": "stdout",
     "output_type": "stream",
     "text": [
      "   sqlite:///\n",
      " * sqlite:///bestellungen.db\n",
      "Done.\n"
     ]
    },
    {
     "data": {
      "text/html": [
       "<table>\n",
       "    <tr>\n",
       "        <th>Kundennummer</th>\n",
       "        <th>Vorname</th>\n",
       "        <th>Nachname</th>\n",
       "        <th>Wohnort</th>\n",
       "        <th>PLZ</th>\n",
       "        <th>Adresse</th>\n",
       "        <th>Geburtstag</th>\n",
       "    </tr>\n",
       "    <tr>\n",
       "        <td>1</td>\n",
       "        <td>Benedikt</td>\n",
       "        <td>Elser</td>\n",
       "        <td>None</td>\n",
       "        <td>None</td>\n",
       "        <td>None</td>\n",
       "        <td>None</td>\n",
       "    </tr>\n",
       "    <tr>\n",
       "        <td>3</td>\n",
       "        <td>Josef</td>\n",
       "        <td>Schneeberger</td>\n",
       "        <td>London</td>\n",
       "        <td>None</td>\n",
       "        <td>None</td>\n",
       "        <td>None</td>\n",
       "    </tr>\n",
       "</table>"
      ],
      "text/plain": [
       "[(1, 'Benedikt', 'Elser', None, None, None, None),\n",
       " (3, 'Josef', 'Schneeberger', 'London', None, None, None)]"
      ]
     },
     "execution_count": 27,
     "metadata": {},
     "output_type": "execute_result"
    }
   ],
   "source": [
    "%sql SELECT * from Kunde WHERE Nachname IN ('Elser', 'Schneeberger');"
   ]
  },
  {
   "cell_type": "markdown",
   "metadata": {},
   "source": [
    "Mit Numerischen Daten funktioniert das auch:"
   ]
  },
  {
   "cell_type": "code",
   "execution_count": 28,
   "metadata": {},
   "outputs": [
    {
     "name": "stdout",
     "output_type": "stream",
     "text": [
      "   sqlite:///\n",
      " * sqlite:///bestellungen.db\n",
      "Done.\n"
     ]
    },
    {
     "data": {
      "text/html": [
       "<table>\n",
       "    <tr>\n",
       "        <th>Kundennummer</th>\n",
       "        <th>Vorname</th>\n",
       "        <th>Nachname</th>\n",
       "        <th>Wohnort</th>\n",
       "        <th>PLZ</th>\n",
       "        <th>Adresse</th>\n",
       "        <th>Geburtstag</th>\n",
       "    </tr>\n",
       "    <tr>\n",
       "        <td>1</td>\n",
       "        <td>Benedikt</td>\n",
       "        <td>Elser</td>\n",
       "        <td>None</td>\n",
       "        <td>None</td>\n",
       "        <td>None</td>\n",
       "        <td>None</td>\n",
       "    </tr>\n",
       "    <tr>\n",
       "        <td>2</td>\n",
       "        <td>Waldemar</td>\n",
       "        <td>Berg</td>\n",
       "        <td>San Francisco</td>\n",
       "        <td>None</td>\n",
       "        <td>None</td>\n",
       "        <td>None</td>\n",
       "    </tr>\n",
       "</table>"
      ],
      "text/plain": [
       "[(1, 'Benedikt', 'Elser', None, None, None, None),\n",
       " (2, 'Waldemar', 'Berg', 'San Francisco', None, None, None)]"
      ]
     },
     "execution_count": 28,
     "metadata": {},
     "output_type": "execute_result"
    }
   ],
   "source": [
    "%sql SELECT * from Kunde WHERE Kundennummer IN (1,2);"
   ]
  },
  {
   "cell_type": "markdown",
   "metadata": {},
   "source": [
    "Suchen Sie nach Werten in einer Spanne von *x* bis *y* verwenden Sie `BETWEEN x AND y`:"
   ]
  },
  {
   "cell_type": "code",
   "execution_count": 29,
   "metadata": {},
   "outputs": [
    {
     "name": "stdout",
     "output_type": "stream",
     "text": [
      "   sqlite:///\n",
      " * sqlite:///bestellungen.db\n",
      "Done.\n"
     ]
    },
    {
     "data": {
      "text/html": [
       "<table>\n",
       "    <tr>\n",
       "        <th>Kundennummer</th>\n",
       "        <th>Vorname</th>\n",
       "        <th>Nachname</th>\n",
       "        <th>Wohnort</th>\n",
       "        <th>PLZ</th>\n",
       "        <th>Adresse</th>\n",
       "        <th>Geburtstag</th>\n",
       "    </tr>\n",
       "    <tr>\n",
       "        <td>11</td>\n",
       "        <td>Alfred</td>\n",
       "        <td>Nease</td>\n",
       "        <td>Vilshofen</td>\n",
       "        <td>91234</td>\n",
       "        <td>None</td>\n",
       "        <td>2000-04-23</td>\n",
       "    </tr>\n",
       "    <tr>\n",
       "        <td>12</td>\n",
       "        <td>Isabel</td>\n",
       "        <td>Caouette</td>\n",
       "        <td>Landshut</td>\n",
       "        <td>84036</td>\n",
       "        <td>None</td>\n",
       "        <td>1984-05-04</td>\n",
       "    </tr>\n",
       "    <tr>\n",
       "        <td>13</td>\n",
       "        <td>David</td>\n",
       "        <td>Reynolds</td>\n",
       "        <td>Landshut</td>\n",
       "        <td>84036</td>\n",
       "        <td>None</td>\n",
       "        <td>2006-02-26</td>\n",
       "    </tr>\n",
       "</table>"
      ],
      "text/plain": [
       "[(11, 'Alfred', 'Nease', 'Vilshofen', 91234, None, '2000-04-23'),\n",
       " (12, 'Isabel', 'Caouette', 'Landshut', 84036, None, '1984-05-04'),\n",
       " (13, 'David', 'Reynolds', 'Landshut', 84036, None, '2006-02-26')]"
      ]
     },
     "execution_count": 29,
     "metadata": {},
     "output_type": "execute_result"
    }
   ],
   "source": [
    "%sql SELECT * from Kunde WHERE Kundennummer BETWEEN 11 AND 13;"
   ]
  },
  {
   "cell_type": "code",
   "execution_count": 30,
   "metadata": {},
   "outputs": [
    {
     "name": "stdout",
     "output_type": "stream",
     "text": [
      "   sqlite:///\n",
      " * sqlite:///bestellungen.db\n",
      "Done.\n"
     ]
    },
    {
     "data": {
      "text/html": [
       "<table>\n",
       "    <tr>\n",
       "        <th>Kundennummer</th>\n",
       "        <th>Vorname</th>\n",
       "        <th>Nachname</th>\n",
       "        <th>Wohnort</th>\n",
       "        <th>PLZ</th>\n",
       "        <th>Adresse</th>\n",
       "        <th>Geburtstag</th>\n",
       "    </tr>\n",
       "    <tr>\n",
       "        <td>5</td>\n",
       "        <td>Juan</td>\n",
       "        <td>Kinlaw</td>\n",
       "        <td>Landshut</td>\n",
       "        <td>84036</td>\n",
       "        <td>None</td>\n",
       "        <td>1986-03-23</td>\n",
       "    </tr>\n",
       "    <tr>\n",
       "        <td>8</td>\n",
       "        <td>Nathan</td>\n",
       "        <td>Barney</td>\n",
       "        <td>Deggendorf</td>\n",
       "        <td>99469</td>\n",
       "        <td>None</td>\n",
       "        <td>1987-08-26</td>\n",
       "    </tr>\n",
       "    <tr>\n",
       "        <td>12</td>\n",
       "        <td>Isabel</td>\n",
       "        <td>Caouette</td>\n",
       "        <td>Landshut</td>\n",
       "        <td>84036</td>\n",
       "        <td>None</td>\n",
       "        <td>1984-05-04</td>\n",
       "    </tr>\n",
       "    <tr>\n",
       "        <td>20</td>\n",
       "        <td>Alfred</td>\n",
       "        <td>Eisman</td>\n",
       "        <td>Deggendorf</td>\n",
       "        <td>99469</td>\n",
       "        <td>None</td>\n",
       "        <td>1985-09-06</td>\n",
       "    </tr>\n",
       "    <tr>\n",
       "        <td>23</td>\n",
       "        <td>Nicole</td>\n",
       "        <td>Elliot</td>\n",
       "        <td>Passau</td>\n",
       "        <td>90123</td>\n",
       "        <td>None</td>\n",
       "        <td>1985-07-13</td>\n",
       "    </tr>\n",
       "</table>"
      ],
      "text/plain": [
       "[(5, 'Juan', 'Kinlaw', 'Landshut', 84036, None, '1986-03-23'),\n",
       " (8, 'Nathan', 'Barney', 'Deggendorf', 99469, None, '1987-08-26'),\n",
       " (12, 'Isabel', 'Caouette', 'Landshut', 84036, None, '1984-05-04'),\n",
       " (20, 'Alfred', 'Eisman', 'Deggendorf', 99469, None, '1985-09-06'),\n",
       " (23, 'Nicole', 'Elliot', 'Passau', 90123, None, '1985-07-13')]"
      ]
     },
     "execution_count": 30,
     "metadata": {},
     "output_type": "execute_result"
    }
   ],
   "source": [
    "%sql SELECT * from Kunde WHERE Geburtstag BETWEEN '1983-09-24' AND '1988-01-01' LIMIT 5;"
   ]
  },
  {
   "cell_type": "markdown",
   "metadata": {},
   "source": [
    "<a name=\"33\">\n",
    "</a>\n",
    "\n",
    "## 3.3 Suche in Texten\n",
    "Der `LIKE` Operator, sucht nach ähnlichen Test Mustern. Der Platzhalter für beliebigen Text ist %. **Ein Wort der Vorsicht**: Suchabfragen sind inperformant, warum lernen wir noch. Fürs Erste: Stellen Sie sicher, dass Sie den Beginn des Wortes kennen (`LIKE 'El%'`). Anders herum (`LIKE '%ser'`) wird die Abfrage langsamer.\n",
    "\n",
    "Zum Beispiel: Welche Kunden haben einen Nachnamen, der mit B beginnt:"
   ]
  },
  {
   "cell_type": "code",
   "execution_count": 31,
   "metadata": {},
   "outputs": [
    {
     "name": "stdout",
     "output_type": "stream",
     "text": [
      "   sqlite:///\n",
      " * sqlite:///bestellungen.db\n",
      "Done.\n"
     ]
    },
    {
     "data": {
      "text/html": [
       "<table>\n",
       "    <tr>\n",
       "        <th>Kundennummer</th>\n",
       "        <th>Vorname</th>\n",
       "        <th>Nachname</th>\n",
       "        <th>Wohnort</th>\n",
       "        <th>PLZ</th>\n",
       "        <th>Adresse</th>\n",
       "        <th>Geburtstag</th>\n",
       "    </tr>\n",
       "    <tr>\n",
       "        <td>2</td>\n",
       "        <td>Waldemar</td>\n",
       "        <td>Berg</td>\n",
       "        <td>San Francisco</td>\n",
       "        <td>None</td>\n",
       "        <td>None</td>\n",
       "        <td>None</td>\n",
       "    </tr>\n",
       "    <tr>\n",
       "        <td>8</td>\n",
       "        <td>Nathan</td>\n",
       "        <td>Barney</td>\n",
       "        <td>Deggendorf</td>\n",
       "        <td>99469</td>\n",
       "        <td>None</td>\n",
       "        <td>1987-08-26</td>\n",
       "    </tr>\n",
       "    <tr>\n",
       "        <td>17</td>\n",
       "        <td>Nathan</td>\n",
       "        <td>Barney</td>\n",
       "        <td>Vilshofen</td>\n",
       "        <td>91234</td>\n",
       "        <td>None</td>\n",
       "        <td>2005-07-30</td>\n",
       "    </tr>\n",
       "    <tr>\n",
       "        <td>22</td>\n",
       "        <td>John</td>\n",
       "        <td>Billingsley</td>\n",
       "        <td>Landshut</td>\n",
       "        <td>84036</td>\n",
       "        <td>None</td>\n",
       "        <td>2004-08-23</td>\n",
       "    </tr>\n",
       "    <tr>\n",
       "        <td>24</td>\n",
       "        <td>Isabel</td>\n",
       "        <td>Billingsley</td>\n",
       "        <td>München</td>\n",
       "        <td>81377</td>\n",
       "        <td>None</td>\n",
       "        <td>1992-10-26</td>\n",
       "    </tr>\n",
       "</table>"
      ],
      "text/plain": [
       "[(2, 'Waldemar', 'Berg', 'San Francisco', None, None, None),\n",
       " (8, 'Nathan', 'Barney', 'Deggendorf', 99469, None, '1987-08-26'),\n",
       " (17, 'Nathan', 'Barney', 'Vilshofen', 91234, None, '2005-07-30'),\n",
       " (22, 'John', 'Billingsley', 'Landshut', 84036, None, '2004-08-23'),\n",
       " (24, 'Isabel', 'Billingsley', 'München', 81377, None, '1992-10-26')]"
      ]
     },
     "execution_count": 31,
     "metadata": {},
     "output_type": "execute_result"
    }
   ],
   "source": [
    "%sql SELECT * FROM Kunde WHERE Nachname LIKE 'B%' LIMIT 5;"
   ]
  },
  {
   "cell_type": "markdown",
   "metadata": {},
   "source": [
    "<a name=\"joins\">\n",
    "</a>\n",
    "\n",
    "# 4. Abfragen über mehrere Tabellen: JOINS\n",
    "\n",
    "![](https://sqlite.org/images/syntax/join-operator.gif)\n",
    "\n",
    "Bei der Modellierung waren wir immer bestrebt Redundanzen in der Datenbank zu vermeiden. Wir haben Information auf mehrere Tabellen verteilt. Die Frage ist nun: Wie bekommen wir diese Informationen wieder zusammen? Die Antwort ist: Über explizites oder implizites Zusammenführen von Tabellen, also `JOIN`-en der Daten."
   ]
  },
  {
   "cell_type": "markdown",
   "metadata": {},
   "source": [
    "Betrachten wir ein Beispiel: Wir wollen nun in unserem Warenhaus die Daten der Kunden mit Ihren Bestellungen zusammen führen. In der Einleitung zu diesem Kaptiel haben wir angesprochen, dass man in der FROM Klausel mehrere Tabellen angeben kann. Das wollen wir für unser Beispiel einmal testen. Der Übersicht halber schränken wir das Ergebnis auf 4 Resultate ein."
   ]
  },
  {
   "cell_type": "code",
   "execution_count": 32,
   "metadata": {},
   "outputs": [
    {
     "name": "stdout",
     "output_type": "stream",
     "text": [
      "   sqlite:///\n",
      " * sqlite:///bestellungen.db\n",
      "Done.\n"
     ]
    },
    {
     "data": {
      "text/html": [
       "<table>\n",
       "    <tr>\n",
       "        <th>Vorname</th>\n",
       "        <th>Nachname</th>\n",
       "        <th>Kundennummer</th>\n",
       "        <th>Bestellnummer</th>\n",
       "        <th>Kunde</th>\n",
       "        <th>Bestelldatum</th>\n",
       "    </tr>\n",
       "    <tr>\n",
       "        <td>Benedikt</td>\n",
       "        <td>Elser</td>\n",
       "        <td>1</td>\n",
       "        <td>1</td>\n",
       "        <td>450</td>\n",
       "        <td>2018-05-08 19:28:43.712535</td>\n",
       "    </tr>\n",
       "    <tr>\n",
       "        <td>Benedikt</td>\n",
       "        <td>Elser</td>\n",
       "        <td>1</td>\n",
       "        <td>2</td>\n",
       "        <td>117</td>\n",
       "        <td>2018-07-06 15:47:35.712558</td>\n",
       "    </tr>\n",
       "    <tr>\n",
       "        <td>Benedikt</td>\n",
       "        <td>Elser</td>\n",
       "        <td>1</td>\n",
       "        <td>3</td>\n",
       "        <td>497</td>\n",
       "        <td>2017-12-28 05:53:13.712568</td>\n",
       "    </tr>\n",
       "    <tr>\n",
       "        <td>Benedikt</td>\n",
       "        <td>Elser</td>\n",
       "        <td>1</td>\n",
       "        <td>4</td>\n",
       "        <td>143</td>\n",
       "        <td>2019-06-21 14:40:27.712577</td>\n",
       "    </tr>\n",
       "</table>"
      ],
      "text/plain": [
       "[('Benedikt', 'Elser', 1, 1, 450, '2018-05-08 19:28:43.712535'),\n",
       " ('Benedikt', 'Elser', 1, 2, 117, '2018-07-06 15:47:35.712558'),\n",
       " ('Benedikt', 'Elser', 1, 3, 497, '2017-12-28 05:53:13.712568'),\n",
       " ('Benedikt', 'Elser', 1, 4, 143, '2019-06-21 14:40:27.712577')]"
      ]
     },
     "execution_count": 32,
     "metadata": {},
     "output_type": "execute_result"
    }
   ],
   "source": [
    "%sql SELECT Vorname,Nachname,Kundennummer,Bestellung.* FROM Kunde,Bestellung LIMIT 4;"
   ]
  },
  {
   "cell_type": "markdown",
   "metadata": {},
   "source": [
    "<div class=\"warn\">\n",
    "Das Ergebebis ist falsch. Sie es daran, dass die <b>Kundennummer</b> in der dritten Spalte und die Spalte <b>Kunde</b> nicht gleich sind. Die Datenbank hat nicht einfach das Richtige gemacht und unsere Gedanken gelesen, sondern das <b>Kreuzprodukt</b> gebildet. Jeder Datensatz ist mit jedem anderen verknüpft worden. \n",
    "</div>\n",
    "\n",
    "\"Das Richtige\" zu machen hieße Tabellen anhand Ihrer Primary Key / Foreign Key Bezeihung miteinander zu verknüpfen. Oder einfach die gleich benannten Attribute verwenden. Letzere Funktion existiert als `NATURAL JOIN` wird aber nicht überall unterstützt und kann zu unerwarten Nebeneffekten führen, wenn Tabellen zwar gleich benannte Attribute haben, diese aber inhaltlich nicht zusammen passen. Daher sehen wir von dieser Verwendung sicherheitshalber ab und merken uns:  \n",
    "\n",
    "**Ein SELECT über mehrere Tabellen ist ein impliziter Join. Sie müssen also angeben, welche(s) Attribut(e) einer Tabelle mit dem (oder denen) einer anderen Tabelle korrespondiert(en). Im Normalfall müssen sie die Fremd-Primärschlüsselrelation angeben.**\n",
    "\n",
    "Um das zu korrigieren müssen wir dem System mitteilen was denn die Attribute sind, die gleich seien müssen. Wir versuchen es erneut:"
   ]
  },
  {
   "cell_type": "code",
   "execution_count": 33,
   "metadata": {},
   "outputs": [
    {
     "name": "stdout",
     "output_type": "stream",
     "text": [
      "   sqlite:///\n",
      " * sqlite:///bestellungen.db\n",
      "Done.\n"
     ]
    },
    {
     "data": {
      "text/html": [
       "<table>\n",
       "    <tr>\n",
       "        <th>Vorname</th>\n",
       "        <th>Nachname</th>\n",
       "        <th>Kundennummer</th>\n",
       "        <th>Bestellnummer</th>\n",
       "        <th>Kunde</th>\n",
       "        <th>Bestelldatum</th>\n",
       "    </tr>\n",
       "    <tr>\n",
       "        <td>Roderick</td>\n",
       "        <td>Caplan</td>\n",
       "        <td>450</td>\n",
       "        <td>1</td>\n",
       "        <td>450</td>\n",
       "        <td>2018-05-08 19:28:43.712535</td>\n",
       "    </tr>\n",
       "    <tr>\n",
       "        <td>Nathan</td>\n",
       "        <td>Caplan</td>\n",
       "        <td>117</td>\n",
       "        <td>2</td>\n",
       "        <td>117</td>\n",
       "        <td>2018-07-06 15:47:35.712558</td>\n",
       "    </tr>\n",
       "    <tr>\n",
       "        <td>Nicole</td>\n",
       "        <td>Brazill</td>\n",
       "        <td>497</td>\n",
       "        <td>3</td>\n",
       "        <td>497</td>\n",
       "        <td>2017-12-28 05:53:13.712568</td>\n",
       "    </tr>\n",
       "    <tr>\n",
       "        <td>Clara</td>\n",
       "        <td>Ashford</td>\n",
       "        <td>143</td>\n",
       "        <td>4</td>\n",
       "        <td>143</td>\n",
       "        <td>2019-06-21 14:40:27.712577</td>\n",
       "    </tr>\n",
       "</table>"
      ],
      "text/plain": [
       "[('Roderick', 'Caplan', 450, 1, 450, '2018-05-08 19:28:43.712535'),\n",
       " ('Nathan', 'Caplan', 117, 2, 117, '2018-07-06 15:47:35.712558'),\n",
       " ('Nicole', 'Brazill', 497, 3, 497, '2017-12-28 05:53:13.712568'),\n",
       " ('Clara', 'Ashford', 143, 4, 143, '2019-06-21 14:40:27.712577')]"
      ]
     },
     "execution_count": 33,
     "metadata": {},
     "output_type": "execute_result"
    }
   ],
   "source": [
    "%%sql \n",
    "SELECT \n",
    "  Vorname,Nachname,Kundennummer,Bestellung.* \n",
    "FROM \n",
    "  Kunde,Bestellung \n",
    "WHERE \n",
    "    Kunde.Kundennummer = Bestellung.Kunde\n",
    "LIMIT 4;"
   ]
  },
  {
   "cell_type": "markdown",
   "metadata": {},
   "source": [
    "Der Ausdruck lässt sich als expliziter JOIN schreiben. Falls das Attribut in beiden Tabellen gleich heißt können Sie `USING`, hier also z.B. `USING(Kundennummer)` verwenden. Nachdem die Attribute hier einmal Kundennummer und einmal nur Kunde heißen geben Sie die Join Klausel mit `ON` an, wie im folgenden Beispiel:"
   ]
  },
  {
   "cell_type": "code",
   "execution_count": 34,
   "metadata": {},
   "outputs": [
    {
     "name": "stdout",
     "output_type": "stream",
     "text": [
      "   sqlite:///\n",
      " * sqlite:///bestellungen.db\n",
      "Done.\n"
     ]
    },
    {
     "data": {
      "text/html": [
       "<table>\n",
       "    <tr>\n",
       "        <th>Vorname</th>\n",
       "        <th>Nachname</th>\n",
       "        <th>Kundennummer</th>\n",
       "        <th>Bestellnummer</th>\n",
       "        <th>Kunde</th>\n",
       "        <th>Bestelldatum</th>\n",
       "    </tr>\n",
       "    <tr>\n",
       "        <td>Roderick</td>\n",
       "        <td>Caplan</td>\n",
       "        <td>450</td>\n",
       "        <td>1</td>\n",
       "        <td>450</td>\n",
       "        <td>2018-05-08 19:28:43.712535</td>\n",
       "    </tr>\n",
       "    <tr>\n",
       "        <td>Nathan</td>\n",
       "        <td>Caplan</td>\n",
       "        <td>117</td>\n",
       "        <td>2</td>\n",
       "        <td>117</td>\n",
       "        <td>2018-07-06 15:47:35.712558</td>\n",
       "    </tr>\n",
       "    <tr>\n",
       "        <td>Nicole</td>\n",
       "        <td>Brazill</td>\n",
       "        <td>497</td>\n",
       "        <td>3</td>\n",
       "        <td>497</td>\n",
       "        <td>2017-12-28 05:53:13.712568</td>\n",
       "    </tr>\n",
       "    <tr>\n",
       "        <td>Clara</td>\n",
       "        <td>Ashford</td>\n",
       "        <td>143</td>\n",
       "        <td>4</td>\n",
       "        <td>143</td>\n",
       "        <td>2019-06-21 14:40:27.712577</td>\n",
       "    </tr>\n",
       "</table>"
      ],
      "text/plain": [
       "[('Roderick', 'Caplan', 450, 1, 450, '2018-05-08 19:28:43.712535'),\n",
       " ('Nathan', 'Caplan', 117, 2, 117, '2018-07-06 15:47:35.712558'),\n",
       " ('Nicole', 'Brazill', 497, 3, 497, '2017-12-28 05:53:13.712568'),\n",
       " ('Clara', 'Ashford', 143, 4, 143, '2019-06-21 14:40:27.712577')]"
      ]
     },
     "execution_count": 34,
     "metadata": {},
     "output_type": "execute_result"
    }
   ],
   "source": [
    "%%sql\n",
    "SELECT \n",
    "  Vorname,Nachname,Kunde.Kundennummer, Bestellung.* \n",
    "FROM \n",
    "  Kunde\n",
    "JOIN Bestellung \n",
    "ON\n",
    "  Kunde.Kundennummer = Bestellung.Kunde\n",
    "LIMIT 4;"
   ]
  },
  {
   "cell_type": "markdown",
   "metadata": {},
   "source": [
    "Was wir nun durchgeführt haben ist ein `INNER JOIN`. Das bedeutet, dass wir **keine** Kunden aufgelistet bekommen, die noch keine Bestellung getätigt haben und umgekehert auch keine Bestellung, zu denen der Kundendatensatz fehlt. Zweiteres sollte sowieso bereits durch die Konsistzenzprüfung der Datenbank gewährleistet sein. Bildlich gesprochen schaut es wie folgt aus:\n",
    "\n",
    "![Inner Join](https://upload.wikimedia.org/wikipedia/commons/thumb/1/18/SQL_Join_-_07_A_Inner_Join_B.svg/220px-SQL_Join_-_07_A_Inner_Join_B.svg.png)\n",
    "\n",
    "Das geht natürlich auch mit vier Tabellen, und damit komplettieren wir dieses Beispiel: Lassen Sie uns herausfinden, wer wann was gekauft hat! "
   ]
  },
  {
   "cell_type": "code",
   "execution_count": 35,
   "metadata": {},
   "outputs": [
    {
     "name": "stdout",
     "output_type": "stream",
     "text": [
      "   sqlite:///\n",
      " * sqlite:///bestellungen.db\n",
      "Done.\n"
     ]
    },
    {
     "data": {
      "text/html": [
       "<table>\n",
       "    <tr>\n",
       "        <th>Vorname</th>\n",
       "        <th>Nachname</th>\n",
       "        <th>Bestelldatum</th>\n",
       "        <th>Menge</th>\n",
       "        <th>Name</th>\n",
       "    </tr>\n",
       "    <tr>\n",
       "        <td>David</td>\n",
       "        <td>Wise</td>\n",
       "        <td>2017-09-22 08:49:18.787870</td>\n",
       "        <td>1</td>\n",
       "        <td>Kearui Spielzeug 3-12 Jahren für mädchen, Walkie Talkies für Kinder 8 Kanal Funkgerät mit Hintergrundbeleuchteter LCD-Taschenlampe, 3 Meilen Reichweite für Abenteuer im Freien, Camping, Wandern</td>\n",
       "    </tr>\n",
       "    <tr>\n",
       "        <td>David</td>\n",
       "        <td>Wise</td>\n",
       "        <td>2017-09-22 08:49:18.787870</td>\n",
       "        <td>3</td>\n",
       "        <td>DJI Mavic Mini Care Refresh</td>\n",
       "    </tr>\n",
       "    <tr>\n",
       "        <td>Wendy</td>\n",
       "        <td>Elliot</td>\n",
       "        <td>2017-09-22 08:51:17.038866</td>\n",
       "        <td>3</td>\n",
       "        <td>LEGO Creator 31058 - Dinosaurier, Dinosaurier Spielzeug</td>\n",
       "    </tr>\n",
       "    <tr>\n",
       "        <td>Wendy</td>\n",
       "        <td>Elliot</td>\n",
       "        <td>2017-09-22 08:51:17.038866</td>\n",
       "        <td>3</td>\n",
       "        <td>4153 Fun Science - Geheimnisvolle Kristallwelt. Verrückte Kristallobjekte selbst züchten. KOSMOS Experimentierset für Einsteiger.</td>\n",
       "    </tr>\n",
       "    <tr>\n",
       "        <td>Wendy</td>\n",
       "        <td>Elliot</td>\n",
       "        <td>2017-09-22 08:51:17.038866</td>\n",
       "        <td>4</td>\n",
       "        <td>PROACC Klavier Playmat, Kinder Klaviertastatur Musik Playmat Spielzeug, große Größe (39 * 14 Zoll) lustige Tanzmatte für Babys Kleinkind Jungen und Mädchen Geschenk</td>\n",
       "    </tr>\n",
       "    <tr>\n",
       "        <td>Wendy</td>\n",
       "        <td>Elliot</td>\n",
       "        <td>2017-09-22 08:51:17.038866</td>\n",
       "        <td>3</td>\n",
       "        <td>LEGO 76897 Speed Champions 1985 Audi Sport Quattro S1 Rennwagenspielzeug</td>\n",
       "    </tr>\n",
       "    <tr>\n",
       "        <td>Sara</td>\n",
       "        <td>Ornelas</td>\n",
       "        <td>2017-09-22 09:08:34.851960</td>\n",
       "        <td>2</td>\n",
       "        <td>EXTSUD Piano Mat Tanzmatten Klaviermatte Musikmatte Kinder 8 Tierstimmen Klaviertastatur Spielzeug Musik Matte, Keyboard Matten Spielteppich Baby Tanzmatte für Jungen Mädchen Kinder 100*36 cm</td>\n",
       "    </tr>\n",
       "    <tr>\n",
       "        <td>Sara</td>\n",
       "        <td>Ornelas</td>\n",
       "        <td>2017-09-22 09:08:34.851960</td>\n",
       "        <td>4</td>\n",
       "        <td>Twister, Geschicklichkeitsspiel für Kinder &amp; Erwachsene, Familienspiel, Partyspiel, lustiges Spiel für Kindergeburtstage, 2-4 Personen, ab 6 Jahren</td>\n",
       "    </tr>\n",
       "    <tr>\n",
       "        <td>Sara</td>\n",
       "        <td>Ornelas</td>\n",
       "        <td>2017-09-22 09:08:34.851960</td>\n",
       "        <td>4</td>\n",
       "        <td>Spin Master Games 6058355 OGM Perplexus 2x2 Rubiks GML</td>\n",
       "    </tr>\n",
       "    <tr>\n",
       "        <td>Nathan</td>\n",
       "        <td>Caplan</td>\n",
       "        <td>2017-09-22 09:29:41.960481</td>\n",
       "        <td>2</td>\n",
       "        <td>LEGO 75979 Harry Potter Hedwig, Bauset, Mehrfarbig</td>\n",
       "    </tr>\n",
       "</table>"
      ],
      "text/plain": [
       "[('David', 'Wise', '2017-09-22 08:49:18.787870', 1, 'Kearui Spielzeug 3-12 Jahren für mädchen, Walkie Talkies für Kinder 8 Kanal Funkgerät mit Hintergrundbeleuchteter LCD-Taschenlampe, 3 Meilen Reichweite für Abenteuer im Freien, Camping, Wandern'),\n",
       " ('David', 'Wise', '2017-09-22 08:49:18.787870', 3, 'DJI Mavic Mini Care Refresh'),\n",
       " ('Wendy', 'Elliot', '2017-09-22 08:51:17.038866', 3, 'LEGO Creator 31058 - Dinosaurier, Dinosaurier Spielzeug'),\n",
       " ('Wendy', 'Elliot', '2017-09-22 08:51:17.038866', 3, '4153 Fun Science - Geheimnisvolle Kristallwelt. Verrückte Kristallobjekte selbst züchten. KOSMOS Experimentierset für Einsteiger.'),\n",
       " ('Wendy', 'Elliot', '2017-09-22 08:51:17.038866', 4, 'PROACC Klavier Playmat, Kinder Klaviertastatur Musik Playmat Spielzeug, große Größe (39 * 14 Zoll) lustige Tanzmatte für Babys Kleinkind Jungen und Mädchen Geschenk'),\n",
       " ('Wendy', 'Elliot', '2017-09-22 08:51:17.038866', 3, 'LEGO 76897 Speed Champions 1985 Audi Sport Quattro S1 Rennwagenspielzeug'),\n",
       " ('Sara', 'Ornelas', '2017-09-22 09:08:34.851960', 2, 'EXTSUD Piano Mat Tanzmatten Klaviermatte Musikmatte Kinder 8 Tierstimmen Klaviertastatur Spielzeug Musik Matte, Keyboard Matten Spielteppich Baby Tanzmatte für Jungen Mädchen Kinder 100*36 cm'),\n",
       " ('Sara', 'Ornelas', '2017-09-22 09:08:34.851960', 4, 'Twister, Geschicklichkeitsspiel für Kinder & Erwachsene, Familienspiel, Partyspiel, lustiges Spiel für Kindergeburtstage, 2-4 Personen, ab 6 Jahren'),\n",
       " ('Sara', 'Ornelas', '2017-09-22 09:08:34.851960', 4, 'Spin Master Games 6058355 OGM Perplexus 2x2 Rubiks GML'),\n",
       " ('Nathan', 'Caplan', '2017-09-22 09:29:41.960481', 2, 'LEGO 75979 Harry Potter Hedwig, Bauset, Mehrfarbig')]"
      ]
     },
     "execution_count": 35,
     "metadata": {},
     "output_type": "execute_result"
    }
   ],
   "source": [
    "%%sql\n",
    "SELECT \n",
    "  Vorname,Nachname,Bestelldatum,Menge,Name\n",
    "FROM \n",
    "  Kunde JOIN Bestellung \n",
    "ON\n",
    "  Kunde.Kundennummer = Bestellung.Kunde\n",
    "JOIN\n",
    "  enthaelt\n",
    "ON enthaelt.Bestellung = Bestellung.Bestellnummer\n",
    "JOIN\n",
    "  Artikel\n",
    "ON enthaelt.Artikel = Artikel.Artikelnummer\n",
    "ORDER BY\n",
    "  Bestellung.Bestelldatum ASC\n",
    "LIMIT 10;"
   ]
  },
  {
   "cell_type": "markdown",
   "metadata": {},
   "source": [
    "<a name=\"41\">\n",
    "</a>\n",
    "    \n",
    "## 4.1 Die verschiedenen Joins\n",
    "\n",
    "Es gibt verschiedene Arten Joins zu erklären. Ich bevorzuge immer noch folgendes Bild:\n",
    "\n",
    "<img src=\"https://i.stack.imgur.com/4zjxm.png\" width=\"60%\" />\n",
    "\n",
    "Es gibt aber auch Vetreter der Zunft die [diese Erklärung besser finden](https://blog.jooq.org/2016/07/05/say-no-to-venn-diagrams-when-explaining-joins/)\n",
    "\n",
    "Um uns die verschiedenen weiteren JOIN Arten anzusehen, legen wir kurz unser Warenhaus zur Seite und verwenden einfachere Beispieltabellen: Sie heißen ganz einfach \"eins\" und \"zwei\". Anhand derer wollen wir die verschiedenen Arten der Verknüpfung durchspielen:\n",
    "\n",
    "![](https://nextcloud.th-deg.de/s/ctmxwHMqK3Ybpi5/download)"
   ]
  },
  {
   "cell_type": "code",
   "execution_count": 36,
   "metadata": {},
   "outputs": [
    {
     "name": "stdout",
     "output_type": "stream",
     "text": [
      "   sqlite:///\n",
      " * sqlite:///bestellungen.db\n",
      "Done.\n",
      "3 rows affected.\n",
      "Done.\n",
      "3 rows affected.\n"
     ]
    },
    {
     "data": {
      "text/plain": [
       "[]"
      ]
     },
     "execution_count": 36,
     "metadata": {},
     "output_type": "execute_result"
    }
   ],
   "source": [
    "%%sql\n",
    "CREATE TABLE eins(id INT PRIMARY KEY, val CHAR(1));\n",
    "INSERT INTO eins VALUES(1,'A'), (2,'B'), (3,'C');\n",
    "CREATE TABLE zwei(id INT PRIMARY KEY, val2 CHAR(1));\n",
    "INSERT INTO zwei VALUES(2,'D'), (3,'E'), (4,'F');"
   ]
  },
  {
   "cell_type": "markdown",
   "metadata": {},
   "source": [
    "### Aufgabe\n",
    "Führen sie an den Tabellen die [verschiedenen JOIN Arten](https://nextcloud.th-deg.de/s/oS6sirZ8PXRSAe7/download) durch, implementieren Sie\n",
    "<ul>\n",
    "    <li>LEFT JOIN</li>\n",
    "    <li>RIGHT JOIN</li>\n",
    "    <li>A - B</li>\n",
    "    <li>B - A</li>\n",
    "</ul>\n",
    "um ein Gefühl für die veränderte Ergebnissmenge zu erhalten.\n"
   ]
  },
  {
   "cell_type": "code",
   "execution_count": 37,
   "metadata": {},
   "outputs": [
    {
     "name": "stdout",
     "output_type": "stream",
     "text": [
      "   sqlite:///\n",
      " * sqlite:///bestellungen.db\n",
      "Done.\n"
     ]
    },
    {
     "data": {
      "text/html": [
       "<table>\n",
       "    <tr>\n",
       "        <th>id</th>\n",
       "        <th>val</th>\n",
       "        <th>val2</th>\n",
       "    </tr>\n",
       "    <tr>\n",
       "        <td>2</td>\n",
       "        <td>B</td>\n",
       "        <td>D</td>\n",
       "    </tr>\n",
       "    <tr>\n",
       "        <td>3</td>\n",
       "        <td>C</td>\n",
       "        <td>E</td>\n",
       "    </tr>\n",
       "</table>"
      ],
      "text/plain": [
       "[(2, 'B', 'D'), (3, 'C', 'E')]"
      ]
     },
     "execution_count": 37,
     "metadata": {},
     "output_type": "execute_result"
    }
   ],
   "source": [
    "%%sql\n",
    "SELECT *\n",
    "FROM eins\n",
    "JOIN zwei\n",
    "USING(id);"
   ]
  },
  {
   "cell_type": "markdown",
   "metadata": {},
   "source": [
    "<a name=\"5\">\n",
    "</a>\n",
    "\n",
    "# 5. Mehr SQL"
   ]
  },
  {
   "cell_type": "markdown",
   "metadata": {},
   "source": [
    "<a name=\"51\">\n",
    "</a>\n",
    "\n",
    "## 5.1. Sortieren und Limitieren\n",
    "\n",
    "#### ORDER BY <Attribut> [ASC | DESC]:\n",
    "Sortiert nach einem oder mehreren Attributen auf- oder absteigend.\n",
    "\n",
    "#### LIMIT:\n",
    "Oft sieht man den `*` als Platzhalter für **alle** Attribute einer Tabelle. Im nächsten Aufruf lernen wir auch eine Möglichkeit kennen zwar alle Attribute, aber nur die erste Zeile der Ergebnisse zu erhalten. Den `LIMIT n` Befehlt, der genau *n* Zeilen des Ergebis ausgibt."
   ]
  },
  {
   "cell_type": "code",
   "execution_count": 38,
   "metadata": {},
   "outputs": [
    {
     "name": "stdout",
     "output_type": "stream",
     "text": [
      "   sqlite:///\n",
      " * sqlite:///bestellungen.db\n",
      "Done.\n"
     ]
    },
    {
     "data": {
      "text/html": [
       "<table>\n",
       "    <tr>\n",
       "        <th>Kundennummer</th>\n",
       "        <th>Vorname</th>\n",
       "        <th>Nachname</th>\n",
       "        <th>Wohnort</th>\n",
       "        <th>PLZ</th>\n",
       "        <th>Adresse</th>\n",
       "        <th>Geburtstag</th>\n",
       "    </tr>\n",
       "    <tr>\n",
       "        <td>1</td>\n",
       "        <td>Benedikt</td>\n",
       "        <td>Elser</td>\n",
       "        <td>None</td>\n",
       "        <td>None</td>\n",
       "        <td>None</td>\n",
       "        <td>None</td>\n",
       "    </tr>\n",
       "</table>"
      ],
      "text/plain": [
       "[(1, 'Benedikt', 'Elser', None, None, None, None)]"
      ]
     },
     "execution_count": 38,
     "metadata": {},
     "output_type": "execute_result"
    }
   ],
   "source": [
    "%%sql\n",
    "SELECT * from Kunde LIMIT 1;"
   ]
  },
  {
   "cell_type": "markdown",
   "metadata": {},
   "source": [
    "<div class=\"aufgabe\"> Lassen Sie den LIMIT Befehl doch einmal weg und lassen Sie sich alle Kunden ausgeben!</div>"
   ]
  },
  {
   "cell_type": "markdown",
   "metadata": {},
   "source": [
    "<a name=\"52\">\n",
    "</a>\n",
    "\n",
    "## 5.2 Gruppierung\n",
    "\n",
    "Es ist nicht unüblich, dass Sie Daten aggregiert betrachten wollen, anstatt das bewährte \"eyballing\" zu verwenden. Es gibt aber etwas zu bedenken:\n",
    "Wenn Sie Gruppen von Daten verwenden, haben Sie ja nicht mehr einzelne Tupel, die Sie verarbeiten wollen, sondern Tupelmengen. Wenn Sie auf einzeltupelebene bleiben wollen würden könnten Sie diese ja sonst einfach entsprechend sortieren. Und aber eine Menge in einer Zeile anzuzeigen muss man diese auf einen einzelnen Wert reduzieren. Also z.B. die Summe bilden mit `sum()`, Minimum und Maximum bilden mit `min() max()`, oder einfach alles als String hintereinander hängen mit `group_concat()`.\n",
    "\n",
    "Betrachten wir ein Beispiel. Als erstes sortieren wir einfach mal:"
   ]
  },
  {
   "cell_type": "code",
   "execution_count": 39,
   "metadata": {},
   "outputs": [
    {
     "name": "stdout",
     "output_type": "stream",
     "text": [
      "   sqlite:///\n",
      " * sqlite:///bestellungen.db\n",
      "Done.\n"
     ]
    },
    {
     "data": {
      "text/html": [
       "<table>\n",
       "    <tr>\n",
       "        <th>Kundennummer</th>\n",
       "        <th>Vorname</th>\n",
       "        <th>Nachname</th>\n",
       "        <th>Wohnort</th>\n",
       "        <th>PLZ</th>\n",
       "        <th>Adresse</th>\n",
       "        <th>Geburtstag</th>\n",
       "    </tr>\n",
       "    <tr>\n",
       "        <td>1</td>\n",
       "        <td>Benedikt</td>\n",
       "        <td>Elser</td>\n",
       "        <td>None</td>\n",
       "        <td>None</td>\n",
       "        <td>None</td>\n",
       "        <td>None</td>\n",
       "    </tr>\n",
       "    <tr>\n",
       "        <td>8</td>\n",
       "        <td>Nathan</td>\n",
       "        <td>Barney</td>\n",
       "        <td>Deggendorf</td>\n",
       "        <td>99469</td>\n",
       "        <td>None</td>\n",
       "        <td>1987-08-26</td>\n",
       "    </tr>\n",
       "    <tr>\n",
       "        <td>4</td>\n",
       "        <td>Fred</td>\n",
       "        <td>Merriweather</td>\n",
       "        <td>Landshut</td>\n",
       "        <td>84036</td>\n",
       "        <td>None</td>\n",
       "        <td>1983-06-12</td>\n",
       "    </tr>\n",
       "    <tr>\n",
       "        <td>5</td>\n",
       "        <td>Juan</td>\n",
       "        <td>Kinlaw</td>\n",
       "        <td>Landshut</td>\n",
       "        <td>84036</td>\n",
       "        <td>None</td>\n",
       "        <td>1986-03-23</td>\n",
       "    </tr>\n",
       "    <tr>\n",
       "        <td>6</td>\n",
       "        <td>John</td>\n",
       "        <td>Middleton</td>\n",
       "        <td>Landshut</td>\n",
       "        <td>84036</td>\n",
       "        <td>None</td>\n",
       "        <td>1998-01-03</td>\n",
       "    </tr>\n",
       "    <tr>\n",
       "        <td>3</td>\n",
       "        <td>Josef</td>\n",
       "        <td>Schneeberger</td>\n",
       "        <td>London</td>\n",
       "        <td>None</td>\n",
       "        <td>None</td>\n",
       "        <td>None</td>\n",
       "    </tr>\n",
       "    <tr>\n",
       "        <td>7</td>\n",
       "        <td>Annette</td>\n",
       "        <td>Marshall</td>\n",
       "        <td>Passau</td>\n",
       "        <td>90123</td>\n",
       "        <td>None</td>\n",
       "        <td>1989-08-03</td>\n",
       "    </tr>\n",
       "    <tr>\n",
       "        <td>9</td>\n",
       "        <td>Annette</td>\n",
       "        <td>Caplan</td>\n",
       "        <td>Passau</td>\n",
       "        <td>90123</td>\n",
       "        <td>None</td>\n",
       "        <td>1990-08-27</td>\n",
       "    </tr>\n",
       "    <tr>\n",
       "        <td>2</td>\n",
       "        <td>Waldemar</td>\n",
       "        <td>Berg</td>\n",
       "        <td>San Francisco</td>\n",
       "        <td>None</td>\n",
       "        <td>None</td>\n",
       "        <td>None</td>\n",
       "    </tr>\n",
       "</table>"
      ],
      "text/plain": [
       "[(1, 'Benedikt', 'Elser', None, None, None, None),\n",
       " (8, 'Nathan', 'Barney', 'Deggendorf', 99469, None, '1987-08-26'),\n",
       " (4, 'Fred', 'Merriweather', 'Landshut', 84036, None, '1983-06-12'),\n",
       " (5, 'Juan', 'Kinlaw', 'Landshut', 84036, None, '1986-03-23'),\n",
       " (6, 'John', 'Middleton', 'Landshut', 84036, None, '1998-01-03'),\n",
       " (3, 'Josef', 'Schneeberger', 'London', None, None, None),\n",
       " (7, 'Annette', 'Marshall', 'Passau', 90123, None, '1989-08-03'),\n",
       " (9, 'Annette', 'Caplan', 'Passau', 90123, None, '1990-08-27'),\n",
       " (2, 'Waldemar', 'Berg', 'San Francisco', None, None, None)]"
      ]
     },
     "execution_count": 39,
     "metadata": {},
     "output_type": "execute_result"
    }
   ],
   "source": [
    "%sql SELECT * FROM Kunde WHERE Kundennummer < 10 ORDER BY Wohnort;"
   ]
  },
  {
   "cell_type": "markdown",
   "metadata": {},
   "source": [
    "Nun kann man sich jeden Datensatz einzeln anschauen, aber wir wollen ja zu Gruppen zusammenfassen, also eine Zeile für Landshut, eine für Passau, etc. In Passau wohnen aber im obigen Datensatz zwei Kunden. Wie soll die Datenbank wissen, welchen Kunden sie Anzeigen soll (und macht das überhaupt Sinn?). Wir müssen also eine Aggregatsfunktion verwenden, die aus vielen Datensätzen einen macht. Hier bilden wir die Summe und zählen gleichzeitig auch noch wie viele Kunden das sind:"
   ]
  },
  {
   "cell_type": "code",
   "execution_count": 41,
   "metadata": {},
   "outputs": [
    {
     "name": "stdout",
     "output_type": "stream",
     "text": [
      "   sqlite:///\n",
      " * sqlite:///bestellungen.db\n",
      "Done.\n"
     ]
    },
    {
     "data": {
      "text/html": [
       "<table>\n",
       "    <tr>\n",
       "        <th>Einwohner</th>\n",
       "        <th>Anzahl</th>\n",
       "        <th>Wohnort</th>\n",
       "    </tr>\n",
       "    <tr>\n",
       "        <td>Elser</td>\n",
       "        <td>1</td>\n",
       "        <td>None</td>\n",
       "    </tr>\n",
       "    <tr>\n",
       "        <td>Barney</td>\n",
       "        <td>1</td>\n",
       "        <td>Deggendorf</td>\n",
       "    </tr>\n",
       "    <tr>\n",
       "        <td>Merriweather,Kinlaw,Middleton,Abdelhamid</td>\n",
       "        <td>4</td>\n",
       "        <td>Landshut</td>\n",
       "    </tr>\n",
       "    <tr>\n",
       "        <td>Schneeberger</td>\n",
       "        <td>1</td>\n",
       "        <td>London</td>\n",
       "    </tr>\n",
       "    <tr>\n",
       "        <td>Marshall,Caplan</td>\n",
       "        <td>2</td>\n",
       "        <td>Passau</td>\n",
       "    </tr>\n",
       "    <tr>\n",
       "        <td>Berg</td>\n",
       "        <td>1</td>\n",
       "        <td>San Francisco</td>\n",
       "    </tr>\n",
       "</table>"
      ],
      "text/plain": [
       "[('Elser', 1, None),\n",
       " ('Barney', 1, 'Deggendorf'),\n",
       " ('Merriweather,Kinlaw,Middleton,Abdelhamid', 4, 'Landshut'),\n",
       " ('Schneeberger', 1, 'London'),\n",
       " ('Marshall,Caplan', 2, 'Passau'),\n",
       " ('Berg', 1, 'San Francisco')]"
      ]
     },
     "execution_count": 41,
     "metadata": {},
     "output_type": "execute_result"
    }
   ],
   "source": [
    "%sql SELECT group_concat(Nachname) AS Einwohner, count(*) as Anzahl, Wohnort FROM Kunde WHERE Kundennummer < 11 GROUP BY Wohnort;"
   ]
  },
  {
   "cell_type": "markdown",
   "metadata": {},
   "source": [
    "#### HAVING vs. WHERE bei GROUP BY\n",
    "\n",
    "Wenn wir nun diese Menge weiter einschränken wollen funktioniert unser bewährtes `WHERE` nicht mehr. Dieses arbeitet **vor** der Aggregation. Falls wir nun aber nur Städte anzeigen wollen, die mehr als einen Kunden beheimaten verwenden wir den `HAVING`Operator. Dieser wird nach der Aggregation aufgerufen:"
   ]
  },
  {
   "cell_type": "code",
   "execution_count": 42,
   "metadata": {},
   "outputs": [
    {
     "name": "stdout",
     "output_type": "stream",
     "text": [
      "   sqlite:///\n",
      " * sqlite:///bestellungen.db\n",
      "Done.\n"
     ]
    },
    {
     "data": {
      "text/html": [
       "<table>\n",
       "    <tr>\n",
       "        <th>Einwohner</th>\n",
       "        <th>Anzahl</th>\n",
       "        <th>Wohnort</th>\n",
       "    </tr>\n",
       "    <tr>\n",
       "        <td>Merriweather,Kinlaw,Middleton,Abdelhamid</td>\n",
       "        <td>4</td>\n",
       "        <td>Landshut</td>\n",
       "    </tr>\n",
       "    <tr>\n",
       "        <td>Marshall,Caplan</td>\n",
       "        <td>2</td>\n",
       "        <td>Passau</td>\n",
       "    </tr>\n",
       "</table>"
      ],
      "text/plain": [
       "[('Merriweather,Kinlaw,Middleton,Abdelhamid', 4, 'Landshut'),\n",
       " ('Marshall,Caplan', 2, 'Passau')]"
      ]
     },
     "execution_count": 42,
     "metadata": {},
     "output_type": "execute_result"
    }
   ],
   "source": [
    "%sql SELECT group_concat(Nachname) AS Einwohner, count(*) as Anzahl, Wohnort FROM Kunde WHERE Kundennummer < 11 GROUP BY Wohnort HAVING Anzahl > 1;"
   ]
  },
  {
   "cell_type": "markdown",
   "metadata": {},
   "source": [
    "<a name=\"53\">\n",
    "</a>\n",
    "\n",
    "## 5.3 Ein Transaktions-Beispiel\n",
    "\n",
    "Leider unterstützt unsere Umgebung keine Transaktionen. Wenn Sie diesen Code jedoch in einer Datenbank Shell ausführen sehen Sie das Wunder von Transaktionen: Im Beispiel versuchen wir eine Überweisung von Kunden C zu Kunden B zu machen. Leider ist das Konto von C nicht mehr gedeckt und die Abbuchung schlägt fehl. Weil wir aber eine Transaktion als \"umgebende Klammer\" mit `BEGIN TRANSACTION` und `COMMIT` gewählt haben dürfen wir erwarten, dass nach Ausführung der Transaktion B immer noch \"nur\" 2000 Geldeinheiten, und C immer noch 90 Geldeinheiten hat. Sehen Sie sich die Situation vor dem Abbuchen und nach dem Aufbuchen an, sieht das zunächst noch anders aus."
   ]
  },
  {
   "cell_type": "markdown",
   "metadata": {},
   "source": [
    "```\n",
    ".headers on\n",
    ".mode column\n",
    "DROP TABLE IF EXISTS Konten;\n",
    "CREATE TABLE IF NOT EXISTS Konten(kunde text PRIMARY KEY, balance integer, CHECK (balance >= 0));\n",
    "INSERT INTO Konten(kunde,balance) VALUES('A', 1000), ('B', 2000), ('C', 90);\n",
    "```\n",
    "\n",
    "```\n",
    "BEGIN TRANSACTION;\n",
    "\n",
    "UPDATE OR ROLLBACK Konten SET balance = balance + 100 WHERE kunde = 'B';\n",
    "UPDATE  OR ROLLBACK Konten SET balance = balance - 100 WHERE kunde = 'C';\n",
    "\n",
    "COMMIT;\n",
    "```"
   ]
  },
  {
   "cell_type": "code",
   "execution_count": null,
   "metadata": {},
   "outputs": [],
   "source": []
  }
 ],
 "metadata": {
  "kernelspec": {
   "display_name": "Python 3",
   "language": "python",
   "name": "python3"
  },
  "language_info": {
   "codemirror_mode": {
    "name": "ipython",
    "version": 3
   },
   "file_extension": ".py",
   "mimetype": "text/x-python",
   "name": "python",
   "nbconvert_exporter": "python",
   "pygments_lexer": "ipython3",
   "version": "3.7.6"
  }
 },
 "nbformat": 4,
 "nbformat_minor": 4
}
