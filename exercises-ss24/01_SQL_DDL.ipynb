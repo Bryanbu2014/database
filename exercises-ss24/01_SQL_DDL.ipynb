{
 "cells": [
  {
   "cell_type": "markdown",
   "metadata": {
    "tags": []
   },
   "source": [
    "# SQL: Structured Query Language am Beispiel\n",
    "\n",
    "Liebe Studierende, SQL ist eine sprache, die Leben muss und die wir uns am besten mit praktischen Beispielen aneignen. Daher wechseln wir in diese Umgebung, um Theorie mit Praxis zu vermischen. Die Idee ist simpel: Alles was Sie hier sehen ist in Zellen aufgeteilt. Es gibt Zellen in denen Text steht (wie hier) und es gibt Zellen in denen Code steht. Code Zellen bestehen aus zwei Teilen: Dem ausführbaren Code und der Ergebniszelle darunter. Um SQL Befehle abzusetzen müssen wir in diese Zellen das Keyword `%sql` (eine Zeile SQL ausführen) oder `%%sql` (die gesamte Zelle enthält SQL Befehle, bitte alle ausführen) schreiben. Der Clou ist, dass **Sie** eingreifen können. Sie können jede Zeile ausführen, indem Sie die Zelle auswählen (blauer Balken an der Seite) und auf `▶` im Menü oben drücken. Dann wird das Ergebnis neu berechnet. Viel Spaß dabei!"
   ]
  },
  {
   "cell_type": "code",
   "execution_count": 1,
   "metadata": {},
   "outputs": [],
   "source": [
    "# # Uncomment and run this code if sql module not found in the next block\n",
    "\n",
    "# !pip install ipython-sql"
   ]
  },
  {
   "cell_type": "code",
   "execution_count": 2,
   "metadata": {
    "tags": []
   },
   "outputs": [
    {
     "name": "stdout",
     "output_type": "stream",
     "text": [
      " * sqlite:///\n",
      "Done.\n"
     ]
    },
    {
     "data": {
      "text/plain": [
       "[]"
      ]
     },
     "execution_count": 2,
     "metadata": {},
     "output_type": "execute_result"
    }
   ],
   "source": [
    "# Hier ist nur Code zum Initialisieren der Umgebeung, bitte gehen Sie weiter, es gibt nichts zu sehen.\n",
    "\n",
    "# Keine langen Fehlermeldungen\n",
    "import sys\n",
    "ipython = get_ipython()\n",
    "\n",
    "def exception_handler(exception_type, exception, traceback):\n",
    "    print(\"%s: %s\" % (exception_type.__name__, exception), file=sys.stderr)\n",
    "\n",
    "ipython._showtraceback = exception_handler\n",
    "\n",
    "# Lade die Erweiterung, damit wir SQL Befehle nutzen können\n",
    "%load_ext sql\n",
    "\n",
    "# Verbinde Dich zu einer in - Memory Datenbank\n",
    "%sql sqlite:///\n",
    "%sql PRAGMA foreign_keys = ON\n",
    "\n",
    "# %reload_ext sql"
   ]
  },
  {
   "cell_type": "code",
   "execution_count": 3,
   "metadata": {
    "vscode": {
     "languageId": "sql"
    }
   },
   "outputs": [
    {
     "name": "stdout",
     "output_type": "stream",
     "text": [
      " * sqlite:///\n",
      "Done.\n",
      "Done.\n",
      "Done.\n",
      "Done.\n"
     ]
    },
    {
     "data": {
      "text/plain": [
       "[]"
      ]
     },
     "execution_count": 3,
     "metadata": {},
     "output_type": "execute_result"
    }
   ],
   "source": [
    "%%sql\n",
    "\n",
    "DROP TABLE IF EXISTS enthaelt;\n",
    "DROP TABLE IF EXISTS Artikel;\n",
    "DROP TABLE IF EXISTS Bestellung;\n",
    "DROP TABLE IF EXISTS Kunde;"
   ]
  },
  {
   "cell_type": "markdown",
   "metadata": {},
   "source": [
    "Der Aufbau der Lerneinheit ist wie folgt:\n",
    "\n",
    "\n",
    "<a href=\"#ddl\">1. Data Definition Language</a><br/>\n",
    "<a href=\"#11\">1.1 Relationen erzeugen</a><br/>\n",
    "<a href=\"#12\">1.2 Datentypen</a><br/>\n",
    "<a href=\"#13\">1.3 Spaltenbedingungen</a><br/>\n",
    "<a href=\"#14\">1.4 Tabellenbedingungen</a><br/>\n",
    "<a href=\"#15\">1.5 Testen von Constraints</a><br/>\n",
    "<a href=\"#16\">1.6 Views</a><br/>\n",
    "<a href=\"#17\">1.7 Zugriffsrechte und Vermischtes</a><br/>\n",
    "[My Own Notes](#my-own-notes)"
   ]
  },
  {
   "cell_type": "markdown",
   "metadata": {},
   "source": [
    "# 1. Data Definition Language \n",
    "<a name=\"ddl\">\n",
    "</a>\n",
    "Dieser Term bezeichnet den Teil von SQL mit dem\n",
    "\n",
    "- Relationen erzeugt, geändert und gelöscht werden (nicht deren Inhalte)\n",
    "- Sichten erzeugt und gelöscht\n",
    "- Integritätschecks, Invarianten, Trigger, Sequenzen definiert\n",
    "- Zugriffsrechte und Zugriffsschutz implementiert \n",
    "\n",
    "werden. Wenn es um das Anlegen, Ändern und Löschen von Inhalten geht, bemühen sie die <b>Data Manupulation Language (DML)</b>. Im Folgenden werden wir erst nur die Teile suchen (`SELECT ... FROM ...`) und einfügen (`INSERT INTO`) der DML verwenden, Details folgen dann im <a href=\"#DML\">Data Manipulation Language Kapitel</a>. \n",
    "\n",
    "In der Box genau über dieser haben wir auch bereits den ersten Befehl gesehen. `DROP TABLE [IF EXISTS] <Tabellenname>` löscht eine Tabelle. Der optionale Zusatz `IF EXISTS` führt dazu, dass keine Fehlermeldung ausgegeben wird, falls eine Tabelle nicht exisitert. \n"
   ]
  },
  {
   "cell_type": "markdown",
   "metadata": {},
   "source": [
    "<a name=\"11\">\n",
    "</a>\n",
    "\n",
    "## 1.1 Relationen erzeugen:\n",
    "\n",
    "[![https://www.sqlite.org/images/syntax/create-table-stmt.gif](https://www.sqlite.org/images/syntax/create-table-stmt.gif)](https://sqlite.org/syntax/create-table-stmt.html)\n",
    "\n",
    "Neue Relationen (Tabellen) werden in Datenbanken mit dem folgenden Befehl erstellt:\n",
    "```\n",
    "CREATE TABLE <Tabellenname> (\n",
    "\n",
    " { \n",
    "   <Attributname> {<Datentyp> | <Domain>} [<Spaltenbedingungen>]\n",
    " |\n",
    "   <Tabellenbedingung> \n",
    " }\n",
    "\n",
    ")\n",
    "```\n",
    "\n",
    "Wir müssen also mindestens den Namen der Tabelle, deren Attribute und den Datentyp der Attribute kennen. Man kann aber auch eingene Domänen (das sind eigene Datentypen, dazu später), Spaltenbedingungen und Tabellenbedingungen in den `CREATE TABLE` Befehl aufnehmen. Nun schauen wir uns aber erst ein Beispiel an:\n"
   ]
  },
  {
   "cell_type": "code",
   "execution_count": 4,
   "metadata": {
    "vscode": {
     "languageId": "sql"
    }
   },
   "outputs": [
    {
     "name": "stdout",
     "output_type": "stream",
     "text": [
      " * sqlite:///\n",
      "Done.\n",
      "Done.\n"
     ]
    },
    {
     "data": {
      "text/plain": [
       "[]"
      ]
     },
     "execution_count": 4,
     "metadata": {},
     "output_type": "execute_result"
    }
   ],
   "source": [
    "%%sql \n",
    "\n",
    "CREATE TABLE Kunde(\n",
    "    Kundennummer INTEGER PRIMARY KEY,\n",
    "    Vorname TEXT,\n",
    "    Nachname TEXT,\n",
    "    Wohnort TEXT,\n",
    "    PLZ INTEGER,\n",
    "    Adresse TEXT\n",
    ") STRICT;\n",
    "\n",
    "/* \n",
    "Tabellenname: Kunde, Attributname: Kundennummer, Datentyp: INTEGER, \n",
    "Spaltenbedingungen: PRIMARY KEY\n",
    "*/"
   ]
  },
  {
   "cell_type": "markdown",
   "metadata": {},
   "source": [
    "`STRICT` ist eine eigenart von sqlite und zwingt den Interpreter zu mehr Standardkonformität. Es ist also explizit nichts, was sie bei anderen Datenbanken braucen."
   ]
  },
  {
   "cell_type": "code",
   "execution_count": 5,
   "metadata": {
    "vscode": {
     "languageId": "sql"
    }
   },
   "outputs": [
    {
     "name": "stdout",
     "output_type": "stream",
     "text": [
      " * sqlite:///\n",
      "1 rows affected.\n"
     ]
    },
    {
     "data": {
      "text/plain": [
       "[]"
      ]
     },
     "execution_count": 5,
     "metadata": {},
     "output_type": "execute_result"
    }
   ],
   "source": [
    "%%sql \n",
    "\n",
    "INSERT INTO Kunde(Kundennummer, Vorname, Nachname) VALUES(1, \"Benedikt\", \"Elser\")"
   ]
  },
  {
   "cell_type": "code",
   "execution_count": 6,
   "metadata": {
    "vscode": {
     "languageId": "sql"
    }
   },
   "outputs": [
    {
     "name": "stdout",
     "output_type": "stream",
     "text": [
      " * sqlite:///\n",
      "Done.\n"
     ]
    },
    {
     "data": {
      "text/html": [
       "<table>\n",
       "    <thead>\n",
       "        <tr>\n",
       "            <th>Kundennummer</th>\n",
       "            <th>Vorname</th>\n",
       "            <th>Nachname</th>\n",
       "            <th>Wohnort</th>\n",
       "            <th>PLZ</th>\n",
       "            <th>Adresse</th>\n",
       "        </tr>\n",
       "    </thead>\n",
       "    <tbody>\n",
       "        <tr>\n",
       "            <td>1</td>\n",
       "            <td>Benedikt</td>\n",
       "            <td>Elser</td>\n",
       "            <td>None</td>\n",
       "            <td>None</td>\n",
       "            <td>None</td>\n",
       "        </tr>\n",
       "    </tbody>\n",
       "</table>"
      ],
      "text/plain": [
       "[(1, 'Benedikt', 'Elser', None, None, None)]"
      ]
     },
     "execution_count": 6,
     "metadata": {},
     "output_type": "execute_result"
    }
   ],
   "source": [
    "%%sql \n",
    "\n",
    "SELECT * FROM Kunde;  -- * means select all"
   ]
  },
  {
   "cell_type": "markdown",
   "metadata": {},
   "source": [
    "To select specific attribute from the table, one can use `SELECT Vorname FROM Kunde`. This selects the the Vorname attribute from the table."
   ]
  },
  {
   "cell_type": "markdown",
   "metadata": {},
   "source": [
    "Glückwunsch, damit haben wir unseren ersten SQL Befehl abgesetzt und falls nichts anderes da steht hat die Datenbank Ihren Befehl auch ausgeführt. Was haben wir also getan? Wir haben eine Tabelle mit den Attributen Kundennummer, Vorname, Nachname, Wohnort, PLZ und Adresse angelegt. **Kundennummer** haben wir zum Primärschlüssel gemacht, den Datentyp haben wir als TEXT angegeben, bei numerischen Werten haben wir eine INTEGER, also eine Ganzzahl gewählt. "
   ]
  },
  {
   "cell_type": "markdown",
   "metadata": {
    "tags": [
     "Übung"
    ]
   },
   "source": [
    "#### Übung ✅\n",
    "Versuchen Sie es doch gleich einmal selber. Legen Sie eine Tabelle `uebung_telefonbuch` an. In der wollen wir die `kundennummmer` als `INTEGER` und die `telefonnummer` als `TEXT` speichern. "
   ]
  },
  {
   "cell_type": "code",
   "execution_count": 7,
   "metadata": {
    "vscode": {
     "languageId": "sql"
    }
   },
   "outputs": [
    {
     "name": "stdout",
     "output_type": "stream",
     "text": [
      " * sqlite:///\n",
      "Done.\n",
      "Done.\n",
      "5 rows affected.\n"
     ]
    },
    {
     "data": {
      "text/plain": [
       "[]"
      ]
     },
     "execution_count": 7,
     "metadata": {},
     "output_type": "execute_result"
    }
   ],
   "source": [
    "%%sql\n",
    "-- Sie sind drann\n",
    "DROP TABLE IF EXISTS uebung_telefonbuch;\n",
    "CREATE TABLE uebung_telefonbuch(\n",
    "    kundennummer INTEGER,\n",
    "    telefonnummer TEXT\n",
    ");\n",
    "\n",
    "INSERT INTO uebung_telefonbuch(kundennummer, telefonnummer) VALUES(1, '+49071369672'), \n",
    "    (2, '+49022750234'),\n",
    "    (3, '+492038174371'),\n",
    "    (4, '+49959271473'),\n",
    "    (5, '+4991508400545');"
   ]
  },
  {
   "cell_type": "markdown",
   "metadata": {},
   "source": [
    "Hat alles geklappt? Bravo!"
   ]
  },
  {
   "cell_type": "markdown",
   "metadata": {},
   "source": [
    "<a name=\"12\">\n",
    "    &nbsp\n",
    "</a>\n",
    "\n",
    "## 1.2 Datentypen\n",
    "\n",
    "Hier eine Auflistung der gängigsten Datentypen. Beachten Sie, dass Sie immer für Ihr gewähltes DBMS die Dokumentation der Datentypen überprüfen sollten. Es ist also z.B. wichtig zu verstehen, welchen Datentyp Sie für exakte Zeitpunkte wählen sollten. Bei MYSQL könnte das z.B. DATETIME sein, bei PostgreSQL TIMESTAMP. Auch die Zeitzone muss an dieser Stelle beachtet werden, ist diese bereits enthalten, oder ist das ein eigener Datentyp? Wie Konvertiert die Datenbank? Wird ein String \"123\" zu 123 automatisch konvertiert, oder ergibt das einen Fehler. Hier zeigen Sich große unterschiede zwischen den Implementierungen.\n",
    "\n",
    "Name | Bedeutung\n",
    "-----|--------\n",
    "`INTEGER / INT` | Ganzzahl\n",
    "`SMALLINT` | Ganzzahl\n",
    "`NUMERIC(x,y)` | X Stellige Zahl mit Y Nachkommastellen\n",
    "`FLOAT(x)` | Gleitkommazahl mit x Nachkommastellen\n",
    "`TEXT` | Zeichenketten\n",
    "`CHARACTER(n) / CHAR(n)` | Zeichenketten der Länge n\n",
    "`VARCHAR(n)` | Variable Zeichenketten der Länge N\n",
    "`DATE` | Ein Datum\n",
    "`DATETIME, TIMESTAMP` | Zeitpunkte\n",
    "\n"
   ]
  },
  {
   "cell_type": "markdown",
   "metadata": {},
   "source": [
    "<a name=\"13\">\n",
    "    &nbsp\n",
    "</a>\n",
    "\n",
    "## 1.3 Spaltenbedingungen ( Attributbezogene Constraints )\n",
    "\n",
    "[![https://www.sqlite.org/images/syntax/column-def.gif](https://www.sqlite.org/images/syntax/column-def.gif)](https://sqlite.org/syntax/create-table-stmt.html)\n",
    "\n",
    "Um mehr konrolle über die einzelnen Attribute zu erhalten und z.B. Schlüssel zu definieren oder Integritätsbedingunen zu formulieren können wir nach dem Namen des Attributs und dessen Datentyp noch eine oder mehrere Bedingung definieren. Diese beziehen sich eben auf eine Spalte *(auch bei CHECK Bedingungen)*. Für Bedingungen, die sich auf mehrere Attribute Beziehen nutzen wir <a href=\"#14\">Tabellenbedingungen</a>, dazu später. Wir können die Bedinungen noch benennen indem wir `CONSTRAINT` und dann einen Namen vor die Bedingung schreiben. Übliche Bedinungen sind:\n",
    "\n",
    "- **Primary Key definieren:**\n",
    "<br/>Hiermit geben Sie an, welches Attribut Ihre Daten eindeutig identifizert. **Achtung**: Es kann nur einen Primary Key pro Tabelle geben, mehrfachverwendung führt zu Fehlermeldungen. Wollen Sie einen PK aus mehreren Attributen definieren verwenden Sie eine <a href=\"#14\">Tabellenbedingung</a>. <br/>*Beispiel:*\n",
    "```\n",
    "Kundennummer INTEGER PRIMARY KEY\n",
    "```\n",
    "- **Foreign Key(s) definieren:**\n",
    "<br/>Hiermit geben Sie an, dass das Attribut ein Foreign Key ist und welches Attribut einer andere Tabelle referenziert wird. *Hinweis: Sie können auch Schlüsselkandidaten referenzieren, die nicht PK sind. Diese müssen dann aber mit dem UNIQUE Constraint belegt sein.*\n",
    "<br/>*Beispiel:*\n",
    "```\n",
    "Kreditkarte TEXT FOREIGN_KEY REFERENCES Kreditkarte(Nummer)\n",
    "```\n",
    "- **NOT NULL:**\n",
    "<br/>Weisst die Datenbank an, auf eine Eingabe in diesem Attribut zu bestehen.\n",
    "<br/>*Beispiel mit Explizitem Namen:*\n",
    "```\n",
    "Name TEXT CONSTRAINT ImmerNachname NOT NULL\n",
    "```\n",
    "- **UNIQUE:** \n",
    "<br/>Das Attribut ist ein Schlüsselkandidat. Weisst die Datenbank an, auf Eideutigkeit der Werte dieses Attributs innerhalb der Tabelle zu achten. \n",
    "<br/>*Beispiel (kein gutes):*\n",
    "```\n",
    "Passwort TEXT UNIQUE\n",
    "```\n",
    "- **CHECK (Bedingung):**\n",
    "<br/>Integritätsbedingung bezogen auf das aktuelle Attribut. \n",
    "<br/>*Beispiel:*\n",
    "```\n",
    "PLZ INTEGER CHECK ( > 9999 AND < 100000) \n",
    "```\n",
    "- **DEFAULT:**\n",
    "<br/>Attributwert, der genommen werden soll, wenn kein Wert angegeben wird\n",
    "<br/>*Beispiel (unter Verwendung einer speziellen variablen, die den jetzigen Zeitpunkt zurückliefert):*\n",
    "```\n",
    "Bestelldatum TIMESTAMP DEFAULT CURRENT_TIMESTAMP\n",
    "```\n",
    "- <a name=\"serial\"></a> **AUTOINCREMENT (Bedingung):**\n",
    "<br/>Zähle das Attribut automatisch hoch. Hier unterscheiden sich leider die Datenbanken. Um einen Surrogate Key zu erzeugen gibt es entweder eigene Datentypen (z.B. `SERIAL` bei [postgres](https://www.postgresql.org/docs/current/datatype-numeric.html#DATATYPE-SERIAL)), das beschriebene Attribut `AUTOINCREMENT`, oder eigene Datenbankfunktionen [hierzu SQLite](https://www.sqlite.org/autoinc.html). Wir verwenden SQLite und lassen es also weg.\n",
    "<br/>*Beispiel:*\n",
    "```\n",
    "Kundennummer INTEGER AUTO_INCREMENT\n",
    "```\n",
    "\n",
    "Hinweis: Ein Primary Key ist also immer `NOT NULL` und `UNIQUE`. Ob Ihre Datenbank das auch so implementiert hat müssen Sie nachlesen, oder ausprobieren. Eine zusätzliche Angabe schadet aber nicht.\n",
    "\n",
    "Probieren wir das in unserem Beispiel aus. Vorher müssen wir aber die existierende Tabelle mit den `DROP TABLE` Befehl löschen:"
   ]
  },
  {
   "cell_type": "code",
   "execution_count": 8,
   "metadata": {
    "vscode": {
     "languageId": "sql"
    }
   },
   "outputs": [
    {
     "name": "stdout",
     "output_type": "stream",
     "text": [
      " * sqlite:///\n",
      "Done.\n",
      "Done.\n",
      "Done.\n",
      "Done.\n"
     ]
    },
    {
     "data": {
      "text/plain": [
       "[]"
      ]
     },
     "execution_count": 8,
     "metadata": {},
     "output_type": "execute_result"
    }
   ],
   "source": [
    "%%sql\n",
    "\n",
    "DROP TABLE IF EXISTS Bestellung;\n",
    "DROP TABLE IF EXISTS Kunde;\n",
    "\n",
    "CREATE TABLE Kunde(\n",
    "    Kundennummer INTEGER PRIMARY KEY NOT NULL,\n",
    "    Vorname TEXT,\n",
    "    Nachname TEXT CONSTRAINT ImmerNachname NOT NULL,  -- ImmerNachname is a constraint name\n",
    "    Wohnort TEXT,\n",
    "    PLZ INTEGER CHECK (PLZ BETWEEN 9999 AND 100000),  -- (> 9999 AND < 100000) works too\n",
    "    Adresse TEXT\n",
    ") STRICT;\n",
    "\n",
    "CREATE TABLE Bestellung(\n",
    "    Bestellnummer INTEGER PRIMARY KEY NOT NULL,\n",
    "    Kunde INTEGER REFERENCES Kunde(Kundennummer),\n",
    "    Bestelldatum TEXT DEFAULT (datetime('now', 'localtime'))\n",
    ") STRICT;"
   ]
  },
  {
   "cell_type": "markdown",
   "metadata": {
    "tags": [
     "Übung"
    ]
   },
   "source": [
    "#### Übung ✅\n",
    "Passen wir doch unsere `uebung_telefonbuch` Tabelle gleich an!  Erstellen Sie die Tablle nun so, dass nur Telefonnummern aus Deutschland ( `+49....` ) eingetragen werden können. Ausserdem sollen keine doppelten Telefonnummern einfügbar sein. Implementieren Sie die Vorgabe und kommentieren Sie die fehlerhaften Reihen nach dem Test aus."
   ]
  },
  {
   "cell_type": "markdown",
   "metadata": {},
   "source": [
    "**__Usage of keyword `LIKE`__**\n",
    "\n",
    "- LIKE '+49%': Value starts with +49\n",
    "- LIKE '%n': Value ends with n\n",
    "- LIKE '_____': 4 underscores, exactly 4 characters long\n",
    "- LIKE '%an%: All values that contain 'an'\n",
    "- LIKE 'Jo___': Value starts with Jo and followed by exactly three characters\n",
    "\n",
    "Can combine with NOT or other conditions\n",
    "\n",
    "- NOT LIKE 'A%': All names that do not start with 'A'\n",
    "- LIKE 'A%' AND City = 'New York': All names start with 'A' and living in 'New York'"
   ]
  },
  {
   "cell_type": "code",
   "execution_count": 9,
   "metadata": {
    "vscode": {
     "languageId": "sql"
    }
   },
   "outputs": [
    {
     "name": "stdout",
     "output_type": "stream",
     "text": [
      " * sqlite:///\n",
      "Done.\n",
      "Done.\n",
      "1 rows affected.\n",
      "1 rows affected.\n",
      "1 rows affected.\n",
      "Done.\n"
     ]
    },
    {
     "data": {
      "text/plain": [
       "[]"
      ]
     },
     "execution_count": 9,
     "metadata": {},
     "output_type": "execute_result"
    }
   ],
   "source": [
    "%%sql\n",
    "-- Sie sind drann\n",
    "DROP TABLE IF EXISTS uebung_telefonbuch;\n",
    "CREATE TABLE uebung_telefonbuch(\n",
    "    kundennummer INT PRIMARY KEY NOT NULL,\n",
    "    telefonnummer TEXT UNIQUE CHECK (telefonnummer LIKE '+49%')\n",
    ");\n",
    "\n",
    "INSERT INTO uebung_telefonbuch VALUES(1, '+49071369672');\n",
    "INSERT INTO uebung_telefonbuch VALUES(2, '+49022750234');\n",
    "-- INSERT INTO uebung_telefonbuch VALUES(3, '+432038174371');  -- Doesn't start wit +49\n",
    "INSERT INTO uebung_telefonbuch VALUES(4, '+49959271473');\n",
    "-- INSERT INTO uebung_telefonbuch VALUES(5, '+49022750234');  -- telefonnummer not unique"
   ]
  },
  {
   "cell_type": "markdown",
   "metadata": {},
   "source": [
    "<a name=\"14\">\n",
    "</a>\n",
    "\n",
    "## 1.4 Tabellenbedingungen\n",
    "\n",
    "[![https://www.sqlite.org/images/syntax/table-constraint.gif](https://www.sqlite.org/images/syntax/table-constraint.gif)](https://sqlite.org/syntax/create-table-stmt.html)\n",
    "\n",
    "Im Abschnitt vorher haben wir gesehen, wie wir einzelne Spalten mit Constraints belegen. Für Bedingungen, die sich auf mehrere Attribute beziehen bringt uns das aber nichts. Daher können wir bei der Definition einer Tabelle losgelöst von der Definition von Attributen auch noch Bedingunen für die ganze Tabelle und deren Attribute definieren. Auch diese können wir mit dem Schlüsselwort `CONSTRAINT` optional benennen. Übliche Bedinungen sind:\n",
    "\n",
    "- **Primary Key definieren:**\n",
    "<br/>Hiermit geben Sie an, welches oder welche Attribute Ihre Daten eindeutig identifizerten. <br/>*Beispiel:*\n",
    "```\n",
    "PRIMARY KEY(bestellnr, artikelnr)\n",
    "```\n",
    "- **Foreign Key(s) definieren:**\n",
    "<br/>Hiermit geben Sie an, welches oder welche Attribute einen Foreign Key bilden.\n",
    "<br/>*Beispiel (sehr schlechtes beispiel):*\n",
    "```\n",
    "FOREIGN KEY (Nachname, Vorname) REFERENCES Kunde(Nachname, Vorname)\n",
    "```\n",
    "- **UNIQUE:** \n",
    "<br/>Weisst die Datenbank an, auf Eideutigkeit der Werte dieses oder dieser Attribute innerhalb der Tabelle zu Achten. \n",
    "<br/>*Beispiel (kein gutes):*\n",
    "```\n",
    "UNIQUE(Nachname, Vorname)\n",
    "```\n",
    "- **CHECK (Bedingung):**\n",
    "<br/>Integritätsbedingung bezogen auf portentiell alle Attribute der Tabelle. \n",
    "<br/>*Beispiel:*\n",
    "```\n",
    "CHECK ( (len(Nachname) + len(Vorname)) > 3) \n",
    "```\n"
   ]
  },
  {
   "cell_type": "markdown",
   "metadata": {},
   "source": [
    "Erweitern wir also unser Schema um Artiel und Bestellungen. Wir definieren dabei PKs und FKs als Tabellenbedingung, das erhöt die Lesbarkeit."
   ]
  },
  {
   "cell_type": "code",
   "execution_count": 10,
   "metadata": {
    "vscode": {
     "languageId": "sql"
    }
   },
   "outputs": [
    {
     "name": "stdout",
     "output_type": "stream",
     "text": [
      " * sqlite:///\n",
      "Done.\n",
      "Done.\n",
      "Done.\n",
      "Done.\n",
      "Done.\n"
     ]
    },
    {
     "data": {
      "text/plain": [
       "[]"
      ]
     },
     "execution_count": 10,
     "metadata": {},
     "output_type": "execute_result"
    }
   ],
   "source": [
    "%%sql\n",
    "\n",
    "DROP TABLE IF EXISTS enthaelt;\n",
    "DROP TABLE IF EXISTS ARTIKEL;\n",
    "\n",
    "CREATE TABLE IF NOT EXISTS Artikel(\n",
    "    Artikelnummer INTEGER NOT NULL,\n",
    "    Name TEXT,\n",
    "    Lagermenge INTEGER,\n",
    "    PRIMARY KEY (Artikelnummer)\n",
    ") STRICT;\n",
    "\n",
    "CREATE TABLE enthaelt(\n",
    "    Bestellung INTEGER NOT NULL,\n",
    "    Artikel INTEGER NOT NULL,\n",
    "    Menge Integer DEFAULT 1,\n",
    "    FOREIGN KEY(Artikel) REFERENCES Artikel(Artikelnummer),\n",
    "    FOREIGN KEY(Bestellung) REFERENCES Bestellung(Bestellnummer),\n",
    "    PRIMARY KEY(Bestellung, Artikel)\n",
    ") STRICT;\n",
    "\n",
    "-- Can be also rewritten into\n",
    "\n",
    "/*\n",
    "CREATE TABLE IF NOT EXISTS Artikel(\n",
    "    Artikelnummer INTEGER NOT NULL PRIMARY KEY,\n",
    "    Name TEXT,\n",
    "    Lagermenge INTEGER\n",
    ") STRICT;\n",
    "\n",
    "CREATE TABLE enthaelt(\n",
    "    Bestellung INTEGER NOT NULL REFERENCES Bestellung(Bestellnummer),\n",
    "    Artikel INTEGER NOT NULL REFERENCES Artikel(Artikelnummer),\n",
    "    Menge INTEGER DEFAULT 1,\n",
    "    PRIMARY KEY(Bestellung, Artikel)\n",
    ") STRICT;\n",
    "*/"
   ]
  },
  {
   "cell_type": "markdown",
   "metadata": {},
   "source": [
    "<a name=\"15\">\n",
    "</a>\n",
    "\n",
    "## 1.5 Constraints testen\n",
    "\n",
    "Bevor wir ins Testen kommen können, brauchen wir Daten. Diese legen wir nun an"
   ]
  },
  {
   "cell_type": "code",
   "execution_count": 11,
   "metadata": {
    "vscode": {
     "languageId": "sql"
    }
   },
   "outputs": [
    {
     "name": "stdout",
     "output_type": "stream",
     "text": [
      " * sqlite:///\n",
      "Done.\n",
      "Done.\n",
      "Done.\n",
      "Done.\n"
     ]
    },
    {
     "data": {
      "text/plain": [
       "[]"
      ]
     },
     "execution_count": 11,
     "metadata": {},
     "output_type": "execute_result"
    }
   ],
   "source": [
    "%%sql\n",
    "\n",
    "DROP TABLE IF EXISTS Bestellung;\n",
    "DROP TABLE IF EXISTS Kunde;\n",
    "\n",
    "CREATE TABLE Kunde(\n",
    "    Kundennummer INTEGER PRIMARY KEY NOT NULL,\n",
    "    Vorname TEXT,\n",
    "    Nachname TEXT CONSTRAINT ImmerNachname NOT NULL,  -- ImmerNachname is a constraint name\n",
    "    Wohnort TEXT,\n",
    "    PLZ INTEGER CHECK (PLZ BETWEEN 9999 AND 100000),  -- (> 9999 AND < 100000) works too\n",
    "    Adresse TEXT\n",
    ") STRICT;\n",
    "\n",
    "CREATE TABLE Bestellung(\n",
    "    Bestellnummer INTEGER PRIMARY KEY NOT NULL,\n",
    "    Kunde INTEGER REFERENCES Kunde(Kundennummer),\n",
    "    Bestelldatum TEXT DEFAULT (datetime('now', 'localtime'))\n",
    ") STRICT;"
   ]
  },
  {
   "cell_type": "code",
   "execution_count": 12,
   "metadata": {
    "vscode": {
     "languageId": "sql"
    }
   },
   "outputs": [
    {
     "name": "stdout",
     "output_type": "stream",
     "text": [
      " * sqlite:///\n",
      "1 rows affected.\n",
      "2 rows affected.\n"
     ]
    },
    {
     "data": {
      "text/plain": [
       "[]"
      ]
     },
     "execution_count": 12,
     "metadata": {},
     "output_type": "execute_result"
    }
   ],
   "source": [
    "%%sql\n",
    "\n",
    "INSERT INTO Kunde (Vorname, Nachname, Wohnort, PLZ) VALUES('Benedikt', 'Elser', 'Deggendorf', 94469);\n",
    "INSERT INTO BESTELLUNG (Kunde) VALUES(1), (1);"
   ]
  },
  {
   "cell_type": "code",
   "execution_count": 13,
   "metadata": {
    "vscode": {
     "languageId": "sql"
    }
   },
   "outputs": [
    {
     "name": "stdout",
     "output_type": "stream",
     "text": [
      " * sqlite:///\n",
      "Done.\n"
     ]
    },
    {
     "data": {
      "text/html": [
       "<table>\n",
       "    <thead>\n",
       "        <tr>\n",
       "            <th>Kundennummer</th>\n",
       "            <th>Vorname</th>\n",
       "            <th>Nachname</th>\n",
       "            <th>Wohnort</th>\n",
       "            <th>PLZ</th>\n",
       "            <th>Adresse</th>\n",
       "        </tr>\n",
       "    </thead>\n",
       "    <tbody>\n",
       "        <tr>\n",
       "            <td>1</td>\n",
       "            <td>Benedikt</td>\n",
       "            <td>Elser</td>\n",
       "            <td>Deggendorf</td>\n",
       "            <td>94469</td>\n",
       "            <td>None</td>\n",
       "        </tr>\n",
       "    </tbody>\n",
       "</table>"
      ],
      "text/plain": [
       "[(1, 'Benedikt', 'Elser', 'Deggendorf', 94469, None)]"
      ]
     },
     "execution_count": 13,
     "metadata": {},
     "output_type": "execute_result"
    }
   ],
   "source": [
    "%%sql\n",
    "\n",
    "SELECT * FROM KUNDE;"
   ]
  },
  {
   "cell_type": "code",
   "execution_count": 14,
   "metadata": {
    "vscode": {
     "languageId": "sql"
    }
   },
   "outputs": [
    {
     "name": "stdout",
     "output_type": "stream",
     "text": [
      " * sqlite:///\n",
      "Done.\n"
     ]
    },
    {
     "data": {
      "text/html": [
       "<table>\n",
       "    <thead>\n",
       "        <tr>\n",
       "            <th>Bestellnummer</th>\n",
       "            <th>Kunde</th>\n",
       "            <th>Bestelldatum</th>\n",
       "        </tr>\n",
       "    </thead>\n",
       "    <tbody>\n",
       "        <tr>\n",
       "            <td>1</td>\n",
       "            <td>1</td>\n",
       "            <td>2024-07-08 22:04:37</td>\n",
       "        </tr>\n",
       "        <tr>\n",
       "            <td>2</td>\n",
       "            <td>1</td>\n",
       "            <td>2024-07-08 22:04:37</td>\n",
       "        </tr>\n",
       "    </tbody>\n",
       "</table>"
      ],
      "text/plain": [
       "[(1, 1, '2024-07-08 22:04:37'), (2, 1, '2024-07-08 22:04:37')]"
      ]
     },
     "execution_count": 14,
     "metadata": {},
     "output_type": "execute_result"
    }
   ],
   "source": [
    "%%sql\n",
    "\n",
    "SELECT * FROM Bestellung;"
   ]
  },
  {
   "cell_type": "markdown",
   "metadata": {},
   "source": [
    "Testen wir nun einmal unsere Spaltenbedinungen. Wie wir oben gesehen haben wurde der `DEFAULT` Wert für den Bestellzeitpunkt bereits beachtet und unsere Bestellungen haben einen sinnvollen Wert. Wie schaut es nun bei Refrenzen auf nicht existierende Kunden aus? "
   ]
  },
  {
   "cell_type": "code",
   "execution_count": 15,
   "metadata": {
    "vscode": {
     "languageId": "sql"
    }
   },
   "outputs": [
    {
     "name": "stdout",
     "output_type": "stream",
     "text": [
      " * sqlite:///\n",
      "(sqlite3.IntegrityError) FOREIGN KEY constraint failed\n",
      "[SQL: INSERT INTO BESTELLUNG (Kunde) VALUES(12);]\n",
      "(Background on this error at: https://sqlalche.me/e/20/gkpj)\n"
     ]
    }
   ],
   "source": [
    "%%sql \n",
    "\n",
    "INSERT INTO BESTELLUNG (Kunde) VALUES(12);"
   ]
  },
  {
   "cell_type": "markdown",
   "metadata": {},
   "source": [
    "Wie erwartet ist das fehlgeschlagen. Kunde in Bestellung is referenced to Kundennummer in Kunde, but there is no Kundennummer 12 in the table Kunde.\n",
    "\n",
    "Testen wir nun unsere Constraints auf Kunden. Es folgt ein Beispiel mit falscher Postleitzahl, danach ein Beispiel ohne Nachname. Wir erwarten, dass keins der Beispiele erfolgreich ist. "
   ]
  },
  {
   "cell_type": "code",
   "execution_count": 16,
   "metadata": {
    "vscode": {
     "languageId": "sql"
    }
   },
   "outputs": [
    {
     "name": "stdout",
     "output_type": "stream",
     "text": [
      " * sqlite:///\n",
      "(sqlite3.IntegrityError) CHECK constraint failed: PLZ BETWEEN 9999 AND 100000\n",
      "[SQL: INSERT INTO Kunde (Vorname, Nachname, Wohnort, PLZ) VALUES('Benedikt', 'Elser', 'Deggendorf', 12);]\n",
      "(Background on this error at: https://sqlalche.me/e/20/gkpj)\n"
     ]
    }
   ],
   "source": [
    "%%sql\n",
    "\n",
    "INSERT INTO Kunde (Vorname, Nachname, Wohnort, PLZ) VALUES('Benedikt', 'Elser', 'Deggendorf', 12);"
   ]
  },
  {
   "cell_type": "code",
   "execution_count": 17,
   "metadata": {
    "vscode": {
     "languageId": "sql"
    }
   },
   "outputs": [
    {
     "name": "stdout",
     "output_type": "stream",
     "text": [
      " * sqlite:///\n",
      "(sqlite3.IntegrityError) NOT NULL constraint failed: Kunde.Nachname\n",
      "[SQL: INSERT INTO Kunde (Vorname, Wohnort, PLZ) VALUES('Benedikt', 'Deggendorf', 94469);]\n",
      "(Background on this error at: https://sqlalche.me/e/20/gkpj)\n"
     ]
    }
   ],
   "source": [
    "%%sql \n",
    "\n",
    "INSERT INTO Kunde (Vorname, Wohnort, PLZ) VALUES('Benedikt', 'Deggendorf', 94469);"
   ]
  },
  {
   "cell_type": "markdown",
   "metadata": {},
   "source": [
    "<a name=\"16\">\n",
    "</a>\n",
    "\n",
    "## 1.6 Views\n",
    "\n",
    "[![https://sqlite.org/images/syntax/create-view-stmt.gif](https://sqlite.org/images/syntax/create-view-stmt.gif)](https://sqlite.org/lang_createview.html)\n",
    "\n",
    "\n",
    "Ein wichtiges Feature von Relationalen Datenbanken ist die Datenunanbängigkeit. Wir hatten das 3 - Ebenen Modell gesprochen. Nun haben wir das Rüstzeug um Relationen zu definieren, es ist also an der Zeit die externe Ebene zu betrachten. Wie können wir also eine Sicht auf Tabellen erstellen, die \n",
    "\n",
    "- Einfacher zu handhaben sind (z.B. indem weniger Kommandos getippt, weniger Wissen über das Schema gelernt werden muss)\n",
    "- Nur einen Teil der Daten zeigen (z.B. Sensible Attribute nicht anzeigt, oder ganze Reihen auslässt)\n",
    "- Und trotdem keien Redundanzen erzeugt\n",
    "\n",
    "Dieses wird in SQL als `VIEW` bezeichnet, im Folgendem implementieren wir beispielhaft eine solche. Unser Szenario ist wie folgt: Wir wollen unseren Vertriebsmitarbeitern nicht genau zeigen, wer was im Detail bestellt hat, sondern aus Datenschutzgründen lediglich eine übersicht über die Anzahl der getätigten Bestellungen pro Kunde aubsteigend sortiert geben.\n",
    "\n",
    "*Wir verwenden im folgenden bereits Abfragen der **DML**, da eine View aus einem CREATE Teil (DDL) und dann eine Abfrage in der DML aufgebaut ist. Wir können dann die View austauschbar zum DML Select verwenden.*  In Views können unter Umständen (im Trivialfall) Daten auch geschrieben werden, dieses ist in unserer Datenbank aber nicht implementiert."
   ]
  },
  {
   "cell_type": "code",
   "execution_count": 18,
   "metadata": {
    "vscode": {
     "languageId": "sql"
    }
   },
   "outputs": [
    {
     "name": "stdout",
     "output_type": "stream",
     "text": [
      " * sqlite:///\n",
      "Done.\n"
     ]
    },
    {
     "data": {
      "text/html": [
       "<table>\n",
       "    <thead>\n",
       "        <tr>\n",
       "            <th>Kundennummer</th>\n",
       "            <th>Vorname</th>\n",
       "            <th>Nachname</th>\n",
       "            <th>Wohnort</th>\n",
       "            <th>PLZ</th>\n",
       "            <th>Adresse</th>\n",
       "        </tr>\n",
       "    </thead>\n",
       "    <tbody>\n",
       "        <tr>\n",
       "            <td>1</td>\n",
       "            <td>Benedikt</td>\n",
       "            <td>Elser</td>\n",
       "            <td>Deggendorf</td>\n",
       "            <td>94469</td>\n",
       "            <td>None</td>\n",
       "        </tr>\n",
       "    </tbody>\n",
       "</table>"
      ],
      "text/plain": [
       "[(1, 'Benedikt', 'Elser', 'Deggendorf', 94469, None)]"
      ]
     },
     "execution_count": 18,
     "metadata": {},
     "output_type": "execute_result"
    }
   ],
   "source": [
    "%%sql\n",
    "\n",
    "SELECT * FROM Kunde;"
   ]
  },
  {
   "cell_type": "code",
   "execution_count": 19,
   "metadata": {
    "vscode": {
     "languageId": "sql"
    }
   },
   "outputs": [
    {
     "name": "stdout",
     "output_type": "stream",
     "text": [
      " * sqlite:///\n",
      "Done.\n"
     ]
    },
    {
     "data": {
      "text/html": [
       "<table>\n",
       "    <thead>\n",
       "        <tr>\n",
       "            <th>Bestellnummer</th>\n",
       "            <th>Kunde</th>\n",
       "            <th>Bestelldatum</th>\n",
       "        </tr>\n",
       "    </thead>\n",
       "    <tbody>\n",
       "        <tr>\n",
       "            <td>1</td>\n",
       "            <td>1</td>\n",
       "            <td>2024-07-08 22:04:37</td>\n",
       "        </tr>\n",
       "        <tr>\n",
       "            <td>2</td>\n",
       "            <td>1</td>\n",
       "            <td>2024-07-08 22:04:37</td>\n",
       "        </tr>\n",
       "    </tbody>\n",
       "</table>"
      ],
      "text/plain": [
       "[(1, 1, '2024-07-08 22:04:37'), (2, 1, '2024-07-08 22:04:37')]"
      ]
     },
     "execution_count": 19,
     "metadata": {},
     "output_type": "execute_result"
    }
   ],
   "source": [
    "%%sql\n",
    "\n",
    "SELECT * From Bestellung;"
   ]
  },
  {
   "cell_type": "code",
   "execution_count": 20,
   "metadata": {
    "vscode": {
     "languageId": "sql"
    }
   },
   "outputs": [
    {
     "name": "stdout",
     "output_type": "stream",
     "text": [
      " * sqlite:///\n",
      "Done.\n",
      "Done.\n"
     ]
    },
    {
     "data": {
      "text/plain": [
       "[]"
      ]
     },
     "execution_count": 20,
     "metadata": {},
     "output_type": "execute_result"
    }
   ],
   "source": [
    "%%sql\n",
    "\n",
    "DROP VIEW IF EXISTS Sales01;\n",
    "\n",
    "CREATE VIEW Sales01\n",
    "AS\n",
    "SELECT Kundennummer, COUNT(*) AS AnzahlBestellungen  -- AnzahlBestellungen is alias for COUNT(*)\n",
    "FROM Kunde, Bestellung\n",
    "WHERE Bestellung.Kunde = Kunde.Kundennummer\n",
    "GROUP BY Kundennummer"
   ]
  },
  {
   "cell_type": "code",
   "execution_count": 21,
   "metadata": {
    "vscode": {
     "languageId": "sql"
    }
   },
   "outputs": [
    {
     "name": "stdout",
     "output_type": "stream",
     "text": [
      " * sqlite:///\n",
      "Done.\n"
     ]
    },
    {
     "data": {
      "text/html": [
       "<table>\n",
       "    <thead>\n",
       "        <tr>\n",
       "            <th>Kundennummer</th>\n",
       "            <th>AnzahlBestellungen</th>\n",
       "        </tr>\n",
       "    </thead>\n",
       "    <tbody>\n",
       "        <tr>\n",
       "            <td>1</td>\n",
       "            <td>2</td>\n",
       "        </tr>\n",
       "    </tbody>\n",
       "</table>"
      ],
      "text/plain": [
       "[(1, 2)]"
      ]
     },
     "execution_count": 21,
     "metadata": {},
     "output_type": "execute_result"
    }
   ],
   "source": [
    "%%sql \n",
    "\n",
    "SELECT * FROM Sales01;"
   ]
  },
  {
   "cell_type": "markdown",
   "metadata": {},
   "source": [
    "Wie Sie sehen, geben wir eben keine Attribute in der Definition der View direkt an, sondern spezifizieren diese über den DML Teil. Sie können nun in der folgenden Zelle Daten in die Tabelle eintragen und sehen wie die View neue Ergebnisse zurückliefert."
   ]
  },
  {
   "cell_type": "code",
   "execution_count": 22,
   "metadata": {},
   "outputs": [
    {
     "name": "stdout",
     "output_type": "stream",
     "text": [
      " * sqlite:///\n",
      "Done.\n"
     ]
    },
    {
     "data": {
      "text/html": [
       "<table>\n",
       "    <thead>\n",
       "        <tr>\n",
       "            <th>Kundennummer</th>\n",
       "            <th>AnzahlBestellungen</th>\n",
       "        </tr>\n",
       "    </thead>\n",
       "    <tbody>\n",
       "        <tr>\n",
       "            <td>1</td>\n",
       "            <td>2</td>\n",
       "        </tr>\n",
       "    </tbody>\n",
       "</table>"
      ],
      "text/plain": [
       "[(1, 2)]"
      ]
     },
     "execution_count": 22,
     "metadata": {},
     "output_type": "execute_result"
    }
   ],
   "source": [
    "%%sql\n",
    "\n",
    "-- Schreiben Sie im folgenden einen oder mehrere Insert Befehle in die Kundentabelle um neue Kunden anzulegen und legen Sie dann Bestellungen für diese Kunden an.\n",
    "-- Hinweis: SQL Befehle schliessen sie mit einem ; ab\n",
    "-- Hinweis: Kommentare werden durch die beiden -- am Anfang der Zeile eingeleitet\n",
    "-- INSERT INTO Kunde ... ;\n",
    "-- INSERT INTO Bestellung ;\n",
    "\n",
    "\n",
    "\n",
    "\n",
    "SELECT * from Sales01;"
   ]
  },
  {
   "cell_type": "markdown",
   "metadata": {},
   "source": [
    "<a name=\"17\">\n",
    "</a>\n",
    "\n",
    "## 1.7 Zugriffsrechte\n",
    "\n",
    "Die hier verwendete Datenbank SQLite ist eine Dateibasierte Datenbank für den embedded Bereich. Sie erhalten also ein File pro Datenbank. Daher sind leider keine Zugriffsrechte implementiert und wir können das Thema nur Theoretisch betrachten.  \n",
    "\n",
    "Gewähren und Entziehen von Zugriffsrechten\n",
    "- Eigentümer kann Zugriffsrechte an Dritte vergeben \n",
    "- Diese Rechte können jederzeit widerrufen werden \n",
    "- Eigentümer behält immer alle Rechte\n",
    "- Der Datenbank superuser kann aber auch den Eigentümer übergehen\n",
    "\n",
    "\n",
    "#### Gewären von Rechten\n",
    "\n",
    "Ein Nutzer ist ein username der Nutzerverwaltung des Datenbankmanagementsystems. Der Befehl baut sich wie folgt auf:\n",
    "```\n",
    "GRANT <Zugriffsrecht(e durch komma getrennt)> \n",
    "ON <Tabellenname oder Sichtname>\n",
    "TO <Benutzername(n durch komma getrennt)\n",
    "[WITH GRANT OPTION]\n",
    "```\n",
    "\n",
    "Wir können also ein oder mehrere Rechte an einer Tabelle oder Sicht an einen oder mehrere Benutzer vergeben. Optional (`WITH GRANT OPTION`) erlauben wir diesem Benutzer auch Rechte an andere weiterzugeben. Die Rechte sind:\n",
    "\n",
    "Zugriffsrecht | Bedeutung\n",
    "-----|--------\n",
    "`SELECT` | Lesender Zugriff erlaub\n",
    "`UPDATE` | das Ändern von Inhalten erlaubt\n",
    "`UPDATE x1, x2...` | das Ändern von Inhalten der Attribute x1, ... erlaubt\n",
    "`DELETE` | das Löschen von Tupeln erlaub\n",
    "`INSERT` | das Einfügen neuer Tupel erlaubt\n",
    "`INSERT x1, x2...` | das Einfügen neuer Tupel mit den Attributen x1, ... erlaubt\n",
    "`ALL` | Alles erlaubt\n",
    "\n",
    "Wenn wir Allen Nutzern Zugriff geben wollen, verwenden wir das Schlüsselwort `ALL` anstatt eines Benutzernamens. Verwenden Sie diesen Befehl nur mit Vorsicht. Setzen Sie Ihn eher ein beim Enzug von Nutzerrechten:\n",
    "\n",
    "#### Enzug von Rechten\n",
    "\n",
    "```\n",
    "REVOKE \n",
    "[GRANT OPTION]\n",
    "<Zugriffsrecht(e durch komma getrennt oder ALL)> \n",
    "ON <Tabellenname oder Sichtname>\n",
    "FROM <Benutzername(n durch komma getrennt)\n",
    "```\n",
    "\n",
    "Man würde also typischerweise wie folgt vorgehen:\n",
    "\n",
    "```\n",
    "\n",
    "REVOKE ALL\n",
    "ON Kunde\n",
    "FROM ALL\n",
    "\n",
    "GRANT SELECT\n",
    "ON Kunde\n",
    "TO sales\n",
    "\n",
    "```\n",
    "\n",
    "Um exklusiv dem Salesdepartment lesenden Zugriff auf Ihre Kundentabelle zu geben. Eine spannende Diskussion zu einem echten Datenbanksystem finden sie in [diesem Twitter Thread zum Thema COVID-19 App]().\n"
   ]
  },
  {
   "cell_type": "markdown",
   "metadata": {},
   "source": [
    "<a name=\"18\">\n",
    "</a>\n",
    "\n",
    "## 1.8 Datenbankschema\n",
    "\n",
    "In der Vorlesung haben wir besprochen, dass eine Datenbank selbstbeschreibend sein sollte. Wie kann man das nun überprüfen? Die Antwort auf die Frage ist (wie oft bei Datenbanken) herstellerabhänig. SQLite hat eine [spezielle Tabelle](https://sqlite.org/fileformat2.html#sqlite_master), die sich `sqlite_master` nennt. Wenn wir diese Abfragen und auf die Spalte `sql`filtern finden wir alle unsere angelegten Tabellen, Sequenzen und Integritätschecks hier abgelegt:"
   ]
  },
  {
   "cell_type": "code",
   "execution_count": 23,
   "metadata": {},
   "outputs": [
    {
     "name": "stdout",
     "output_type": "stream",
     "text": [
      " * sqlite:///\n",
      "Done.\n"
     ]
    },
    {
     "data": {
      "text/html": [
       "<table>\n",
       "    <thead>\n",
       "        <tr>\n",
       "            <th>type</th>\n",
       "            <th>name</th>\n",
       "            <th>tbl_name</th>\n",
       "            <th>rootpage</th>\n",
       "            <th>sql</th>\n",
       "        </tr>\n",
       "    </thead>\n",
       "    <tbody>\n",
       "        <tr>\n",
       "            <td>table</td>\n",
       "            <td>uebung_telefonbuch</td>\n",
       "            <td>uebung_telefonbuch</td>\n",
       "            <td>3</td>\n",
       "            <td>CREATE TABLE uebung_telefonbuch(<br>    kundennummer INT PRIMARY KEY NOT NULL,<br>    telefonnummer TEXT UNIQUE CHECK (telefonnummer LIKE &#x27;+49%&#x27;)<br>)</td>\n",
       "        </tr>\n",
       "        <tr>\n",
       "            <td>index</td>\n",
       "            <td>sqlite_autoindex_uebung_telefonbuch_1</td>\n",
       "            <td>uebung_telefonbuch</td>\n",
       "            <td>5</td>\n",
       "            <td>None</td>\n",
       "        </tr>\n",
       "        <tr>\n",
       "            <td>index</td>\n",
       "            <td>sqlite_autoindex_uebung_telefonbuch_2</td>\n",
       "            <td>uebung_telefonbuch</td>\n",
       "            <td>6</td>\n",
       "            <td>None</td>\n",
       "        </tr>\n",
       "        <tr>\n",
       "            <td>table</td>\n",
       "            <td>Artikel</td>\n",
       "            <td>Artikel</td>\n",
       "            <td>7</td>\n",
       "            <td>CREATE TABLE Artikel(<br>    Artikelnummer INTEGER NOT NULL,<br>    Name TEXT,<br>    Lagermenge INTEGER,<br>    PRIMARY KEY (Artikelnummer)<br>) STRICT</td>\n",
       "        </tr>\n",
       "        <tr>\n",
       "            <td>table</td>\n",
       "            <td>enthaelt</td>\n",
       "            <td>enthaelt</td>\n",
       "            <td>8</td>\n",
       "            <td>CREATE TABLE enthaelt(<br>    Bestellung INTEGER NOT NULL,<br>    Artikel INTEGER NOT NULL,<br>    Menge Integer DEFAULT 1,<br>    FOREIGN KEY(Artikel) REFERENCES Artikel(Artikelnummer),<br>    FOREIGN KEY(Bestellung) REFERENCES Bestellung(Bestellnummer),<br>    PRIMARY KEY(Bestellung, Artikel)<br>) STRICT</td>\n",
       "        </tr>\n",
       "        <tr>\n",
       "            <td>index</td>\n",
       "            <td>sqlite_autoindex_enthaelt_1</td>\n",
       "            <td>enthaelt</td>\n",
       "            <td>9</td>\n",
       "            <td>None</td>\n",
       "        </tr>\n",
       "        <tr>\n",
       "            <td>table</td>\n",
       "            <td>Kunde</td>\n",
       "            <td>Kunde</td>\n",
       "            <td>2</td>\n",
       "            <td>CREATE TABLE Kunde(<br>    Kundennummer INTEGER PRIMARY KEY NOT NULL,<br>    Vorname TEXT,<br>    Nachname TEXT CONSTRAINT ImmerNachname NOT NULL,  -- ImmerNachname is a constraint name<br>    Wohnort TEXT,<br>    PLZ INTEGER CHECK (PLZ BETWEEN 9999 AND 100000),  -- (&gt; 9999 AND &lt; 100000) works too<br>    Adresse TEXT<br>) STRICT</td>\n",
       "        </tr>\n",
       "        <tr>\n",
       "            <td>table</td>\n",
       "            <td>Bestellung</td>\n",
       "            <td>Bestellung</td>\n",
       "            <td>4</td>\n",
       "            <td>CREATE TABLE Bestellung(<br>    Bestellnummer INTEGER PRIMARY KEY NOT NULL,<br>    Kunde INTEGER REFERENCES Kunde(Kundennummer),<br>    Bestelldatum TEXT DEFAULT (datetime(&#x27;now&#x27;, &#x27;localtime&#x27;))<br>) STRICT</td>\n",
       "        </tr>\n",
       "        <tr>\n",
       "            <td>view</td>\n",
       "            <td>Sales01</td>\n",
       "            <td>Sales01</td>\n",
       "            <td>0</td>\n",
       "            <td>CREATE VIEW Sales01<br>AS<br>SELECT Kundennummer, COUNT(*) AS AnzahlBestellungen  -- AnzahlBestellungen is alias for COUNT(*)<br>FROM Kunde, Bestellung<br>WHERE Bestellung.Kunde = Kunde.Kundennummer<br>GROUP BY Kundennummer</td>\n",
       "        </tr>\n",
       "    </tbody>\n",
       "</table>"
      ],
      "text/plain": [
       "[('table', 'uebung_telefonbuch', 'uebung_telefonbuch', 3, \"CREATE TABLE uebung_telefonbuch(\\n    kundennummer INT PRIMARY KEY NOT NULL,\\n    telefonnummer TEXT UNIQUE CHECK (telefonnummer LIKE '+49%')\\n)\"),\n",
       " ('index', 'sqlite_autoindex_uebung_telefonbuch_1', 'uebung_telefonbuch', 5, None),\n",
       " ('index', 'sqlite_autoindex_uebung_telefonbuch_2', 'uebung_telefonbuch', 6, None),\n",
       " ('table', 'Artikel', 'Artikel', 7, 'CREATE TABLE Artikel(\\n    Artikelnummer INTEGER NOT NULL,\\n    Name TEXT,\\n    Lagermenge INTEGER,\\n    PRIMARY KEY (Artikelnummer)\\n) STRICT'),\n",
       " ('table', 'enthaelt', 'enthaelt', 8, 'CREATE TABLE enthaelt(\\n    Bestellung INTEGER NOT NULL,\\n    Artikel INTEGER NOT NULL,\\n    Menge Integer DEFAULT 1,\\n    FOREIGN KEY(Artikel) REFERENCES Artikel(Artikelnummer),\\n    FOREIGN KEY(Bestellung) REFERENCES Bestellung(Bestellnummer),\\n    PRIMARY KEY(Bestellung, Artikel)\\n) STRICT'),\n",
       " ('index', 'sqlite_autoindex_enthaelt_1', 'enthaelt', 9, None),\n",
       " ('table', 'Kunde', 'Kunde', 2, 'CREATE TABLE Kunde(\\n    Kundennummer INTEGER PRIMARY KEY NOT NULL,\\n    Vorname TEXT,\\n    Nachname TEXT CONSTRAINT ImmerNachname NOT NULL,  -- Imme ... (18 characters truncated) ... straint name\\n    Wohnort TEXT,\\n    PLZ INTEGER CHECK (PLZ BETWEEN 9999 AND 100000),  -- (> 9999 AND < 100000) works too\\n    Adresse TEXT\\n) STRICT'),\n",
       " ('table', 'Bestellung', 'Bestellung', 4, \"CREATE TABLE Bestellung(\\n    Bestellnummer INTEGER PRIMARY KEY NOT NULL,\\n    Kunde INTEGER REFERENCES Kunde(Kundennummer),\\n    Bestelldatum TEXT DEFAULT (datetime('now', 'localtime'))\\n) STRICT\"),\n",
       " ('view', 'Sales01', 'Sales01', 0, 'CREATE VIEW Sales01\\nAS\\nSELECT Kundennummer, COUNT(*) AS AnzahlBestellungen  -- AnzahlBestellungen is alias for COUNT(*)\\nFROM Kunde, Bestellung\\nWHERE Bestellung.Kunde = Kunde.Kundennummer\\nGROUP BY Kundennummer')]"
      ]
     },
     "execution_count": 23,
     "metadata": {},
     "output_type": "execute_result"
    }
   ],
   "source": [
    "%%sql\n",
    "SELECT * \n",
    "FROM sqlite_master;"
   ]
  },
  {
   "cell_type": "markdown",
   "metadata": {},
   "source": [
    "<a name=\"18\">\n",
    "</a>\n",
    "\n",
    "## 1.9 Änderungen am Schema\n",
    "\n",
    "Im Kapitel 1.8 haben wir gesehen, dass eine Tabellendefinition auch nur ein Eintrag in eine andere Tabelle ist. Insofern können wir nicht nur Tabellen anlegen oder löschen, sondern auch deren Schema ändern. Die Syntax ist wie folgt:\n",
    "\n",
    "```\n",
    "ALTER TABLE <Tabellenname> \n",
    "[ { ADD | MODIFY } <Attributname> Datentyp [<Spaltenbedingungen>] ]\n",
    "[ DROP COLUMN  <Attributname> ]\n",
    "[ { ADD | DROP } <Tabellenbedingung> ]\n",
    "[ MODIFY <Default klausel> ]\n",
    "[ REANME COLUMN <Attributname> TO <Attributname_neu> ]\n",
    "[ REANME TO <Tabellenname_neu> ]\n",
    "\n",
    "```\n",
    "\n",
    "Leider implementieren auch hier verschiedene Datenbankmanagementsysteme nur teilbereiche. In SQLite ist nur folgendes implementiert:\n",
    "\n",
    "[![](https://sqlite.org/images/syntax/alter-table-stmt.gif)](https://sqlite.org/lang_altertable.html)\n",
    "\n",
    "So können wir also ein neues Attribut Steuernummer unseren Kunden hinzufügen:"
   ]
  },
  {
   "cell_type": "code",
   "execution_count": 24,
   "metadata": {},
   "outputs": [
    {
     "name": "stdout",
     "output_type": "stream",
     "text": [
      " * sqlite:///\n",
      "Done.\n",
      "Done.\n"
     ]
    },
    {
     "data": {
      "text/html": [
       "<table>\n",
       "    <thead>\n",
       "        <tr>\n",
       "            <th>Kundennummer</th>\n",
       "            <th>Vorname</th>\n",
       "            <th>Nachname</th>\n",
       "            <th>Wohnort</th>\n",
       "            <th>PLZ</th>\n",
       "            <th>Adresse</th>\n",
       "            <th>Steuernummer</th>\n",
       "        </tr>\n",
       "    </thead>\n",
       "    <tbody>\n",
       "        <tr>\n",
       "            <td>1</td>\n",
       "            <td>Benedikt</td>\n",
       "            <td>Elser</td>\n",
       "            <td>Deggendorf</td>\n",
       "            <td>94469</td>\n",
       "            <td>None</td>\n",
       "            <td>?</td>\n",
       "        </tr>\n",
       "    </tbody>\n",
       "</table>"
      ],
      "text/plain": [
       "[(1, 'Benedikt', 'Elser', 'Deggendorf', 94469, None, '?')]"
      ]
     },
     "execution_count": 24,
     "metadata": {},
     "output_type": "execute_result"
    }
   ],
   "source": [
    "%%sql\n",
    "\n",
    "ALTER TABLE Kunde ADD COLUMN Steuernummer TEXT DEFAULT \"?\";\n",
    "SELECT * FROM Kunde;"
   ]
  },
  {
   "cell_type": "markdown",
   "metadata": {},
   "source": [
    "Und auch hier darf ein Verweis auf das Schichtenmodell von Datenbanken nicht fehlen. Wir haben nun an einer Relation eine Änderung durchgeführt, die externe Sicht, die wir angelegt haben bleibt davon unbehelligt."
   ]
  },
  {
   "cell_type": "code",
   "execution_count": 25,
   "metadata": {},
   "outputs": [
    {
     "name": "stdout",
     "output_type": "stream",
     "text": [
      " * sqlite:///\n",
      "Done.\n"
     ]
    },
    {
     "data": {
      "text/html": [
       "<table>\n",
       "    <thead>\n",
       "        <tr>\n",
       "            <th>Kundennummer</th>\n",
       "            <th>AnzahlBestellungen</th>\n",
       "        </tr>\n",
       "    </thead>\n",
       "    <tbody>\n",
       "        <tr>\n",
       "            <td>1</td>\n",
       "            <td>2</td>\n",
       "        </tr>\n",
       "    </tbody>\n",
       "</table>"
      ],
      "text/plain": [
       "[(1, 2)]"
      ]
     },
     "execution_count": 25,
     "metadata": {},
     "output_type": "execute_result"
    }
   ],
   "source": [
    "%sql SELECT * FROM Sales01;"
   ]
  },
  {
   "cell_type": "markdown",
   "metadata": {},
   "source": [
    "## **My Own Notes**"
   ]
  },
  {
   "cell_type": "markdown",
   "metadata": {},
   "source": [
    "### SQL Query Execution Order"
   ]
  },
  {
   "cell_type": "markdown",
   "metadata": {},
   "source": [
    "1. FROM\n",
    "1. WHERE\n",
    "1. GROUP BY\n",
    "1. HAVING\n",
    "1. SELECT\n",
    "1. DISTINCT\n",
    "1. ORDER BY\n",
    "1. LIMIT"
   ]
  },
  {
   "cell_type": "markdown",
   "metadata": {},
   "source": [
    "### `AND` / `OR` Usage"
   ]
  },
  {
   "cell_type": "code",
   "execution_count": 26,
   "metadata": {
    "vscode": {
     "languageId": "sql"
    }
   },
   "outputs": [
    {
     "name": "stdout",
     "output_type": "stream",
     "text": [
      " * sqlite:///\n",
      "Done.\n",
      "Done.\n"
     ]
    },
    {
     "data": {
      "text/plain": [
       "[]"
      ]
     },
     "execution_count": 26,
     "metadata": {},
     "output_type": "execute_result"
    }
   ],
   "source": [
    "%%sql\n",
    "\n",
    "DROP TABLE IF EXISTS ITEM;\n",
    "\n",
    "CREATE TABLE IF NOT EXISTS ITEM (\n",
    "    item TEXT,\n",
    "    owner INTEGER\n",
    ");"
   ]
  },
  {
   "cell_type": "code",
   "execution_count": 27,
   "metadata": {
    "vscode": {
     "languageId": "sql"
    }
   },
   "outputs": [
    {
     "name": "stdout",
     "output_type": "stream",
     "text": [
      " * sqlite:///\n",
      "3 rows affected.\n",
      "Done.\n"
     ]
    },
    {
     "data": {
      "text/html": [
       "<table>\n",
       "    <thead>\n",
       "        <tr>\n",
       "            <th>item</th>\n",
       "            <th>owner</th>\n",
       "        </tr>\n",
       "    </thead>\n",
       "    <tbody>\n",
       "        <tr>\n",
       "            <td>teapot</td>\n",
       "            <td>20</td>\n",
       "        </tr>\n",
       "        <tr>\n",
       "            <td>cane</td>\n",
       "            <td>5</td>\n",
       "        </tr>\n",
       "        <tr>\n",
       "            <td>hammer</td>\n",
       "            <td>2</td>\n",
       "        </tr>\n",
       "    </tbody>\n",
       "</table>"
      ],
      "text/plain": [
       "[('teapot', 20), ('cane', 5), ('hammer', 2)]"
      ]
     },
     "execution_count": 27,
     "metadata": {},
     "output_type": "execute_result"
    }
   ],
   "source": [
    "%%sql\n",
    "\n",
    "INSERT INTO ITEM (item, owner) VALUES ('teapot', 20), ('cane', 5), ('hammer', 2);\n",
    "\n",
    "SELECT * FROM ITEM"
   ]
  },
  {
   "cell_type": "code",
   "execution_count": 28,
   "metadata": {
    "vscode": {
     "languageId": "sql"
    }
   },
   "outputs": [
    {
     "name": "stdout",
     "output_type": "stream",
     "text": [
      " * sqlite:///\n",
      "0 rows affected.\n",
      "Done.\n"
     ]
    },
    {
     "data": {
      "text/html": [
       "<table>\n",
       "    <thead>\n",
       "        <tr>\n",
       "            <th>item</th>\n",
       "            <th>owner</th>\n",
       "        </tr>\n",
       "    </thead>\n",
       "    <tbody>\n",
       "        <tr>\n",
       "            <td>teapot</td>\n",
       "            <td>20</td>\n",
       "        </tr>\n",
       "        <tr>\n",
       "            <td>cane</td>\n",
       "            <td>5</td>\n",
       "        </tr>\n",
       "        <tr>\n",
       "            <td>hammer</td>\n",
       "            <td>2</td>\n",
       "        </tr>\n",
       "    </tbody>\n",
       "</table>"
      ],
      "text/plain": [
       "[('teapot', 20), ('cane', 5), ('hammer', 2)]"
      ]
     },
     "execution_count": 28,
     "metadata": {},
     "output_type": "execute_result"
    }
   ],
   "source": [
    "%%sql\n",
    "\n",
    "UPDATE ITEM SET owner = 30 WHERE item = 'teapot' AND item = 'cane';\n",
    "SELECT * FROM ITEM;"
   ]
  },
  {
   "cell_type": "code",
   "execution_count": 29,
   "metadata": {
    "vscode": {
     "languageId": "sql"
    }
   },
   "outputs": [
    {
     "name": "stdout",
     "output_type": "stream",
     "text": [
      " * sqlite:///\n",
      "2 rows affected.\n",
      "Done.\n"
     ]
    },
    {
     "data": {
      "text/html": [
       "<table>\n",
       "    <thead>\n",
       "        <tr>\n",
       "            <th>item</th>\n",
       "            <th>owner</th>\n",
       "        </tr>\n",
       "    </thead>\n",
       "    <tbody>\n",
       "        <tr>\n",
       "            <td>teapot</td>\n",
       "            <td>30</td>\n",
       "        </tr>\n",
       "        <tr>\n",
       "            <td>cane</td>\n",
       "            <td>30</td>\n",
       "        </tr>\n",
       "        <tr>\n",
       "            <td>hammer</td>\n",
       "            <td>2</td>\n",
       "        </tr>\n",
       "    </tbody>\n",
       "</table>"
      ],
      "text/plain": [
       "[('teapot', 30), ('cane', 30), ('hammer', 2)]"
      ]
     },
     "execution_count": 29,
     "metadata": {},
     "output_type": "execute_result"
    }
   ],
   "source": [
    "%%sql\n",
    "\n",
    "UPDATE ITEM SET owner = 30 WHERE item = 'teapot' OR item = 'cane';\n",
    "SELECT * FROM ITEM;"
   ]
  },
  {
   "cell_type": "markdown",
   "metadata": {},
   "source": [
    "From above examples, `AND` couldn't change owner for both teapot and cane. The correct keyword is `OR`, if multiple items required changes."
   ]
  },
  {
   "cell_type": "markdown",
   "metadata": {
    "vscode": {
     "languageId": "sql"
    }
   },
   "source": [
    "### `ORDER BY` / `GROUP BY` Usage"
   ]
  },
  {
   "cell_type": "code",
   "execution_count": 30,
   "metadata": {
    "vscode": {
     "languageId": "sql"
    }
   },
   "outputs": [
    {
     "name": "stdout",
     "output_type": "stream",
     "text": [
      " * sqlite:///\n",
      "Done.\n",
      "Done.\n",
      "Done.\n"
     ]
    },
    {
     "data": {
      "text/html": [
       "<table>\n",
       "    <thead>\n",
       "        <tr>\n",
       "            <th>Nachname</th>\n",
       "            <th>Vorname</th>\n",
       "            <th>Geburtsjahr</th>\n",
       "        </tr>\n",
       "    </thead>\n",
       "    <tbody>\n",
       "    </tbody>\n",
       "</table>"
      ],
      "text/plain": [
       "[]"
      ]
     },
     "execution_count": 30,
     "metadata": {},
     "output_type": "execute_result"
    }
   ],
   "source": [
    "%%sql\n",
    "\n",
    "DROP TABLE IF EXISTS Studenten;\n",
    "\n",
    "CREATE TABLE IF NOT EXISTS Studenten (\n",
    "    Nachname TEXT,\n",
    "    Vorname TEXT,\n",
    "    Geburtsjahr INTEGER\n",
    ");\n",
    "\n",
    "SELECT * FROM Studenten;"
   ]
  },
  {
   "cell_type": "code",
   "execution_count": 31,
   "metadata": {
    "vscode": {
     "languageId": "sql"
    }
   },
   "outputs": [
    {
     "name": "stdout",
     "output_type": "stream",
     "text": [
      " * sqlite:///\n",
      "3 rows affected.\n",
      "Done.\n"
     ]
    },
    {
     "data": {
      "text/html": [
       "<table>\n",
       "    <thead>\n",
       "        <tr>\n",
       "            <th>Nachname</th>\n",
       "            <th>Vorname</th>\n",
       "            <th>Geburtsjahr</th>\n",
       "        </tr>\n",
       "    </thead>\n",
       "    <tbody>\n",
       "        <tr>\n",
       "            <td>Elser</td>\n",
       "            <td>Benedict</td>\n",
       "            <td>80</td>\n",
       "        </tr>\n",
       "        <tr>\n",
       "            <td>Maier</td>\n",
       "            <td>Hans</td>\n",
       "            <td>80</td>\n",
       "        </tr>\n",
       "        <tr>\n",
       "            <td>Schneeberger</td>\n",
       "            <td>Josef</td>\n",
       "            <td>63</td>\n",
       "        </tr>\n",
       "    </tbody>\n",
       "</table>"
      ],
      "text/plain": [
       "[('Elser', 'Benedict', 80),\n",
       " ('Maier', 'Hans', 80),\n",
       " ('Schneeberger', 'Josef', 63)]"
      ]
     },
     "execution_count": 31,
     "metadata": {},
     "output_type": "execute_result"
    }
   ],
   "source": [
    "%%sql\n",
    "\n",
    "INSERT INTO Studenten (Nachname, Vorname, Geburtsjahr) VALUES ('Elser', 'Benedict', 80), ('Maier', 'Hans', 80), ('Schneeberger', 'Josef', 63);\n",
    "\n",
    "SELECT * FROM Studenten;"
   ]
  },
  {
   "cell_type": "code",
   "execution_count": 32,
   "metadata": {
    "vscode": {
     "languageId": "sql"
    }
   },
   "outputs": [
    {
     "name": "stdout",
     "output_type": "stream",
     "text": [
      " * sqlite:///\n",
      "Done.\n"
     ]
    },
    {
     "data": {
      "text/html": [
       "<table>\n",
       "    <thead>\n",
       "        <tr>\n",
       "            <th>Geburtsjahr</th>\n",
       "            <th>Nachname</th>\n",
       "        </tr>\n",
       "    </thead>\n",
       "    <tbody>\n",
       "        <tr>\n",
       "            <td>63</td>\n",
       "            <td>Schneeberger</td>\n",
       "        </tr>\n",
       "        <tr>\n",
       "            <td>80</td>\n",
       "            <td>Elser</td>\n",
       "        </tr>\n",
       "        <tr>\n",
       "            <td>80</td>\n",
       "            <td>Maier</td>\n",
       "        </tr>\n",
       "    </tbody>\n",
       "</table>"
      ],
      "text/plain": [
       "[(63, 'Schneeberger'), (80, 'Elser'), (80, 'Maier')]"
      ]
     },
     "execution_count": 32,
     "metadata": {},
     "output_type": "execute_result"
    }
   ],
   "source": [
    "%%sql\n",
    "\n",
    "SELECT Geburtsjahr, Nachname\n",
    "FROM Studenten\n",
    "ORDER BY Geburtsjahr"
   ]
  },
  {
   "cell_type": "code",
   "execution_count": 33,
   "metadata": {
    "vscode": {
     "languageId": "sql"
    }
   },
   "outputs": [
    {
     "name": "stdout",
     "output_type": "stream",
     "text": [
      " * sqlite:///\n",
      "Done.\n"
     ]
    },
    {
     "data": {
      "text/html": [
       "<table>\n",
       "    <thead>\n",
       "        <tr>\n",
       "            <th>Geburtsjahr</th>\n",
       "            <th>Nachname</th>\n",
       "        </tr>\n",
       "    </thead>\n",
       "    <tbody>\n",
       "        <tr>\n",
       "            <td>63</td>\n",
       "            <td>Schneeberger</td>\n",
       "        </tr>\n",
       "        <tr>\n",
       "            <td>80</td>\n",
       "            <td>Elser</td>\n",
       "        </tr>\n",
       "    </tbody>\n",
       "</table>"
      ],
      "text/plain": [
       "[(63, 'Schneeberger'), (80, 'Elser')]"
      ]
     },
     "execution_count": 33,
     "metadata": {},
     "output_type": "execute_result"
    }
   ],
   "source": [
    "%%sql\n",
    "\n",
    "SELECT Geburtsjahr, Nachname\n",
    "FROM Studenten\n",
    "GROUP BY Geburtsjahr"
   ]
  },
  {
   "cell_type": "markdown",
   "metadata": {},
   "source": [
    "From above example, we can see that with `GROUP BY`, SQL returns one row per unique Geburtsjahr value. However, the Nachname displayed is typically the first one SQL encounters in each group, not necessarily all names in the group. If user wants to display all students, user can simply order them by `ORDER BY`."
   ]
  },
  {
   "cell_type": "markdown",
   "metadata": {},
   "source": [
    "### `DISTINCT` Usage"
   ]
  },
  {
   "cell_type": "markdown",
   "metadata": {
    "vscode": {
     "languageId": "sql"
    }
   },
   "source": [
    "`DISTINCT` removes all the repeated data. Refer to example below."
   ]
  },
  {
   "cell_type": "code",
   "execution_count": 34,
   "metadata": {
    "vscode": {
     "languageId": "sql"
    }
   },
   "outputs": [
    {
     "name": "stdout",
     "output_type": "stream",
     "text": [
      " * sqlite:///\n",
      "Done.\n",
      "Done.\n",
      "9 rows affected.\n"
     ]
    },
    {
     "data": {
      "text/plain": [
       "[]"
      ]
     },
     "execution_count": 34,
     "metadata": {},
     "output_type": "execute_result"
    }
   ],
   "source": [
    "%%sql\n",
    "\n",
    "DROP TABLE IF EXISTS Country;\n",
    "\n",
    "CREATE TABLE IF NOT EXISTS Country (\n",
    "    country_name TEXT\n",
    ");\n",
    "\n",
    "INSERT INTO Country VALUES ('Malaysia'), ('Singapore'), ('Indonesia'), ('Malaysia'), ('Singapore'), ('Indonesia'), ('Malaysia'), ('Malaysia'), ('Malaysia');"
   ]
  },
  {
   "cell_type": "code",
   "execution_count": 35,
   "metadata": {
    "vscode": {
     "languageId": "sql"
    }
   },
   "outputs": [
    {
     "name": "stdout",
     "output_type": "stream",
     "text": [
      " * sqlite:///\n",
      "Done.\n"
     ]
    },
    {
     "data": {
      "text/html": [
       "<table>\n",
       "    <thead>\n",
       "        <tr>\n",
       "            <th>country_name</th>\n",
       "        </tr>\n",
       "    </thead>\n",
       "    <tbody>\n",
       "        <tr>\n",
       "            <td>Malaysia</td>\n",
       "        </tr>\n",
       "        <tr>\n",
       "            <td>Singapore</td>\n",
       "        </tr>\n",
       "        <tr>\n",
       "            <td>Indonesia</td>\n",
       "        </tr>\n",
       "        <tr>\n",
       "            <td>Malaysia</td>\n",
       "        </tr>\n",
       "        <tr>\n",
       "            <td>Singapore</td>\n",
       "        </tr>\n",
       "        <tr>\n",
       "            <td>Indonesia</td>\n",
       "        </tr>\n",
       "        <tr>\n",
       "            <td>Malaysia</td>\n",
       "        </tr>\n",
       "        <tr>\n",
       "            <td>Malaysia</td>\n",
       "        </tr>\n",
       "        <tr>\n",
       "            <td>Malaysia</td>\n",
       "        </tr>\n",
       "    </tbody>\n",
       "</table>"
      ],
      "text/plain": [
       "[('Malaysia',),\n",
       " ('Singapore',),\n",
       " ('Indonesia',),\n",
       " ('Malaysia',),\n",
       " ('Singapore',),\n",
       " ('Indonesia',),\n",
       " ('Malaysia',),\n",
       " ('Malaysia',),\n",
       " ('Malaysia',)]"
      ]
     },
     "execution_count": 35,
     "metadata": {},
     "output_type": "execute_result"
    }
   ],
   "source": [
    "%%sql\n",
    "\n",
    "SELECT * FROM Country"
   ]
  },
  {
   "cell_type": "code",
   "execution_count": 36,
   "metadata": {
    "vscode": {
     "languageId": "sql"
    }
   },
   "outputs": [
    {
     "name": "stdout",
     "output_type": "stream",
     "text": [
      " * sqlite:///\n",
      "Done.\n"
     ]
    },
    {
     "data": {
      "text/html": [
       "<table>\n",
       "    <thead>\n",
       "        <tr>\n",
       "            <th>country_name</th>\n",
       "        </tr>\n",
       "    </thead>\n",
       "    <tbody>\n",
       "        <tr>\n",
       "            <td>Malaysia</td>\n",
       "        </tr>\n",
       "        <tr>\n",
       "            <td>Singapore</td>\n",
       "        </tr>\n",
       "        <tr>\n",
       "            <td>Indonesia</td>\n",
       "        </tr>\n",
       "    </tbody>\n",
       "</table>"
      ],
      "text/plain": [
       "[('Malaysia',), ('Singapore',), ('Indonesia',)]"
      ]
     },
     "execution_count": 36,
     "metadata": {},
     "output_type": "execute_result"
    }
   ],
   "source": [
    "%%sql\n",
    "\n",
    "SELECT DISTINCT * FROM COUNTRY"
   ]
  },
  {
   "cell_type": "markdown",
   "metadata": {},
   "source": [
    "`DISTINCT` ensures that the country_name / data only printed once."
   ]
  },
  {
   "cell_type": "markdown",
   "metadata": {},
   "source": []
  }
 ],
 "metadata": {
  "kernelspec": {
   "display_name": "Python 3 (ipykernel)",
   "language": "python",
   "name": "python3"
  },
  "language_info": {
   "codemirror_mode": {
    "name": "ipython",
    "version": 3
   },
   "file_extension": ".py",
   "mimetype": "text/x-python",
   "name": "python",
   "nbconvert_exporter": "python",
   "pygments_lexer": "ipython3",
   "version": "3.12.0"
  }
 },
 "nbformat": 4,
 "nbformat_minor": 4
}
