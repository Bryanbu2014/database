{
 "cells": [
  {
   "cell_type": "markdown",
   "metadata": {
    "tags": []
   },
   "source": [
    "# Übung Datenbanken: Views\n",
    "\n",
    "![](https://www.klipfel-mathys.ch/images/imagesCAUM394L.jpg)"
   ]
  },
  {
   "cell_type": "code",
   "execution_count": null,
   "metadata": {
    "jupyter": {
     "source_hidden": true
    },
    "tags": []
   },
   "outputs": [],
   "source": [
    "%%sh\n",
    "\n",
    "#rm -f opendata.sql zugauskunft.db\n",
    "#wget -qOopendata.sql 'https://nextcloud.th-deg.de/s/Kc7m486Z3KbZyB4/download?path=%2F&files=bahn-opendata.sql'\n",
    "#cat ./opendata.sql | sqlite3 zugauskunft.db\n",
    "\n",
    "wget -qObahn-opendata.db 'https://nextcloud.th-deg.de/s/Kc7m486Z3KbZyB4/download?path=%2F&files=bahn-opendata.db'\n",
    "cp bahn-opendata.db zugauskunft.db"
   ]
  },
  {
   "cell_type": "code",
   "execution_count": null,
   "metadata": {
    "jupyter": {
     "source_hidden": true
    },
    "tags": []
   },
   "outputs": [],
   "source": [
    "# Hier ist nur Code zum Initialisieren der Umgebeung, bitte gehen Sie weiter, es gibt nichts zu sehen.\n",
    "\n",
    "# Keine langen Fehlermeldungen\n",
    "import sys\n",
    "ipython = get_ipython()\n",
    "\n",
    "def exception_handler(exception_type, exception, traceback):\n",
    "    print(\"%s: %s\" % (exception_type.__name__, exception), file=sys.stderr)\n",
    "\n",
    "ipython._showtraceback = exception_handler\n",
    "\n",
    "# Lade die Erweiterung, damit wir SQL Befehle nutzen können\n",
    "%reload_ext sql\n",
    "%sql sqlite:///zugauskunft.db\n"
   ]
  },
  {
   "cell_type": "markdown",
   "metadata": {},
   "source": [
    "## Über das Importieren von Daten\n",
    "\n",
    "Wir erinnern uns an die Aufgabenstellung aus dem Übungsblatt. Wir verwenden hier folgende Modellierung.\n",
    "\n",
    "![](https://nextcloud.th-deg.de/s/Kc7m486Z3KbZyB4/download?path=%2F&files=bahn.png)\n"
   ]
  },
  {
   "cell_type": "markdown",
   "metadata": {},
   "source": [
    "Eine Übung lebt ja davon, dass man ein paar Daten zum rumspielen hat. Daher habe ich Daten habe aus einem [bundesweiten Opendataportal](https://www.opendata-oepnv.de/ht/de/organisation/delfi/startseite?tx_vrrkit_view%5Bdataset_name%5D=deutschlandweite-sollfahrplandaten-gtfs&tx_vrrkit_view%5Bdataset_formats%5D%5B0%5D=ZIP&tx_vrrkit_view%5Baction%5D=details&tx_vrrkit_view%5Bcontroller%5D=View) genommen. Wir sollten damit in der Lage sein echte Verbindungen nachzuvollziehen. Ich habe den Datensatz auf die Waldbahn beschränkt. Der Datensatz selbst ist im CSV Format (!), welches aber von SQLite importiert werden kann.\n",
    "\n",
    "Die Daten selbst habe ich Ihnen bereits gefiltert und importiert (selbst der bayernweite Datensatz ist recht sperrig), nun geht es darum einige Views zu erstellen."
   ]
  },
  {
   "cell_type": "markdown",
   "metadata": {
    "tags": []
   },
   "source": [
    "Die Quellstruktur der GTFS Daten ist wie folgt abgebildet:\n",
    "\n",
    "![](https://nextcloud.th-deg.de/s/Kc7m486Z3KbZyB4/download?path=%2F&files=gtfs-er.png)"
   ]
  },
  {
   "cell_type": "markdown",
   "metadata": {},
   "source": [
    "## Aufgabe 1"
   ]
  },
  {
   "cell_type": "markdown",
   "metadata": {},
   "source": [
    "#### Aufgabe 1.1\n",
    "Betrachten wir erst einmal die gegebenen Daten. Wir beginnen mit der `routes` Tabelle, in der alle Routen, die von einem Betreiber (Agency) bedient werden abgelegt sind. Der vorliegende Datensatz beschränkt sich auf die Waldbahn, welche die Agency ID 10964 hat. Fragen Sie daher alle Daten aus dieser Tabelle ab."
   ]
  },
  {
   "cell_type": "markdown",
   "metadata": {},
   "source": [
    "#### Aufgabe 1.2\n",
    "Die Routen selbst sind scheinbar also nicht sehr spannend. Trips sind dann die einzelnen Fahrten entlang der Routen, die gefahren werden. Also das, was man den Fahrplan nennt. Fragen Sie doch mal die ersten 10 Fahrten der WBA2 ab."
   ]
  },
  {
   "cell_type": "markdown",
   "metadata": {},
   "source": [
    "#### Aufgabe 1.3\n",
    "Hier fehlt einiges an Information, nicht einmal die Abfahrten finden wir. Die finden wir in den `stop_times`. Fragen Sie dort doch mal den trip 1003122256 ab."
   ]
  },
  {
   "cell_type": "markdown",
   "metadata": {},
   "source": [
    "#### Aufgabe 1.4\n",
    "Unbestreitbar spannendere Informationen. Anstatt nun in der letzten Tabelle, der `stops` den Namen der Bahnhöfe aufzulösen wollen wir nun eine View `fahrplan` erstellen, die uns den Fahrplan möglichst übersichtlich präsentiert. Erstellen Sie nun einen Join, über alle Tabellen und geben Sie folgende Informationen zurück:\n",
    "\n",
    "- Name der Route konkateniert mit der anzeige des Trips\n",
    "- ID des Trips\n",
    "- Ankunftszeit am Halt\n",
    "- Abfahrtszeit\n",
    "- Der wievielte Halt auf der Strecke ist das (sequence)\n",
    "- Name des Halts\n",
    "\n",
    "Sortieren Sie nach trip_id und stop_sequence."
   ]
  },
  {
   "cell_type": "markdown",
   "metadata": {},
   "source": [
    "## Aufgabe 2"
   ]
  },
  {
   "cell_type": "markdown",
   "metadata": {},
   "source": [
    "Betrachten Sie nun die im folgenden angegebene Zielstruktur:\n",
    "![](https://nextcloud.th-deg.de/s/Kc7m486Z3KbZyB4/download?path=%2F&files=bahn-er.png)"
   ]
  },
  {
   "cell_type": "markdown",
   "metadata": {},
   "source": [
    "Erstellen Sie eine View `Bahnhof` die wie abgebildet die beiden Attribute BahnhofId und Name hat."
   ]
  },
  {
   "cell_type": "markdown",
   "metadata": {
    "tags": []
   },
   "source": [
    "# Fensterfunktionen\n",
    "\n",
    "Fensterfunktionen sind im SQL:2003 Standard definiert. Diese Funktionen beschreiben eine Form der Aggregation die mit einem einfachen `GROUP BY` nicht erreicht werden kann: Es werden zwar die Werte mehrerer Datensätze aggregiert, also auf einen Wert gebracht, ohne aber dabei alle weiteren Elemente des Ergebnisses zu zwingen das Selbe zu tun. Grafisch stellt sich das wie folgt dar:\n",
    "\n",
    "![Fensterfunktionen](https://www.sqlitetutorial.net/wp-content/uploads/2018/11/SQLite-window-function-vs-aggregate-function.png)\n",
    "\n",
    "Quelle: [https://www.sqlitetutorial.net](https://www.sqlitetutorial.net/sqlite-window-functions/)\n",
    "\n",
    "Links zwingt das Aggregat alle weiteren Werte dazu ebenfalls aggregiert zu werden. Rechts ist das Ergebnis des Aggregats einfach ein Teil jedes Ergebnistupels.\n",
    "\n"
   ]
  },
  {
   "cell_type": "markdown",
   "metadata": {},
   "source": [
    "Die gegebenen Daten sind offensichtlich nicht in dem Format, das wir brauchen würden, um alleine die Relation Zug zu erstellen. Alle Informationen sind zwar in `fahrplan` enthalten, nur ist hier jede Reihe ein Halt eines Zuges. Um Start- und Endbahnhof zu bestimmen müsste man nach `trip_id` gruppieren und in die erste und letzte Zeile eines Zuges schauen könnten. Bis zur Standardtisierung der sog. Fensterfunktionen (window) waren dafür eine große Menge von Subselects nötig. Nun geht das deutlich einfacher."
   ]
  },
  {
   "cell_type": "markdown",
   "metadata": {},
   "source": [
    "Wir beschränken uns hier auf die Elemente, die wir zum Erreichen unseres Ziels brauchen. Der Aufbau einer Fensterfunktion ist wie folgt:\n",
    "\n",
    "```\n",
    "<AGGREGATFUNKTION> OVER([<PARTITION BY>] [<ORDER BY>] [<FRAMESPEC>])\n",
    "```\n",
    "\n",
    "- Eine Aggregatfunktion ist jede normale Aggregatfunkion, die wir im `GROUP BY` verwenden. Es gibt aber für Fenster eben auch neue Funktionen, z.b. `first_value(attribut), last_value(attribut)` oder zum Durchnumerieren `row_number()`. Eine Liste für SQLite finden Sie [hier](https://www.sqlite.org/windowfunctions.html#builtins).\n",
    "- `OVER()` leitet ein Fenster ein. Spezifizieren Sie zwischen den Klammern keine Partition, keine Sortierung und keinen Frame ist es ein Fenster über alle Daten\n",
    "- `PARTITION BY` gruppiert nach dem gegebenen Attribut\n",
    "- `ORDER BY` sortiert die Liste, ohne dass das Auswirkungen auf die Sortierung der Query hat\n",
    "- Die Framespec erlaubt Ihnen anzugeben wie groß Ihr Fenster sein soll. Das sprengt hier den Rahmen\n"
   ]
  },
  {
   "cell_type": "markdown",
   "metadata": {},
   "source": [
    "## Aufgabe 3\n",
    "\n",
    "Bringen wir nun also die Zug Relation in Form. Dafür brauchen wir eine Tabelle mit `zugnr, name, startbhf, endbhf`. Erstellen Sie also eine View anhand der Hinweise im Folgenden: "
   ]
  },
  {
   "cell_type": "markdown",
   "metadata": {},
   "source": [
    "Hinweis: kopieren Sie diese Zelle und entwickeln Sie hier Ihre Query\n",
    "```\n",
    "%sql\n",
    "SELECT \n",
    "    DISTINCT trip_id as zugnr,\n",
    "    as name -- TODO Hier erstellen wir eine Partition anhander der TRIP ID. Von dieser Partition nehmen wir den ersten Wert des namen\n",
    "    as startbhf -- TODO Hier erstellen wir eine Partition anhander der TRIP ID. Von dieser Partition nehmen wir den ersten Wert der bahnhofs_id\n",
    "    as endbhf -- TODO Hier erstellen wir eine Partition anhander der TRIP ID. Von dieser Partition nehmen wir den letzten Wert der bahnhofs_id\n",
    "FROM fahrplan\n",
    "ORDER BY RANDOM()\n",
    "LIMIT 5;\n",
    "```"
   ]
  },
  {
   "cell_type": "markdown",
   "metadata": {},
   "source": [
    "# Aufgabe 4"
   ]
  },
  {
   "cell_type": "markdown",
   "metadata": {
    "tags": []
   },
   "source": [
    "Abschließend folgt noch die finale View. Jeder Abschnitt soll einzeln aufgelistet werden. Dazu brauchen wir die Zugnummer, die ID des *von* Bahnhofs, die ID des *zu* Bahnhofs, Abfahrts und Ankunftszeit. \n",
    "\n",
    "Das Vorgehen ist ähnlich wie oben, nur das wir für den nächsten Halt ja in die nächste Ergebniszeile schauen wollen. Das macht die `lead()` funktion für uns. Versuchen wir es erst einmal in einem SELECT:"
   ]
  },
  {
   "cell_type": "markdown",
   "metadata": {},
   "source": [
    "Hinweis: kopieren Sie diese Zelle und entwickeln Sie hier Ihre Query\n",
    "```\n",
    "%%sql\n",
    "\n",
    "SELECT\n",
    "    *,\n",
    "    AS next_stop_name, -- stop_name Analog aufgabe 3 nur dass wir lead verwenden\n",
    "    AS next_stop_id -- stop_id Analog aufgabe 3 nur dass wir lead verwenden\n",
    "FROM\n",
    "    fahrplan;\n",
    "```"
   ]
  }
 ],
 "metadata": {
  "kernelspec": {
   "display_name": "Python 3 (ipykernel)",
   "language": "python",
   "name": "python3"
  },
  "language_info": {
   "codemirror_mode": {
    "name": "ipython",
    "version": 3
   },
   "file_extension": ".py",
   "mimetype": "text/x-python",
   "name": "python",
   "nbconvert_exporter": "python",
   "pygments_lexer": "ipython3",
   "version": "3.9.6"
  }
 },
 "nbformat": 4,
 "nbformat_minor": 4
}
