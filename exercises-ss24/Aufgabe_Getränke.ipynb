{
 "cells": [
  {
   "cell_type": "markdown",
   "metadata": {},
   "source": [
    "# Getränke"
   ]
  },
  {
   "cell_type": "code",
   "execution_count": null,
   "metadata": {
    "tags": []
   },
   "outputs": [],
   "source": [
    "# Hier ist nur Code zum Initialisieren der Umgebeung, bitte gehen Sie weiter, es gibt nichts zu sehen.\n",
    "\n",
    "# Keine langen Fehlermeldungen\n",
    "import sys\n",
    "ipython = get_ipython()\n",
    "\n",
    "def exception_handler(exception_type, exception, traceback):\n",
    "    print(\"%s: %s\" % (exception_type.__name__, exception), file=sys.stderr)\n",
    "\n",
    "ipython._showtraceback = exception_handler\n",
    "\n",
    "# Lade die Erweiterung, damit wir SQL Befehle nutzen können\n",
    "%reload_ext sql\n",
    "%sql sqlite://\n",
    "%sql PRAGMA foreign_keys = ON"
   ]
  },
  {
   "cell_type": "code",
   "execution_count": null,
   "metadata": {
    "tags": []
   },
   "outputs": [],
   "source": [
    "%%sql\n",
    "\n",
    "DROP TABLE IF EXISTS RecipeIngredient;\n",
    "DROP TABLE IF EXISTS Ingredient;\n",
    "DROP TABLE IF EXISTS Recipe;\n",
    "\n",
    "CREATE TABLE Ingredient (\n",
    "id INTEGER NOT NULL PRIMARY KEY,\n",
    "name  TEXT NOT NULL\n",
    ");\n",
    "\n",
    "CREATE TABLE Recipe (\n",
    "id INTEGER NOT NULL PRIMARY KEY,\n",
    "name  TEXT NOT NULL\n",
    ");\n",
    "\n",
    "CREATE TABLE RecipeIngredient (\n",
    "recipe  INTEGER NOT NULL,\n",
    "ingredient  INTEGER NOT NULL,\n",
    "PRIMARY KEY (recipe, ingredient),\n",
    "CONSTRAINT fkRecipeIngredientRecipe FOREIGN KEY (recipe) REFERENCES Recipe (id) ON DELETE CASCADE ON UPDATE CASCADE,\n",
    "CONSTRAINT fkRecipeIngredientIngredient FOREIGN KEY (ingredient) REFERENCES Ingredient (id) ON DELETE CASCADE ON UPDATE CASCADE\n",
    ");\n",
    "\n",
    "INSERT INTO Ingredient('name') VALUES ('Vodka'), ('Rum'), ('Sherry'), ('Whiskey'), ('Cherry'), ('Orange'), ('Olive'), ('Gin'), ('Lemon Juice'), ('Orange Gin'), ('Sweet Vermouth'), ('7-Up'), ('Cranberry Juice'), ('Dekuyper Razzmatazz'), ('Orange Juice'), ('Sour Mix'), ('Dry Cider'), ('Lager'), ('Sloe Gin'), ('Southern Comfort'), ('Triple Sec'), ('Blue Curacao'), ('Lime Juice'), ('Red Curacao'), ('Tequila');\n",
    "INSERT INTO Recipe('name') VALUES ('Leap Year Cocktail'), ('Purple Gecko'), ('Slow Comfortable Screw In Between the Sheets'), ('Snakebite (UK)'), ('Stoner Delight'), ('Vodka'), ('Tequila'), ('Whiskey');\n",
    "\n",
    "INSERT INTO RecipeIngredient VALUES (1, 9), (1, 8), (1, 10), (1, 11), (2, 22), (2, 13), (2, 23), (2, 24), (2, 16), (2, 25), (3, 15), (3, 19), (3, 20), (3, 21), (3, 1), (4, 17), (4, 18), (5, 12), (5, 13), (5, 14), (5, 15), (5, 16), (5, 1), (6, 1), (7, 25), (8, 4);"
   ]
  },
  {
   "cell_type": "markdown",
   "metadata": {},
   "source": [
    "## Aufgabe 1: Finden Sie Alle Zutaten des \"Leap Year Coctail\"s"
   ]
  },
  {
   "cell_type": "markdown",
   "metadata": {},
   "source": [
    "## Aufgabe 2: Finden Sie Alle Coctails, die Vodka enthalten"
   ]
  },
  {
   "cell_type": "markdown",
   "metadata": {},
   "source": [
    "## Aufgabe 3: Finden Sie die häufigste Zutat"
   ]
  },
  {
   "cell_type": "markdown",
   "metadata": {},
   "source": [
    "## Aufgabe 4: Finden Sie Coctails, die, die Zutat 'Gin' *nicht* enthalten\n",
    "\n",
    "Hier ist zu sagen, dass das Nichtenthalten von Elemeneten in SQL nicht trivial ist. Der naive Ansatz:\n",
    "\n",
    "```\n",
    "SELECT r.name \n",
    "FROM Recipe r \n",
    "JOIN RecipeIngredient ri ON (r.id = ri.recipe) \n",
    "JOIN Ingredient i ON (ri.ingredient = i.id) \n",
    "WHERE i.name != 'Gin'\n",
    "```\n",
    "nicht."
   ]
  },
  {
   "cell_type": "markdown",
   "metadata": {},
   "source": [
    "*Aufgabe 4.1: Machen Sie sich bewusst, warum obiges Statement nicht funktioniert*"
   ]
  },
  {
   "cell_type": "code",
   "execution_count": null,
   "metadata": {
    "tags": []
   },
   "outputs": [],
   "source": [
    "%%sql\n",
    "\n"
   ]
  },
  {
   "cell_type": "markdown",
   "metadata": {},
   "source": [
    "*Aufgabe 4.2: Nutzen Sie einen Subselect, um die Coctails zu filtern*"
   ]
  },
  {
   "cell_type": "markdown",
   "metadata": {},
   "source": [
    "*Aufgabe 4.2: Nutzen Sie das Kreuzprodukt, um die Coctails zu filtern*"
   ]
  },
  {
   "cell_type": "markdown",
   "metadata": {},
   "source": [
    "*Aufgabe 4.3: geht das mit aggregate und filter?, um die Coctails zu filtern*\n",
    "\n",
    "Aggregationsfunktionen, wie SUM, COUNT etc. unterstützen seit SQL:2003 eine `FILTER` clause, die es erlaubt Ergebnisse aus der Aggregation zu entfernen [Filter Clause auf dieser seite](https://sqlite.org/lang_aggfunc.html)"
   ]
  },
  {
   "cell_type": "markdown",
   "metadata": {},
   "source": [
    "## Aufgabe 5: Wie viele Zutaten hat mein Getränk eigentlich und welche?\n",
    "\n",
    "Lösbar via gruppierung --> Eine Zeile Pro Coktail. Oder mit mehreren Zielen via subselects oder fensterfunktionen "
   ]
  },
  {
   "cell_type": "code",
   "execution_count": null,
   "metadata": {},
   "outputs": [],
   "source": []
  }
 ],
 "metadata": {
  "kernelspec": {
   "display_name": "Python 3 (ipykernel)",
   "language": "python",
   "name": "python3"
  },
  "language_info": {
   "codemirror_mode": {
    "name": "ipython",
    "version": 3
   },
   "file_extension": ".py",
   "mimetype": "text/x-python",
   "name": "python",
   "nbconvert_exporter": "python",
   "pygments_lexer": "ipython3",
   "version": "3.9.6"
  }
 },
 "nbformat": 4,
 "nbformat_minor": 4
}
