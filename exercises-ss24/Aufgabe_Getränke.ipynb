{
 "cells": [
  {
   "cell_type": "markdown",
   "metadata": {},
   "source": [
    "# Getränke"
   ]
  },
  {
   "cell_type": "code",
   "execution_count": 1,
   "metadata": {
    "tags": []
   },
   "outputs": [
    {
     "name": "stdout",
     "output_type": "stream",
     "text": [
      " * sqlite://\n",
      "Done.\n"
     ]
    },
    {
     "data": {
      "text/plain": [
       "[]"
      ]
     },
     "execution_count": 1,
     "metadata": {},
     "output_type": "execute_result"
    }
   ],
   "source": [
    "# Hier ist nur Code zum Initialisieren der Umgebeung, bitte gehen Sie weiter, es gibt nichts zu sehen.\n",
    "\n",
    "# Keine langen Fehlermeldungen\n",
    "import sys\n",
    "ipython = get_ipython()\n",
    "\n",
    "def exception_handler(exception_type, exception, traceback):\n",
    "    print(\"%s: %s\" % (exception_type.__name__, exception), file=sys.stderr)\n",
    "\n",
    "ipython._showtraceback = exception_handler\n",
    "\n",
    "# Lade die Erweiterung, damit wir SQL Befehle nutzen können\n",
    "%reload_ext sql\n",
    "%sql sqlite://\n",
    "%sql PRAGMA foreign_keys = ON"
   ]
  },
  {
   "cell_type": "code",
   "execution_count": 2,
   "metadata": {
    "tags": [],
    "vscode": {
     "languageId": "sql"
    }
   },
   "outputs": [
    {
     "name": "stdout",
     "output_type": "stream",
     "text": [
      " * sqlite://\n",
      "Done.\n",
      "Done.\n",
      "Done.\n",
      "Done.\n",
      "Done.\n",
      "Done.\n",
      "25 rows affected.\n",
      "8 rows affected.\n",
      "26 rows affected.\n"
     ]
    },
    {
     "data": {
      "text/plain": [
       "[]"
      ]
     },
     "execution_count": 2,
     "metadata": {},
     "output_type": "execute_result"
    }
   ],
   "source": [
    "%%sql\n",
    "\n",
    "DROP TABLE IF EXISTS RecipeIngredient;\n",
    "DROP TABLE IF EXISTS Ingredient;\n",
    "DROP TABLE IF EXISTS Recipe;\n",
    "\n",
    "CREATE TABLE Ingredient (\n",
    "id INTEGER NOT NULL PRIMARY KEY,\n",
    "name  TEXT NOT NULL\n",
    ");\n",
    "\n",
    "CREATE TABLE Recipe (\n",
    "id INTEGER NOT NULL PRIMARY KEY,\n",
    "name  TEXT NOT NULL\n",
    ");\n",
    "\n",
    "CREATE TABLE RecipeIngredient (\n",
    "recipe  INTEGER NOT NULL,\n",
    "ingredient  INTEGER NOT NULL,\n",
    "PRIMARY KEY (recipe, ingredient),\n",
    "CONSTRAINT fkRecipeIngredientRecipe FOREIGN KEY (recipe) REFERENCES Recipe (id) ON DELETE CASCADE ON UPDATE CASCADE,\n",
    "CONSTRAINT fkRecipeIngredientIngredient FOREIGN KEY (ingredient) REFERENCES Ingredient (id) ON DELETE CASCADE ON UPDATE CASCADE\n",
    ");\n",
    "\n",
    "INSERT INTO Ingredient('name') VALUES ('Vodka'), ('Rum'), ('Sherry'), ('Whiskey'), ('Cherry'), ('Orange'), ('Olive'), ('Gin'), ('Lemon Juice'), ('Orange Gin'), ('Sweet Vermouth'), ('7-Up'), ('Cranberry Juice'), ('Dekuyper Razzmatazz'), ('Orange Juice'), ('Sour Mix'), ('Dry Cider'), ('Lager'), ('Sloe Gin'), ('Southern Comfort'), ('Triple Sec'), ('Blue Curacao'), ('Lime Juice'), ('Red Curacao'), ('Tequila');\n",
    "INSERT INTO Recipe('name') VALUES ('Leap Year Cocktail'), ('Purple Gecko'), ('Slow Comfortable Screw In Between the Sheets'), ('Snakebite (UK)'), ('Stoner Delight'), ('Vodka'), ('Tequila'), ('Whiskey');\n",
    "\n",
    "INSERT INTO RecipeIngredient VALUES (1, 9), (1, 8), (1, 10), (1, 11), (2, 22), (2, 13), (2, 23), (2, 24), (2, 16), (2, 25), (3, 15), (3, 19), (3, 20), (3, 21), (3, 1), (4, 17), (4, 18), (5, 12), (5, 13), (5, 14), (5, 15), (5, 16), (5, 1), (6, 1), (7, 25), (8, 4);"
   ]
  },
  {
   "cell_type": "code",
   "execution_count": 3,
   "metadata": {
    "vscode": {
     "languageId": "sql"
    }
   },
   "outputs": [
    {
     "name": "stdout",
     "output_type": "stream",
     "text": [
      " * sqlite://\n",
      "Done.\n"
     ]
    },
    {
     "data": {
      "text/html": [
       "<table>\n",
       "    <thead>\n",
       "        <tr>\n",
       "            <th>id</th>\n",
       "            <th>name</th>\n",
       "        </tr>\n",
       "    </thead>\n",
       "    <tbody>\n",
       "        <tr>\n",
       "            <td>1</td>\n",
       "            <td>Vodka</td>\n",
       "        </tr>\n",
       "        <tr>\n",
       "            <td>2</td>\n",
       "            <td>Rum</td>\n",
       "        </tr>\n",
       "        <tr>\n",
       "            <td>3</td>\n",
       "            <td>Sherry</td>\n",
       "        </tr>\n",
       "        <tr>\n",
       "            <td>4</td>\n",
       "            <td>Whiskey</td>\n",
       "        </tr>\n",
       "        <tr>\n",
       "            <td>5</td>\n",
       "            <td>Cherry</td>\n",
       "        </tr>\n",
       "        <tr>\n",
       "            <td>6</td>\n",
       "            <td>Orange</td>\n",
       "        </tr>\n",
       "        <tr>\n",
       "            <td>7</td>\n",
       "            <td>Olive</td>\n",
       "        </tr>\n",
       "        <tr>\n",
       "            <td>8</td>\n",
       "            <td>Gin</td>\n",
       "        </tr>\n",
       "        <tr>\n",
       "            <td>9</td>\n",
       "            <td>Lemon Juice</td>\n",
       "        </tr>\n",
       "        <tr>\n",
       "            <td>10</td>\n",
       "            <td>Orange Gin</td>\n",
       "        </tr>\n",
       "        <tr>\n",
       "            <td>11</td>\n",
       "            <td>Sweet Vermouth</td>\n",
       "        </tr>\n",
       "        <tr>\n",
       "            <td>12</td>\n",
       "            <td>7-Up</td>\n",
       "        </tr>\n",
       "        <tr>\n",
       "            <td>13</td>\n",
       "            <td>Cranberry Juice</td>\n",
       "        </tr>\n",
       "        <tr>\n",
       "            <td>14</td>\n",
       "            <td>Dekuyper Razzmatazz</td>\n",
       "        </tr>\n",
       "        <tr>\n",
       "            <td>15</td>\n",
       "            <td>Orange Juice</td>\n",
       "        </tr>\n",
       "        <tr>\n",
       "            <td>16</td>\n",
       "            <td>Sour Mix</td>\n",
       "        </tr>\n",
       "        <tr>\n",
       "            <td>17</td>\n",
       "            <td>Dry Cider</td>\n",
       "        </tr>\n",
       "        <tr>\n",
       "            <td>18</td>\n",
       "            <td>Lager</td>\n",
       "        </tr>\n",
       "        <tr>\n",
       "            <td>19</td>\n",
       "            <td>Sloe Gin</td>\n",
       "        </tr>\n",
       "        <tr>\n",
       "            <td>20</td>\n",
       "            <td>Southern Comfort</td>\n",
       "        </tr>\n",
       "        <tr>\n",
       "            <td>21</td>\n",
       "            <td>Triple Sec</td>\n",
       "        </tr>\n",
       "        <tr>\n",
       "            <td>22</td>\n",
       "            <td>Blue Curacao</td>\n",
       "        </tr>\n",
       "        <tr>\n",
       "            <td>23</td>\n",
       "            <td>Lime Juice</td>\n",
       "        </tr>\n",
       "        <tr>\n",
       "            <td>24</td>\n",
       "            <td>Red Curacao</td>\n",
       "        </tr>\n",
       "        <tr>\n",
       "            <td>25</td>\n",
       "            <td>Tequila</td>\n",
       "        </tr>\n",
       "    </tbody>\n",
       "</table>"
      ],
      "text/plain": [
       "[(1, 'Vodka'),\n",
       " (2, 'Rum'),\n",
       " (3, 'Sherry'),\n",
       " (4, 'Whiskey'),\n",
       " (5, 'Cherry'),\n",
       " (6, 'Orange'),\n",
       " (7, 'Olive'),\n",
       " (8, 'Gin'),\n",
       " (9, 'Lemon Juice'),\n",
       " (10, 'Orange Gin'),\n",
       " (11, 'Sweet Vermouth'),\n",
       " (12, '7-Up'),\n",
       " (13, 'Cranberry Juice'),\n",
       " (14, 'Dekuyper Razzmatazz'),\n",
       " (15, 'Orange Juice'),\n",
       " (16, 'Sour Mix'),\n",
       " (17, 'Dry Cider'),\n",
       " (18, 'Lager'),\n",
       " (19, 'Sloe Gin'),\n",
       " (20, 'Southern Comfort'),\n",
       " (21, 'Triple Sec'),\n",
       " (22, 'Blue Curacao'),\n",
       " (23, 'Lime Juice'),\n",
       " (24, 'Red Curacao'),\n",
       " (25, 'Tequila')]"
      ]
     },
     "execution_count": 3,
     "metadata": {},
     "output_type": "execute_result"
    }
   ],
   "source": [
    "%%sql\n",
    "\n",
    "SELECT * FROM Ingredient"
   ]
  },
  {
   "cell_type": "code",
   "execution_count": 4,
   "metadata": {
    "vscode": {
     "languageId": "sql"
    }
   },
   "outputs": [
    {
     "name": "stdout",
     "output_type": "stream",
     "text": [
      " * sqlite://\n",
      "Done.\n"
     ]
    },
    {
     "data": {
      "text/html": [
       "<table>\n",
       "    <thead>\n",
       "        <tr>\n",
       "            <th>id</th>\n",
       "            <th>name</th>\n",
       "        </tr>\n",
       "    </thead>\n",
       "    <tbody>\n",
       "        <tr>\n",
       "            <td>1</td>\n",
       "            <td>Leap Year Cocktail</td>\n",
       "        </tr>\n",
       "        <tr>\n",
       "            <td>2</td>\n",
       "            <td>Purple Gecko</td>\n",
       "        </tr>\n",
       "        <tr>\n",
       "            <td>3</td>\n",
       "            <td>Slow Comfortable Screw In Between the Sheets</td>\n",
       "        </tr>\n",
       "        <tr>\n",
       "            <td>4</td>\n",
       "            <td>Snakebite (UK)</td>\n",
       "        </tr>\n",
       "        <tr>\n",
       "            <td>5</td>\n",
       "            <td>Stoner Delight</td>\n",
       "        </tr>\n",
       "        <tr>\n",
       "            <td>6</td>\n",
       "            <td>Vodka</td>\n",
       "        </tr>\n",
       "        <tr>\n",
       "            <td>7</td>\n",
       "            <td>Tequila</td>\n",
       "        </tr>\n",
       "        <tr>\n",
       "            <td>8</td>\n",
       "            <td>Whiskey</td>\n",
       "        </tr>\n",
       "    </tbody>\n",
       "</table>"
      ],
      "text/plain": [
       "[(1, 'Leap Year Cocktail'),\n",
       " (2, 'Purple Gecko'),\n",
       " (3, 'Slow Comfortable Screw In Between the Sheets'),\n",
       " (4, 'Snakebite (UK)'),\n",
       " (5, 'Stoner Delight'),\n",
       " (6, 'Vodka'),\n",
       " (7, 'Tequila'),\n",
       " (8, 'Whiskey')]"
      ]
     },
     "execution_count": 4,
     "metadata": {},
     "output_type": "execute_result"
    }
   ],
   "source": [
    "%%sql\n",
    "\n",
    "SELECT * FROM Recipe"
   ]
  },
  {
   "cell_type": "code",
   "execution_count": 5,
   "metadata": {
    "vscode": {
     "languageId": "sql"
    }
   },
   "outputs": [
    {
     "name": "stdout",
     "output_type": "stream",
     "text": [
      " * sqlite://\n",
      "Done.\n"
     ]
    },
    {
     "data": {
      "text/html": [
       "<table>\n",
       "    <thead>\n",
       "        <tr>\n",
       "            <th>recipe</th>\n",
       "            <th>ingredient</th>\n",
       "        </tr>\n",
       "    </thead>\n",
       "    <tbody>\n",
       "        <tr>\n",
       "            <td>1</td>\n",
       "            <td>9</td>\n",
       "        </tr>\n",
       "        <tr>\n",
       "            <td>1</td>\n",
       "            <td>8</td>\n",
       "        </tr>\n",
       "        <tr>\n",
       "            <td>1</td>\n",
       "            <td>10</td>\n",
       "        </tr>\n",
       "        <tr>\n",
       "            <td>1</td>\n",
       "            <td>11</td>\n",
       "        </tr>\n",
       "        <tr>\n",
       "            <td>2</td>\n",
       "            <td>22</td>\n",
       "        </tr>\n",
       "        <tr>\n",
       "            <td>2</td>\n",
       "            <td>13</td>\n",
       "        </tr>\n",
       "        <tr>\n",
       "            <td>2</td>\n",
       "            <td>23</td>\n",
       "        </tr>\n",
       "        <tr>\n",
       "            <td>2</td>\n",
       "            <td>24</td>\n",
       "        </tr>\n",
       "        <tr>\n",
       "            <td>2</td>\n",
       "            <td>16</td>\n",
       "        </tr>\n",
       "        <tr>\n",
       "            <td>2</td>\n",
       "            <td>25</td>\n",
       "        </tr>\n",
       "        <tr>\n",
       "            <td>3</td>\n",
       "            <td>15</td>\n",
       "        </tr>\n",
       "        <tr>\n",
       "            <td>3</td>\n",
       "            <td>19</td>\n",
       "        </tr>\n",
       "        <tr>\n",
       "            <td>3</td>\n",
       "            <td>20</td>\n",
       "        </tr>\n",
       "        <tr>\n",
       "            <td>3</td>\n",
       "            <td>21</td>\n",
       "        </tr>\n",
       "        <tr>\n",
       "            <td>3</td>\n",
       "            <td>1</td>\n",
       "        </tr>\n",
       "        <tr>\n",
       "            <td>4</td>\n",
       "            <td>17</td>\n",
       "        </tr>\n",
       "        <tr>\n",
       "            <td>4</td>\n",
       "            <td>18</td>\n",
       "        </tr>\n",
       "        <tr>\n",
       "            <td>5</td>\n",
       "            <td>12</td>\n",
       "        </tr>\n",
       "        <tr>\n",
       "            <td>5</td>\n",
       "            <td>13</td>\n",
       "        </tr>\n",
       "        <tr>\n",
       "            <td>5</td>\n",
       "            <td>14</td>\n",
       "        </tr>\n",
       "        <tr>\n",
       "            <td>5</td>\n",
       "            <td>15</td>\n",
       "        </tr>\n",
       "        <tr>\n",
       "            <td>5</td>\n",
       "            <td>16</td>\n",
       "        </tr>\n",
       "        <tr>\n",
       "            <td>5</td>\n",
       "            <td>1</td>\n",
       "        </tr>\n",
       "        <tr>\n",
       "            <td>6</td>\n",
       "            <td>1</td>\n",
       "        </tr>\n",
       "        <tr>\n",
       "            <td>7</td>\n",
       "            <td>25</td>\n",
       "        </tr>\n",
       "        <tr>\n",
       "            <td>8</td>\n",
       "            <td>4</td>\n",
       "        </tr>\n",
       "    </tbody>\n",
       "</table>"
      ],
      "text/plain": [
       "[(1, 9),\n",
       " (1, 8),\n",
       " (1, 10),\n",
       " (1, 11),\n",
       " (2, 22),\n",
       " (2, 13),\n",
       " (2, 23),\n",
       " (2, 24),\n",
       " (2, 16),\n",
       " (2, 25),\n",
       " (3, 15),\n",
       " (3, 19),\n",
       " (3, 20),\n",
       " (3, 21),\n",
       " (3, 1),\n",
       " (4, 17),\n",
       " (4, 18),\n",
       " (5, 12),\n",
       " (5, 13),\n",
       " (5, 14),\n",
       " (5, 15),\n",
       " (5, 16),\n",
       " (5, 1),\n",
       " (6, 1),\n",
       " (7, 25),\n",
       " (8, 4)]"
      ]
     },
     "execution_count": 5,
     "metadata": {},
     "output_type": "execute_result"
    }
   ],
   "source": [
    "%%sql\n",
    "\n",
    "SELECT * FROM RecipeIngredient"
   ]
  },
  {
   "cell_type": "markdown",
   "metadata": {},
   "source": [
    "## Aufgabe 1: Finden Sie Alle Zutaten des \"Leap Year Coctail\"s ✅"
   ]
  },
  {
   "cell_type": "code",
   "execution_count": 6,
   "metadata": {
    "vscode": {
     "languageId": "sql"
    }
   },
   "outputs": [
    {
     "name": "stdout",
     "output_type": "stream",
     "text": [
      " * sqlite://\n",
      "Done.\n"
     ]
    },
    {
     "data": {
      "text/html": [
       "<table>\n",
       "    <thead>\n",
       "        <tr>\n",
       "            <th>Cocktail</th>\n",
       "            <th>Ingredient</th>\n",
       "        </tr>\n",
       "    </thead>\n",
       "    <tbody>\n",
       "        <tr>\n",
       "            <td>Leap Year Cocktail</td>\n",
       "            <td>Gin</td>\n",
       "        </tr>\n",
       "        <tr>\n",
       "            <td>Leap Year Cocktail</td>\n",
       "            <td>Lemon Juice</td>\n",
       "        </tr>\n",
       "        <tr>\n",
       "            <td>Leap Year Cocktail</td>\n",
       "            <td>Orange Gin</td>\n",
       "        </tr>\n",
       "        <tr>\n",
       "            <td>Leap Year Cocktail</td>\n",
       "            <td>Sweet Vermouth</td>\n",
       "        </tr>\n",
       "    </tbody>\n",
       "</table>"
      ],
      "text/plain": [
       "[('Leap Year Cocktail', 'Gin'),\n",
       " ('Leap Year Cocktail', 'Lemon Juice'),\n",
       " ('Leap Year Cocktail', 'Orange Gin'),\n",
       " ('Leap Year Cocktail', 'Sweet Vermouth')]"
      ]
     },
     "execution_count": 6,
     "metadata": {},
     "output_type": "execute_result"
    }
   ],
   "source": [
    "%%sql\n",
    "\n",
    "SELECT r.name Cocktail, i.name Ingredient\n",
    "FROM Recipe r\n",
    "LEFT JOIN RecipeIngredient ri\n",
    "ON(r.id = ri.recipe)\n",
    "LEFT JOIN Ingredient i\n",
    "ON(ri.ingredient = i.id)\n",
    "WHERE(r.name = 'Leap Year Cocktail')"
   ]
  },
  {
   "cell_type": "markdown",
   "metadata": {},
   "source": [
    "## Aufgabe 2: Finden Sie Alle Cocktails, die Vodka enthalten ✅"
   ]
  },
  {
   "cell_type": "code",
   "execution_count": 7,
   "metadata": {
    "vscode": {
     "languageId": "sql"
    }
   },
   "outputs": [
    {
     "name": "stdout",
     "output_type": "stream",
     "text": [
      " * sqlite://\n",
      "Done.\n"
     ]
    },
    {
     "data": {
      "text/html": [
       "<table>\n",
       "    <thead>\n",
       "        <tr>\n",
       "            <th>Cocktail</th>\n",
       "        </tr>\n",
       "    </thead>\n",
       "    <tbody>\n",
       "        <tr>\n",
       "            <td>Slow Comfortable Screw In Between the Sheets</td>\n",
       "        </tr>\n",
       "        <tr>\n",
       "            <td>Stoner Delight</td>\n",
       "        </tr>\n",
       "        <tr>\n",
       "            <td>Vodka</td>\n",
       "        </tr>\n",
       "    </tbody>\n",
       "</table>"
      ],
      "text/plain": [
       "[('Slow Comfortable Screw In Between the Sheets',),\n",
       " ('Stoner Delight',),\n",
       " ('Vodka',)]"
      ]
     },
     "execution_count": 7,
     "metadata": {},
     "output_type": "execute_result"
    }
   ],
   "source": [
    "%%sql\n",
    "\n",
    "SELECT r.name Cocktail\n",
    "FROM Recipe r\n",
    "LEFT JOIN RecipeIngredient ri\n",
    "ON(r.id = ri.recipe)\n",
    "LEFT JOIN Ingredient i\n",
    "ON(ri.ingredient = i.id)\n",
    "WHERE(i.name = 'Vodka')"
   ]
  },
  {
   "cell_type": "markdown",
   "metadata": {},
   "source": [
    "<details>\n",
    "<summary>Suggested Answer</summary>\n",
    "\n",
    "```sql\n",
    "SELECT r.name as Cocktail, i.name as Zutat  \n",
    "FROM Recipe r  \n",
    "JOIN RecipeIngredient ri  \n",
    "ON(r.id = ri.recipe)  \n",
    "JOIN Ingredient i  \n",
    "ON(i.id = ri.ingredient)  \n",
    "WHERE i.name LIKE '%Vodka%'  \n",
    "```\n",
    "\n",
    "</details>"
   ]
  },
  {
   "cell_type": "markdown",
   "metadata": {},
   "source": [
    "## Aufgabe 3: Finden Sie die häufigste Zutat ✅"
   ]
  },
  {
   "cell_type": "code",
   "execution_count": 8,
   "metadata": {
    "vscode": {
     "languageId": "sql"
    }
   },
   "outputs": [
    {
     "name": "stdout",
     "output_type": "stream",
     "text": [
      " * sqlite://\n",
      "Done.\n"
     ]
    },
    {
     "data": {
      "text/html": [
       "<table>\n",
       "    <thead>\n",
       "        <tr>\n",
       "            <th>ID</th>\n",
       "            <th>Name</th>\n",
       "            <th>Occurence</th>\n",
       "        </tr>\n",
       "    </thead>\n",
       "    <tbody>\n",
       "        <tr>\n",
       "            <td>1</td>\n",
       "            <td>Vodka</td>\n",
       "            <td>3</td>\n",
       "        </tr>\n",
       "    </tbody>\n",
       "</table>"
      ],
      "text/plain": [
       "[(1, 'Vodka', 3)]"
      ]
     },
     "execution_count": 8,
     "metadata": {},
     "output_type": "execute_result"
    }
   ],
   "source": [
    "%%sql\n",
    "\n",
    "SELECT  ri.ingredient ID, i.name Name, COUNT(*) as Occurence\n",
    "FROM RecipeIngredient ri\n",
    "LEFT JOIN Ingredient i\n",
    "ON(ri.ingredient = i.id)\n",
    "GROUP BY Ingredient\n",
    "ORDER BY Occurence DESC\n",
    "LIMIT 1"
   ]
  },
  {
   "cell_type": "markdown",
   "metadata": {},
   "source": [
    "## Aufgabe 4: Finden Sie Coctails, die, die Zutat 'Gin' *nicht* enthalten\n",
    "\n",
    "Hier ist zu sagen, dass das Nichtenthalten von Elemeneten in SQL nicht trivial ist. Der naive Ansatz:\n",
    "\n",
    "```\n",
    "SELECT r.name \n",
    "FROM Recipe r \n",
    "JOIN RecipeIngredient ri ON (r.id = ri.recipe) \n",
    "JOIN Ingredient i ON (ri.ingredient = i.id) \n",
    "WHERE i.name != 'Gin'\n",
    "```\n",
    "nicht."
   ]
  },
  {
   "cell_type": "markdown",
   "metadata": {},
   "source": [
    "*Aufgabe 4.1: Machen Sie sich bewusst, warum obiges Statement nicht funktioniert* `DOCH` ✅"
   ]
  },
  {
   "cell_type": "code",
   "execution_count": 9,
   "metadata": {
    "tags": [],
    "vscode": {
     "languageId": "sql"
    }
   },
   "outputs": [
    {
     "name": "stdout",
     "output_type": "stream",
     "text": [
      " * sqlite://\n",
      "Done.\n"
     ]
    },
    {
     "data": {
      "text/html": [
       "<table>\n",
       "    <thead>\n",
       "        <tr>\n",
       "            <th>name</th>\n",
       "        </tr>\n",
       "    </thead>\n",
       "    <tbody>\n",
       "        <tr>\n",
       "            <td>Leap Year Cocktail</td>\n",
       "        </tr>\n",
       "        <tr>\n",
       "            <td>Leap Year Cocktail</td>\n",
       "        </tr>\n",
       "        <tr>\n",
       "            <td>Leap Year Cocktail</td>\n",
       "        </tr>\n",
       "        <tr>\n",
       "            <td>Purple Gecko</td>\n",
       "        </tr>\n",
       "        <tr>\n",
       "            <td>Purple Gecko</td>\n",
       "        </tr>\n",
       "        <tr>\n",
       "            <td>Purple Gecko</td>\n",
       "        </tr>\n",
       "        <tr>\n",
       "            <td>Purple Gecko</td>\n",
       "        </tr>\n",
       "        <tr>\n",
       "            <td>Purple Gecko</td>\n",
       "        </tr>\n",
       "        <tr>\n",
       "            <td>Purple Gecko</td>\n",
       "        </tr>\n",
       "        <tr>\n",
       "            <td>Slow Comfortable Screw In Between the Sheets</td>\n",
       "        </tr>\n",
       "        <tr>\n",
       "            <td>Slow Comfortable Screw In Between the Sheets</td>\n",
       "        </tr>\n",
       "        <tr>\n",
       "            <td>Slow Comfortable Screw In Between the Sheets</td>\n",
       "        </tr>\n",
       "        <tr>\n",
       "            <td>Slow Comfortable Screw In Between the Sheets</td>\n",
       "        </tr>\n",
       "        <tr>\n",
       "            <td>Slow Comfortable Screw In Between the Sheets</td>\n",
       "        </tr>\n",
       "        <tr>\n",
       "            <td>Snakebite (UK)</td>\n",
       "        </tr>\n",
       "        <tr>\n",
       "            <td>Snakebite (UK)</td>\n",
       "        </tr>\n",
       "        <tr>\n",
       "            <td>Stoner Delight</td>\n",
       "        </tr>\n",
       "        <tr>\n",
       "            <td>Stoner Delight</td>\n",
       "        </tr>\n",
       "        <tr>\n",
       "            <td>Stoner Delight</td>\n",
       "        </tr>\n",
       "        <tr>\n",
       "            <td>Stoner Delight</td>\n",
       "        </tr>\n",
       "        <tr>\n",
       "            <td>Stoner Delight</td>\n",
       "        </tr>\n",
       "        <tr>\n",
       "            <td>Stoner Delight</td>\n",
       "        </tr>\n",
       "        <tr>\n",
       "            <td>Vodka</td>\n",
       "        </tr>\n",
       "        <tr>\n",
       "            <td>Tequila</td>\n",
       "        </tr>\n",
       "        <tr>\n",
       "            <td>Whiskey</td>\n",
       "        </tr>\n",
       "    </tbody>\n",
       "</table>"
      ],
      "text/plain": [
       "[('Leap Year Cocktail',),\n",
       " ('Leap Year Cocktail',),\n",
       " ('Leap Year Cocktail',),\n",
       " ('Purple Gecko',),\n",
       " ('Purple Gecko',),\n",
       " ('Purple Gecko',),\n",
       " ('Purple Gecko',),\n",
       " ('Purple Gecko',),\n",
       " ('Purple Gecko',),\n",
       " ('Slow Comfortable Screw In Between the Sheets',),\n",
       " ('Slow Comfortable Screw In Between the Sheets',),\n",
       " ('Slow Comfortable Screw In Between the Sheets',),\n",
       " ('Slow Comfortable Screw In Between the Sheets',),\n",
       " ('Slow Comfortable Screw In Between the Sheets',),\n",
       " ('Snakebite (UK)',),\n",
       " ('Snakebite (UK)',),\n",
       " ('Stoner Delight',),\n",
       " ('Stoner Delight',),\n",
       " ('Stoner Delight',),\n",
       " ('Stoner Delight',),\n",
       " ('Stoner Delight',),\n",
       " ('Stoner Delight',),\n",
       " ('Vodka',),\n",
       " ('Tequila',),\n",
       " ('Whiskey',)]"
      ]
     },
     "execution_count": 9,
     "metadata": {},
     "output_type": "execute_result"
    }
   ],
   "source": [
    "%%sql\n",
    "\n",
    "SELECT r.name \n",
    "FROM Recipe r \n",
    "JOIN RecipeIngredient ri ON (r.id = ri.recipe) \n",
    "JOIN Ingredient i ON (ri.ingredient = i.id) \n",
    "WHERE i.name != 'Gin'"
   ]
  },
  {
   "cell_type": "markdown",
   "metadata": {},
   "source": [
    "*Aufgabe 4.2: Nutzen Sie einen Subselect, um die Cocktails zu filtern* ✅"
   ]
  },
  {
   "cell_type": "code",
   "execution_count": 10,
   "metadata": {
    "vscode": {
     "languageId": "sql"
    }
   },
   "outputs": [
    {
     "name": "stdout",
     "output_type": "stream",
     "text": [
      " * sqlite://\n",
      "Done.\n"
     ]
    },
    {
     "data": {
      "text/html": [
       "<table>\n",
       "    <thead>\n",
       "        <tr>\n",
       "            <th>name</th>\n",
       "        </tr>\n",
       "    </thead>\n",
       "    <tbody>\n",
       "        <tr>\n",
       "            <td>Purple Gecko</td>\n",
       "        </tr>\n",
       "        <tr>\n",
       "            <td>Slow Comfortable Screw In Between the Sheets</td>\n",
       "        </tr>\n",
       "        <tr>\n",
       "            <td>Snakebite (UK)</td>\n",
       "        </tr>\n",
       "        <tr>\n",
       "            <td>Stoner Delight</td>\n",
       "        </tr>\n",
       "        <tr>\n",
       "            <td>Vodka</td>\n",
       "        </tr>\n",
       "        <tr>\n",
       "            <td>Tequila</td>\n",
       "        </tr>\n",
       "        <tr>\n",
       "            <td>Whiskey</td>\n",
       "        </tr>\n",
       "    </tbody>\n",
       "</table>"
      ],
      "text/plain": [
       "[('Purple Gecko',),\n",
       " ('Slow Comfortable Screw In Between the Sheets',),\n",
       " ('Snakebite (UK)',),\n",
       " ('Stoner Delight',),\n",
       " ('Vodka',),\n",
       " ('Tequila',),\n",
       " ('Whiskey',)]"
      ]
     },
     "execution_count": 10,
     "metadata": {},
     "output_type": "execute_result"
    }
   ],
   "source": [
    "%%sql\n",
    "\n",
    "SELECT r.name\n",
    "FROM Recipe r\n",
    "WHERE r.id NOT IN (\n",
    "    SELECT ri.recipe\n",
    "    FROM RecipeIngredient ri\n",
    "    LEFT JOIN Ingredient i\n",
    "    ON(ri.ingredient = i.id)\n",
    "    WHERE i.name = 'Gin'\n",
    ")"
   ]
  },
  {
   "cell_type": "markdown",
   "metadata": {},
   "source": [
    "*Aufgabe 4.2: Nutzen Sie das Kreuzprodukt, um die Coctails zu filtern* ✅"
   ]
  },
  {
   "cell_type": "code",
   "execution_count": 11,
   "metadata": {
    "vscode": {
     "languageId": "sql"
    }
   },
   "outputs": [
    {
     "name": "stdout",
     "output_type": "stream",
     "text": [
      " * sqlite://\n",
      "Done.\n"
     ]
    },
    {
     "data": {
      "text/html": [
       "<table>\n",
       "    <thead>\n",
       "        <tr>\n",
       "            <th>name</th>\n",
       "        </tr>\n",
       "    </thead>\n",
       "    <tbody>\n",
       "        <tr>\n",
       "            <td>Purple Gecko</td>\n",
       "        </tr>\n",
       "        <tr>\n",
       "            <td>Slow Comfortable Screw In Between the Sheets</td>\n",
       "        </tr>\n",
       "        <tr>\n",
       "            <td>Snakebite (UK)</td>\n",
       "        </tr>\n",
       "        <tr>\n",
       "            <td>Stoner Delight</td>\n",
       "        </tr>\n",
       "        <tr>\n",
       "            <td>Vodka</td>\n",
       "        </tr>\n",
       "        <tr>\n",
       "            <td>Tequila</td>\n",
       "        </tr>\n",
       "        <tr>\n",
       "            <td>Whiskey</td>\n",
       "        </tr>\n",
       "    </tbody>\n",
       "</table>"
      ],
      "text/plain": [
       "[('Purple Gecko',),\n",
       " ('Slow Comfortable Screw In Between the Sheets',),\n",
       " ('Snakebite (UK)',),\n",
       " ('Stoner Delight',),\n",
       " ('Vodka',),\n",
       " ('Tequila',),\n",
       " ('Whiskey',)]"
      ]
     },
     "execution_count": 11,
     "metadata": {},
     "output_type": "execute_result"
    }
   ],
   "source": [
    "%%sql\n",
    "\n",
    "SELECT r.name\n",
    "FROM Recipe r\n",
    "WHERE r.id NOT IN (\n",
    "    SELECT DISTINCT r.id\n",
    "    FROM Recipe r\n",
    "    CROSS JOIN Ingredient i\n",
    "    JOIN RecipeIngredient ri \n",
    "    ON r.id = ri.recipe AND i.id = ri.ingredient\n",
    "    WHERE i.name = 'Gin'\n",
    ")"
   ]
  },
  {
   "cell_type": "markdown",
   "metadata": {},
   "source": [
    "*Aufgabe 4.3: geht das mit aggregate und filter?, um die Coctails zu filtern*\n",
    "\n",
    "Aggregationsfunktionen, wie SUM, COUNT etc. unterstützen seit SQL:2003 eine `FILTER` clause, die es erlaubt Ergebnisse aus der Aggregation zu entfernen [Filter Clause auf dieser seite](https://sqlite.org/lang_aggfunc.html)"
   ]
  },
  {
   "cell_type": "code",
   "execution_count": 12,
   "metadata": {
    "vscode": {
     "languageId": "sql"
    }
   },
   "outputs": [
    {
     "name": "stdout",
     "output_type": "stream",
     "text": [
      " * sqlite://\n",
      "Done.\n"
     ]
    },
    {
     "data": {
      "text/html": [
       "<table>\n",
       "    <thead>\n",
       "        <tr>\n",
       "            <th>name</th>\n",
       "            <th>ingredients</th>\n",
       "        </tr>\n",
       "    </thead>\n",
       "    <tbody>\n",
       "        <tr>\n",
       "            <td>Purple Gecko</td>\n",
       "            <td>Blue Curacao, Cranberry Juice, Lime Juice, Red Curacao, Sour Mix, Tequila</td>\n",
       "        </tr>\n",
       "        <tr>\n",
       "            <td>Snakebite (UK)</td>\n",
       "            <td>Dry Cider, Lager</td>\n",
       "        </tr>\n",
       "        <tr>\n",
       "            <td>Stoner Delight</td>\n",
       "            <td>7-Up, Cranberry Juice, Dekuyper Razzmatazz, Orange Juice, Sour Mix, Vodka</td>\n",
       "        </tr>\n",
       "        <tr>\n",
       "            <td>Tequila</td>\n",
       "            <td>Tequila</td>\n",
       "        </tr>\n",
       "        <tr>\n",
       "            <td>Vodka</td>\n",
       "            <td>Vodka</td>\n",
       "        </tr>\n",
       "        <tr>\n",
       "            <td>Whiskey</td>\n",
       "            <td>Whiskey</td>\n",
       "        </tr>\n",
       "    </tbody>\n",
       "</table>"
      ],
      "text/plain": [
       "[('Purple Gecko', 'Blue Curacao, Cranberry Juice, Lime Juice, Red Curacao, Sour Mix, Tequila'),\n",
       " ('Snakebite (UK)', 'Dry Cider, Lager'),\n",
       " ('Stoner Delight', '7-Up, Cranberry Juice, Dekuyper Razzmatazz, Orange Juice, Sour Mix, Vodka'),\n",
       " ('Tequila', 'Tequila'),\n",
       " ('Vodka', 'Vodka'),\n",
       " ('Whiskey', 'Whiskey')]"
      ]
     },
     "execution_count": 12,
     "metadata": {},
     "output_type": "execute_result"
    }
   ],
   "source": [
    "%%sql\n",
    "\n",
    "SELECT\n",
    "r.name,\n",
    "GROUP_CONCAT(i.name, ', ') ingredients\n",
    "FROM Recipe r\n",
    "JOIN RecipeIngredient ri ON (r.id = ri.recipe)\n",
    "JOIN Ingredient i ON (ri.ingredient = i.id)\n",
    "GROUP BY r.name\n",
    "HAVING(COUNT(i.name) FILTER (WHERE i.name LIKE \"%Gin%\") = 0);"
   ]
  },
  {
   "cell_type": "markdown",
   "metadata": {},
   "source": [
    "## Aufgabe 5: Wie viele Zutaten hat mein Getränk eigentlich und welche? ✅\n",
    "\n",
    "Lösbar via gruppierung --> Eine Zeile Pro Coktail. Oder mit mehreren Zielen via subselects oder fensterfunktionen "
   ]
  },
  {
   "cell_type": "code",
   "execution_count": 13,
   "metadata": {
    "vscode": {
     "languageId": "sql"
    }
   },
   "outputs": [
    {
     "name": "stdout",
     "output_type": "stream",
     "text": [
      " * sqlite://\n",
      "Done.\n"
     ]
    },
    {
     "data": {
      "text/html": [
       "<table>\n",
       "    <thead>\n",
       "        <tr>\n",
       "            <th>name</th>\n",
       "            <th>ingredients</th>\n",
       "            <th>Occurence</th>\n",
       "        </tr>\n",
       "    </thead>\n",
       "    <tbody>\n",
       "        <tr>\n",
       "            <td>Leap Year Cocktail</td>\n",
       "            <td>Lemon Juice, Gin, Orange Gin, Sweet Vermouth</td>\n",
       "            <td>4</td>\n",
       "        </tr>\n",
       "        <tr>\n",
       "            <td>Purple Gecko</td>\n",
       "            <td>Blue Curacao, Cranberry Juice, Lime Juice, Red Curacao, Sour Mix, Tequila</td>\n",
       "            <td>6</td>\n",
       "        </tr>\n",
       "        <tr>\n",
       "            <td>Slow Comfortable Screw In Between the Sheets</td>\n",
       "            <td>Orange Juice, Sloe Gin, Southern Comfort, Triple Sec, Vodka</td>\n",
       "            <td>5</td>\n",
       "        </tr>\n",
       "        <tr>\n",
       "            <td>Snakebite (UK)</td>\n",
       "            <td>Dry Cider, Lager</td>\n",
       "            <td>2</td>\n",
       "        </tr>\n",
       "        <tr>\n",
       "            <td>Stoner Delight</td>\n",
       "            <td>7-Up, Cranberry Juice, Dekuyper Razzmatazz, Orange Juice, Sour Mix, Vodka</td>\n",
       "            <td>6</td>\n",
       "        </tr>\n",
       "        <tr>\n",
       "            <td>Tequila</td>\n",
       "            <td>Tequila</td>\n",
       "            <td>1</td>\n",
       "        </tr>\n",
       "        <tr>\n",
       "            <td>Vodka</td>\n",
       "            <td>Vodka</td>\n",
       "            <td>1</td>\n",
       "        </tr>\n",
       "        <tr>\n",
       "            <td>Whiskey</td>\n",
       "            <td>Whiskey</td>\n",
       "            <td>1</td>\n",
       "        </tr>\n",
       "    </tbody>\n",
       "</table>"
      ],
      "text/plain": [
       "[('Leap Year Cocktail', 'Lemon Juice, Gin, Orange Gin, Sweet Vermouth', 4),\n",
       " ('Purple Gecko', 'Blue Curacao, Cranberry Juice, Lime Juice, Red Curacao, Sour Mix, Tequila', 6),\n",
       " ('Slow Comfortable Screw In Between the Sheets', 'Orange Juice, Sloe Gin, Southern Comfort, Triple Sec, Vodka', 5),\n",
       " ('Snakebite (UK)', 'Dry Cider, Lager', 2),\n",
       " ('Stoner Delight', '7-Up, Cranberry Juice, Dekuyper Razzmatazz, Orange Juice, Sour Mix, Vodka', 6),\n",
       " ('Tequila', 'Tequila', 1),\n",
       " ('Vodka', 'Vodka', 1),\n",
       " ('Whiskey', 'Whiskey', 1)]"
      ]
     },
     "execution_count": 13,
     "metadata": {},
     "output_type": "execute_result"
    }
   ],
   "source": [
    "%%sql\n",
    "\n",
    "SELECT r.name, GROUP_CONCAT(i.name, ', ') ingredients, COUNT(r.name) as Occurence\n",
    "FROM Recipe r\n",
    "JOIN RecipeIngredient ri ON (r.id = ri.recipe)\n",
    "JOIN Ingredient i ON (ri.ingredient = i.id)\n",
    "GROUP BY r.name\n",
    "-- ORDER BY r.name DESC"
   ]
  }
 ],
 "metadata": {
  "kernelspec": {
   "display_name": "Python 3 (ipykernel)",
   "language": "python",
   "name": "python3"
  },
  "language_info": {
   "codemirror_mode": {
    "name": "ipython",
    "version": 3
   },
   "file_extension": ".py",
   "mimetype": "text/x-python",
   "name": "python",
   "nbconvert_exporter": "python",
   "pygments_lexer": "ipython3",
   "version": "3.12.0"
  }
 },
 "nbformat": 4,
 "nbformat_minor": 4
}
