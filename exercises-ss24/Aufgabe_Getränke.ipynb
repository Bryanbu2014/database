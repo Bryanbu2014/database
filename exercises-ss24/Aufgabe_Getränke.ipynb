{
 "cells": [
  {
   "cell_type": "markdown",
   "metadata": {},
   "source": [
    "# Getränke"
   ]
  },
  {
   "cell_type": "markdown",
   "metadata": {},
   "source": [
    "## Table of Contents\n",
    "\n",
    "[1. GPT-Generated Questions](#gpt-generated-questions)"
   ]
  },
  {
   "cell_type": "code",
   "execution_count": 1,
   "metadata": {
    "tags": []
   },
   "outputs": [
    {
     "name": "stdout",
     "output_type": "stream",
     "text": [
      " * sqlite://\n",
      "Done.\n"
     ]
    },
    {
     "data": {
      "text/plain": [
       "[]"
      ]
     },
     "execution_count": 1,
     "metadata": {},
     "output_type": "execute_result"
    }
   ],
   "source": [
    "# Hier ist nur Code zum Initialisieren der Umgebeung, bitte gehen Sie weiter, es gibt nichts zu sehen.\n",
    "\n",
    "# Keine langen Fehlermeldungen\n",
    "import sys\n",
    "ipython = get_ipython()\n",
    "\n",
    "def exception_handler(exception_type, exception, traceback):\n",
    "    print(\"%s: %s\" % (exception_type.__name__, exception), file=sys.stderr)\n",
    "\n",
    "ipython._showtraceback = exception_handler\n",
    "\n",
    "# Lade die Erweiterung, damit wir SQL Befehle nutzen können\n",
    "%reload_ext sql\n",
    "%sql sqlite://\n",
    "%sql PRAGMA foreign_keys = ON"
   ]
  },
  {
   "cell_type": "code",
   "execution_count": 2,
   "metadata": {
    "tags": [],
    "vscode": {
     "languageId": "sql"
    }
   },
   "outputs": [
    {
     "name": "stdout",
     "output_type": "stream",
     "text": [
      " * sqlite://\n",
      "Done.\n",
      "Done.\n",
      "Done.\n",
      "Done.\n",
      "Done.\n",
      "Done.\n",
      "25 rows affected.\n",
      "8 rows affected.\n",
      "26 rows affected.\n"
     ]
    },
    {
     "data": {
      "text/plain": [
       "[]"
      ]
     },
     "execution_count": 2,
     "metadata": {},
     "output_type": "execute_result"
    }
   ],
   "source": [
    "%%sql\n",
    "\n",
    "DROP TABLE IF EXISTS RecipeIngredient;\n",
    "DROP TABLE IF EXISTS Ingredient;\n",
    "DROP TABLE IF EXISTS Recipe;\n",
    "\n",
    "CREATE TABLE Ingredient (\n",
    "id INTEGER NOT NULL PRIMARY KEY,\n",
    "name  TEXT NOT NULL\n",
    ");\n",
    "\n",
    "CREATE TABLE Recipe (\n",
    "id INTEGER NOT NULL PRIMARY KEY,\n",
    "name  TEXT NOT NULL\n",
    ");\n",
    "\n",
    "CREATE TABLE RecipeIngredient (\n",
    "recipe  INTEGER NOT NULL,\n",
    "ingredient  INTEGER NOT NULL,\n",
    "PRIMARY KEY (recipe, ingredient),\n",
    "CONSTRAINT fkRecipeIngredientRecipe FOREIGN KEY (recipe) REFERENCES Recipe (id) ON DELETE CASCADE ON UPDATE CASCADE,\n",
    "CONSTRAINT fkRecipeIngredientIngredient FOREIGN KEY (ingredient) REFERENCES Ingredient (id) ON DELETE CASCADE ON UPDATE CASCADE\n",
    ");\n",
    "\n",
    "INSERT INTO Ingredient('name') VALUES ('Vodka'), ('Rum'), ('Sherry'), ('Whiskey'), ('Cherry'), ('Orange'), ('Olive'), ('Gin'), ('Lemon Juice'), ('Orange Gin'), ('Sweet Vermouth'), ('7-Up'), ('Cranberry Juice'), ('Dekuyper Razzmatazz'), ('Orange Juice'), ('Sour Mix'), ('Dry Cider'), ('Lager'), ('Sloe Gin'), ('Southern Comfort'), ('Triple Sec'), ('Blue Curacao'), ('Lime Juice'), ('Red Curacao'), ('Tequila');\n",
    "INSERT INTO Recipe('name') VALUES ('Leap Year Cocktail'), ('Purple Gecko'), ('Slow Comfortable Screw In Between the Sheets'), ('Snakebite (UK)'), ('Stoner Delight'), ('Vodka'), ('Tequila'), ('Whiskey');\n",
    "\n",
    "INSERT INTO RecipeIngredient VALUES (1, 9), (1, 8), (1, 10), (1, 11), (2, 22), (2, 13), (2, 23), (2, 24), (2, 16), (2, 25), (3, 15), (3, 19), (3, 20), (3, 21), (3, 1), (4, 17), (4, 18), (5, 12), (5, 13), (5, 14), (5, 15), (5, 16), (5, 1), (6, 1), (7, 25), (8, 4);"
   ]
  },
  {
   "cell_type": "code",
   "execution_count": 3,
   "metadata": {
    "vscode": {
     "languageId": "sql"
    }
   },
   "outputs": [
    {
     "name": "stdout",
     "output_type": "stream",
     "text": [
      " * sqlite://\n",
      "Done.\n"
     ]
    },
    {
     "data": {
      "text/html": [
       "<table>\n",
       "    <thead>\n",
       "        <tr>\n",
       "            <th>id</th>\n",
       "            <th>name</th>\n",
       "        </tr>\n",
       "    </thead>\n",
       "    <tbody>\n",
       "        <tr>\n",
       "            <td>1</td>\n",
       "            <td>Vodka</td>\n",
       "        </tr>\n",
       "        <tr>\n",
       "            <td>2</td>\n",
       "            <td>Rum</td>\n",
       "        </tr>\n",
       "        <tr>\n",
       "            <td>3</td>\n",
       "            <td>Sherry</td>\n",
       "        </tr>\n",
       "        <tr>\n",
       "            <td>4</td>\n",
       "            <td>Whiskey</td>\n",
       "        </tr>\n",
       "        <tr>\n",
       "            <td>5</td>\n",
       "            <td>Cherry</td>\n",
       "        </tr>\n",
       "        <tr>\n",
       "            <td>6</td>\n",
       "            <td>Orange</td>\n",
       "        </tr>\n",
       "        <tr>\n",
       "            <td>7</td>\n",
       "            <td>Olive</td>\n",
       "        </tr>\n",
       "        <tr>\n",
       "            <td>8</td>\n",
       "            <td>Gin</td>\n",
       "        </tr>\n",
       "        <tr>\n",
       "            <td>9</td>\n",
       "            <td>Lemon Juice</td>\n",
       "        </tr>\n",
       "        <tr>\n",
       "            <td>10</td>\n",
       "            <td>Orange Gin</td>\n",
       "        </tr>\n",
       "        <tr>\n",
       "            <td>11</td>\n",
       "            <td>Sweet Vermouth</td>\n",
       "        </tr>\n",
       "        <tr>\n",
       "            <td>12</td>\n",
       "            <td>7-Up</td>\n",
       "        </tr>\n",
       "        <tr>\n",
       "            <td>13</td>\n",
       "            <td>Cranberry Juice</td>\n",
       "        </tr>\n",
       "        <tr>\n",
       "            <td>14</td>\n",
       "            <td>Dekuyper Razzmatazz</td>\n",
       "        </tr>\n",
       "        <tr>\n",
       "            <td>15</td>\n",
       "            <td>Orange Juice</td>\n",
       "        </tr>\n",
       "        <tr>\n",
       "            <td>16</td>\n",
       "            <td>Sour Mix</td>\n",
       "        </tr>\n",
       "        <tr>\n",
       "            <td>17</td>\n",
       "            <td>Dry Cider</td>\n",
       "        </tr>\n",
       "        <tr>\n",
       "            <td>18</td>\n",
       "            <td>Lager</td>\n",
       "        </tr>\n",
       "        <tr>\n",
       "            <td>19</td>\n",
       "            <td>Sloe Gin</td>\n",
       "        </tr>\n",
       "        <tr>\n",
       "            <td>20</td>\n",
       "            <td>Southern Comfort</td>\n",
       "        </tr>\n",
       "        <tr>\n",
       "            <td>21</td>\n",
       "            <td>Triple Sec</td>\n",
       "        </tr>\n",
       "        <tr>\n",
       "            <td>22</td>\n",
       "            <td>Blue Curacao</td>\n",
       "        </tr>\n",
       "        <tr>\n",
       "            <td>23</td>\n",
       "            <td>Lime Juice</td>\n",
       "        </tr>\n",
       "        <tr>\n",
       "            <td>24</td>\n",
       "            <td>Red Curacao</td>\n",
       "        </tr>\n",
       "        <tr>\n",
       "            <td>25</td>\n",
       "            <td>Tequila</td>\n",
       "        </tr>\n",
       "    </tbody>\n",
       "</table>"
      ],
      "text/plain": [
       "[(1, 'Vodka'),\n",
       " (2, 'Rum'),\n",
       " (3, 'Sherry'),\n",
       " (4, 'Whiskey'),\n",
       " (5, 'Cherry'),\n",
       " (6, 'Orange'),\n",
       " (7, 'Olive'),\n",
       " (8, 'Gin'),\n",
       " (9, 'Lemon Juice'),\n",
       " (10, 'Orange Gin'),\n",
       " (11, 'Sweet Vermouth'),\n",
       " (12, '7-Up'),\n",
       " (13, 'Cranberry Juice'),\n",
       " (14, 'Dekuyper Razzmatazz'),\n",
       " (15, 'Orange Juice'),\n",
       " (16, 'Sour Mix'),\n",
       " (17, 'Dry Cider'),\n",
       " (18, 'Lager'),\n",
       " (19, 'Sloe Gin'),\n",
       " (20, 'Southern Comfort'),\n",
       " (21, 'Triple Sec'),\n",
       " (22, 'Blue Curacao'),\n",
       " (23, 'Lime Juice'),\n",
       " (24, 'Red Curacao'),\n",
       " (25, 'Tequila')]"
      ]
     },
     "execution_count": 3,
     "metadata": {},
     "output_type": "execute_result"
    }
   ],
   "source": [
    "%%sql\n",
    "\n",
    "SELECT * FROM Ingredient"
   ]
  },
  {
   "cell_type": "code",
   "execution_count": 4,
   "metadata": {
    "vscode": {
     "languageId": "sql"
    }
   },
   "outputs": [
    {
     "name": "stdout",
     "output_type": "stream",
     "text": [
      " * sqlite://\n",
      "Done.\n"
     ]
    },
    {
     "data": {
      "text/html": [
       "<table>\n",
       "    <thead>\n",
       "        <tr>\n",
       "            <th>id</th>\n",
       "            <th>name</th>\n",
       "        </tr>\n",
       "    </thead>\n",
       "    <tbody>\n",
       "        <tr>\n",
       "            <td>1</td>\n",
       "            <td>Leap Year Cocktail</td>\n",
       "        </tr>\n",
       "        <tr>\n",
       "            <td>2</td>\n",
       "            <td>Purple Gecko</td>\n",
       "        </tr>\n",
       "        <tr>\n",
       "            <td>3</td>\n",
       "            <td>Slow Comfortable Screw In Between the Sheets</td>\n",
       "        </tr>\n",
       "        <tr>\n",
       "            <td>4</td>\n",
       "            <td>Snakebite (UK)</td>\n",
       "        </tr>\n",
       "        <tr>\n",
       "            <td>5</td>\n",
       "            <td>Stoner Delight</td>\n",
       "        </tr>\n",
       "        <tr>\n",
       "            <td>6</td>\n",
       "            <td>Vodka</td>\n",
       "        </tr>\n",
       "        <tr>\n",
       "            <td>7</td>\n",
       "            <td>Tequila</td>\n",
       "        </tr>\n",
       "        <tr>\n",
       "            <td>8</td>\n",
       "            <td>Whiskey</td>\n",
       "        </tr>\n",
       "    </tbody>\n",
       "</table>"
      ],
      "text/plain": [
       "[(1, 'Leap Year Cocktail'),\n",
       " (2, 'Purple Gecko'),\n",
       " (3, 'Slow Comfortable Screw In Between the Sheets'),\n",
       " (4, 'Snakebite (UK)'),\n",
       " (5, 'Stoner Delight'),\n",
       " (6, 'Vodka'),\n",
       " (7, 'Tequila'),\n",
       " (8, 'Whiskey')]"
      ]
     },
     "execution_count": 4,
     "metadata": {},
     "output_type": "execute_result"
    }
   ],
   "source": [
    "%%sql\n",
    "\n",
    "SELECT * FROM Recipe"
   ]
  },
  {
   "cell_type": "code",
   "execution_count": 5,
   "metadata": {
    "vscode": {
     "languageId": "sql"
    }
   },
   "outputs": [
    {
     "name": "stdout",
     "output_type": "stream",
     "text": [
      " * sqlite://\n",
      "Done.\n"
     ]
    },
    {
     "data": {
      "text/html": [
       "<table>\n",
       "    <thead>\n",
       "        <tr>\n",
       "            <th>recipe</th>\n",
       "            <th>ingredient</th>\n",
       "        </tr>\n",
       "    </thead>\n",
       "    <tbody>\n",
       "        <tr>\n",
       "            <td>1</td>\n",
       "            <td>9</td>\n",
       "        </tr>\n",
       "        <tr>\n",
       "            <td>1</td>\n",
       "            <td>8</td>\n",
       "        </tr>\n",
       "        <tr>\n",
       "            <td>1</td>\n",
       "            <td>10</td>\n",
       "        </tr>\n",
       "        <tr>\n",
       "            <td>1</td>\n",
       "            <td>11</td>\n",
       "        </tr>\n",
       "        <tr>\n",
       "            <td>2</td>\n",
       "            <td>22</td>\n",
       "        </tr>\n",
       "        <tr>\n",
       "            <td>2</td>\n",
       "            <td>13</td>\n",
       "        </tr>\n",
       "        <tr>\n",
       "            <td>2</td>\n",
       "            <td>23</td>\n",
       "        </tr>\n",
       "        <tr>\n",
       "            <td>2</td>\n",
       "            <td>24</td>\n",
       "        </tr>\n",
       "        <tr>\n",
       "            <td>2</td>\n",
       "            <td>16</td>\n",
       "        </tr>\n",
       "        <tr>\n",
       "            <td>2</td>\n",
       "            <td>25</td>\n",
       "        </tr>\n",
       "        <tr>\n",
       "            <td>3</td>\n",
       "            <td>15</td>\n",
       "        </tr>\n",
       "        <tr>\n",
       "            <td>3</td>\n",
       "            <td>19</td>\n",
       "        </tr>\n",
       "        <tr>\n",
       "            <td>3</td>\n",
       "            <td>20</td>\n",
       "        </tr>\n",
       "        <tr>\n",
       "            <td>3</td>\n",
       "            <td>21</td>\n",
       "        </tr>\n",
       "        <tr>\n",
       "            <td>3</td>\n",
       "            <td>1</td>\n",
       "        </tr>\n",
       "        <tr>\n",
       "            <td>4</td>\n",
       "            <td>17</td>\n",
       "        </tr>\n",
       "        <tr>\n",
       "            <td>4</td>\n",
       "            <td>18</td>\n",
       "        </tr>\n",
       "        <tr>\n",
       "            <td>5</td>\n",
       "            <td>12</td>\n",
       "        </tr>\n",
       "        <tr>\n",
       "            <td>5</td>\n",
       "            <td>13</td>\n",
       "        </tr>\n",
       "        <tr>\n",
       "            <td>5</td>\n",
       "            <td>14</td>\n",
       "        </tr>\n",
       "        <tr>\n",
       "            <td>5</td>\n",
       "            <td>15</td>\n",
       "        </tr>\n",
       "        <tr>\n",
       "            <td>5</td>\n",
       "            <td>16</td>\n",
       "        </tr>\n",
       "        <tr>\n",
       "            <td>5</td>\n",
       "            <td>1</td>\n",
       "        </tr>\n",
       "        <tr>\n",
       "            <td>6</td>\n",
       "            <td>1</td>\n",
       "        </tr>\n",
       "        <tr>\n",
       "            <td>7</td>\n",
       "            <td>25</td>\n",
       "        </tr>\n",
       "        <tr>\n",
       "            <td>8</td>\n",
       "            <td>4</td>\n",
       "        </tr>\n",
       "    </tbody>\n",
       "</table>"
      ],
      "text/plain": [
       "[(1, 9),\n",
       " (1, 8),\n",
       " (1, 10),\n",
       " (1, 11),\n",
       " (2, 22),\n",
       " (2, 13),\n",
       " (2, 23),\n",
       " (2, 24),\n",
       " (2, 16),\n",
       " (2, 25),\n",
       " (3, 15),\n",
       " (3, 19),\n",
       " (3, 20),\n",
       " (3, 21),\n",
       " (3, 1),\n",
       " (4, 17),\n",
       " (4, 18),\n",
       " (5, 12),\n",
       " (5, 13),\n",
       " (5, 14),\n",
       " (5, 15),\n",
       " (5, 16),\n",
       " (5, 1),\n",
       " (6, 1),\n",
       " (7, 25),\n",
       " (8, 4)]"
      ]
     },
     "execution_count": 5,
     "metadata": {},
     "output_type": "execute_result"
    }
   ],
   "source": [
    "%%sql\n",
    "\n",
    "SELECT * FROM RecipeIngredient"
   ]
  },
  {
   "cell_type": "markdown",
   "metadata": {},
   "source": [
    "## Aufgabe 1: Finden Sie Alle Zutaten des \"Leap Year Coctail\"s ✅"
   ]
  },
  {
   "cell_type": "code",
   "execution_count": 6,
   "metadata": {
    "vscode": {
     "languageId": "sql"
    }
   },
   "outputs": [
    {
     "name": "stdout",
     "output_type": "stream",
     "text": [
      " * sqlite://\n",
      "Done.\n"
     ]
    },
    {
     "data": {
      "text/html": [
       "<table>\n",
       "    <thead>\n",
       "        <tr>\n",
       "            <th>Cocktail</th>\n",
       "            <th>Ingredient</th>\n",
       "        </tr>\n",
       "    </thead>\n",
       "    <tbody>\n",
       "        <tr>\n",
       "            <td>Leap Year Cocktail</td>\n",
       "            <td>Gin</td>\n",
       "        </tr>\n",
       "        <tr>\n",
       "            <td>Leap Year Cocktail</td>\n",
       "            <td>Lemon Juice</td>\n",
       "        </tr>\n",
       "        <tr>\n",
       "            <td>Leap Year Cocktail</td>\n",
       "            <td>Orange Gin</td>\n",
       "        </tr>\n",
       "        <tr>\n",
       "            <td>Leap Year Cocktail</td>\n",
       "            <td>Sweet Vermouth</td>\n",
       "        </tr>\n",
       "    </tbody>\n",
       "</table>"
      ],
      "text/plain": [
       "[('Leap Year Cocktail', 'Gin'),\n",
       " ('Leap Year Cocktail', 'Lemon Juice'),\n",
       " ('Leap Year Cocktail', 'Orange Gin'),\n",
       " ('Leap Year Cocktail', 'Sweet Vermouth')]"
      ]
     },
     "execution_count": 6,
     "metadata": {},
     "output_type": "execute_result"
    }
   ],
   "source": [
    "%%sql\n",
    "\n",
    "SELECT r.name Cocktail, i.name Ingredient\n",
    "FROM Recipe r\n",
    "LEFT JOIN RecipeIngredient ri\n",
    "ON(r.id = ri.recipe)\n",
    "LEFT JOIN Ingredient i\n",
    "ON(ri.ingredient = i.id)\n",
    "WHERE(r.name = 'Leap Year Cocktail')"
   ]
  },
  {
   "cell_type": "markdown",
   "metadata": {},
   "source": [
    "## Aufgabe 2: Finden Sie Alle Cocktails, die Vodka enthalten ✅"
   ]
  },
  {
   "cell_type": "code",
   "execution_count": 7,
   "metadata": {
    "vscode": {
     "languageId": "sql"
    }
   },
   "outputs": [
    {
     "name": "stdout",
     "output_type": "stream",
     "text": [
      " * sqlite://\n",
      "Done.\n"
     ]
    },
    {
     "data": {
      "text/html": [
       "<table>\n",
       "    <thead>\n",
       "        <tr>\n",
       "            <th>Cocktail</th>\n",
       "        </tr>\n",
       "    </thead>\n",
       "    <tbody>\n",
       "        <tr>\n",
       "            <td>Slow Comfortable Screw In Between the Sheets</td>\n",
       "        </tr>\n",
       "        <tr>\n",
       "            <td>Stoner Delight</td>\n",
       "        </tr>\n",
       "        <tr>\n",
       "            <td>Vodka</td>\n",
       "        </tr>\n",
       "    </tbody>\n",
       "</table>"
      ],
      "text/plain": [
       "[('Slow Comfortable Screw In Between the Sheets',),\n",
       " ('Stoner Delight',),\n",
       " ('Vodka',)]"
      ]
     },
     "execution_count": 7,
     "metadata": {},
     "output_type": "execute_result"
    }
   ],
   "source": [
    "%%sql\n",
    "\n",
    "SELECT r.name Cocktail\n",
    "FROM Recipe r\n",
    "LEFT JOIN RecipeIngredient ri\n",
    "ON(r.id = ri.recipe)\n",
    "LEFT JOIN Ingredient i\n",
    "ON(ri.ingredient = i.id)\n",
    "WHERE(i.name = 'Vodka')"
   ]
  },
  {
   "cell_type": "markdown",
   "metadata": {},
   "source": [
    "<details>\n",
    "<summary>Suggested Answer</summary>\n",
    "\n",
    "```sql\n",
    "SELECT r.name as Cocktail, i.name as Zutat  \n",
    "FROM Recipe r  \n",
    "JOIN RecipeIngredient ri  \n",
    "ON(r.id = ri.recipe)  \n",
    "JOIN Ingredient i  \n",
    "ON(i.id = ri.ingredient)  \n",
    "WHERE i.name LIKE '%Vodka%'  \n",
    "```\n",
    "\n",
    "</details>"
   ]
  },
  {
   "cell_type": "markdown",
   "metadata": {},
   "source": [
    "## Aufgabe 3: Finden Sie die häufigste Zutat ✅"
   ]
  },
  {
   "cell_type": "code",
   "execution_count": 8,
   "metadata": {
    "vscode": {
     "languageId": "sql"
    }
   },
   "outputs": [
    {
     "name": "stdout",
     "output_type": "stream",
     "text": [
      " * sqlite://\n",
      "Done.\n"
     ]
    },
    {
     "data": {
      "text/html": [
       "<table>\n",
       "    <thead>\n",
       "        <tr>\n",
       "            <th>ID</th>\n",
       "            <th>Name</th>\n",
       "            <th>Occurence</th>\n",
       "        </tr>\n",
       "    </thead>\n",
       "    <tbody>\n",
       "        <tr>\n",
       "            <td>1</td>\n",
       "            <td>Vodka</td>\n",
       "            <td>3</td>\n",
       "        </tr>\n",
       "    </tbody>\n",
       "</table>"
      ],
      "text/plain": [
       "[(1, 'Vodka', 3)]"
      ]
     },
     "execution_count": 8,
     "metadata": {},
     "output_type": "execute_result"
    }
   ],
   "source": [
    "%%sql\n",
    "\n",
    "SELECT  ri.ingredient ID, i.name Name, COUNT(*) as Occurence\n",
    "FROM RecipeIngredient ri\n",
    "LEFT JOIN Ingredient i\n",
    "ON(ri.ingredient = i.id)\n",
    "GROUP BY Ingredient\n",
    "ORDER BY Occurence DESC\n",
    "LIMIT 1"
   ]
  },
  {
   "cell_type": "markdown",
   "metadata": {},
   "source": [
    "## Aufgabe 4: Finden Sie Coctails, die, die Zutat 'Gin' *nicht* enthalten\n",
    "\n",
    "Hier ist zu sagen, dass das Nichtenthalten von Elemeneten in SQL nicht trivial ist. Der naive Ansatz:\n",
    "\n",
    "```\n",
    "SELECT r.name \n",
    "FROM Recipe r \n",
    "JOIN RecipeIngredient ri ON (r.id = ri.recipe) \n",
    "JOIN Ingredient i ON (ri.ingredient = i.id) \n",
    "WHERE i.name != 'Gin'\n",
    "```\n",
    "nicht."
   ]
  },
  {
   "cell_type": "markdown",
   "metadata": {},
   "source": [
    "*Aufgabe 4.1: Machen Sie sich bewusst, warum obiges Statement nicht funktioniert* `DOCH` ✅"
   ]
  },
  {
   "cell_type": "code",
   "execution_count": 9,
   "metadata": {
    "tags": [],
    "vscode": {
     "languageId": "sql"
    }
   },
   "outputs": [
    {
     "name": "stdout",
     "output_type": "stream",
     "text": [
      " * sqlite://\n",
      "Done.\n"
     ]
    },
    {
     "data": {
      "text/html": [
       "<table>\n",
       "    <thead>\n",
       "        <tr>\n",
       "            <th>name</th>\n",
       "        </tr>\n",
       "    </thead>\n",
       "    <tbody>\n",
       "        <tr>\n",
       "            <td>Leap Year Cocktail</td>\n",
       "        </tr>\n",
       "        <tr>\n",
       "            <td>Leap Year Cocktail</td>\n",
       "        </tr>\n",
       "        <tr>\n",
       "            <td>Leap Year Cocktail</td>\n",
       "        </tr>\n",
       "        <tr>\n",
       "            <td>Purple Gecko</td>\n",
       "        </tr>\n",
       "        <tr>\n",
       "            <td>Purple Gecko</td>\n",
       "        </tr>\n",
       "        <tr>\n",
       "            <td>Purple Gecko</td>\n",
       "        </tr>\n",
       "        <tr>\n",
       "            <td>Purple Gecko</td>\n",
       "        </tr>\n",
       "        <tr>\n",
       "            <td>Purple Gecko</td>\n",
       "        </tr>\n",
       "        <tr>\n",
       "            <td>Purple Gecko</td>\n",
       "        </tr>\n",
       "        <tr>\n",
       "            <td>Slow Comfortable Screw In Between the Sheets</td>\n",
       "        </tr>\n",
       "        <tr>\n",
       "            <td>Slow Comfortable Screw In Between the Sheets</td>\n",
       "        </tr>\n",
       "        <tr>\n",
       "            <td>Slow Comfortable Screw In Between the Sheets</td>\n",
       "        </tr>\n",
       "        <tr>\n",
       "            <td>Slow Comfortable Screw In Between the Sheets</td>\n",
       "        </tr>\n",
       "        <tr>\n",
       "            <td>Slow Comfortable Screw In Between the Sheets</td>\n",
       "        </tr>\n",
       "        <tr>\n",
       "            <td>Snakebite (UK)</td>\n",
       "        </tr>\n",
       "        <tr>\n",
       "            <td>Snakebite (UK)</td>\n",
       "        </tr>\n",
       "        <tr>\n",
       "            <td>Stoner Delight</td>\n",
       "        </tr>\n",
       "        <tr>\n",
       "            <td>Stoner Delight</td>\n",
       "        </tr>\n",
       "        <tr>\n",
       "            <td>Stoner Delight</td>\n",
       "        </tr>\n",
       "        <tr>\n",
       "            <td>Stoner Delight</td>\n",
       "        </tr>\n",
       "        <tr>\n",
       "            <td>Stoner Delight</td>\n",
       "        </tr>\n",
       "        <tr>\n",
       "            <td>Stoner Delight</td>\n",
       "        </tr>\n",
       "        <tr>\n",
       "            <td>Vodka</td>\n",
       "        </tr>\n",
       "        <tr>\n",
       "            <td>Tequila</td>\n",
       "        </tr>\n",
       "        <tr>\n",
       "            <td>Whiskey</td>\n",
       "        </tr>\n",
       "    </tbody>\n",
       "</table>"
      ],
      "text/plain": [
       "[('Leap Year Cocktail',),\n",
       " ('Leap Year Cocktail',),\n",
       " ('Leap Year Cocktail',),\n",
       " ('Purple Gecko',),\n",
       " ('Purple Gecko',),\n",
       " ('Purple Gecko',),\n",
       " ('Purple Gecko',),\n",
       " ('Purple Gecko',),\n",
       " ('Purple Gecko',),\n",
       " ('Slow Comfortable Screw In Between the Sheets',),\n",
       " ('Slow Comfortable Screw In Between the Sheets',),\n",
       " ('Slow Comfortable Screw In Between the Sheets',),\n",
       " ('Slow Comfortable Screw In Between the Sheets',),\n",
       " ('Slow Comfortable Screw In Between the Sheets',),\n",
       " ('Snakebite (UK)',),\n",
       " ('Snakebite (UK)',),\n",
       " ('Stoner Delight',),\n",
       " ('Stoner Delight',),\n",
       " ('Stoner Delight',),\n",
       " ('Stoner Delight',),\n",
       " ('Stoner Delight',),\n",
       " ('Stoner Delight',),\n",
       " ('Vodka',),\n",
       " ('Tequila',),\n",
       " ('Whiskey',)]"
      ]
     },
     "execution_count": 9,
     "metadata": {},
     "output_type": "execute_result"
    }
   ],
   "source": [
    "%%sql\n",
    "\n",
    "SELECT r.name \n",
    "FROM Recipe r \n",
    "JOIN RecipeIngredient ri ON (r.id = ri.recipe) \n",
    "JOIN Ingredient i ON (ri.ingredient = i.id) \n",
    "WHERE i.name != 'Gin'"
   ]
  },
  {
   "cell_type": "markdown",
   "metadata": {},
   "source": [
    "*Aufgabe 4.2: Nutzen Sie einen Subselect, um die Cocktails zu filtern* ✅"
   ]
  },
  {
   "cell_type": "code",
   "execution_count": 10,
   "metadata": {
    "vscode": {
     "languageId": "sql"
    }
   },
   "outputs": [
    {
     "name": "stdout",
     "output_type": "stream",
     "text": [
      " * sqlite://\n",
      "Done.\n"
     ]
    },
    {
     "data": {
      "text/html": [
       "<table>\n",
       "    <thead>\n",
       "        <tr>\n",
       "            <th>name</th>\n",
       "        </tr>\n",
       "    </thead>\n",
       "    <tbody>\n",
       "        <tr>\n",
       "            <td>Purple Gecko</td>\n",
       "        </tr>\n",
       "        <tr>\n",
       "            <td>Slow Comfortable Screw In Between the Sheets</td>\n",
       "        </tr>\n",
       "        <tr>\n",
       "            <td>Snakebite (UK)</td>\n",
       "        </tr>\n",
       "        <tr>\n",
       "            <td>Stoner Delight</td>\n",
       "        </tr>\n",
       "        <tr>\n",
       "            <td>Vodka</td>\n",
       "        </tr>\n",
       "        <tr>\n",
       "            <td>Tequila</td>\n",
       "        </tr>\n",
       "        <tr>\n",
       "            <td>Whiskey</td>\n",
       "        </tr>\n",
       "    </tbody>\n",
       "</table>"
      ],
      "text/plain": [
       "[('Purple Gecko',),\n",
       " ('Slow Comfortable Screw In Between the Sheets',),\n",
       " ('Snakebite (UK)',),\n",
       " ('Stoner Delight',),\n",
       " ('Vodka',),\n",
       " ('Tequila',),\n",
       " ('Whiskey',)]"
      ]
     },
     "execution_count": 10,
     "metadata": {},
     "output_type": "execute_result"
    }
   ],
   "source": [
    "%%sql\n",
    "\n",
    "SELECT r.name\n",
    "FROM Recipe r\n",
    "WHERE r.id NOT IN (\n",
    "    SELECT ri.recipe\n",
    "    FROM RecipeIngredient ri\n",
    "    LEFT JOIN Ingredient i\n",
    "    ON(ri.ingredient = i.id)\n",
    "    WHERE i.name = 'Gin'\n",
    ")"
   ]
  },
  {
   "cell_type": "markdown",
   "metadata": {},
   "source": [
    "*Aufgabe 4.2: Nutzen Sie das Kreuzprodukt, um die Coctails zu filtern* ✅"
   ]
  },
  {
   "cell_type": "code",
   "execution_count": 11,
   "metadata": {
    "vscode": {
     "languageId": "sql"
    }
   },
   "outputs": [
    {
     "name": "stdout",
     "output_type": "stream",
     "text": [
      " * sqlite://\n",
      "Done.\n"
     ]
    },
    {
     "data": {
      "text/html": [
       "<table>\n",
       "    <thead>\n",
       "        <tr>\n",
       "            <th>name</th>\n",
       "        </tr>\n",
       "    </thead>\n",
       "    <tbody>\n",
       "        <tr>\n",
       "            <td>Purple Gecko</td>\n",
       "        </tr>\n",
       "        <tr>\n",
       "            <td>Slow Comfortable Screw In Between the Sheets</td>\n",
       "        </tr>\n",
       "        <tr>\n",
       "            <td>Snakebite (UK)</td>\n",
       "        </tr>\n",
       "        <tr>\n",
       "            <td>Stoner Delight</td>\n",
       "        </tr>\n",
       "        <tr>\n",
       "            <td>Vodka</td>\n",
       "        </tr>\n",
       "        <tr>\n",
       "            <td>Tequila</td>\n",
       "        </tr>\n",
       "        <tr>\n",
       "            <td>Whiskey</td>\n",
       "        </tr>\n",
       "    </tbody>\n",
       "</table>"
      ],
      "text/plain": [
       "[('Purple Gecko',),\n",
       " ('Slow Comfortable Screw In Between the Sheets',),\n",
       " ('Snakebite (UK)',),\n",
       " ('Stoner Delight',),\n",
       " ('Vodka',),\n",
       " ('Tequila',),\n",
       " ('Whiskey',)]"
      ]
     },
     "execution_count": 11,
     "metadata": {},
     "output_type": "execute_result"
    }
   ],
   "source": [
    "%%sql\n",
    "\n",
    "SELECT r.name\n",
    "FROM Recipe r\n",
    "WHERE r.id NOT IN (\n",
    "    SELECT DISTINCT r.id\n",
    "    FROM Recipe r\n",
    "    CROSS JOIN Ingredient i\n",
    "    JOIN RecipeIngredient ri \n",
    "    ON r.id = ri.recipe AND i.id = ri.ingredient\n",
    "    WHERE i.name = 'Gin'\n",
    ")"
   ]
  },
  {
   "cell_type": "markdown",
   "metadata": {},
   "source": [
    "*Aufgabe 4.3: geht das mit aggregate und filter?, um die Coctails zu filtern*\n",
    "\n",
    "Aggregationsfunktionen, wie SUM, COUNT etc. unterstützen seit SQL:2003 eine `FILTER` clause, die es erlaubt Ergebnisse aus der Aggregation zu entfernen [Filter Clause auf dieser seite](https://sqlite.org/lang_aggfunc.html)"
   ]
  },
  {
   "cell_type": "code",
   "execution_count": 12,
   "metadata": {
    "vscode": {
     "languageId": "sql"
    }
   },
   "outputs": [
    {
     "name": "stdout",
     "output_type": "stream",
     "text": [
      " * sqlite://\n",
      "Done.\n"
     ]
    },
    {
     "data": {
      "text/html": [
       "<table>\n",
       "    <thead>\n",
       "        <tr>\n",
       "            <th>name</th>\n",
       "            <th>ingredients</th>\n",
       "        </tr>\n",
       "    </thead>\n",
       "    <tbody>\n",
       "        <tr>\n",
       "            <td>Purple Gecko</td>\n",
       "            <td>Blue Curacao, Cranberry Juice, Lime Juice, Red Curacao, Sour Mix, Tequila</td>\n",
       "        </tr>\n",
       "        <tr>\n",
       "            <td>Snakebite (UK)</td>\n",
       "            <td>Dry Cider, Lager</td>\n",
       "        </tr>\n",
       "        <tr>\n",
       "            <td>Stoner Delight</td>\n",
       "            <td>7-Up, Cranberry Juice, Dekuyper Razzmatazz, Orange Juice, Sour Mix, Vodka</td>\n",
       "        </tr>\n",
       "        <tr>\n",
       "            <td>Tequila</td>\n",
       "            <td>Tequila</td>\n",
       "        </tr>\n",
       "        <tr>\n",
       "            <td>Vodka</td>\n",
       "            <td>Vodka</td>\n",
       "        </tr>\n",
       "        <tr>\n",
       "            <td>Whiskey</td>\n",
       "            <td>Whiskey</td>\n",
       "        </tr>\n",
       "    </tbody>\n",
       "</table>"
      ],
      "text/plain": [
       "[('Purple Gecko', 'Blue Curacao, Cranberry Juice, Lime Juice, Red Curacao, Sour Mix, Tequila'),\n",
       " ('Snakebite (UK)', 'Dry Cider, Lager'),\n",
       " ('Stoner Delight', '7-Up, Cranberry Juice, Dekuyper Razzmatazz, Orange Juice, Sour Mix, Vodka'),\n",
       " ('Tequila', 'Tequila'),\n",
       " ('Vodka', 'Vodka'),\n",
       " ('Whiskey', 'Whiskey')]"
      ]
     },
     "execution_count": 12,
     "metadata": {},
     "output_type": "execute_result"
    }
   ],
   "source": [
    "%%sql\n",
    "\n",
    "SELECT\n",
    "r.name,\n",
    "GROUP_CONCAT(i.name, ', ') ingredients\n",
    "FROM Recipe r\n",
    "JOIN RecipeIngredient ri ON (r.id = ri.recipe)\n",
    "JOIN Ingredient i ON (ri.ingredient = i.id)\n",
    "GROUP BY r.name\n",
    "HAVING(COUNT(i.name) FILTER (WHERE i.name LIKE \"%Gin%\") = 0);"
   ]
  },
  {
   "cell_type": "markdown",
   "metadata": {},
   "source": [
    "## Aufgabe 5: Wie viele Zutaten hat mein Getränk eigentlich und welche? ✅\n",
    "\n",
    "Lösbar via gruppierung --> Eine Zeile Pro Coktail. Oder mit mehreren Zielen via subselects oder fensterfunktionen "
   ]
  },
  {
   "cell_type": "code",
   "execution_count": 13,
   "metadata": {
    "vscode": {
     "languageId": "sql"
    }
   },
   "outputs": [
    {
     "name": "stdout",
     "output_type": "stream",
     "text": [
      " * sqlite://\n",
      "Done.\n"
     ]
    },
    {
     "data": {
      "text/html": [
       "<table>\n",
       "    <thead>\n",
       "        <tr>\n",
       "            <th>name</th>\n",
       "            <th>ingredients</th>\n",
       "            <th>Occurence</th>\n",
       "        </tr>\n",
       "    </thead>\n",
       "    <tbody>\n",
       "        <tr>\n",
       "            <td>Leap Year Cocktail</td>\n",
       "            <td>Lemon Juice, Gin, Orange Gin, Sweet Vermouth</td>\n",
       "            <td>4</td>\n",
       "        </tr>\n",
       "        <tr>\n",
       "            <td>Purple Gecko</td>\n",
       "            <td>Blue Curacao, Cranberry Juice, Lime Juice, Red Curacao, Sour Mix, Tequila</td>\n",
       "            <td>6</td>\n",
       "        </tr>\n",
       "        <tr>\n",
       "            <td>Slow Comfortable Screw In Between the Sheets</td>\n",
       "            <td>Orange Juice, Sloe Gin, Southern Comfort, Triple Sec, Vodka</td>\n",
       "            <td>5</td>\n",
       "        </tr>\n",
       "        <tr>\n",
       "            <td>Snakebite (UK)</td>\n",
       "            <td>Dry Cider, Lager</td>\n",
       "            <td>2</td>\n",
       "        </tr>\n",
       "        <tr>\n",
       "            <td>Stoner Delight</td>\n",
       "            <td>7-Up, Cranberry Juice, Dekuyper Razzmatazz, Orange Juice, Sour Mix, Vodka</td>\n",
       "            <td>6</td>\n",
       "        </tr>\n",
       "        <tr>\n",
       "            <td>Tequila</td>\n",
       "            <td>Tequila</td>\n",
       "            <td>1</td>\n",
       "        </tr>\n",
       "        <tr>\n",
       "            <td>Vodka</td>\n",
       "            <td>Vodka</td>\n",
       "            <td>1</td>\n",
       "        </tr>\n",
       "        <tr>\n",
       "            <td>Whiskey</td>\n",
       "            <td>Whiskey</td>\n",
       "            <td>1</td>\n",
       "        </tr>\n",
       "    </tbody>\n",
       "</table>"
      ],
      "text/plain": [
       "[('Leap Year Cocktail', 'Lemon Juice, Gin, Orange Gin, Sweet Vermouth', 4),\n",
       " ('Purple Gecko', 'Blue Curacao, Cranberry Juice, Lime Juice, Red Curacao, Sour Mix, Tequila', 6),\n",
       " ('Slow Comfortable Screw In Between the Sheets', 'Orange Juice, Sloe Gin, Southern Comfort, Triple Sec, Vodka', 5),\n",
       " ('Snakebite (UK)', 'Dry Cider, Lager', 2),\n",
       " ('Stoner Delight', '7-Up, Cranberry Juice, Dekuyper Razzmatazz, Orange Juice, Sour Mix, Vodka', 6),\n",
       " ('Tequila', 'Tequila', 1),\n",
       " ('Vodka', 'Vodka', 1),\n",
       " ('Whiskey', 'Whiskey', 1)]"
      ]
     },
     "execution_count": 13,
     "metadata": {},
     "output_type": "execute_result"
    }
   ],
   "source": [
    "%%sql\n",
    "\n",
    "SELECT r.name, GROUP_CONCAT(i.name, ', ') ingredients, COUNT(r.name) as Occurence\n",
    "FROM Recipe r\n",
    "JOIN RecipeIngredient ri ON (r.id = ri.recipe)\n",
    "JOIN Ingredient i ON (ri.ingredient = i.id)\n",
    "GROUP BY r.name\n",
    "-- ORDER BY r.name DESC"
   ]
  },
  {
   "cell_type": "markdown",
   "metadata": {},
   "source": [
    "## **GPT-Generated Questions**"
   ]
  },
  {
   "cell_type": "markdown",
   "metadata": {},
   "source": [
    "#### **1. List the names of all ingredients that are used in more than one recipe. Order the results in descending order by ingredient name.** ✅"
   ]
  },
  {
   "cell_type": "code",
   "execution_count": 14,
   "metadata": {
    "vscode": {
     "languageId": "sql"
    }
   },
   "outputs": [
    {
     "name": "stdout",
     "output_type": "stream",
     "text": [
      " * sqlite://\n",
      "Done.\n"
     ]
    },
    {
     "data": {
      "text/html": [
       "<table>\n",
       "    <thead>\n",
       "        <tr>\n",
       "            <th>Ingredients</th>\n",
       "            <th>Occurence</th>\n",
       "        </tr>\n",
       "    </thead>\n",
       "    <tbody>\n",
       "        <tr>\n",
       "            <td>Vodka</td>\n",
       "            <td>3</td>\n",
       "        </tr>\n",
       "        <tr>\n",
       "            <td>Tequila</td>\n",
       "            <td>2</td>\n",
       "        </tr>\n",
       "        <tr>\n",
       "            <td>Sour Mix</td>\n",
       "            <td>2</td>\n",
       "        </tr>\n",
       "        <tr>\n",
       "            <td>Orange Juice</td>\n",
       "            <td>2</td>\n",
       "        </tr>\n",
       "        <tr>\n",
       "            <td>Cranberry Juice</td>\n",
       "            <td>2</td>\n",
       "        </tr>\n",
       "    </tbody>\n",
       "</table>"
      ],
      "text/plain": [
       "[('Vodka', 3),\n",
       " ('Tequila', 2),\n",
       " ('Sour Mix', 2),\n",
       " ('Orange Juice', 2),\n",
       " ('Cranberry Juice', 2)]"
      ]
     },
     "execution_count": 14,
     "metadata": {},
     "output_type": "execute_result"
    }
   ],
   "source": [
    "%%sql\n",
    "\n",
    "SELECT i.name Ingredients, COUNT(i.name) as Occurence\n",
    "FROM Ingredient i\n",
    "JOIN RecipeIngredient ri\n",
    "ON(i.id = ri.ingredient)\n",
    "GROUP BY i.name\n",
    "HAVING COUNT(i.name) > 1\n",
    "ORDER BY i.name DESC"
   ]
  },
  {
   "cell_type": "markdown",
   "metadata": {
    "vscode": {
     "languageId": "sql"
    }
   },
   "source": [
    "<details>\n",
    "<summary>Answer</summary>\n",
    "\n",
    "```sql\n",
    "SELECT i.name, COUNT(*) as recipe_count\n",
    "FROM Ingredient i\n",
    "JOIN RecipeIngredient ri ON i.id = ri.ingredient\n",
    "GROUP BY i.name\n",
    "HAVING COUNT(*) > 1\n",
    "ORDER BY i.name DESC;\n",
    "```\n",
    "\n",
    "</details>"
   ]
  },
  {
   "cell_type": "markdown",
   "metadata": {},
   "source": [
    "#### **2. Find the names of all recipes and the number of ingredients they contain, and order the results by the number of ingredients in descending order.** ✅"
   ]
  },
  {
   "cell_type": "code",
   "execution_count": 15,
   "metadata": {
    "vscode": {
     "languageId": "sql"
    }
   },
   "outputs": [
    {
     "name": "stdout",
     "output_type": "stream",
     "text": [
      " * sqlite://\n",
      "Done.\n"
     ]
    },
    {
     "data": {
      "text/html": [
       "<table>\n",
       "    <thead>\n",
       "        <tr>\n",
       "            <th>Recipe Name</th>\n",
       "            <th>Number of Ingredients</th>\n",
       "        </tr>\n",
       "    </thead>\n",
       "    <tbody>\n",
       "        <tr>\n",
       "            <td>Purple Gecko</td>\n",
       "            <td>6</td>\n",
       "        </tr>\n",
       "        <tr>\n",
       "            <td>Stoner Delight</td>\n",
       "            <td>6</td>\n",
       "        </tr>\n",
       "        <tr>\n",
       "            <td>Slow Comfortable Screw In Between the Sheets</td>\n",
       "            <td>5</td>\n",
       "        </tr>\n",
       "        <tr>\n",
       "            <td>Leap Year Cocktail</td>\n",
       "            <td>4</td>\n",
       "        </tr>\n",
       "        <tr>\n",
       "            <td>Snakebite (UK)</td>\n",
       "            <td>2</td>\n",
       "        </tr>\n",
       "        <tr>\n",
       "            <td>Vodka</td>\n",
       "            <td>1</td>\n",
       "        </tr>\n",
       "        <tr>\n",
       "            <td>Tequila</td>\n",
       "            <td>1</td>\n",
       "        </tr>\n",
       "        <tr>\n",
       "            <td>Whiskey</td>\n",
       "            <td>1</td>\n",
       "        </tr>\n",
       "    </tbody>\n",
       "</table>"
      ],
      "text/plain": [
       "[('Purple Gecko', 6),\n",
       " ('Stoner Delight', 6),\n",
       " ('Slow Comfortable Screw In Between the Sheets', 5),\n",
       " ('Leap Year Cocktail', 4),\n",
       " ('Snakebite (UK)', 2),\n",
       " ('Vodka', 1),\n",
       " ('Tequila', 1),\n",
       " ('Whiskey', 1)]"
      ]
     },
     "execution_count": 15,
     "metadata": {},
     "output_type": "execute_result"
    }
   ],
   "source": [
    "%%sql\n",
    "\n",
    "SELECT r.name 'Recipe Name', COUNT(*) as 'Number of Ingredients'\n",
    "FROM Recipe r\n",
    "JOIN RecipeIngredient ri\n",
    "ON(ri.recipe = r.id)\n",
    "GROUP BY ri.recipe\n",
    "ORDER BY COUNT(*) DESC"
   ]
  },
  {
   "cell_type": "markdown",
   "metadata": {},
   "source": [
    "<details>\n",
    "<summary>Answer</summary>\n",
    "\n",
    "```sql\n",
    "SELECT r.name, COUNT(ri.ingredient) as ingredient_count\n",
    "FROM Recipe r\n",
    "JOIN RecipeIngredient ri ON r.id = ri.recipe\n",
    "GROUP BY r.name\n",
    "ORDER BY ingredient_count DESC;\n",
    "```\n",
    "\n",
    "</details>"
   ]
  },
  {
   "cell_type": "markdown",
   "metadata": {},
   "source": [
    "#### **3. List the names of recipes that have at least one ingredient that is not used in any other recipe. Order the results in descending order by recipe name.** ✅"
   ]
  },
  {
   "cell_type": "code",
   "execution_count": 16,
   "metadata": {
    "vscode": {
     "languageId": "sql"
    }
   },
   "outputs": [
    {
     "name": "stdout",
     "output_type": "stream",
     "text": [
      " * sqlite://\n",
      "Done.\n"
     ]
    },
    {
     "data": {
      "text/html": [
       "<table>\n",
       "    <thead>\n",
       "        <tr>\n",
       "            <th>Recipe</th>\n",
       "        </tr>\n",
       "    </thead>\n",
       "    <tbody>\n",
       "        <tr>\n",
       "            <td>Whiskey</td>\n",
       "        </tr>\n",
       "        <tr>\n",
       "            <td>Stoner Delight</td>\n",
       "        </tr>\n",
       "        <tr>\n",
       "            <td>Snakebite (UK)</td>\n",
       "        </tr>\n",
       "        <tr>\n",
       "            <td>Slow Comfortable Screw In Between the Sheets</td>\n",
       "        </tr>\n",
       "        <tr>\n",
       "            <td>Purple Gecko</td>\n",
       "        </tr>\n",
       "        <tr>\n",
       "            <td>Leap Year Cocktail</td>\n",
       "        </tr>\n",
       "    </tbody>\n",
       "</table>"
      ],
      "text/plain": [
       "[('Whiskey',),\n",
       " ('Stoner Delight',),\n",
       " ('Snakebite (UK)',),\n",
       " ('Slow Comfortable Screw In Between the Sheets',),\n",
       " ('Purple Gecko',),\n",
       " ('Leap Year Cocktail',)]"
      ]
     },
     "execution_count": 16,
     "metadata": {},
     "output_type": "execute_result"
    }
   ],
   "source": [
    "%%sql\n",
    "\n",
    "SELECT r.name 'Recipe'\n",
    "FROM Ingredient i\n",
    "JOIN RecipeIngredient ri\n",
    "ON(i.id = ri.ingredient)\n",
    "JOIN Recipe r\n",
    "ON(ri.recipe = r.id)\n",
    "WHERE i.id IN (\n",
    "    SELECT i.id\n",
    "    FROM Ingredient i\n",
    "    LEFT JOIN RecipeIngredient ri\n",
    "    ON(i.id = ri.ingredient)\n",
    "    GROUP BY i.id\n",
    "    HAVING COUNT(ri.recipe) > 0 AND COUNT(ri.recipe) < 2\n",
    ")\n",
    "GROUP BY r.name\n",
    "ORDER BY r.name DESC\n"
   ]
  },
  {
   "cell_type": "markdown",
   "metadata": {},
   "source": [
    "<details>\n",
    "<summary>Answer</summary>\n",
    "\n",
    "```sql\n",
    "SELECT r.name\n",
    "FROM Recipe r\n",
    "JOIN RecipeIngredient ri ON r.id = ri.recipe\n",
    "JOIN Ingredient i ON ri.ingredient = i.id\n",
    "WHERE i.id IN (\n",
    "    SELECT i.id\n",
    "    FROM Ingredient i\n",
    "    LEFT JOIN RecipeIngredient ri ON i.id = ri.ingredient\n",
    "    GROUP BY i.id\n",
    "    HAVING COUNT(DISTINCT ri.recipe) = 1\n",
    ")\n",
    "GROUP BY r.name\n",
    "ORDER BY r.name DESC;\n",
    "```\n",
    "\n",
    "</details>"
   ]
  },
  {
   "cell_type": "markdown",
   "metadata": {},
   "source": [
    "#### **4. For each ingredient, list the total number of recipes it is used in and the total number of recipes it is not used in.** ✅"
   ]
  },
  {
   "cell_type": "code",
   "execution_count": 17,
   "metadata": {
    "vscode": {
     "languageId": "sql"
    }
   },
   "outputs": [
    {
     "name": "stdout",
     "output_type": "stream",
     "text": [
      " * sqlite://\n",
      "Done.\n"
     ]
    },
    {
     "data": {
      "text/html": [
       "<table>\n",
       "    <thead>\n",
       "        <tr>\n",
       "            <th>Ingredients</th>\n",
       "            <th>Recipe Name</th>\n",
       "            <th>Used</th>\n",
       "            <th>Unused</th>\n",
       "        </tr>\n",
       "    </thead>\n",
       "    <tbody>\n",
       "        <tr>\n",
       "            <td>Vodka</td>\n",
       "            <td>Slow Comfortable Screw In Between the Sheets, Stoner Delight, Vodka</td>\n",
       "            <td>3</td>\n",
       "            <td>5</td>\n",
       "        </tr>\n",
       "        <tr>\n",
       "            <td>Rum</td>\n",
       "            <td>None</td>\n",
       "            <td>0</td>\n",
       "            <td>8</td>\n",
       "        </tr>\n",
       "        <tr>\n",
       "            <td>Sherry</td>\n",
       "            <td>None</td>\n",
       "            <td>0</td>\n",
       "            <td>8</td>\n",
       "        </tr>\n",
       "        <tr>\n",
       "            <td>Whiskey</td>\n",
       "            <td>Whiskey</td>\n",
       "            <td>1</td>\n",
       "            <td>7</td>\n",
       "        </tr>\n",
       "        <tr>\n",
       "            <td>Cherry</td>\n",
       "            <td>None</td>\n",
       "            <td>0</td>\n",
       "            <td>8</td>\n",
       "        </tr>\n",
       "        <tr>\n",
       "            <td>Orange</td>\n",
       "            <td>None</td>\n",
       "            <td>0</td>\n",
       "            <td>8</td>\n",
       "        </tr>\n",
       "        <tr>\n",
       "            <td>Olive</td>\n",
       "            <td>None</td>\n",
       "            <td>0</td>\n",
       "            <td>8</td>\n",
       "        </tr>\n",
       "        <tr>\n",
       "            <td>Gin</td>\n",
       "            <td>Leap Year Cocktail</td>\n",
       "            <td>1</td>\n",
       "            <td>7</td>\n",
       "        </tr>\n",
       "        <tr>\n",
       "            <td>Lemon Juice</td>\n",
       "            <td>Leap Year Cocktail</td>\n",
       "            <td>1</td>\n",
       "            <td>7</td>\n",
       "        </tr>\n",
       "        <tr>\n",
       "            <td>Orange Gin</td>\n",
       "            <td>Leap Year Cocktail</td>\n",
       "            <td>1</td>\n",
       "            <td>7</td>\n",
       "        </tr>\n",
       "        <tr>\n",
       "            <td>Sweet Vermouth</td>\n",
       "            <td>Leap Year Cocktail</td>\n",
       "            <td>1</td>\n",
       "            <td>7</td>\n",
       "        </tr>\n",
       "        <tr>\n",
       "            <td>7-Up</td>\n",
       "            <td>Stoner Delight</td>\n",
       "            <td>1</td>\n",
       "            <td>7</td>\n",
       "        </tr>\n",
       "        <tr>\n",
       "            <td>Cranberry Juice</td>\n",
       "            <td>Purple Gecko, Stoner Delight</td>\n",
       "            <td>2</td>\n",
       "            <td>6</td>\n",
       "        </tr>\n",
       "        <tr>\n",
       "            <td>Dekuyper Razzmatazz</td>\n",
       "            <td>Stoner Delight</td>\n",
       "            <td>1</td>\n",
       "            <td>7</td>\n",
       "        </tr>\n",
       "        <tr>\n",
       "            <td>Orange Juice</td>\n",
       "            <td>Slow Comfortable Screw In Between the Sheets, Stoner Delight</td>\n",
       "            <td>2</td>\n",
       "            <td>6</td>\n",
       "        </tr>\n",
       "        <tr>\n",
       "            <td>Sour Mix</td>\n",
       "            <td>Purple Gecko, Stoner Delight</td>\n",
       "            <td>2</td>\n",
       "            <td>6</td>\n",
       "        </tr>\n",
       "        <tr>\n",
       "            <td>Dry Cider</td>\n",
       "            <td>Snakebite (UK)</td>\n",
       "            <td>1</td>\n",
       "            <td>7</td>\n",
       "        </tr>\n",
       "        <tr>\n",
       "            <td>Lager</td>\n",
       "            <td>Snakebite (UK)</td>\n",
       "            <td>1</td>\n",
       "            <td>7</td>\n",
       "        </tr>\n",
       "        <tr>\n",
       "            <td>Sloe Gin</td>\n",
       "            <td>Slow Comfortable Screw In Between the Sheets</td>\n",
       "            <td>1</td>\n",
       "            <td>7</td>\n",
       "        </tr>\n",
       "        <tr>\n",
       "            <td>Southern Comfort</td>\n",
       "            <td>Slow Comfortable Screw In Between the Sheets</td>\n",
       "            <td>1</td>\n",
       "            <td>7</td>\n",
       "        </tr>\n",
       "        <tr>\n",
       "            <td>Triple Sec</td>\n",
       "            <td>Slow Comfortable Screw In Between the Sheets</td>\n",
       "            <td>1</td>\n",
       "            <td>7</td>\n",
       "        </tr>\n",
       "        <tr>\n",
       "            <td>Blue Curacao</td>\n",
       "            <td>Purple Gecko</td>\n",
       "            <td>1</td>\n",
       "            <td>7</td>\n",
       "        </tr>\n",
       "        <tr>\n",
       "            <td>Lime Juice</td>\n",
       "            <td>Purple Gecko</td>\n",
       "            <td>1</td>\n",
       "            <td>7</td>\n",
       "        </tr>\n",
       "        <tr>\n",
       "            <td>Red Curacao</td>\n",
       "            <td>Purple Gecko</td>\n",
       "            <td>1</td>\n",
       "            <td>7</td>\n",
       "        </tr>\n",
       "        <tr>\n",
       "            <td>Tequila</td>\n",
       "            <td>Purple Gecko, Tequila</td>\n",
       "            <td>2</td>\n",
       "            <td>6</td>\n",
       "        </tr>\n",
       "    </tbody>\n",
       "</table>"
      ],
      "text/plain": [
       "[('Vodka', 'Slow Comfortable Screw In Between the Sheets, Stoner Delight, Vodka', 3, 5),\n",
       " ('Rum', None, 0, 8),\n",
       " ('Sherry', None, 0, 8),\n",
       " ('Whiskey', 'Whiskey', 1, 7),\n",
       " ('Cherry', None, 0, 8),\n",
       " ('Orange', None, 0, 8),\n",
       " ('Olive', None, 0, 8),\n",
       " ('Gin', 'Leap Year Cocktail', 1, 7),\n",
       " ('Lemon Juice', 'Leap Year Cocktail', 1, 7),\n",
       " ('Orange Gin', 'Leap Year Cocktail', 1, 7),\n",
       " ('Sweet Vermouth', 'Leap Year Cocktail', 1, 7),\n",
       " ('7-Up', 'Stoner Delight', 1, 7),\n",
       " ('Cranberry Juice', 'Purple Gecko, Stoner Delight', 2, 6),\n",
       " ('Dekuyper Razzmatazz', 'Stoner Delight', 1, 7),\n",
       " ('Orange Juice', 'Slow Comfortable Screw In Between the Sheets, Stoner Delight', 2, 6),\n",
       " ('Sour Mix', 'Purple Gecko, Stoner Delight', 2, 6),\n",
       " ('Dry Cider', 'Snakebite (UK)', 1, 7),\n",
       " ('Lager', 'Snakebite (UK)', 1, 7),\n",
       " ('Sloe Gin', 'Slow Comfortable Screw In Between the Sheets', 1, 7),\n",
       " ('Southern Comfort', 'Slow Comfortable Screw In Between the Sheets', 1, 7),\n",
       " ('Triple Sec', 'Slow Comfortable Screw In Between the Sheets', 1, 7),\n",
       " ('Blue Curacao', 'Purple Gecko', 1, 7),\n",
       " ('Lime Juice', 'Purple Gecko', 1, 7),\n",
       " ('Red Curacao', 'Purple Gecko', 1, 7),\n",
       " ('Tequila', 'Purple Gecko, Tequila', 2, 6)]"
      ]
     },
     "execution_count": 17,
     "metadata": {},
     "output_type": "execute_result"
    }
   ],
   "source": [
    "%%sql\n",
    "\n",
    "SELECT i.name 'Ingredients', GROUP_CONCAT(r.name, ', ') 'Recipe Name', COUNT(r.name) 'Used',\n",
    "(SELECT COUNT(*) FROM Recipe) - COUNT(r.name) 'Unused'\n",
    "FROM Ingredient i\n",
    "LEFT JOIN RecipeIngredient ri\n",
    "ON(i.id = ri.ingredient)\n",
    "LEFT JOIN Recipe r\n",
    "ON(r.id = ri.recipe)\n",
    "GROUP BY i.name\n",
    "ORDER BY i.id"
   ]
  },
  {
   "cell_type": "markdown",
   "metadata": {},
   "source": [
    "<details>\n",
    "<summary>Answer</summary>\n",
    "\n",
    "```sql\n",
    "SELECT i.name,\n",
    "       COUNT(ri.recipe) as used_in_recipes,\n",
    "       (SELECT COUNT(*) FROM Recipe) - COUNT(ri.recipe) as not_used_in_recipes\n",
    "FROM Ingredient i\n",
    "LEFT JOIN RecipeIngredient ri ON i.id = ri.ingredient\n",
    "GROUP BY i.name\n",
    "ORDER BY i.name DESC;\n",
    "```\n",
    "\n",
    "</details>"
   ]
  },
  {
   "cell_type": "markdown",
   "metadata": {},
   "source": [
    "#### **5. Find the names of recipes that do not contain 'Gin' as an ingredient and order the results in descending order by recipe name.** ✅"
   ]
  },
  {
   "cell_type": "code",
   "execution_count": 18,
   "metadata": {
    "vscode": {
     "languageId": "sql"
    }
   },
   "outputs": [
    {
     "name": "stdout",
     "output_type": "stream",
     "text": [
      " * sqlite://\n",
      "Done.\n"
     ]
    },
    {
     "data": {
      "text/html": [
       "<table>\n",
       "    <thead>\n",
       "        <tr>\n",
       "            <th>Recipe</th>\n",
       "        </tr>\n",
       "    </thead>\n",
       "    <tbody>\n",
       "        <tr>\n",
       "            <td>Whiskey</td>\n",
       "        </tr>\n",
       "        <tr>\n",
       "            <td>Vodka</td>\n",
       "        </tr>\n",
       "        <tr>\n",
       "            <td>Tequila</td>\n",
       "        </tr>\n",
       "        <tr>\n",
       "            <td>Stoner Delight</td>\n",
       "        </tr>\n",
       "        <tr>\n",
       "            <td>Snakebite (UK)</td>\n",
       "        </tr>\n",
       "        <tr>\n",
       "            <td>Slow Comfortable Screw In Between the Sheets</td>\n",
       "        </tr>\n",
       "        <tr>\n",
       "            <td>Purple Gecko</td>\n",
       "        </tr>\n",
       "    </tbody>\n",
       "</table>"
      ],
      "text/plain": [
       "[('Whiskey',),\n",
       " ('Vodka',),\n",
       " ('Tequila',),\n",
       " ('Stoner Delight',),\n",
       " ('Snakebite (UK)',),\n",
       " ('Slow Comfortable Screw In Between the Sheets',),\n",
       " ('Purple Gecko',)]"
      ]
     },
     "execution_count": 18,
     "metadata": {},
     "output_type": "execute_result"
    }
   ],
   "source": [
    "%%sql\n",
    "\n",
    "SELECT r.name 'Recipe'\n",
    "FROM Recipe r\n",
    "WHERE r.id NOT IN (\n",
    "    SELECT ri.recipe\n",
    "    FROM RecipeIngredient ri\n",
    "    JOIN Ingredient i\n",
    "    ON(ri.ingredient = i.id)\n",
    "    WHERE i.name LIKE 'Gin'\n",
    ")\n",
    "ORDER BY r.name DESC\n"
   ]
  },
  {
   "cell_type": "markdown",
   "metadata": {},
   "source": [
    "<details>\n",
    "<summary>Answer</summary>\n",
    "\n",
    "```sql\n",
    "SELECT r.name\n",
    "FROM Recipe r\n",
    "WHERE r.id NOT IN (\n",
    "    SELECT ri.recipe\n",
    "    FROM RecipeIngredient ri\n",
    "    JOIN Ingredient i ON ri.ingredient = i.id\n",
    "    WHERE i.name = 'Gin'\n",
    ")\n",
    "ORDER BY r.name DESC;\n",
    "```\n",
    "\n",
    "</details>"
   ]
  },
  {
   "cell_type": "markdown",
   "metadata": {},
   "source": [
    "#### **6. List the top three most common ingredients across all recipes.**"
   ]
  },
  {
   "cell_type": "markdown",
   "metadata": {},
   "source": [
    "<details>\n",
    "<summary>Answer</summary>\n",
    "\n",
    "```sql\n",
    "SELECT i.name, COUNT(ri.recipe) as recipe_count\n",
    "FROM Ingredient i\n",
    "JOIN RecipeIngredient ri ON i.id = ri.ingredient\n",
    "GROUP BY i.name\n",
    "ORDER BY recipe_count DESC\n",
    "LIMIT 3;\n",
    "```\n",
    "\n",
    "</details>"
   ]
  },
  {
   "cell_type": "markdown",
   "metadata": {},
   "source": [
    "#### **7. Find recipes that contain both 'Vodka' and 'Lemon Juice' as ingredients.**"
   ]
  },
  {
   "cell_type": "markdown",
   "metadata": {},
   "source": [
    "<details>\n",
    "<summary>Answer</summary>\n",
    "\n",
    "```sql\n",
    "SELECT r.name\n",
    "FROM Recipe r\n",
    "JOIN RecipeIngredient ri1 ON r.id = ri1.recipe\n",
    "JOIN Ingredient i1 ON ri1.ingredient = i1.id\n",
    "JOIN RecipeIngredient ri2 ON r.id = ri2.recipe\n",
    "JOIN Ingredient i2 ON ri2.ingredient = i2.id\n",
    "WHERE i1.name = 'Vodka' AND i2.name = 'Lemon Juice';\n",
    "```\n",
    "\n",
    "</details>"
   ]
  },
  {
   "cell_type": "markdown",
   "metadata": {},
   "source": [
    "#### **8. List the names of all recipes and their corresponding ingredient count, only include recipes with at least three ingredients.**"
   ]
  },
  {
   "cell_type": "markdown",
   "metadata": {},
   "source": [
    "<details>\n",
    "<summary>Answer</summary>\n",
    "\n",
    "```sql\n",
    "SELECT r.name, COUNT(ri.ingredient) as ingredient_count\n",
    "FROM Recipe r\n",
    "JOIN RecipeIngredient ri ON r.id = ri.recipe\n",
    "GROUP BY r.name\n",
    "HAVING COUNT(ri.ingredient) >= 3;\n",
    "```\n",
    "\n",
    "</details>"
   ]
  },
  {
   "cell_type": "markdown",
   "metadata": {},
   "source": [
    "#### **9. List the names of recipes along with the total number of ingredients they contain, ordering the results by the number of ingredients in ascending order.**"
   ]
  },
  {
   "cell_type": "markdown",
   "metadata": {},
   "source": [
    "<details>\n",
    "<summary>Answer</summary>\n",
    "\n",
    "```sql\n",
    "SELECT r.name, COUNT(ri.ingredient) as ingredient_count\n",
    "FROM Recipe r\n",
    "JOIN RecipeIngredient ri ON r.id = ri.recipe\n",
    "GROUP BY r.name\n",
    "ORDER BY ingredient_count ASC;\n",
    "```\n",
    "\n",
    "</details>"
   ]
  },
  {
   "cell_type": "markdown",
   "metadata": {},
   "source": [
    "#### **10. Find all ingredients that are not used in any recipe.**"
   ]
  },
  {
   "cell_type": "markdown",
   "metadata": {},
   "source": [
    "<details>\n",
    "<summary>Answer</summary>\n",
    "\n",
    "```sql\n",
    "SELECT name\n",
    "FROM Ingredient\n",
    "WHERE id NOT IN (SELECT ingredient FROM RecipeIngredient);\n",
    "```\n",
    "\n",
    "</details>"
   ]
  }
 ],
 "metadata": {
  "kernelspec": {
   "display_name": "Python 3 (ipykernel)",
   "language": "python",
   "name": "python3"
  },
  "language_info": {
   "codemirror_mode": {
    "name": "ipython",
    "version": 3
   },
   "file_extension": ".py",
   "mimetype": "text/x-python",
   "name": "python",
   "nbconvert_exporter": "python",
   "pygments_lexer": "ipython3",
   "version": "3.12.0"
  }
 },
 "nbformat": 4,
 "nbformat_minor": 4
}
